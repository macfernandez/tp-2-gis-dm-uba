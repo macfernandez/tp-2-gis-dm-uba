{
 "cells": [
  {
   "cell_type": "markdown",
   "id": "2401d954-3687-439b-a668-c219a35a5d18",
   "metadata": {},
   "source": [
    "# Entrenamiento iterativo"
   ]
  },
  {
   "cell_type": "code",
   "execution_count": 63,
   "id": "754fe51f-9bbc-4739-8e74-800473891684",
   "metadata": {},
   "outputs": [],
   "source": [
    "import os\n",
    "import re\n",
    "import json\n",
    "import shutil\n",
    "import joblib\n",
    "import rasterio\n",
    "import numpy as np\n",
    "import pandas as pd\n",
    "from glob import glob\n",
    "from pyproj import CRS\n",
    "from copy import deepcopy\n",
    "from sqlite3 import connect\n",
    "from tqdm.notebook import tqdm\n",
    "from sklearn.metrics import confusion_matrix\n",
    "from sklearn.metrics import cohen_kappa_score\n",
    "from sklearn.preprocessing import LabelEncoder\n",
    "from sklearn.metrics import classification_report\n",
    "from sklearn.ensemble import RandomForestClassifier\n",
    "from sklearn.model_selection import train_test_split\n",
    "\n",
    "from utilities import *"
   ]
  },
  {
   "cell_type": "markdown",
   "id": "dfc50e70-5593-4c74-88ea-d72ddb3d3411",
   "metadata": {},
   "source": [
    "## Conjunto de entrenamiento"
   ]
  },
  {
   "cell_type": "code",
   "execution_count": 64,
   "id": "b65e2de2-f7c6-48cc-a57a-e3d53142d7ce",
   "metadata": {},
   "outputs": [],
   "source": [
    "# cambiar según corresponda\n",
    "# train_sqlite_files debe contener los .sqlite generados a partir de la verdad de campo\n",
    "train_sqlite_files = glob('../data/verdad_campo_sqlite/*.sqlite')\n",
    "\n",
    "train_data = pd.DataFrame()\n",
    "\n",
    "for sf in train_sqlite_files:\n",
    "    file_name = os.path.basename(sf)\n",
    "    tile = re.search(r'\\d+',file_name).group()\n",
    "    cnx = connect(sf)\n",
    "    df = pd.read_sql_query(\"SELECT * FROM output\", cnx)\n",
    "    df['tile_file'] = tile\n",
    "    train_data = pd.concat([train_data, df], ignore_index=True)"
   ]
  },
  {
   "cell_type": "code",
   "execution_count": 65,
   "id": "a832c5d5-7d01-49d2-bf7f-dadc2d34128b",
   "metadata": {},
   "outputs": [
    {
     "data": {
      "text/plain": [
       "(466, 35)"
      ]
     },
     "execution_count": 65,
     "metadata": {},
     "output_type": "execute_result"
    }
   ],
   "source": [
    "train_data.shape"
   ]
  },
  {
   "cell_type": "code",
   "execution_count": 66,
   "id": "13016a21-cf58-4035-9ce7-fdb7ca399547",
   "metadata": {},
   "outputs": [
    {
     "data": {
      "text/html": [
       "<div>\n",
       "<style scoped>\n",
       "    .dataframe tbody tr th:only-of-type {\n",
       "        vertical-align: middle;\n",
       "    }\n",
       "\n",
       "    .dataframe tbody tr th {\n",
       "        vertical-align: top;\n",
       "    }\n",
       "\n",
       "    .dataframe thead th {\n",
       "        text-align: right;\n",
       "    }\n",
       "</style>\n",
       "<table border=\"1\" class=\"dataframe\">\n",
       "  <thead>\n",
       "    <tr style=\"text-align: right;\">\n",
       "      <th></th>\n",
       "      <th>ogc_fid</th>\n",
       "      <th>GEOMETRY</th>\n",
       "      <th>in1</th>\n",
       "      <th>id</th>\n",
       "      <th>cultivo</th>\n",
       "      <th>originfid</th>\n",
       "      <th>band_0</th>\n",
       "      <th>band_1</th>\n",
       "      <th>band_2</th>\n",
       "      <th>band_3</th>\n",
       "      <th>...</th>\n",
       "      <th>band_19</th>\n",
       "      <th>band_20</th>\n",
       "      <th>band_21</th>\n",
       "      <th>band_22</th>\n",
       "      <th>band_23</th>\n",
       "      <th>band_24</th>\n",
       "      <th>band_25</th>\n",
       "      <th>band_26</th>\n",
       "      <th>band_27</th>\n",
       "      <th>tile_file</th>\n",
       "    </tr>\n",
       "  </thead>\n",
       "  <tbody>\n",
       "    <tr>\n",
       "      <th>0</th>\n",
       "      <td>1</td>\n",
       "      <td>b'\\x01\\x01\\x00\\x00\\x00(I\\x80\\xe0\\xf6fO\\xc0\\xbe...</td>\n",
       "      <td>014084</td>\n",
       "      <td>1</td>\n",
       "      <td>SOJA</td>\n",
       "      <td>7</td>\n",
       "      <td>0.42816</td>\n",
       "      <td>0.692352</td>\n",
       "      <td>0.36905</td>\n",
       "      <td>0.730617</td>\n",
       "      <td>...</td>\n",
       "      <td>4.816959</td>\n",
       "      <td>0.82200</td>\n",
       "      <td>0.410423</td>\n",
       "      <td>0.831812</td>\n",
       "      <td>0.543103</td>\n",
       "      <td>0.868833</td>\n",
       "      <td>2.95450</td>\n",
       "      <td>0.109526</td>\n",
       "      <td>0.861515</td>\n",
       "      <td>12544</td>\n",
       "    </tr>\n",
       "    <tr>\n",
       "      <th>1</th>\n",
       "      <td>2</td>\n",
       "      <td>b'\\x01\\x01\\x00\\x00\\x00\\x1f|\\x14\"lkO\\xc0^\\x14\\x...</td>\n",
       "      <td>014084</td>\n",
       "      <td>1</td>\n",
       "      <td>SOJA</td>\n",
       "      <td>8</td>\n",
       "      <td>0.41152</td>\n",
       "      <td>0.671952</td>\n",
       "      <td>0.42940</td>\n",
       "      <td>0.711504</td>\n",
       "      <td>...</td>\n",
       "      <td>4.774915</td>\n",
       "      <td>1.36300</td>\n",
       "      <td>0.441640</td>\n",
       "      <td>0.817090</td>\n",
       "      <td>0.587002</td>\n",
       "      <td>0.862946</td>\n",
       "      <td>3.15975</td>\n",
       "      <td>0.148569</td>\n",
       "      <td>0.859830</td>\n",
       "      <td>12544</td>\n",
       "    </tr>\n",
       "    <tr>\n",
       "      <th>2</th>\n",
       "      <td>3</td>\n",
       "      <td>b'\\x01\\x01\\x00\\x00\\x00L).\\x93\\x08eO\\xc0fz\\xd9|...</td>\n",
       "      <td>014084</td>\n",
       "      <td>1</td>\n",
       "      <td>SOJA</td>\n",
       "      <td>11</td>\n",
       "      <td>0.49848</td>\n",
       "      <td>0.794412</td>\n",
       "      <td>0.42270</td>\n",
       "      <td>0.805747</td>\n",
       "      <td>...</td>\n",
       "      <td>5.247081</td>\n",
       "      <td>1.27025</td>\n",
       "      <td>0.423015</td>\n",
       "      <td>0.849940</td>\n",
       "      <td>0.563715</td>\n",
       "      <td>0.884401</td>\n",
       "      <td>3.21300</td>\n",
       "      <td>0.130448</td>\n",
       "      <td>0.879770</td>\n",
       "      <td>12544</td>\n",
       "    </tr>\n",
       "    <tr>\n",
       "      <th>3</th>\n",
       "      <td>4</td>\n",
       "      <td>b'\\x01\\x01\\x00\\x00\\x00\\x03X\\x12\\xb7\\xb0iO\\xc0[...</td>\n",
       "      <td>014084</td>\n",
       "      <td>1</td>\n",
       "      <td>SOJA</td>\n",
       "      <td>12</td>\n",
       "      <td>0.52872</td>\n",
       "      <td>0.834804</td>\n",
       "      <td>0.79800</td>\n",
       "      <td>0.835724</td>\n",
       "      <td>...</td>\n",
       "      <td>5.583365</td>\n",
       "      <td>2.86100</td>\n",
       "      <td>0.432937</td>\n",
       "      <td>0.861866</td>\n",
       "      <td>0.588915</td>\n",
       "      <td>0.892530</td>\n",
       "      <td>2.75850</td>\n",
       "      <td>0.430294</td>\n",
       "      <td>0.891874</td>\n",
       "      <td>12544</td>\n",
       "    </tr>\n",
       "    <tr>\n",
       "      <th>4</th>\n",
       "      <td>5</td>\n",
       "      <td>b'\\x01\\x01\\x00\\x00\\x00\\xa5\\x87\\x83F\\xd6\\\\O\\xc0...</td>\n",
       "      <td>014084</td>\n",
       "      <td>1</td>\n",
       "      <td>SOJA</td>\n",
       "      <td>28</td>\n",
       "      <td>0.50560</td>\n",
       "      <td>0.799404</td>\n",
       "      <td>0.32025</td>\n",
       "      <td>0.812116</td>\n",
       "      <td>...</td>\n",
       "      <td>5.668369</td>\n",
       "      <td>0.07450</td>\n",
       "      <td>0.453263</td>\n",
       "      <td>0.858904</td>\n",
       "      <td>0.589450</td>\n",
       "      <td>0.899895</td>\n",
       "      <td>2.88900</td>\n",
       "      <td>0.079681</td>\n",
       "      <td>0.894360</td>\n",
       "      <td>12544</td>\n",
       "    </tr>\n",
       "  </tbody>\n",
       "</table>\n",
       "<p>5 rows × 35 columns</p>\n",
       "</div>"
      ],
      "text/plain": [
       "   ogc_fid                                           GEOMETRY     in1  id  \\\n",
       "0        1  b'\\x01\\x01\\x00\\x00\\x00(I\\x80\\xe0\\xf6fO\\xc0\\xbe...  014084   1   \n",
       "1        2  b'\\x01\\x01\\x00\\x00\\x00\\x1f|\\x14\"lkO\\xc0^\\x14\\x...  014084   1   \n",
       "2        3  b'\\x01\\x01\\x00\\x00\\x00L).\\x93\\x08eO\\xc0fz\\xd9|...  014084   1   \n",
       "3        4  b'\\x01\\x01\\x00\\x00\\x00\\x03X\\x12\\xb7\\xb0iO\\xc0[...  014084   1   \n",
       "4        5  b'\\x01\\x01\\x00\\x00\\x00\\xa5\\x87\\x83F\\xd6\\\\O\\xc0...  014084   1   \n",
       "\n",
       "  cultivo  originfid   band_0    band_1   band_2    band_3  ...   band_19  \\\n",
       "0    SOJA          7  0.42816  0.692352  0.36905  0.730617  ...  4.816959   \n",
       "1    SOJA          8  0.41152  0.671952  0.42940  0.711504  ...  4.774915   \n",
       "2    SOJA         11  0.49848  0.794412  0.42270  0.805747  ...  5.247081   \n",
       "3    SOJA         12  0.52872  0.834804  0.79800  0.835724  ...  5.583365   \n",
       "4    SOJA         28  0.50560  0.799404  0.32025  0.812116  ...  5.668369   \n",
       "\n",
       "   band_20   band_21   band_22   band_23   band_24  band_25   band_26  \\\n",
       "0  0.82200  0.410423  0.831812  0.543103  0.868833  2.95450  0.109526   \n",
       "1  1.36300  0.441640  0.817090  0.587002  0.862946  3.15975  0.148569   \n",
       "2  1.27025  0.423015  0.849940  0.563715  0.884401  3.21300  0.130448   \n",
       "3  2.86100  0.432937  0.861866  0.588915  0.892530  2.75850  0.430294   \n",
       "4  0.07450  0.453263  0.858904  0.589450  0.899895  2.88900  0.079681   \n",
       "\n",
       "    band_27  tile_file  \n",
       "0  0.861515      12544  \n",
       "1  0.859830      12544  \n",
       "2  0.879770      12544  \n",
       "3  0.891874      12544  \n",
       "4  0.894360      12544  \n",
       "\n",
       "[5 rows x 35 columns]"
      ]
     },
     "execution_count": 66,
     "metadata": {},
     "output_type": "execute_result"
    }
   ],
   "source": [
    "train_data.head()"
   ]
  },
  {
   "cell_type": "markdown",
   "id": "98d309a3-f979-49bf-82a7-2e8b05d195fe",
   "metadata": {},
   "source": [
    "## Entrenamiento del modelo"
   ]
  },
  {
   "cell_type": "code",
   "execution_count": 67,
   "id": "eea57b00-be8e-4751-b4b1-79890ca2c05a",
   "metadata": {},
   "outputs": [
    {
     "data": {
      "text/plain": [
       "{1: 'SOJA',\n",
       " 2: 'MAIZ',\n",
       " 3: 'MAIZ',\n",
       " 5: 'GIRASOL',\n",
       " 20: 'CAMPONATUR',\n",
       " 10: 'ALFALFA',\n",
       " 4: 'SOJA'}"
      ]
     },
     "execution_count": 67,
     "metadata": {},
     "output_type": "execute_result"
    }
   ],
   "source": [
    "map_id2cultivo = dict((\n",
    "    train_data[['id','cultivo']]\n",
    "    .drop_duplicates()\n",
    "    .assign(id=lambda x: x.id.astype('int'))\n",
    "    .itertuples(index=False, name=None))\n",
    ")\n",
    "map_id2cultivo"
   ]
  },
  {
   "cell_type": "code",
   "execution_count": 68,
   "id": "58db2c36-a013-4133-8282-3a6392787db8",
   "metadata": {},
   "outputs": [
    {
     "data": {
      "text/plain": [
       "LabelEncoder()"
      ]
     },
     "execution_count": 68,
     "metadata": {},
     "output_type": "execute_result"
    }
   ],
   "source": [
    "le = LabelEncoder()\n",
    "le.fit(train_data.id)"
   ]
  },
  {
   "cell_type": "code",
   "execution_count": 69,
   "id": "ee94fb21-48a6-4f1d-8157-ea254135a894",
   "metadata": {},
   "outputs": [
    {
     "data": {
      "text/plain": [
       "{0: 1, 1: 2, 2: 3, 3: 4, 4: 5, 5: 10, 6: 20}"
      ]
     },
     "execution_count": 69,
     "metadata": {},
     "output_type": "execute_result"
    }
   ],
   "source": [
    "map_le2id = dict(zip(le.transform(le.classes_), list(map(int,le.classes_))))\n",
    "\n",
    "map_le2id"
   ]
  },
  {
   "cell_type": "code",
   "execution_count": 70,
   "id": "08505a9b-5ec0-4763-a2a2-0e6198b8457a",
   "metadata": {},
   "outputs": [
    {
     "data": {
      "text/html": [
       "<div>\n",
       "<style scoped>\n",
       "    .dataframe tbody tr th:only-of-type {\n",
       "        vertical-align: middle;\n",
       "    }\n",
       "\n",
       "    .dataframe tbody tr th {\n",
       "        vertical-align: top;\n",
       "    }\n",
       "\n",
       "    .dataframe thead th {\n",
       "        text-align: right;\n",
       "    }\n",
       "</style>\n",
       "<table border=\"1\" class=\"dataframe\">\n",
       "  <thead>\n",
       "    <tr style=\"text-align: right;\">\n",
       "      <th></th>\n",
       "      <th>ogc_fid</th>\n",
       "      <th>GEOMETRY</th>\n",
       "      <th>in1</th>\n",
       "      <th>id</th>\n",
       "      <th>cultivo</th>\n",
       "      <th>originfid</th>\n",
       "      <th>band_0</th>\n",
       "      <th>band_1</th>\n",
       "      <th>band_2</th>\n",
       "      <th>band_3</th>\n",
       "      <th>...</th>\n",
       "      <th>band_20</th>\n",
       "      <th>band_21</th>\n",
       "      <th>band_22</th>\n",
       "      <th>band_23</th>\n",
       "      <th>band_24</th>\n",
       "      <th>band_25</th>\n",
       "      <th>band_26</th>\n",
       "      <th>band_27</th>\n",
       "      <th>tile_file</th>\n",
       "      <th>id_le</th>\n",
       "    </tr>\n",
       "  </thead>\n",
       "  <tbody>\n",
       "    <tr>\n",
       "      <th>0</th>\n",
       "      <td>1</td>\n",
       "      <td>b'\\x01\\x01\\x00\\x00\\x00(I\\x80\\xe0\\xf6fO\\xc0\\xbe...</td>\n",
       "      <td>014084</td>\n",
       "      <td>1</td>\n",
       "      <td>SOJA</td>\n",
       "      <td>7</td>\n",
       "      <td>0.42816</td>\n",
       "      <td>0.692352</td>\n",
       "      <td>0.36905</td>\n",
       "      <td>0.730617</td>\n",
       "      <td>...</td>\n",
       "      <td>0.82200</td>\n",
       "      <td>0.410423</td>\n",
       "      <td>0.831812</td>\n",
       "      <td>0.543103</td>\n",
       "      <td>0.868833</td>\n",
       "      <td>2.95450</td>\n",
       "      <td>0.109526</td>\n",
       "      <td>0.861515</td>\n",
       "      <td>12544</td>\n",
       "      <td>0</td>\n",
       "    </tr>\n",
       "    <tr>\n",
       "      <th>1</th>\n",
       "      <td>2</td>\n",
       "      <td>b'\\x01\\x01\\x00\\x00\\x00\\x1f|\\x14\"lkO\\xc0^\\x14\\x...</td>\n",
       "      <td>014084</td>\n",
       "      <td>1</td>\n",
       "      <td>SOJA</td>\n",
       "      <td>8</td>\n",
       "      <td>0.41152</td>\n",
       "      <td>0.671952</td>\n",
       "      <td>0.42940</td>\n",
       "      <td>0.711504</td>\n",
       "      <td>...</td>\n",
       "      <td>1.36300</td>\n",
       "      <td>0.441640</td>\n",
       "      <td>0.817090</td>\n",
       "      <td>0.587002</td>\n",
       "      <td>0.862946</td>\n",
       "      <td>3.15975</td>\n",
       "      <td>0.148569</td>\n",
       "      <td>0.859830</td>\n",
       "      <td>12544</td>\n",
       "      <td>0</td>\n",
       "    </tr>\n",
       "    <tr>\n",
       "      <th>2</th>\n",
       "      <td>3</td>\n",
       "      <td>b'\\x01\\x01\\x00\\x00\\x00L).\\x93\\x08eO\\xc0fz\\xd9|...</td>\n",
       "      <td>014084</td>\n",
       "      <td>1</td>\n",
       "      <td>SOJA</td>\n",
       "      <td>11</td>\n",
       "      <td>0.49848</td>\n",
       "      <td>0.794412</td>\n",
       "      <td>0.42270</td>\n",
       "      <td>0.805747</td>\n",
       "      <td>...</td>\n",
       "      <td>1.27025</td>\n",
       "      <td>0.423015</td>\n",
       "      <td>0.849940</td>\n",
       "      <td>0.563715</td>\n",
       "      <td>0.884401</td>\n",
       "      <td>3.21300</td>\n",
       "      <td>0.130448</td>\n",
       "      <td>0.879770</td>\n",
       "      <td>12544</td>\n",
       "      <td>0</td>\n",
       "    </tr>\n",
       "    <tr>\n",
       "      <th>3</th>\n",
       "      <td>4</td>\n",
       "      <td>b'\\x01\\x01\\x00\\x00\\x00\\x03X\\x12\\xb7\\xb0iO\\xc0[...</td>\n",
       "      <td>014084</td>\n",
       "      <td>1</td>\n",
       "      <td>SOJA</td>\n",
       "      <td>12</td>\n",
       "      <td>0.52872</td>\n",
       "      <td>0.834804</td>\n",
       "      <td>0.79800</td>\n",
       "      <td>0.835724</td>\n",
       "      <td>...</td>\n",
       "      <td>2.86100</td>\n",
       "      <td>0.432937</td>\n",
       "      <td>0.861866</td>\n",
       "      <td>0.588915</td>\n",
       "      <td>0.892530</td>\n",
       "      <td>2.75850</td>\n",
       "      <td>0.430294</td>\n",
       "      <td>0.891874</td>\n",
       "      <td>12544</td>\n",
       "      <td>0</td>\n",
       "    </tr>\n",
       "    <tr>\n",
       "      <th>4</th>\n",
       "      <td>5</td>\n",
       "      <td>b'\\x01\\x01\\x00\\x00\\x00\\xa5\\x87\\x83F\\xd6\\\\O\\xc0...</td>\n",
       "      <td>014084</td>\n",
       "      <td>1</td>\n",
       "      <td>SOJA</td>\n",
       "      <td>28</td>\n",
       "      <td>0.50560</td>\n",
       "      <td>0.799404</td>\n",
       "      <td>0.32025</td>\n",
       "      <td>0.812116</td>\n",
       "      <td>...</td>\n",
       "      <td>0.07450</td>\n",
       "      <td>0.453263</td>\n",
       "      <td>0.858904</td>\n",
       "      <td>0.589450</td>\n",
       "      <td>0.899895</td>\n",
       "      <td>2.88900</td>\n",
       "      <td>0.079681</td>\n",
       "      <td>0.894360</td>\n",
       "      <td>12544</td>\n",
       "      <td>0</td>\n",
       "    </tr>\n",
       "  </tbody>\n",
       "</table>\n",
       "<p>5 rows × 36 columns</p>\n",
       "</div>"
      ],
      "text/plain": [
       "   ogc_fid                                           GEOMETRY     in1  id  \\\n",
       "0        1  b'\\x01\\x01\\x00\\x00\\x00(I\\x80\\xe0\\xf6fO\\xc0\\xbe...  014084   1   \n",
       "1        2  b'\\x01\\x01\\x00\\x00\\x00\\x1f|\\x14\"lkO\\xc0^\\x14\\x...  014084   1   \n",
       "2        3  b'\\x01\\x01\\x00\\x00\\x00L).\\x93\\x08eO\\xc0fz\\xd9|...  014084   1   \n",
       "3        4  b'\\x01\\x01\\x00\\x00\\x00\\x03X\\x12\\xb7\\xb0iO\\xc0[...  014084   1   \n",
       "4        5  b'\\x01\\x01\\x00\\x00\\x00\\xa5\\x87\\x83F\\xd6\\\\O\\xc0...  014084   1   \n",
       "\n",
       "  cultivo  originfid   band_0    band_1   band_2    band_3  ...  band_20  \\\n",
       "0    SOJA          7  0.42816  0.692352  0.36905  0.730617  ...  0.82200   \n",
       "1    SOJA          8  0.41152  0.671952  0.42940  0.711504  ...  1.36300   \n",
       "2    SOJA         11  0.49848  0.794412  0.42270  0.805747  ...  1.27025   \n",
       "3    SOJA         12  0.52872  0.834804  0.79800  0.835724  ...  2.86100   \n",
       "4    SOJA         28  0.50560  0.799404  0.32025  0.812116  ...  0.07450   \n",
       "\n",
       "    band_21   band_22   band_23   band_24  band_25   band_26   band_27  \\\n",
       "0  0.410423  0.831812  0.543103  0.868833  2.95450  0.109526  0.861515   \n",
       "1  0.441640  0.817090  0.587002  0.862946  3.15975  0.148569  0.859830   \n",
       "2  0.423015  0.849940  0.563715  0.884401  3.21300  0.130448  0.879770   \n",
       "3  0.432937  0.861866  0.588915  0.892530  2.75850  0.430294  0.891874   \n",
       "4  0.453263  0.858904  0.589450  0.899895  2.88900  0.079681  0.894360   \n",
       "\n",
       "   tile_file  id_le  \n",
       "0      12544      0  \n",
       "1      12544      0  \n",
       "2      12544      0  \n",
       "3      12544      0  \n",
       "4      12544      0  \n",
       "\n",
       "[5 rows x 36 columns]"
      ]
     },
     "execution_count": 70,
     "metadata": {},
     "output_type": "execute_result"
    }
   ],
   "source": [
    "train_data['id_le'] = le.transform(train_data.id)\n",
    "\n",
    "train_data.head()"
   ]
  },
  {
   "cell_type": "code",
   "execution_count": 71,
   "id": "c5240870-6685-4670-a2aa-f304a7e154e7",
   "metadata": {},
   "outputs": [],
   "source": [
    "with open('../model/randomforest_parameters.json','r') as f:\n",
    "    parameters = json.load(f)"
   ]
  },
  {
   "cell_type": "code",
   "execution_count": 72,
   "id": "2522359a-aceb-49a9-95cb-3499ae990d9e",
   "metadata": {},
   "outputs": [],
   "source": [
    "def metadata_from_tile(in_raster):\n",
    "    with rasterio.open(in_raster) as src:\n",
    "        return(src.width, src.height, src.transform)\n",
    "\n",
    "def sliding_windows(size, step_size, width, height, whole=False):\n",
    "    \"\"\"Slide a window of +size+ by moving it +step_size+ pixels\"\"\"\n",
    "    w, h = size, size\n",
    "    sw, sh = step_size, step_size\n",
    "    end_i = height - h if whole else height\n",
    "    end_j = width - w if whole else width\n",
    "    for pos_i, i in enumerate(range(0, end_i, sh)):\n",
    "        for pos_j, j in enumerate(range(0, end_j, sw)):\n",
    "            real_w = w if whole else min(w, abs(width - j))\n",
    "            real_h = h if whole else min(h, abs(height - i))\n",
    "            yield Window(j, i, real_w, real_h), (pos_i, pos_j)"
   ]
  },
  {
   "cell_type": "code",
   "execution_count": 73,
   "id": "16e7ed7a-83fe-4a49-add2-7e22df78fdc5",
   "metadata": {},
   "outputs": [
    {
     "name": "stderr",
     "output_type": "stream",
     "text": [
      "[Parallel(n_jobs=-1)]: Using backend ThreadingBackend with 8 concurrent workers.\n",
      "[Parallel(n_jobs=-1)]: Done  34 tasks      | elapsed:    0.1s\n",
      "[Parallel(n_jobs=-1)]: Done 184 tasks      | elapsed:    0.4s\n",
      "[Parallel(n_jobs=-1)]: Done 434 tasks      | elapsed:    0.9s\n",
      "[Parallel(n_jobs=-1)]: Done 500 out of 500 | elapsed:    1.0s finished\n",
      "[Parallel(n_jobs=8)]: Using backend ThreadingBackend with 8 concurrent workers.\n",
      "[Parallel(n_jobs=8)]: Done  34 tasks      | elapsed:    0.0s\n",
      "[Parallel(n_jobs=8)]: Done 184 tasks      | elapsed:    0.1s\n",
      "[Parallel(n_jobs=8)]: Done 434 tasks      | elapsed:    0.1s\n",
      "[Parallel(n_jobs=8)]: Done 500 out of 500 | elapsed:    0.1s finished\n",
      "/opt/conda/lib/python3.7/site-packages/sklearn/metrics/_classification.py:1318: UndefinedMetricWarning: Precision and F-score are ill-defined and being set to 0.0 in labels with no predicted samples. Use `zero_division` parameter to control this behavior.\n",
      "  _warn_prf(average, modifier, msg_start, len(result))\n",
      "/opt/conda/lib/python3.7/site-packages/sklearn/metrics/_classification.py:1318: UndefinedMetricWarning: Precision and F-score are ill-defined and being set to 0.0 in labels with no predicted samples. Use `zero_division` parameter to control this behavior.\n",
      "  _warn_prf(average, modifier, msg_start, len(result))\n",
      "/opt/conda/lib/python3.7/site-packages/sklearn/metrics/_classification.py:1318: UndefinedMetricWarning: Precision and F-score are ill-defined and being set to 0.0 in labels with no predicted samples. Use `zero_division` parameter to control this behavior.\n",
      "  _warn_prf(average, modifier, msg_start, len(result))\n",
      "[Parallel(n_jobs=-1)]: Using backend ThreadingBackend with 8 concurrent workers.\n",
      "[Parallel(n_jobs=-1)]: Done  34 tasks      | elapsed:    0.1s\n",
      "[Parallel(n_jobs=-1)]: Done 184 tasks      | elapsed:    0.4s\n",
      "[Parallel(n_jobs=-1)]: Done 434 tasks      | elapsed:    0.9s\n",
      "[Parallel(n_jobs=-1)]: Done 500 out of 500 | elapsed:    1.1s finished\n"
     ]
    },
    {
     "name": "stdout",
     "output_type": "stream",
     "text": [
      "+++ PREDICCIÓN PARA TILE: 12544.tif\n",
      "... Prediciendo ventana 0 de 2958\n",
      "(Window(col_off=0, row_off=0, width=100, height=100), (0, 0))\n"
     ]
    },
    {
     "name": "stderr",
     "output_type": "stream",
     "text": [
      "[Parallel(n_jobs=8)]: Using backend ThreadingBackend with 8 concurrent workers.\n",
      "[Parallel(n_jobs=8)]: Done  34 tasks      | elapsed:    0.0s\n",
      "[Parallel(n_jobs=8)]: Done 184 tasks      | elapsed:    0.1s\n",
      "[Parallel(n_jobs=8)]: Done 434 tasks      | elapsed:    0.3s\n",
      "[Parallel(n_jobs=8)]: Done 500 out of 500 | elapsed:    0.3s finished\n",
      "[Parallel(n_jobs=8)]: Using backend ThreadingBackend with 8 concurrent workers.\n",
      "[Parallel(n_jobs=8)]: Done  34 tasks      | elapsed:    0.0s\n"
     ]
    },
    {
     "name": "stdout",
     "output_type": "stream",
     "text": [
      "... Prediciendo ventana 1 de 2958\n",
      "(Window(col_off=100, row_off=0, width=100, height=100), (0, 1))\n"
     ]
    },
    {
     "name": "stderr",
     "output_type": "stream",
     "text": [
      "[Parallel(n_jobs=8)]: Done 184 tasks      | elapsed:    0.1s\n",
      "[Parallel(n_jobs=8)]: Done 434 tasks      | elapsed:    0.3s\n",
      "[Parallel(n_jobs=8)]: Done 500 out of 500 | elapsed:    0.3s finished\n"
     ]
    },
    {
     "name": "stdout",
     "output_type": "stream",
     "text": [
      "... Prediciendo ventana 2 de 2958\n",
      "(Window(col_off=200, row_off=0, width=100, height=100), (0, 2))\n"
     ]
    },
    {
     "name": "stderr",
     "output_type": "stream",
     "text": [
      "[Parallel(n_jobs=8)]: Using backend ThreadingBackend with 8 concurrent workers.\n",
      "[Parallel(n_jobs=8)]: Done  34 tasks      | elapsed:    0.0s\n",
      "[Parallel(n_jobs=8)]: Done 184 tasks      | elapsed:    0.1s\n",
      "[Parallel(n_jobs=8)]: Done 434 tasks      | elapsed:    0.3s\n",
      "[Parallel(n_jobs=8)]: Done 500 out of 500 | elapsed:    0.3s finished\n",
      "[Parallel(n_jobs=8)]: Using backend ThreadingBackend with 8 concurrent workers.\n",
      "[Parallel(n_jobs=8)]: Done  34 tasks      | elapsed:    0.0s\n"
     ]
    },
    {
     "name": "stdout",
     "output_type": "stream",
     "text": [
      "... Prediciendo ventana 3 de 2958\n",
      "(Window(col_off=300, row_off=0, width=100, height=100), (0, 3))\n"
     ]
    },
    {
     "name": "stderr",
     "output_type": "stream",
     "text": [
      "[Parallel(n_jobs=8)]: Done 184 tasks      | elapsed:    0.1s\n",
      "[Parallel(n_jobs=8)]: Done 434 tasks      | elapsed:    0.3s\n",
      "[Parallel(n_jobs=8)]: Done 500 out of 500 | elapsed:    0.3s finished\n"
     ]
    },
    {
     "name": "stdout",
     "output_type": "stream",
     "text": [
      "... Prediciendo ventana 4 de 2958\n",
      "(Window(col_off=400, row_off=0, width=100, height=100), (0, 4))\n"
     ]
    },
    {
     "name": "stderr",
     "output_type": "stream",
     "text": [
      "[Parallel(n_jobs=8)]: Using backend ThreadingBackend with 8 concurrent workers.\n",
      "[Parallel(n_jobs=8)]: Done  34 tasks      | elapsed:    0.0s\n",
      "[Parallel(n_jobs=8)]: Done 184 tasks      | elapsed:    0.1s\n",
      "[Parallel(n_jobs=8)]: Done 434 tasks      | elapsed:    0.3s\n",
      "[Parallel(n_jobs=8)]: Done 500 out of 500 | elapsed:    0.3s finished\n",
      "[Parallel(n_jobs=8)]: Using backend ThreadingBackend with 8 concurrent workers.\n",
      "[Parallel(n_jobs=8)]: Done  34 tasks      | elapsed:    0.0s\n"
     ]
    },
    {
     "name": "stdout",
     "output_type": "stream",
     "text": [
      "... Prediciendo ventana 5 de 2958\n",
      "(Window(col_off=500, row_off=0, width=100, height=100), (0, 5))\n"
     ]
    },
    {
     "name": "stderr",
     "output_type": "stream",
     "text": [
      "[Parallel(n_jobs=8)]: Done 184 tasks      | elapsed:    0.1s\n",
      "[Parallel(n_jobs=8)]: Done 434 tasks      | elapsed:    0.3s\n",
      "[Parallel(n_jobs=8)]: Done 500 out of 500 | elapsed:    0.3s finished\n"
     ]
    },
    {
     "name": "stdout",
     "output_type": "stream",
     "text": [
      "... Prediciendo ventana 6 de 2958\n",
      "(Window(col_off=600, row_off=0, width=100, height=100), (0, 6))\n"
     ]
    },
    {
     "name": "stderr",
     "output_type": "stream",
     "text": [
      "[Parallel(n_jobs=8)]: Using backend ThreadingBackend with 8 concurrent workers.\n",
      "[Parallel(n_jobs=8)]: Done  34 tasks      | elapsed:    0.0s\n",
      "[Parallel(n_jobs=8)]: Done 184 tasks      | elapsed:    0.1s\n",
      "[Parallel(n_jobs=8)]: Done 434 tasks      | elapsed:    0.3s\n",
      "[Parallel(n_jobs=8)]: Done 500 out of 500 | elapsed:    0.3s finished\n",
      "[Parallel(n_jobs=8)]: Using backend ThreadingBackend with 8 concurrent workers.\n",
      "[Parallel(n_jobs=8)]: Done  34 tasks      | elapsed:    0.0s\n"
     ]
    },
    {
     "name": "stdout",
     "output_type": "stream",
     "text": [
      "... Prediciendo ventana 7 de 2958\n",
      "(Window(col_off=700, row_off=0, width=100, height=100), (0, 7))\n"
     ]
    },
    {
     "name": "stderr",
     "output_type": "stream",
     "text": [
      "[Parallel(n_jobs=8)]: Done 184 tasks      | elapsed:    0.1s\n",
      "[Parallel(n_jobs=8)]: Done 434 tasks      | elapsed:    0.3s\n",
      "[Parallel(n_jobs=8)]: Done 500 out of 500 | elapsed:    0.3s finished\n",
      "[Parallel(n_jobs=8)]: Using backend ThreadingBackend with 8 concurrent workers.\n",
      "[Parallel(n_jobs=8)]: Done  34 tasks      | elapsed:    0.0s\n"
     ]
    },
    {
     "name": "stdout",
     "output_type": "stream",
     "text": [
      "... Prediciendo ventana 8 de 2958\n",
      "(Window(col_off=800, row_off=0, width=100, height=100), (0, 8))\n"
     ]
    },
    {
     "name": "stderr",
     "output_type": "stream",
     "text": [
      "[Parallel(n_jobs=8)]: Done 184 tasks      | elapsed:    0.1s\n",
      "[Parallel(n_jobs=8)]: Done 434 tasks      | elapsed:    0.3s\n",
      "[Parallel(n_jobs=8)]: Done 500 out of 500 | elapsed:    0.3s finished\n"
     ]
    },
    {
     "name": "stdout",
     "output_type": "stream",
     "text": [
      "... Prediciendo ventana 9 de 2958\n",
      "(Window(col_off=900, row_off=0, width=100, height=100), (0, 9))\n"
     ]
    },
    {
     "name": "stderr",
     "output_type": "stream",
     "text": [
      "[Parallel(n_jobs=8)]: Using backend ThreadingBackend with 8 concurrent workers.\n",
      "[Parallel(n_jobs=8)]: Done  34 tasks      | elapsed:    0.0s\n",
      "[Parallel(n_jobs=8)]: Done 184 tasks      | elapsed:    0.1s\n",
      "[Parallel(n_jobs=8)]: Done 434 tasks      | elapsed:    0.3s\n",
      "[Parallel(n_jobs=8)]: Done 500 out of 500 | elapsed:    0.3s finished\n",
      "[Parallel(n_jobs=8)]: Using backend ThreadingBackend with 8 concurrent workers.\n",
      "[Parallel(n_jobs=8)]: Done  34 tasks      | elapsed:    0.0s\n"
     ]
    },
    {
     "name": "stdout",
     "output_type": "stream",
     "text": [
      "... Prediciendo ventana 10 de 2958\n",
      "(Window(col_off=1000, row_off=0, width=100, height=100), (0, 10))\n"
     ]
    },
    {
     "name": "stderr",
     "output_type": "stream",
     "text": [
      "[Parallel(n_jobs=8)]: Done 184 tasks      | elapsed:    0.1s\n",
      "[Parallel(n_jobs=8)]: Done 434 tasks      | elapsed:    0.3s\n",
      "[Parallel(n_jobs=8)]: Done 500 out of 500 | elapsed:    0.3s finished\n"
     ]
    },
    {
     "name": "stdout",
     "output_type": "stream",
     "text": [
      "... Prediciendo ventana 11 de 2958\n",
      "(Window(col_off=1100, row_off=0, width=100, height=100), (0, 11))\n"
     ]
    },
    {
     "name": "stderr",
     "output_type": "stream",
     "text": [
      "[Parallel(n_jobs=8)]: Using backend ThreadingBackend with 8 concurrent workers.\n",
      "[Parallel(n_jobs=8)]: Done  34 tasks      | elapsed:    0.0s\n",
      "[Parallel(n_jobs=8)]: Done 184 tasks      | elapsed:    0.1s\n",
      "[Parallel(n_jobs=8)]: Done 434 tasks      | elapsed:    0.3s\n",
      "[Parallel(n_jobs=8)]: Done 500 out of 500 | elapsed:    0.3s finished\n",
      "[Parallel(n_jobs=8)]: Using backend ThreadingBackend with 8 concurrent workers.\n",
      "[Parallel(n_jobs=8)]: Done  34 tasks      | elapsed:    0.0s\n"
     ]
    },
    {
     "name": "stdout",
     "output_type": "stream",
     "text": [
      "... Prediciendo ventana 12 de 2958\n",
      "(Window(col_off=1200, row_off=0, width=100, height=100), (0, 12))\n"
     ]
    },
    {
     "name": "stderr",
     "output_type": "stream",
     "text": [
      "[Parallel(n_jobs=8)]: Done 184 tasks      | elapsed:    0.1s\n",
      "[Parallel(n_jobs=8)]: Done 434 tasks      | elapsed:    0.3s\n",
      "[Parallel(n_jobs=8)]: Done 500 out of 500 | elapsed:    0.3s finished\n"
     ]
    },
    {
     "name": "stdout",
     "output_type": "stream",
     "text": [
      "... Prediciendo ventana 13 de 2958\n",
      "(Window(col_off=1300, row_off=0, width=100, height=100), (0, 13))\n"
     ]
    },
    {
     "name": "stderr",
     "output_type": "stream",
     "text": [
      "[Parallel(n_jobs=8)]: Using backend ThreadingBackend with 8 concurrent workers.\n",
      "[Parallel(n_jobs=8)]: Done  34 tasks      | elapsed:    0.0s\n",
      "[Parallel(n_jobs=8)]: Done 184 tasks      | elapsed:    0.1s\n",
      "[Parallel(n_jobs=8)]: Done 434 tasks      | elapsed:    0.3s\n",
      "[Parallel(n_jobs=8)]: Done 500 out of 500 | elapsed:    0.3s finished\n",
      "[Parallel(n_jobs=8)]: Using backend ThreadingBackend with 8 concurrent workers.\n",
      "[Parallel(n_jobs=8)]: Done  34 tasks      | elapsed:    0.0s\n"
     ]
    },
    {
     "name": "stdout",
     "output_type": "stream",
     "text": [
      "... Prediciendo ventana 14 de 2958\n",
      "(Window(col_off=1400, row_off=0, width=100, height=100), (0, 14))\n"
     ]
    },
    {
     "name": "stderr",
     "output_type": "stream",
     "text": [
      "[Parallel(n_jobs=8)]: Done 184 tasks      | elapsed:    0.1s\n",
      "[Parallel(n_jobs=8)]: Done 434 tasks      | elapsed:    0.3s\n",
      "[Parallel(n_jobs=8)]: Done 500 out of 500 | elapsed:    0.3s finished\n",
      "[Parallel(n_jobs=8)]: Using backend ThreadingBackend with 8 concurrent workers.\n",
      "[Parallel(n_jobs=8)]: Done  34 tasks      | elapsed:    0.0s\n"
     ]
    },
    {
     "name": "stdout",
     "output_type": "stream",
     "text": [
      "... Prediciendo ventana 15 de 2958\n",
      "(Window(col_off=1500, row_off=0, width=100, height=100), (0, 15))\n"
     ]
    },
    {
     "name": "stderr",
     "output_type": "stream",
     "text": [
      "[Parallel(n_jobs=8)]: Done 184 tasks      | elapsed:    0.1s\n",
      "[Parallel(n_jobs=8)]: Done 434 tasks      | elapsed:    0.3s\n",
      "[Parallel(n_jobs=8)]: Done 500 out of 500 | elapsed:    0.3s finished\n"
     ]
    },
    {
     "name": "stdout",
     "output_type": "stream",
     "text": [
      "... Prediciendo ventana 16 de 2958\n",
      "(Window(col_off=1600, row_off=0, width=100, height=100), (0, 16))\n"
     ]
    },
    {
     "name": "stderr",
     "output_type": "stream",
     "text": [
      "[Parallel(n_jobs=8)]: Using backend ThreadingBackend with 8 concurrent workers.\n",
      "[Parallel(n_jobs=8)]: Done  34 tasks      | elapsed:    0.0s\n",
      "[Parallel(n_jobs=8)]: Done 184 tasks      | elapsed:    0.1s\n",
      "[Parallel(n_jobs=8)]: Done 434 tasks      | elapsed:    0.3s\n",
      "[Parallel(n_jobs=8)]: Done 500 out of 500 | elapsed:    0.3s finished\n",
      "[Parallel(n_jobs=8)]: Using backend ThreadingBackend with 8 concurrent workers.\n"
     ]
    },
    {
     "name": "stdout",
     "output_type": "stream",
     "text": [
      "... Prediciendo ventana 17 de 2958\n",
      "(Window(col_off=1700, row_off=0, width=100, height=100), (0, 17))\n"
     ]
    },
    {
     "name": "stderr",
     "output_type": "stream",
     "text": [
      "[Parallel(n_jobs=8)]: Done  34 tasks      | elapsed:    0.0s\n",
      "[Parallel(n_jobs=8)]: Done 184 tasks      | elapsed:    0.1s\n",
      "[Parallel(n_jobs=8)]: Done 434 tasks      | elapsed:    0.3s\n",
      "[Parallel(n_jobs=8)]: Done 500 out of 500 | elapsed:    0.3s finished\n",
      "[Parallel(n_jobs=8)]: Using backend ThreadingBackend with 8 concurrent workers.\n",
      "[Parallel(n_jobs=8)]: Done  34 tasks      | elapsed:    0.0s\n"
     ]
    },
    {
     "name": "stdout",
     "output_type": "stream",
     "text": [
      "... Prediciendo ventana 18 de 2958\n",
      "(Window(col_off=1800, row_off=0, width=100, height=100), (0, 18))\n"
     ]
    },
    {
     "name": "stderr",
     "output_type": "stream",
     "text": [
      "[Parallel(n_jobs=8)]: Done 184 tasks      | elapsed:    0.1s\n",
      "[Parallel(n_jobs=8)]: Done 434 tasks      | elapsed:    0.3s\n",
      "[Parallel(n_jobs=8)]: Done 500 out of 500 | elapsed:    0.3s finished\n"
     ]
    },
    {
     "name": "stdout",
     "output_type": "stream",
     "text": [
      "... Prediciendo ventana 19 de 2958\n",
      "(Window(col_off=1900, row_off=0, width=100, height=100), (0, 19))\n"
     ]
    },
    {
     "name": "stderr",
     "output_type": "stream",
     "text": [
      "[Parallel(n_jobs=8)]: Using backend ThreadingBackend with 8 concurrent workers.\n",
      "[Parallel(n_jobs=8)]: Done  34 tasks      | elapsed:    0.0s\n",
      "[Parallel(n_jobs=8)]: Done 184 tasks      | elapsed:    0.1s\n",
      "[Parallel(n_jobs=8)]: Done 434 tasks      | elapsed:    0.3s\n",
      "[Parallel(n_jobs=8)]: Done 500 out of 500 | elapsed:    0.3s finished\n",
      "[Parallel(n_jobs=8)]: Using backend ThreadingBackend with 8 concurrent workers.\n",
      "[Parallel(n_jobs=8)]: Done  34 tasks      | elapsed:    0.0s\n",
      "[Parallel(n_jobs=8)]: Done 184 tasks      | elapsed:    0.1s\n"
     ]
    },
    {
     "name": "stdout",
     "output_type": "stream",
     "text": [
      "... Prediciendo ventana 20 de 2958\n",
      "(Window(col_off=2000, row_off=0, width=100, height=100), (0, 20))\n"
     ]
    },
    {
     "name": "stderr",
     "output_type": "stream",
     "text": [
      "[Parallel(n_jobs=8)]: Done 434 tasks      | elapsed:    0.3s\n",
      "[Parallel(n_jobs=8)]: Done 500 out of 500 | elapsed:    0.3s finished\n",
      "[Parallel(n_jobs=8)]: Using backend ThreadingBackend with 8 concurrent workers.\n",
      "[Parallel(n_jobs=8)]: Done  34 tasks      | elapsed:    0.0s\n"
     ]
    },
    {
     "name": "stdout",
     "output_type": "stream",
     "text": [
      "... Prediciendo ventana 21 de 2958\n",
      "(Window(col_off=2100, row_off=0, width=100, height=100), (0, 21))\n"
     ]
    },
    {
     "name": "stderr",
     "output_type": "stream",
     "text": [
      "[Parallel(n_jobs=8)]: Done 184 tasks      | elapsed:    0.1s\n",
      "[Parallel(n_jobs=8)]: Done 434 tasks      | elapsed:    0.3s\n",
      "[Parallel(n_jobs=8)]: Done 500 out of 500 | elapsed:    0.3s finished\n"
     ]
    },
    {
     "name": "stdout",
     "output_type": "stream",
     "text": [
      "... Prediciendo ventana 22 de 2958\n",
      "(Window(col_off=2200, row_off=0, width=100, height=100), (0, 22))\n"
     ]
    },
    {
     "name": "stderr",
     "output_type": "stream",
     "text": [
      "[Parallel(n_jobs=8)]: Using backend ThreadingBackend with 8 concurrent workers.\n",
      "[Parallel(n_jobs=8)]: Done  34 tasks      | elapsed:    0.0s\n",
      "[Parallel(n_jobs=8)]: Done 184 tasks      | elapsed:    0.1s\n",
      "[Parallel(n_jobs=8)]: Done 434 tasks      | elapsed:    0.3s\n",
      "[Parallel(n_jobs=8)]: Done 500 out of 500 | elapsed:    0.3s finished\n",
      "[Parallel(n_jobs=8)]: Using backend ThreadingBackend with 8 concurrent workers.\n",
      "[Parallel(n_jobs=8)]: Done  34 tasks      | elapsed:    0.0s\n"
     ]
    },
    {
     "name": "stdout",
     "output_type": "stream",
     "text": [
      "... Prediciendo ventana 23 de 2958\n",
      "(Window(col_off=2300, row_off=0, width=100, height=100), (0, 23))\n"
     ]
    },
    {
     "name": "stderr",
     "output_type": "stream",
     "text": [
      "[Parallel(n_jobs=8)]: Done 184 tasks      | elapsed:    0.1s\n",
      "[Parallel(n_jobs=8)]: Done 434 tasks      | elapsed:    0.3s\n",
      "[Parallel(n_jobs=8)]: Done 500 out of 500 | elapsed:    0.3s finished\n"
     ]
    },
    {
     "name": "stdout",
     "output_type": "stream",
     "text": [
      "... Prediciendo ventana 24 de 2958\n",
      "(Window(col_off=2400, row_off=0, width=100, height=100), (0, 24))\n"
     ]
    },
    {
     "name": "stderr",
     "output_type": "stream",
     "text": [
      "[Parallel(n_jobs=8)]: Using backend ThreadingBackend with 8 concurrent workers.\n",
      "[Parallel(n_jobs=8)]: Done  34 tasks      | elapsed:    0.0s\n",
      "[Parallel(n_jobs=8)]: Done 184 tasks      | elapsed:    0.1s\n",
      "[Parallel(n_jobs=8)]: Done 434 tasks      | elapsed:    0.3s\n",
      "[Parallel(n_jobs=8)]: Done 500 out of 500 | elapsed:    0.3s finished\n",
      "[Parallel(n_jobs=8)]: Using backend ThreadingBackend with 8 concurrent workers.\n",
      "[Parallel(n_jobs=8)]: Done  34 tasks      | elapsed:    0.0s\n"
     ]
    },
    {
     "name": "stdout",
     "output_type": "stream",
     "text": [
      "... Prediciendo ventana 25 de 2958\n",
      "(Window(col_off=2500, row_off=0, width=100, height=100), (0, 25))\n"
     ]
    },
    {
     "name": "stderr",
     "output_type": "stream",
     "text": [
      "[Parallel(n_jobs=8)]: Done 184 tasks      | elapsed:    0.1s\n",
      "[Parallel(n_jobs=8)]: Done 434 tasks      | elapsed:    0.3s\n",
      "[Parallel(n_jobs=8)]: Done 500 out of 500 | elapsed:    0.3s finished\n"
     ]
    },
    {
     "name": "stdout",
     "output_type": "stream",
     "text": [
      "... Prediciendo ventana 26 de 2958\n",
      "(Window(col_off=2600, row_off=0, width=100, height=100), (0, 26))\n"
     ]
    },
    {
     "name": "stderr",
     "output_type": "stream",
     "text": [
      "[Parallel(n_jobs=8)]: Using backend ThreadingBackend with 8 concurrent workers.\n",
      "[Parallel(n_jobs=8)]: Done  34 tasks      | elapsed:    0.0s\n",
      "[Parallel(n_jobs=8)]: Done 184 tasks      | elapsed:    0.1s\n",
      "[Parallel(n_jobs=8)]: Done 434 tasks      | elapsed:    0.3s\n"
     ]
    },
    {
     "ename": "KeyboardInterrupt",
     "evalue": "",
     "output_type": "error",
     "traceback": [
      "\u001b[0;31m---------------------------------------------------------------------------\u001b[0m",
      "\u001b[0;31mKeyboardInterrupt\u001b[0m                         Traceback (most recent call last)",
      "\u001b[0;32m/tmp/ipykernel_1873/4150673832.py\u001b[0m in \u001b[0;36m<module>\u001b[0;34m\u001b[0m\n\u001b[1;32m    158\u001b[0m                 \u001b[0;31m#img_df.rename(columns={col:f'band_{col}' for col in img_df.columns}, inplace=True)\u001b[0m\u001b[0;34m\u001b[0m\u001b[0;34m\u001b[0m\u001b[0;34m\u001b[0m\u001b[0m\n\u001b[1;32m    159\u001b[0m                 \u001b[0;31m# agrega columna con predicciones\u001b[0m\u001b[0;34m\u001b[0m\u001b[0;34m\u001b[0m\u001b[0;34m\u001b[0m\u001b[0m\n\u001b[0;32m--> 160\u001b[0;31m                 \u001b[0miter_prediction\u001b[0m \u001b[0;34m=\u001b[0m \u001b[0mmodel\u001b[0m\u001b[0;34m.\u001b[0m\u001b[0mpredict_proba\u001b[0m\u001b[0;34m(\u001b[0m\u001b[0mtif2predict\u001b[0m\u001b[0;34m.\u001b[0m\u001b[0mto_numpy\u001b[0m\u001b[0;34m(\u001b[0m\u001b[0;34m)\u001b[0m\u001b[0;34m)\u001b[0m\u001b[0;34m\u001b[0m\u001b[0;34m\u001b[0m\u001b[0m\n\u001b[0m\u001b[1;32m    161\u001b[0m                 \u001b[0mtif2predict\u001b[0m\u001b[0;34m[\u001b[0m\u001b[0;34m'id_le'\u001b[0m\u001b[0;34m]\u001b[0m \u001b[0;34m=\u001b[0m \u001b[0miter_prediction\u001b[0m\u001b[0;34m.\u001b[0m\u001b[0margmax\u001b[0m\u001b[0;34m(\u001b[0m\u001b[0maxis\u001b[0m\u001b[0;34m=\u001b[0m\u001b[0;36m1\u001b[0m\u001b[0;34m)\u001b[0m\u001b[0;34m\u001b[0m\u001b[0;34m\u001b[0m\u001b[0m\n\u001b[1;32m    162\u001b[0m                 \u001b[0mtif2predict\u001b[0m\u001b[0;34m[\u001b[0m\u001b[0;34m'score'\u001b[0m\u001b[0;34m]\u001b[0m \u001b[0;34m=\u001b[0m \u001b[0miter_prediction\u001b[0m\u001b[0;34m.\u001b[0m\u001b[0mmax\u001b[0m\u001b[0;34m(\u001b[0m\u001b[0maxis\u001b[0m\u001b[0;34m=\u001b[0m\u001b[0;36m1\u001b[0m\u001b[0;34m)\u001b[0m\u001b[0;34m\u001b[0m\u001b[0;34m\u001b[0m\u001b[0m\n",
      "\u001b[0;32m/opt/conda/lib/python3.7/site-packages/sklearn/ensemble/_forest.py\u001b[0m in \u001b[0;36mpredict_proba\u001b[0;34m(self, X)\u001b[0m\n\u001b[1;32m    865\u001b[0m         \u001b[0;34m)\u001b[0m\u001b[0;34m(\u001b[0m\u001b[0;34m\u001b[0m\u001b[0;34m\u001b[0m\u001b[0m\n\u001b[1;32m    866\u001b[0m             \u001b[0mdelayed\u001b[0m\u001b[0;34m(\u001b[0m\u001b[0m_accumulate_prediction\u001b[0m\u001b[0;34m)\u001b[0m\u001b[0;34m(\u001b[0m\u001b[0me\u001b[0m\u001b[0;34m.\u001b[0m\u001b[0mpredict_proba\u001b[0m\u001b[0;34m,\u001b[0m \u001b[0mX\u001b[0m\u001b[0;34m,\u001b[0m \u001b[0mall_proba\u001b[0m\u001b[0;34m,\u001b[0m \u001b[0mlock\u001b[0m\u001b[0;34m)\u001b[0m\u001b[0;34m\u001b[0m\u001b[0;34m\u001b[0m\u001b[0m\n\u001b[0;32m--> 867\u001b[0;31m             \u001b[0;32mfor\u001b[0m \u001b[0me\u001b[0m \u001b[0;32min\u001b[0m \u001b[0mself\u001b[0m\u001b[0;34m.\u001b[0m\u001b[0mestimators_\u001b[0m\u001b[0;34m\u001b[0m\u001b[0;34m\u001b[0m\u001b[0m\n\u001b[0m\u001b[1;32m    868\u001b[0m         )\n\u001b[1;32m    869\u001b[0m \u001b[0;34m\u001b[0m\u001b[0m\n",
      "\u001b[0;32m/opt/conda/lib/python3.7/site-packages/joblib/parallel.py\u001b[0m in \u001b[0;36m__call__\u001b[0;34m(self, iterable)\u001b[0m\n\u001b[1;32m   1054\u001b[0m \u001b[0;34m\u001b[0m\u001b[0m\n\u001b[1;32m   1055\u001b[0m             \u001b[0;32mwith\u001b[0m \u001b[0mself\u001b[0m\u001b[0;34m.\u001b[0m\u001b[0m_backend\u001b[0m\u001b[0;34m.\u001b[0m\u001b[0mretrieval_context\u001b[0m\u001b[0;34m(\u001b[0m\u001b[0;34m)\u001b[0m\u001b[0;34m:\u001b[0m\u001b[0;34m\u001b[0m\u001b[0;34m\u001b[0m\u001b[0m\n\u001b[0;32m-> 1056\u001b[0;31m                 \u001b[0mself\u001b[0m\u001b[0;34m.\u001b[0m\u001b[0mretrieve\u001b[0m\u001b[0;34m(\u001b[0m\u001b[0;34m)\u001b[0m\u001b[0;34m\u001b[0m\u001b[0;34m\u001b[0m\u001b[0m\n\u001b[0m\u001b[1;32m   1057\u001b[0m             \u001b[0;31m# Make sure that we get a last message telling us we are done\u001b[0m\u001b[0;34m\u001b[0m\u001b[0;34m\u001b[0m\u001b[0;34m\u001b[0m\u001b[0m\n\u001b[1;32m   1058\u001b[0m             \u001b[0melapsed_time\u001b[0m \u001b[0;34m=\u001b[0m \u001b[0mtime\u001b[0m\u001b[0;34m.\u001b[0m\u001b[0mtime\u001b[0m\u001b[0;34m(\u001b[0m\u001b[0;34m)\u001b[0m \u001b[0;34m-\u001b[0m \u001b[0mself\u001b[0m\u001b[0;34m.\u001b[0m\u001b[0m_start_time\u001b[0m\u001b[0;34m\u001b[0m\u001b[0;34m\u001b[0m\u001b[0m\n",
      "\u001b[0;32m/opt/conda/lib/python3.7/site-packages/joblib/parallel.py\u001b[0m in \u001b[0;36mretrieve\u001b[0;34m(self)\u001b[0m\n\u001b[1;32m    933\u001b[0m             \u001b[0;32mtry\u001b[0m\u001b[0;34m:\u001b[0m\u001b[0;34m\u001b[0m\u001b[0;34m\u001b[0m\u001b[0m\n\u001b[1;32m    934\u001b[0m                 \u001b[0;32mif\u001b[0m \u001b[0mgetattr\u001b[0m\u001b[0;34m(\u001b[0m\u001b[0mself\u001b[0m\u001b[0;34m.\u001b[0m\u001b[0m_backend\u001b[0m\u001b[0;34m,\u001b[0m \u001b[0;34m'supports_timeout'\u001b[0m\u001b[0;34m,\u001b[0m \u001b[0;32mFalse\u001b[0m\u001b[0;34m)\u001b[0m\u001b[0;34m:\u001b[0m\u001b[0;34m\u001b[0m\u001b[0;34m\u001b[0m\u001b[0m\n\u001b[0;32m--> 935\u001b[0;31m                     \u001b[0mself\u001b[0m\u001b[0;34m.\u001b[0m\u001b[0m_output\u001b[0m\u001b[0;34m.\u001b[0m\u001b[0mextend\u001b[0m\u001b[0;34m(\u001b[0m\u001b[0mjob\u001b[0m\u001b[0;34m.\u001b[0m\u001b[0mget\u001b[0m\u001b[0;34m(\u001b[0m\u001b[0mtimeout\u001b[0m\u001b[0;34m=\u001b[0m\u001b[0mself\u001b[0m\u001b[0;34m.\u001b[0m\u001b[0mtimeout\u001b[0m\u001b[0;34m)\u001b[0m\u001b[0;34m)\u001b[0m\u001b[0;34m\u001b[0m\u001b[0;34m\u001b[0m\u001b[0m\n\u001b[0m\u001b[1;32m    936\u001b[0m                 \u001b[0;32melse\u001b[0m\u001b[0;34m:\u001b[0m\u001b[0;34m\u001b[0m\u001b[0;34m\u001b[0m\u001b[0m\n\u001b[1;32m    937\u001b[0m                     \u001b[0mself\u001b[0m\u001b[0;34m.\u001b[0m\u001b[0m_output\u001b[0m\u001b[0;34m.\u001b[0m\u001b[0mextend\u001b[0m\u001b[0;34m(\u001b[0m\u001b[0mjob\u001b[0m\u001b[0;34m.\u001b[0m\u001b[0mget\u001b[0m\u001b[0;34m(\u001b[0m\u001b[0;34m)\u001b[0m\u001b[0;34m)\u001b[0m\u001b[0;34m\u001b[0m\u001b[0;34m\u001b[0m\u001b[0m\n",
      "\u001b[0;32m/opt/conda/lib/python3.7/multiprocessing/pool.py\u001b[0m in \u001b[0;36mget\u001b[0;34m(self, timeout)\u001b[0m\n\u001b[1;32m    649\u001b[0m \u001b[0;34m\u001b[0m\u001b[0m\n\u001b[1;32m    650\u001b[0m     \u001b[0;32mdef\u001b[0m \u001b[0mget\u001b[0m\u001b[0;34m(\u001b[0m\u001b[0mself\u001b[0m\u001b[0;34m,\u001b[0m \u001b[0mtimeout\u001b[0m\u001b[0;34m=\u001b[0m\u001b[0;32mNone\u001b[0m\u001b[0;34m)\u001b[0m\u001b[0;34m:\u001b[0m\u001b[0;34m\u001b[0m\u001b[0;34m\u001b[0m\u001b[0m\n\u001b[0;32m--> 651\u001b[0;31m         \u001b[0mself\u001b[0m\u001b[0;34m.\u001b[0m\u001b[0mwait\u001b[0m\u001b[0;34m(\u001b[0m\u001b[0mtimeout\u001b[0m\u001b[0;34m)\u001b[0m\u001b[0;34m\u001b[0m\u001b[0;34m\u001b[0m\u001b[0m\n\u001b[0m\u001b[1;32m    652\u001b[0m         \u001b[0;32mif\u001b[0m \u001b[0;32mnot\u001b[0m \u001b[0mself\u001b[0m\u001b[0;34m.\u001b[0m\u001b[0mready\u001b[0m\u001b[0;34m(\u001b[0m\u001b[0;34m)\u001b[0m\u001b[0;34m:\u001b[0m\u001b[0;34m\u001b[0m\u001b[0;34m\u001b[0m\u001b[0m\n\u001b[1;32m    653\u001b[0m             \u001b[0;32mraise\u001b[0m \u001b[0mTimeoutError\u001b[0m\u001b[0;34m\u001b[0m\u001b[0;34m\u001b[0m\u001b[0m\n",
      "\u001b[0;32m/opt/conda/lib/python3.7/multiprocessing/pool.py\u001b[0m in \u001b[0;36mwait\u001b[0;34m(self, timeout)\u001b[0m\n\u001b[1;32m    646\u001b[0m \u001b[0;34m\u001b[0m\u001b[0m\n\u001b[1;32m    647\u001b[0m     \u001b[0;32mdef\u001b[0m \u001b[0mwait\u001b[0m\u001b[0;34m(\u001b[0m\u001b[0mself\u001b[0m\u001b[0;34m,\u001b[0m \u001b[0mtimeout\u001b[0m\u001b[0;34m=\u001b[0m\u001b[0;32mNone\u001b[0m\u001b[0;34m)\u001b[0m\u001b[0;34m:\u001b[0m\u001b[0;34m\u001b[0m\u001b[0;34m\u001b[0m\u001b[0m\n\u001b[0;32m--> 648\u001b[0;31m         \u001b[0mself\u001b[0m\u001b[0;34m.\u001b[0m\u001b[0m_event\u001b[0m\u001b[0;34m.\u001b[0m\u001b[0mwait\u001b[0m\u001b[0;34m(\u001b[0m\u001b[0mtimeout\u001b[0m\u001b[0;34m)\u001b[0m\u001b[0;34m\u001b[0m\u001b[0;34m\u001b[0m\u001b[0m\n\u001b[0m\u001b[1;32m    649\u001b[0m \u001b[0;34m\u001b[0m\u001b[0m\n\u001b[1;32m    650\u001b[0m     \u001b[0;32mdef\u001b[0m \u001b[0mget\u001b[0m\u001b[0;34m(\u001b[0m\u001b[0mself\u001b[0m\u001b[0;34m,\u001b[0m \u001b[0mtimeout\u001b[0m\u001b[0;34m=\u001b[0m\u001b[0;32mNone\u001b[0m\u001b[0;34m)\u001b[0m\u001b[0;34m:\u001b[0m\u001b[0;34m\u001b[0m\u001b[0;34m\u001b[0m\u001b[0m\n",
      "\u001b[0;32m/opt/conda/lib/python3.7/threading.py\u001b[0m in \u001b[0;36mwait\u001b[0;34m(self, timeout)\u001b[0m\n\u001b[1;32m    550\u001b[0m             \u001b[0msignaled\u001b[0m \u001b[0;34m=\u001b[0m \u001b[0mself\u001b[0m\u001b[0;34m.\u001b[0m\u001b[0m_flag\u001b[0m\u001b[0;34m\u001b[0m\u001b[0;34m\u001b[0m\u001b[0m\n\u001b[1;32m    551\u001b[0m             \u001b[0;32mif\u001b[0m \u001b[0;32mnot\u001b[0m \u001b[0msignaled\u001b[0m\u001b[0;34m:\u001b[0m\u001b[0;34m\u001b[0m\u001b[0;34m\u001b[0m\u001b[0m\n\u001b[0;32m--> 552\u001b[0;31m                 \u001b[0msignaled\u001b[0m \u001b[0;34m=\u001b[0m \u001b[0mself\u001b[0m\u001b[0;34m.\u001b[0m\u001b[0m_cond\u001b[0m\u001b[0;34m.\u001b[0m\u001b[0mwait\u001b[0m\u001b[0;34m(\u001b[0m\u001b[0mtimeout\u001b[0m\u001b[0;34m)\u001b[0m\u001b[0;34m\u001b[0m\u001b[0;34m\u001b[0m\u001b[0m\n\u001b[0m\u001b[1;32m    553\u001b[0m             \u001b[0;32mreturn\u001b[0m \u001b[0msignaled\u001b[0m\u001b[0;34m\u001b[0m\u001b[0;34m\u001b[0m\u001b[0m\n\u001b[1;32m    554\u001b[0m \u001b[0;34m\u001b[0m\u001b[0m\n",
      "\u001b[0;32m/opt/conda/lib/python3.7/threading.py\u001b[0m in \u001b[0;36mwait\u001b[0;34m(self, timeout)\u001b[0m\n\u001b[1;32m    294\u001b[0m         \u001b[0;32mtry\u001b[0m\u001b[0;34m:\u001b[0m    \u001b[0;31m# restore state no matter what (e.g., KeyboardInterrupt)\u001b[0m\u001b[0;34m\u001b[0m\u001b[0;34m\u001b[0m\u001b[0m\n\u001b[1;32m    295\u001b[0m             \u001b[0;32mif\u001b[0m \u001b[0mtimeout\u001b[0m \u001b[0;32mis\u001b[0m \u001b[0;32mNone\u001b[0m\u001b[0;34m:\u001b[0m\u001b[0;34m\u001b[0m\u001b[0;34m\u001b[0m\u001b[0m\n\u001b[0;32m--> 296\u001b[0;31m                 \u001b[0mwaiter\u001b[0m\u001b[0;34m.\u001b[0m\u001b[0macquire\u001b[0m\u001b[0;34m(\u001b[0m\u001b[0;34m)\u001b[0m\u001b[0;34m\u001b[0m\u001b[0;34m\u001b[0m\u001b[0m\n\u001b[0m\u001b[1;32m    297\u001b[0m                 \u001b[0mgotit\u001b[0m \u001b[0;34m=\u001b[0m \u001b[0;32mTrue\u001b[0m\u001b[0;34m\u001b[0m\u001b[0;34m\u001b[0m\u001b[0m\n\u001b[1;32m    298\u001b[0m             \u001b[0;32melse\u001b[0m\u001b[0;34m:\u001b[0m\u001b[0;34m\u001b[0m\u001b[0;34m\u001b[0m\u001b[0m\n",
      "\u001b[0;31mKeyboardInterrupt\u001b[0m: "
     ]
    }
   ],
   "source": [
    "next_train = pd.DataFrame()\n",
    "i = 0\n",
    "while True:\n",
    "    \n",
    "    # si el entrenamiento de la próxima iteración es mayor (en cantidad)\n",
    "    # a la data de entrenamiento, entonces toma el entrenamiento de la próxima\n",
    "    # iteración\n",
    "    # si no, toma la data de entrenamiento original (verdad de capo original)\n",
    "    # el entrenamiento de la próxima iteración es un df que se va enriqueciendo\n",
    "    # con la nueva verdad de campo predicha\n",
    "    # hago esto así porque, usando los tif, no sé cómo verificar si los pixeles\n",
    "    # están o no en la verdad de campo (entonces no quiero agregar la nueva\n",
    "    # verdad de camp al df que ya contiene la verdad de campo original\n",
    "    # porquee estaría duplicando los datos)\n",
    "    # así, primera iteración va a usar la data original y ya en la segunda\n",
    "    # iteración va a tomar el entrenamiento con la nueva verdad\n",
    "    if next_train.shape[0] >= train_data.shape[0]:\n",
    "        train_data = next_train\n",
    "\n",
    "    # arma carpeta para el output (i aumenta con las iteraciones)\n",
    "    n_iter = '{0:03d}'.format(i)\n",
    "    output_folder = os.path.join('..','model',f'randomforest_iterations_{n_iter}')\n",
    "    if os.path.exists(output_folder):\n",
    "        shutil.rmtree(output_folder)\n",
    "    os.mkdir(output_folder)\n",
    "    \n",
    "    # segmenta en train y test\n",
    "    X = train_data.filter(regex='band_').fillna(-99).to_numpy()\n",
    "    y = train_data['id_le'].to_numpy()\n",
    "    X_train, X_test, y_train, y_test = train_test_split(\n",
    "        X, y, test_size=.3, random_state=20220714, shuffle=True, stratify=y\n",
    "    )\n",
    "    \n",
    "    # instancia y entrena el modelo con set de entrenamiento\n",
    "    model = RandomForestClassifier(**parameters)\n",
    "    model.fit(X_train, y_train)\n",
    "    \n",
    "    # predice sobre el conjunto de testeo\n",
    "    probas = model.predict_proba(X_test)\n",
    "    output_proba_file = os.path.join(output_folder, f'probas_{n_iter}.npy')\n",
    "    np.save(output_proba_file, probas)\n",
    "    \n",
    "    y_hat = probas.argmax(axis=1)\n",
    "    \n",
    "    # guarda métricas\n",
    "    cmatrix = confusion_matrix(y_test, y_hat, normalize='all')\n",
    "    output_cmpatrix_file = os.path.join(output_folder, f'cmatrix_{n_iter}.npy')\n",
    "    np.save(output_cmpatrix_file, cmatrix)\n",
    "    \n",
    "    report = classification_report(y_test, y_hat, output_dict=True)\n",
    "    output_report_file = os.path.join(output_folder, f'report_{n_iter}.json')\n",
    "    with open(output_report_file, 'w') as f:\n",
    "        json.dump(report, f, ensure_ascii=False, indent=4)\n",
    "    \n",
    "    kappa = cohen_kappa_score(y_test, y_hat)\n",
    "    output_kapp_file = os.path.join(output_folder, f'kapp_{n_iter}.txt')\n",
    "    with open(output_kapp_file, 'w') as f:\n",
    "        _ = f.write(str(kappa))\n",
    "    \n",
    "    # evalúa cantidad de aciertos y errores por nivel de confianza (cada 0.05)\n",
    "    predictions = pd.DataFrame({\n",
    "        'success':y_test==y_hat,\n",
    "        'score':probas.max(axis=1),\n",
    "    })\n",
    "    hits, confidence = np.histogram(predictions[predictions.success==True].score, 20, (0,1))\n",
    "    misses, _ = np.histogram(predictions[predictions.success==False].score, 20, (0,1))\n",
    "    hits_misses_df = (\n",
    "        pd\n",
    "        .DataFrame({'hit':hits, 'miss':misses, 'confidence':np.round(confidence[:-1], 2)})\n",
    "    )\n",
    "    output_success_file = os.path.join(output_folder, f'hits_misses_{n_iter}.csv')\n",
    "    hits_misses_df.to_csv(output_success_file, index=False)\n",
    "    \n",
    "    # selecciona el umbral\n",
    "    # umbral = score cuya cantidad de aciertos duplique la cantidad de errores + 1\n",
    "    threshold = hits_misses_df.loc[hits_misses_df.hit>(hits_misses_df.miss+1)*2,'confidence'].min()\n",
    "    output_threshold_file = os.path.join(output_folder, f'threshold_{n_iter}.txt')\n",
    "    with open(output_threshold_file, 'w') as f:\n",
    "        _ = f.write(str(threshold))\n",
    "\n",
    "    # instancia y entrena el modelo con set de entrenamiento + validación\n",
    "    iter_X = train_data.filter(regex='band_').fillna(-99999).to_numpy()\n",
    "    iter_y = train_data['id_le'].to_numpy()\n",
    "\n",
    "    model = RandomForestClassifier(**parameters)\n",
    "    model.fit(iter_X, iter_y)\n",
    "    output_model_file = os.path.join(output_folder, f'model_{n_iter}.joblib')\n",
    "    _ = joblib.dump(model, output_model_file)\n",
    "    \n",
    "    # levanta los .tif para predecir\n",
    "    pred_tif = glob('../data/feature_importance/12*.tif')\n",
    "    \n",
    "    vc_len = X_train.shape[0] + X_test.shape[0]\n",
    "    new_vc_len = 0\n",
    "    for tif in pred_tif:\n",
    "        # detecta nombre del raster\n",
    "        # 12544.tif o 00000.tif\n",
    "        name_raster = os.path.basename(tif)\n",
    "        \n",
    "        print(f'+++ PREDICCIÓN PARA TILE: {name_raster}')\n",
    "        \n",
    "        # levanta la metadata del tif\n",
    "        width, height, transform = metadata_from_tile(tif)\n",
    "        # arma las ventanas de 100x100\n",
    "        windows = sliding_windows(100, 100, width, height)\n",
    "    \n",
    "        # si no está en la primera iteración\n",
    "        # busca el raster para enmascarar de la iteración anterior\n",
    "        if i>0:\n",
    "            prev_i = i-1\n",
    "            prev_iter = '{0:03d}'.format(prev_i)\n",
    "            prev_folder = output_folder.replace(n_iter, prev_iter)\n",
    "            prev_tif = os.path.join(prev_folder, name_raster)\n",
    "        \n",
    "        out_raster = os.path.join(output_folder, name_raster)\n",
    "        with rasterio.open(\n",
    "            out_raster, 'w', driver='GTiff', count=1,\n",
    "            width=width, height=height, dtype=np.float64, transform=transform,\n",
    "            crs=CRS.from_epsg(4326), compress='lzw') as dst:\n",
    "            \n",
    "            windows = list(windows)\n",
    "            windows_len = len(windows)\n",
    "            wn = 0\n",
    "            for window in windows:\n",
    "                print(f'... Prediciendo ventana {wn} de {windows_len}')\n",
    "                wn +=1\n",
    "                \n",
    "                win=window[0]\n",
    "                # abre ventana en el raster original\n",
    "                src = rasterio.open(tif)\n",
    "                img = src.read(window=win)\n",
    "                r,m,n = img.shape\n",
    "                \n",
    "                # arma un dataframe con la data para predecir\n",
    "                # shape: 10000 filas (100x100 pixeles) x 28 columnas (bandas)\n",
    "                tif_df = (\n",
    "                    pd.DataFrame(img.reshape(r,m*n))\n",
    "                    .T.fillna(-99)\n",
    "                )\n",
    "                tif_df.rename(columns={col:f'band_{col}' for col in tif_df.columns}, inplace=True)\n",
    "                \n",
    "                # si no está en la primera iteración\n",
    "                # arma un dataframe con la data para enmascarar\n",
    "                # shape: 10000 filas (100x100 pixeles) x 28 columnas (bandas)\n",
    "                if i>0:\n",
    "                    # abre ventana en el raster de la iteración previa\n",
    "                    # para enmascarar\n",
    "                    src_mask = rasterio.open(prev_tif)\n",
    "                    mask = src_mask.read(window=win) \n",
    "                    mask_df = pd.DataFrame(mask.reshape(r,m*n)).T\n",
    "                    tif2predict = deepcopy(tif_df[mask_df.id==-99])\n",
    "                # si está en la primera iteración\n",
    "                # toma el tif completo\n",
    "                else:\n",
    "                    tif2predict = deepcopy(tif_df)\n",
    "\n",
    "                #img_df.rename(columns={col:f'band_{col}' for col in img_df.columns}, inplace=True)\n",
    "                # agrega columna con predicciones\n",
    "                iter_prediction = model.predict_proba(tif2predict.to_numpy())\n",
    "                tif2predict['id_le'] = iter_prediction.argmax(axis=1)\n",
    "                tif2predict['score'] = iter_prediction.max(axis=1)\n",
    "\n",
    "                # si el score de la predicción supera al umbral\n",
    "                # agrega esa info al entrenamiento de la próxima iteración\n",
    "                new_vc = tif2predict[tif2predict.score>=threshold]\n",
    "                new_vc['id_le'] = new_vc.id_le.astype('int')\n",
    "                next_train = pd.concat([next_train, new_vc])\n",
    "                new_vc_len += new_vc.shape[0]\n",
    "                \n",
    "                # asigna id real\n",
    "                # enmascara las predicciones cuyo score no supera al umbral (-99)\n",
    "                # y lo guarda en un nuevo .tif\n",
    "                tif_df.loc[mask_df.id==-99, 'id'] = tif2predict.id_le.map(map_le2id)\n",
    "                tif_df.loc[mask_df.id==-99, 'score'] = tif2predict.score\n",
    "                tif_df.loc[tif_df.score<threshold, 'id'] = -99\n",
    "                tif_class = np.expand_dims(tif_df.id.to_numpy().reshape(n,m), axis=0)\n",
    "                dst.write(tif_class, window=win)\n",
    "                \n",
    "                # cuando se hace la predicción hay que revisar si hay un .tif del modelo para enmascarar\n",
    "                # (solo se predicen los pixeles que tengan NA)          \n",
    "    \n",
    "    output_vc_file = os.path.join(output_folder, f'verdad_campo_{n_iter}.txt')\n",
    "    with open(output_vc_file, 'w') as f:\n",
    "        _ = f.write(f'''verdad_campo_entrenamiento,{vc_len}\\nvedad_campo_nueva{new_vc_len}\\n''')\n",
    "    \n",
    "    \n",
    "    # imprime información\n",
    "    print(f'''\\n*** ITERACIÓN #{i:03d}\n",
    "    - Pixeles de entrenamiento: {X_train.shape[0]}\n",
    "    - Pixeles de validación: {X_test.shape[0]}\n",
    "    - Probabilidades sobre train guardadas en {output_proba_file}\n",
    "    - Umbral definido: {threshold}\n",
    "    - Pixeles del modelo final: {vc_len}\n",
    "    - Modelo guardado en: {output_model_file}\n",
    "    - Nueva verdad de campo predicha: {new_vc_len}''')\n",
    "    \n",
    "    if new_vc_len == 0:\n",
    "        break"
   ]
  },
  {
   "cell_type": "code",
   "execution_count": null,
   "id": "773b009e-6f18-4849-8162-586a20d5064b",
   "metadata": {},
   "outputs": [],
   "source": []
  },
  {
   "cell_type": "code",
   "execution_count": null,
   "id": "163e54ae-5148-4899-9688-d3dd1a680cef",
   "metadata": {},
   "outputs": [],
   "source": []
  }
 ],
 "metadata": {
  "environment": {
   "kernel": "python3",
   "name": "common-cpu.m94",
   "type": "gcloud",
   "uri": "gcr.io/deeplearning-platform-release/base-cpu:m94"
  },
  "kernelspec": {
   "display_name": "Python 3",
   "language": "python",
   "name": "python3"
  },
  "language_info": {
   "codemirror_mode": {
    "name": "ipython",
    "version": 3
   },
   "file_extension": ".py",
   "mimetype": "text/x-python",
   "name": "python",
   "nbconvert_exporter": "python",
   "pygments_lexer": "ipython3",
   "version": "3.7.12"
  }
 },
 "nbformat": 4,
 "nbformat_minor": 5
}
