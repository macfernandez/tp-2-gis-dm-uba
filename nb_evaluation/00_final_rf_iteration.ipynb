{
 "cells": [
  {
   "cell_type": "markdown",
   "id": "2401d954-3687-439b-a668-c219a35a5d18",
   "metadata": {
    "pycharm": {
     "name": "#%% md\n"
    }
   },
   "source": [
    "# Entrenamiento iterativo"
   ]
  },
  {
   "cell_type": "code",
   "execution_count": 1,
   "id": "754fe51f-9bbc-4739-8e74-800473891684",
   "metadata": {
    "pycharm": {
     "name": "#%%\n"
    }
   },
   "outputs": [],
   "source": [
    "import os\n",
    "import re\n",
    "import json\n",
    "import joblib\n",
    "import rasterio\n",
    "import numpy as np\n",
    "import pandas as pd\n",
    "from glob import glob\n",
    "from pyproj import CRS\n",
    "from copy import deepcopy\n",
    "from sqlite3 import connect\n",
    "from sklearn.preprocessing import LabelEncoder\n",
    "from sklearn.ensemble import RandomForestClassifier\n",
    "\n",
    "from utilities import *"
   ]
  },
  {
   "cell_type": "markdown",
   "id": "dfc50e70-5593-4c74-88ea-d72ddb3d3411",
   "metadata": {
    "pycharm": {
     "name": "#%% md\n"
    }
   },
   "source": [
    "## Conjunto de entrenamiento"
   ]
  },
  {
   "cell_type": "code",
   "execution_count": 2,
   "id": "b65e2de2-f7c6-48cc-a57a-e3d53142d7ce",
   "metadata": {
    "pycharm": {
     "name": "#%%\n"
    }
   },
   "outputs": [],
   "source": [
    "# cambiar según corresponda\n",
    "# train_sqlite_files debe contener los .sqlite generados a partir de la verdad de campo\n",
    "train_sqlite_files = glob('../data/selection_verdad_campo/*.sqlite')\n",
    "\n",
    "train_data = pd.DataFrame()\n",
    "\n",
    "for sf in train_sqlite_files:\n",
    "    file_name = os.path.basename(sf)\n",
    "    tile = re.search(r'\\d+',file_name).group()\n",
    "    cnx = connect(sf)\n",
    "    df = pd.read_sql_query(\"SELECT * FROM output\", cnx)\n",
    "    df['tile_file'] = tile\n",
    "    train_data = pd.concat([train_data, df], ignore_index=True)"
   ]
  },
  {
   "cell_type": "code",
   "execution_count": 3,
   "id": "a832c5d5-7d01-49d2-bf7f-dadc2d34128b",
   "metadata": {
    "pycharm": {
     "name": "#%%\n"
    }
   },
   "outputs": [
    {
     "data": {
      "text/plain": "(466, 35)"
     },
     "execution_count": 3,
     "metadata": {},
     "output_type": "execute_result"
    }
   ],
   "source": [
    "train_data.shape"
   ]
  },
  {
   "cell_type": "code",
   "execution_count": 4,
   "id": "13016a21-cf58-4035-9ce7-fdb7ca399547",
   "metadata": {
    "pycharm": {
     "name": "#%%\n"
    }
   },
   "outputs": [
    {
     "data": {
      "text/plain": "   ogc_fid                                           GEOMETRY     in1  id  \\\n0        1  b'\\x01\\x01\\x00\\x00\\x00 \\xf1\\x0b\\xeaL\\xd5O\\xc0\\...  014084   1   \n1        2  b'\\x01\\x01\\x00\\x00\\x00V\\x8b\\x9d/\\x0b\\xabO\\xc0T...  014084   1   \n2        3  b'\\x01\\x01\\x00\\x00\\x00M\\xa8\\xdf4\\xe5\\xa4O\\xc0\\...  014084   1   \n3        4  b'\\x01\\x01\\x00\\x00\\x00\\xe4\\x02\\xab\\x1d\\xb0\\xd7...  014084   1   \n4        5  b'\\x01\\x01\\x00\\x00\\x00\\xa7\\xe5\\x99\\xec^\\xd4O\\x...  014084   1   \n\n  cultivo  originfid   band_0    band_1  band_2    band_3  ...   band_19  \\\n0    SOJA         14  0.48176  0.765948  0.3583  0.788596  ...  5.113691   \n1    SOJA         34  0.47336  0.762060  0.9424  0.782061  ...  4.478749   \n2    SOJA         35  0.49016  0.788664  0.7118  0.799592  ...  4.509433   \n3    SOJA         38  0.52476  0.826668  0.8436  0.832025  ...  5.455678   \n4    SOJA         39  0.53340  0.847746  0.8716  0.840895  ...  5.325085   \n\n   band_20   band_21   band_22   band_23   band_24  band_25   band_26  \\\n0   1.8320  0.387479  0.855175  0.593264  0.863072    3.181  0.115103   \n1   3.1410  0.319588  0.843794  0.484375  0.839304    2.263  0.636738   \n2   2.1070  0.323782  0.844182  0.515982  0.833669    3.636  0.382938   \n3   1.8985  0.399654  0.866689  0.607895  0.876895    1.886  0.471242   \n4   2.2785  0.423227  0.853557  0.647971  0.868240    2.473  0.543610   \n\n    band_27  tile_file  \n0  0.875580      00000  \n1  0.845511      00000  \n2  0.847742      00000  \n3  0.888227      00000  \n4  0.883840      00000  \n\n[5 rows x 35 columns]",
      "text/html": "<div>\n<style scoped>\n    .dataframe tbody tr th:only-of-type {\n        vertical-align: middle;\n    }\n\n    .dataframe tbody tr th {\n        vertical-align: top;\n    }\n\n    .dataframe thead th {\n        text-align: right;\n    }\n</style>\n<table border=\"1\" class=\"dataframe\">\n  <thead>\n    <tr style=\"text-align: right;\">\n      <th></th>\n      <th>ogc_fid</th>\n      <th>GEOMETRY</th>\n      <th>in1</th>\n      <th>id</th>\n      <th>cultivo</th>\n      <th>originfid</th>\n      <th>band_0</th>\n      <th>band_1</th>\n      <th>band_2</th>\n      <th>band_3</th>\n      <th>...</th>\n      <th>band_19</th>\n      <th>band_20</th>\n      <th>band_21</th>\n      <th>band_22</th>\n      <th>band_23</th>\n      <th>band_24</th>\n      <th>band_25</th>\n      <th>band_26</th>\n      <th>band_27</th>\n      <th>tile_file</th>\n    </tr>\n  </thead>\n  <tbody>\n    <tr>\n      <th>0</th>\n      <td>1</td>\n      <td>b'\\x01\\x01\\x00\\x00\\x00 \\xf1\\x0b\\xeaL\\xd5O\\xc0\\...</td>\n      <td>014084</td>\n      <td>1</td>\n      <td>SOJA</td>\n      <td>14</td>\n      <td>0.48176</td>\n      <td>0.765948</td>\n      <td>0.3583</td>\n      <td>0.788596</td>\n      <td>...</td>\n      <td>5.113691</td>\n      <td>1.8320</td>\n      <td>0.387479</td>\n      <td>0.855175</td>\n      <td>0.593264</td>\n      <td>0.863072</td>\n      <td>3.181</td>\n      <td>0.115103</td>\n      <td>0.875580</td>\n      <td>00000</td>\n    </tr>\n    <tr>\n      <th>1</th>\n      <td>2</td>\n      <td>b'\\x01\\x01\\x00\\x00\\x00V\\x8b\\x9d/\\x0b\\xabO\\xc0T...</td>\n      <td>014084</td>\n      <td>1</td>\n      <td>SOJA</td>\n      <td>34</td>\n      <td>0.47336</td>\n      <td>0.762060</td>\n      <td>0.9424</td>\n      <td>0.782061</td>\n      <td>...</td>\n      <td>4.478749</td>\n      <td>3.1410</td>\n      <td>0.319588</td>\n      <td>0.843794</td>\n      <td>0.484375</td>\n      <td>0.839304</td>\n      <td>2.263</td>\n      <td>0.636738</td>\n      <td>0.845511</td>\n      <td>00000</td>\n    </tr>\n    <tr>\n      <th>2</th>\n      <td>3</td>\n      <td>b'\\x01\\x01\\x00\\x00\\x00M\\xa8\\xdf4\\xe5\\xa4O\\xc0\\...</td>\n      <td>014084</td>\n      <td>1</td>\n      <td>SOJA</td>\n      <td>35</td>\n      <td>0.49016</td>\n      <td>0.788664</td>\n      <td>0.7118</td>\n      <td>0.799592</td>\n      <td>...</td>\n      <td>4.509433</td>\n      <td>2.1070</td>\n      <td>0.323782</td>\n      <td>0.844182</td>\n      <td>0.515982</td>\n      <td>0.833669</td>\n      <td>3.636</td>\n      <td>0.382938</td>\n      <td>0.847742</td>\n      <td>00000</td>\n    </tr>\n    <tr>\n      <th>3</th>\n      <td>4</td>\n      <td>b'\\x01\\x01\\x00\\x00\\x00\\xe4\\x02\\xab\\x1d\\xb0\\xd7...</td>\n      <td>014084</td>\n      <td>1</td>\n      <td>SOJA</td>\n      <td>38</td>\n      <td>0.52476</td>\n      <td>0.826668</td>\n      <td>0.8436</td>\n      <td>0.832025</td>\n      <td>...</td>\n      <td>5.455678</td>\n      <td>1.8985</td>\n      <td>0.399654</td>\n      <td>0.866689</td>\n      <td>0.607895</td>\n      <td>0.876895</td>\n      <td>1.886</td>\n      <td>0.471242</td>\n      <td>0.888227</td>\n      <td>00000</td>\n    </tr>\n    <tr>\n      <th>4</th>\n      <td>5</td>\n      <td>b'\\x01\\x01\\x00\\x00\\x00\\xa7\\xe5\\x99\\xec^\\xd4O\\x...</td>\n      <td>014084</td>\n      <td>1</td>\n      <td>SOJA</td>\n      <td>39</td>\n      <td>0.53340</td>\n      <td>0.847746</td>\n      <td>0.8716</td>\n      <td>0.840895</td>\n      <td>...</td>\n      <td>5.325085</td>\n      <td>2.2785</td>\n      <td>0.423227</td>\n      <td>0.853557</td>\n      <td>0.647971</td>\n      <td>0.868240</td>\n      <td>2.473</td>\n      <td>0.543610</td>\n      <td>0.883840</td>\n      <td>00000</td>\n    </tr>\n  </tbody>\n</table>\n<p>5 rows × 35 columns</p>\n</div>"
     },
     "execution_count": 4,
     "metadata": {},
     "output_type": "execute_result"
    }
   ],
   "source": [
    "train_data.head()"
   ]
  },
  {
   "cell_type": "markdown",
   "id": "ce95c0c8-b127-40a2-bc35-199bb3f7183c",
   "metadata": {
    "pycharm": {
     "name": "#%% md\n"
    }
   },
   "source": [
    "## Conjunto de predicción"
   ]
  },
  {
   "cell_type": "code",
   "execution_count": 5,
   "id": "5468b355-411e-4fad-bfbc-feaee30b74aa",
   "metadata": {
    "pycharm": {
     "name": "#%%\n"
    }
   },
   "outputs": [],
   "source": [
    "# cambiar según corresponda\n",
    "# pred_sqlite_files debe contener los .sqlite generados a partir de la máscara mask_agri_aoi\n",
    "pred_sqlite_files = glob('../data/selection_mask_agri/*.sqlite')\n",
    "\n",
    "pred_data = pd.DataFrame()\n",
    "\n",
    "for sf in pred_sqlite_files:\n",
    "    file_name = os.path.basename(sf)\n",
    "    tile = re.search(r'\\d+',file_name).group()\n",
    "    cnx = connect(sf)\n",
    "    df = pd.read_sql_query(\"SELECT * FROM output\", cnx)\n",
    "    df['tile_file'] = tile\n",
    "    pred_data = pd.concat([pred_data, df], ignore_index=True)"
   ]
  },
  {
   "cell_type": "code",
   "execution_count": 6,
   "id": "6c8f460d-2a3d-4fc7-9a11-a362062b80ec",
   "metadata": {
    "pycharm": {
     "name": "#%%\n"
    }
   },
   "outputs": [
    {
     "data": {
      "text/plain": "(2000, 34)"
     },
     "execution_count": 6,
     "metadata": {},
     "output_type": "execute_result"
    }
   ],
   "source": [
    "pred_data.shape"
   ]
  },
  {
   "cell_type": "code",
   "execution_count": 7,
   "id": "5cd7f6ab-39b9-4c74-9205-107131a96fc6",
   "metadata": {
    "pycharm": {
     "name": "#%%\n"
    }
   },
   "outputs": [
    {
     "data": {
      "text/plain": "   ogc_fid                                           GEOMETRY       fid  dn  \\\n0        1  b'\\x01\\x01\\x00\\x00\\x00\\x86\\xe9\\xb0?<\\xe7O\\xc0\\...   out.119   1   \n1        2  b'\\x01\\x01\\x00\\x00\\x00\\x0c1\\x99\\xc1\\xf1\\x00P\\x...  out.6054   1   \n2        3  b'\\x01\\x01\\x00\\x00\\x00\\xb0\\x80|\\xd9!\\xe8O\\xc0A...  out.7360   1   \n3        4  b\"\\x01\\x01\\x00\\x00\\x00u:2F\\x15\\xffO\\xc0\\xce\\xf...  out.8476   1   \n4        5  b'\\x01\\x01\\x00\\x00\\x00\\xcf\\xfd\\x89\\xfci\\xf8O\\x...  out.8485   1   \n\n   originfid   band_0    band_1   band_2    band_3    band_4  ...   band_19  \\\n0         26      NaN       NaN      NaN       NaN       NaN  ...       NaN   \n1       2252  0.52864  0.833700  0.81190  0.836442  0.798558  ...  5.209053   \n2       2855  0.09364  0.286680  0.32240  0.355726  0.227484  ...  1.220818   \n3       3326  0.09192  0.288402  0.38635  0.363033  0.226837  ...  1.182418   \n4       3328  0.16676  0.380328  0.25490  0.430185  0.317554  ...  1.767914   \n\n   band_20   band_21   band_22   band_23   band_24  band_25   band_26  \\\n0      NaN       NaN       NaN       NaN       NaN      NaN       NaN   \n1  3.02225  0.361667  0.867252  0.573316  0.865887   3.4590  0.433533   \n2  1.03600 -0.009247  0.573864 -0.013527  0.380513   2.0955  0.102407   \n3  0.74950 -0.043204  0.585802 -0.061712  0.380720   1.3330  0.147536   \n4  0.38800  0.161189  0.598485  0.235429  0.517596   2.5700  0.063620   \n\n    band_27  tile_file  \n0       NaN      00000  \n1  0.879380      00000  \n2  0.360268      00000  \n3  0.342803      00000  \n4  0.515918      00000  \n\n[5 rows x 34 columns]",
      "text/html": "<div>\n<style scoped>\n    .dataframe tbody tr th:only-of-type {\n        vertical-align: middle;\n    }\n\n    .dataframe tbody tr th {\n        vertical-align: top;\n    }\n\n    .dataframe thead th {\n        text-align: right;\n    }\n</style>\n<table border=\"1\" class=\"dataframe\">\n  <thead>\n    <tr style=\"text-align: right;\">\n      <th></th>\n      <th>ogc_fid</th>\n      <th>GEOMETRY</th>\n      <th>fid</th>\n      <th>dn</th>\n      <th>originfid</th>\n      <th>band_0</th>\n      <th>band_1</th>\n      <th>band_2</th>\n      <th>band_3</th>\n      <th>band_4</th>\n      <th>...</th>\n      <th>band_19</th>\n      <th>band_20</th>\n      <th>band_21</th>\n      <th>band_22</th>\n      <th>band_23</th>\n      <th>band_24</th>\n      <th>band_25</th>\n      <th>band_26</th>\n      <th>band_27</th>\n      <th>tile_file</th>\n    </tr>\n  </thead>\n  <tbody>\n    <tr>\n      <th>0</th>\n      <td>1</td>\n      <td>b'\\x01\\x01\\x00\\x00\\x00\\x86\\xe9\\xb0?&lt;\\xe7O\\xc0\\...</td>\n      <td>out.119</td>\n      <td>1</td>\n      <td>26</td>\n      <td>NaN</td>\n      <td>NaN</td>\n      <td>NaN</td>\n      <td>NaN</td>\n      <td>NaN</td>\n      <td>...</td>\n      <td>NaN</td>\n      <td>NaN</td>\n      <td>NaN</td>\n      <td>NaN</td>\n      <td>NaN</td>\n      <td>NaN</td>\n      <td>NaN</td>\n      <td>NaN</td>\n      <td>NaN</td>\n      <td>00000</td>\n    </tr>\n    <tr>\n      <th>1</th>\n      <td>2</td>\n      <td>b'\\x01\\x01\\x00\\x00\\x00\\x0c1\\x99\\xc1\\xf1\\x00P\\x...</td>\n      <td>out.6054</td>\n      <td>1</td>\n      <td>2252</td>\n      <td>0.52864</td>\n      <td>0.833700</td>\n      <td>0.81190</td>\n      <td>0.836442</td>\n      <td>0.798558</td>\n      <td>...</td>\n      <td>5.209053</td>\n      <td>3.02225</td>\n      <td>0.361667</td>\n      <td>0.867252</td>\n      <td>0.573316</td>\n      <td>0.865887</td>\n      <td>3.4590</td>\n      <td>0.433533</td>\n      <td>0.879380</td>\n      <td>00000</td>\n    </tr>\n    <tr>\n      <th>2</th>\n      <td>3</td>\n      <td>b'\\x01\\x01\\x00\\x00\\x00\\xb0\\x80|\\xd9!\\xe8O\\xc0A...</td>\n      <td>out.7360</td>\n      <td>1</td>\n      <td>2855</td>\n      <td>0.09364</td>\n      <td>0.286680</td>\n      <td>0.32240</td>\n      <td>0.355726</td>\n      <td>0.227484</td>\n      <td>...</td>\n      <td>1.220818</td>\n      <td>1.03600</td>\n      <td>-0.009247</td>\n      <td>0.573864</td>\n      <td>-0.013527</td>\n      <td>0.380513</td>\n      <td>2.0955</td>\n      <td>0.102407</td>\n      <td>0.360268</td>\n      <td>00000</td>\n    </tr>\n    <tr>\n      <th>3</th>\n      <td>4</td>\n      <td>b\"\\x01\\x01\\x00\\x00\\x00u:2F\\x15\\xffO\\xc0\\xce\\xf...</td>\n      <td>out.8476</td>\n      <td>1</td>\n      <td>3326</td>\n      <td>0.09192</td>\n      <td>0.288402</td>\n      <td>0.38635</td>\n      <td>0.363033</td>\n      <td>0.226837</td>\n      <td>...</td>\n      <td>1.182418</td>\n      <td>0.74950</td>\n      <td>-0.043204</td>\n      <td>0.585802</td>\n      <td>-0.061712</td>\n      <td>0.380720</td>\n      <td>1.3330</td>\n      <td>0.147536</td>\n      <td>0.342803</td>\n      <td>00000</td>\n    </tr>\n    <tr>\n      <th>4</th>\n      <td>5</td>\n      <td>b'\\x01\\x01\\x00\\x00\\x00\\xcf\\xfd\\x89\\xfci\\xf8O\\x...</td>\n      <td>out.8485</td>\n      <td>1</td>\n      <td>3328</td>\n      <td>0.16676</td>\n      <td>0.380328</td>\n      <td>0.25490</td>\n      <td>0.430185</td>\n      <td>0.317554</td>\n      <td>...</td>\n      <td>1.767914</td>\n      <td>0.38800</td>\n      <td>0.161189</td>\n      <td>0.598485</td>\n      <td>0.235429</td>\n      <td>0.517596</td>\n      <td>2.5700</td>\n      <td>0.063620</td>\n      <td>0.515918</td>\n      <td>00000</td>\n    </tr>\n  </tbody>\n</table>\n<p>5 rows × 34 columns</p>\n</div>"
     },
     "execution_count": 7,
     "metadata": {},
     "output_type": "execute_result"
    }
   ],
   "source": [
    "pred_data.head()"
   ]
  },
  {
   "cell_type": "markdown",
   "id": "bee6478d-8c03-457b-b12f-f98c3c5712a0",
   "metadata": {
    "pycharm": {
     "name": "#%% md\n"
    }
   },
   "source": [
    "## Agregado de departamentos"
   ]
  },
  {
   "cell_type": "code",
   "execution_count": 8,
   "id": "a5c9954e-54e0-4fe5-b38c-d8854742a093",
   "metadata": {
    "pycharm": {
     "name": "#%%\n"
    }
   },
   "outputs": [],
   "source": [
    "# cambiar según corresponda\n",
    "# deptos_sqlite_files debe contener los .sqlite generados a partir de los departamentos\n",
    "deptos_sqlite_files = glob('../data/selection_departamentos_features/selection_departamentos/*.sqlite')\n",
    "\n",
    "deptos_data = pd.DataFrame()\n",
    "\n",
    "for sf in deptos_sqlite_files:\n",
    "    file_name = os.path.basename(sf)\n",
    "    tile = re.search(r'\\d+',file_name).group()\n",
    "    cnx = connect(sf)\n",
    "    df = pd.read_sql_query(\"SELECT * FROM output\", cnx)\n",
    "    df['tile_file'] = tile\n",
    "    deptos_data = pd.concat([deptos_data, df], ignore_index=True)"
   ]
  },
  {
   "cell_type": "code",
   "execution_count": 9,
   "id": "8eafacb8-82ee-4394-916c-86c8a8da90ef",
   "metadata": {
    "pycharm": {
     "name": "#%%\n"
    }
   },
   "outputs": [],
   "source": [
    "train_data = train_data.merge(deptos_data[['ogc_fid','nombre','tile_file']], how='left', on=['ogc_fid','tile_file'])\n",
    "pred_data = pred_data.merge(deptos_data[['ogc_fid','nombre','tile_file']], how='left', on=['ogc_fid','tile_file'])"
   ]
  },
  {
   "cell_type": "code",
   "execution_count": 10,
   "id": "dcf61bd2-bbdd-4722-886f-74e756bcf773",
   "metadata": {
    "pycharm": {
     "name": "#%%\n"
    }
   },
   "outputs": [],
   "source": [
    "# train_data está dentro de pred_data\n",
    "# saco esas filas de pred_data\n",
    "# así no predecimos con lo mismo con lo que entrenamos\n",
    "\n",
    "merged_data = pred_data.merge(train_data[['ogc_fid','nombre','tile_file','id','cultivo']], how='left', on=['ogc_fid','tile_file','nombre'], indicator=True)\n",
    "train_data = merged_data[merged_data._merge=='both'].drop(columns=['_merge'])\n",
    "pred_data = merged_data[merged_data._merge=='left_only'].drop(columns=['_merge'])"
   ]
  },
  {
   "cell_type": "code",
   "execution_count": 11,
   "id": "bcfdbe9f-69c6-4ce3-99d7-ec659edecd8f",
   "metadata": {
    "pycharm": {
     "name": "#%%\n"
    }
   },
   "outputs": [
    {
     "data": {
      "text/plain": "(466, 37)"
     },
     "execution_count": 11,
     "metadata": {},
     "output_type": "execute_result"
    }
   ],
   "source": [
    "train_data.shape"
   ]
  },
  {
   "cell_type": "code",
   "execution_count": 12,
   "id": "35bc5d4e-63e6-429e-9d8b-103f761bca9c",
   "metadata": {
    "pycharm": {
     "name": "#%%\n"
    }
   },
   "outputs": [
    {
     "data": {
      "text/plain": "(1534, 37)"
     },
     "execution_count": 12,
     "metadata": {},
     "output_type": "execute_result"
    }
   ],
   "source": [
    "pred_data.shape"
   ]
  },
  {
   "cell_type": "markdown",
   "id": "98d309a3-f979-49bf-82a7-2e8b05d195fe",
   "metadata": {
    "pycharm": {
     "name": "#%% md\n"
    }
   },
   "source": [
    "## Entrenamiento del modelo"
   ]
  },
  {
   "cell_type": "code",
   "execution_count": 13,
   "id": "eea57b00-be8e-4751-b4b1-79890ca2c05a",
   "metadata": {
    "pycharm": {
     "name": "#%%\n"
    }
   },
   "outputs": [
    {
     "data": {
      "text/plain": "{1: 'SOJA',\n 2: 'MAIZ',\n 20: 'CAMPONATUR',\n 3: 'MAIZ',\n 5: 'GIRASOL',\n 10: 'ALFALFA',\n 4: 'SOJA'}"
     },
     "execution_count": 13,
     "metadata": {},
     "output_type": "execute_result"
    }
   ],
   "source": [
    "map_id2cultivo = dict((\n",
    "    train_data[['id','cultivo']]\n",
    "    .drop_duplicates()\n",
    "    .assign(id=lambda x: x.id.astype('int'))\n",
    "    .itertuples(index=False, name=None))\n",
    ")\n",
    "map_id2cultivo"
   ]
  },
  {
   "cell_type": "code",
   "execution_count": 14,
   "id": "58db2c36-a013-4133-8282-3a6392787db8",
   "metadata": {
    "pycharm": {
     "name": "#%%\n"
    }
   },
   "outputs": [
    {
     "data": {
      "text/plain": "LabelEncoder()"
     },
     "execution_count": 14,
     "metadata": {},
     "output_type": "execute_result"
    }
   ],
   "source": [
    "le = LabelEncoder()\n",
    "le.fit(train_data.id)"
   ]
  },
  {
   "cell_type": "code",
   "execution_count": 15,
   "id": "ee94fb21-48a6-4f1d-8157-ea254135a894",
   "metadata": {
    "pycharm": {
     "name": "#%%\n"
    }
   },
   "outputs": [
    {
     "data": {
      "text/plain": "{0: 1, 1: 2, 2: 3, 3: 4, 4: 5, 5: 10, 6: 20}"
     },
     "execution_count": 15,
     "metadata": {},
     "output_type": "execute_result"
    }
   ],
   "source": [
    "map_le2id = dict(zip(le.transform(le.classes_), list(map(int,le.classes_))))\n",
    "\n",
    "map_le2id"
   ]
  },
  {
   "cell_type": "code",
   "execution_count": 16,
   "id": "08505a9b-5ec0-4763-a2a2-0e6198b8457a",
   "metadata": {
    "pycharm": {
     "name": "#%%\n"
    }
   },
   "outputs": [
    {
     "data": {
      "text/plain": "   ogc_fid                                           GEOMETRY       fid  dn  \\\n0        1  b'\\x01\\x01\\x00\\x00\\x00\\x86\\xe9\\xb0?<\\xe7O\\xc0\\...   out.119   1   \n1        2  b'\\x01\\x01\\x00\\x00\\x00\\x0c1\\x99\\xc1\\xf1\\x00P\\x...  out.6054   1   \n2        3  b'\\x01\\x01\\x00\\x00\\x00\\xb0\\x80|\\xd9!\\xe8O\\xc0A...  out.7360   1   \n3        4  b\"\\x01\\x01\\x00\\x00\\x00u:2F\\x15\\xffO\\xc0\\xce\\xf...  out.8476   1   \n4        5  b'\\x01\\x01\\x00\\x00\\x00\\xcf\\xfd\\x89\\xfci\\xf8O\\x...  out.8485   1   \n\n   originfid   band_0    band_1   band_2    band_3    band_4  ...   band_23  \\\n0         26      NaN       NaN      NaN       NaN       NaN  ...       NaN   \n1       2252  0.52864  0.833700  0.81190  0.836442  0.798558  ...  0.573316   \n2       2855  0.09364  0.286680  0.32240  0.355726  0.227484  ... -0.013527   \n3       3326  0.09192  0.288402  0.38635  0.363033  0.226837  ... -0.061712   \n4       3328  0.16676  0.380328  0.25490  0.430185  0.317554  ...  0.235429   \n\n    band_24  band_25   band_26   band_27  tile_file        nombre   id  \\\n0       NaN      NaN       NaN       NaN      00000  GENERAL ROCA  1.0   \n1  0.865887   3.4590  0.433533  0.879380      00000  GENERAL ROCA  1.0   \n2  0.380513   2.0955  0.102407  0.360268      00000  GENERAL ROCA  1.0   \n3  0.380720   1.3330  0.147536  0.342803      00000  GENERAL ROCA  1.0   \n4  0.517596   2.5700  0.063620  0.515918      00000  GENERAL ROCA  1.0   \n\n   cultivo  id_le  \n0     SOJA      0  \n1     SOJA      0  \n2     SOJA      0  \n3     SOJA      0  \n4     SOJA      0  \n\n[5 rows x 38 columns]",
      "text/html": "<div>\n<style scoped>\n    .dataframe tbody tr th:only-of-type {\n        vertical-align: middle;\n    }\n\n    .dataframe tbody tr th {\n        vertical-align: top;\n    }\n\n    .dataframe thead th {\n        text-align: right;\n    }\n</style>\n<table border=\"1\" class=\"dataframe\">\n  <thead>\n    <tr style=\"text-align: right;\">\n      <th></th>\n      <th>ogc_fid</th>\n      <th>GEOMETRY</th>\n      <th>fid</th>\n      <th>dn</th>\n      <th>originfid</th>\n      <th>band_0</th>\n      <th>band_1</th>\n      <th>band_2</th>\n      <th>band_3</th>\n      <th>band_4</th>\n      <th>...</th>\n      <th>band_23</th>\n      <th>band_24</th>\n      <th>band_25</th>\n      <th>band_26</th>\n      <th>band_27</th>\n      <th>tile_file</th>\n      <th>nombre</th>\n      <th>id</th>\n      <th>cultivo</th>\n      <th>id_le</th>\n    </tr>\n  </thead>\n  <tbody>\n    <tr>\n      <th>0</th>\n      <td>1</td>\n      <td>b'\\x01\\x01\\x00\\x00\\x00\\x86\\xe9\\xb0?&lt;\\xe7O\\xc0\\...</td>\n      <td>out.119</td>\n      <td>1</td>\n      <td>26</td>\n      <td>NaN</td>\n      <td>NaN</td>\n      <td>NaN</td>\n      <td>NaN</td>\n      <td>NaN</td>\n      <td>...</td>\n      <td>NaN</td>\n      <td>NaN</td>\n      <td>NaN</td>\n      <td>NaN</td>\n      <td>NaN</td>\n      <td>00000</td>\n      <td>GENERAL ROCA</td>\n      <td>1.0</td>\n      <td>SOJA</td>\n      <td>0</td>\n    </tr>\n    <tr>\n      <th>1</th>\n      <td>2</td>\n      <td>b'\\x01\\x01\\x00\\x00\\x00\\x0c1\\x99\\xc1\\xf1\\x00P\\x...</td>\n      <td>out.6054</td>\n      <td>1</td>\n      <td>2252</td>\n      <td>0.52864</td>\n      <td>0.833700</td>\n      <td>0.81190</td>\n      <td>0.836442</td>\n      <td>0.798558</td>\n      <td>...</td>\n      <td>0.573316</td>\n      <td>0.865887</td>\n      <td>3.4590</td>\n      <td>0.433533</td>\n      <td>0.879380</td>\n      <td>00000</td>\n      <td>GENERAL ROCA</td>\n      <td>1.0</td>\n      <td>SOJA</td>\n      <td>0</td>\n    </tr>\n    <tr>\n      <th>2</th>\n      <td>3</td>\n      <td>b'\\x01\\x01\\x00\\x00\\x00\\xb0\\x80|\\xd9!\\xe8O\\xc0A...</td>\n      <td>out.7360</td>\n      <td>1</td>\n      <td>2855</td>\n      <td>0.09364</td>\n      <td>0.286680</td>\n      <td>0.32240</td>\n      <td>0.355726</td>\n      <td>0.227484</td>\n      <td>...</td>\n      <td>-0.013527</td>\n      <td>0.380513</td>\n      <td>2.0955</td>\n      <td>0.102407</td>\n      <td>0.360268</td>\n      <td>00000</td>\n      <td>GENERAL ROCA</td>\n      <td>1.0</td>\n      <td>SOJA</td>\n      <td>0</td>\n    </tr>\n    <tr>\n      <th>3</th>\n      <td>4</td>\n      <td>b\"\\x01\\x01\\x00\\x00\\x00u:2F\\x15\\xffO\\xc0\\xce\\xf...</td>\n      <td>out.8476</td>\n      <td>1</td>\n      <td>3326</td>\n      <td>0.09192</td>\n      <td>0.288402</td>\n      <td>0.38635</td>\n      <td>0.363033</td>\n      <td>0.226837</td>\n      <td>...</td>\n      <td>-0.061712</td>\n      <td>0.380720</td>\n      <td>1.3330</td>\n      <td>0.147536</td>\n      <td>0.342803</td>\n      <td>00000</td>\n      <td>GENERAL ROCA</td>\n      <td>1.0</td>\n      <td>SOJA</td>\n      <td>0</td>\n    </tr>\n    <tr>\n      <th>4</th>\n      <td>5</td>\n      <td>b'\\x01\\x01\\x00\\x00\\x00\\xcf\\xfd\\x89\\xfci\\xf8O\\x...</td>\n      <td>out.8485</td>\n      <td>1</td>\n      <td>3328</td>\n      <td>0.16676</td>\n      <td>0.380328</td>\n      <td>0.25490</td>\n      <td>0.430185</td>\n      <td>0.317554</td>\n      <td>...</td>\n      <td>0.235429</td>\n      <td>0.517596</td>\n      <td>2.5700</td>\n      <td>0.063620</td>\n      <td>0.515918</td>\n      <td>00000</td>\n      <td>GENERAL ROCA</td>\n      <td>1.0</td>\n      <td>SOJA</td>\n      <td>0</td>\n    </tr>\n  </tbody>\n</table>\n<p>5 rows × 38 columns</p>\n</div>"
     },
     "execution_count": 16,
     "metadata": {},
     "output_type": "execute_result"
    }
   ],
   "source": [
    "train_data['id_le'] = le.transform(train_data.id)\n",
    "\n",
    "train_data.head()"
   ]
  },
  {
   "cell_type": "code",
   "execution_count": 17,
   "id": "c5240870-6685-4670-a2aa-f304a7e154e7",
   "metadata": {
    "pycharm": {
     "name": "#%%\n"
    }
   },
   "outputs": [],
   "source": [
    "with open('../model/randomforest_parameters.json','r') as f:\n",
    "    parameters = json.load(f)"
   ]
  },
  {
   "cell_type": "code",
   "execution_count": 20,
   "outputs": [
    {
     "name": "stdout",
     "output_type": "stream",
     "text": [
      "Untitled.ipynb\t\t       randomforest_iter_01.ipynb\r\n",
      "__pycache__\t\t       randomforest_iteration2.ipynb\r\n",
      "convert_csv2tif.ipynb\t       randomforest_iterations.ipynb\r\n",
      "eda_results.ipynb\t       randomforest_iterations3.ipynb\r\n",
      "eval_train.ipynb\t       utilities.py\r\n",
      "randomforest_eval_train.ipynb\r\n"
     ]
    }
   ],
   "source": [
    "!ls"
   ],
   "metadata": {
    "collapsed": false,
    "pycharm": {
     "name": "#%%\n"
    }
   }
  },
  {
   "cell_type": "code",
   "execution_count": 18,
   "outputs": [],
   "source": [
    "thresholds= [0.3,0.4,0.56,0.6, 0.65,0.7,0.8]"
   ],
   "metadata": {
    "collapsed": false,
    "pycharm": {
     "name": "#%%\n"
    }
   }
  },
  {
   "cell_type": "code",
   "execution_count": 19,
   "outputs": [
    {
     "name": "stdout",
     "output_type": "stream",
     "text": [
      "+++++ PREDICCIONES PARA THRESHOLD 0.3\n"
     ]
    },
    {
     "name": "stderr",
     "output_type": "stream",
     "text": [
      "[Parallel(n_jobs=-1)]: Using backend ThreadingBackend with 16 concurrent workers.\n",
      "[Parallel(n_jobs=-1)]: Done  18 tasks      | elapsed:    0.1s\n",
      "[Parallel(n_jobs=-1)]: Done 168 tasks      | elapsed:    0.3s\n",
      "[Parallel(n_jobs=-1)]: Done 418 tasks      | elapsed:    0.8s\n",
      "[Parallel(n_jobs=-1)]: Done 500 out of 500 | elapsed:    0.9s finished\n",
      "[Parallel(n_jobs=16)]: Using backend ThreadingBackend with 16 concurrent workers.\n",
      "[Parallel(n_jobs=16)]: Done  18 tasks      | elapsed:    0.0s\n",
      "[Parallel(n_jobs=16)]: Done 168 tasks      | elapsed:    0.1s\n",
      "[Parallel(n_jobs=16)]: Done 418 tasks      | elapsed:    0.1s\n",
      "[Parallel(n_jobs=16)]: Done 500 out of 500 | elapsed:    0.2s finished\n"
     ]
    },
    {
     "name": "stdout",
     "output_type": "stream",
     "text": [
      "\n",
      "*** ITERACIÓN #000\n",
      "        - Modelo guardado en ../model/threshhold_0.3/randomforest_iterations_000/model_000.joblib\n",
      "        - Probabilidades guardadas en ../model/threshhold_0.3/randomforest_iterations_000/probas_000.npy\n",
      "        - Pixeles de entrenamiento: 466\n",
      "        - Pixeles con proba>=0.3: 1368\n",
      "        - Pixeles con proba<0.3: 166\n"
     ]
    },
    {
     "name": "stderr",
     "output_type": "stream",
     "text": [
      "[Parallel(n_jobs=-1)]: Using backend ThreadingBackend with 16 concurrent workers.\n",
      "[Parallel(n_jobs=-1)]: Done  18 tasks      | elapsed:    0.1s\n",
      "[Parallel(n_jobs=-1)]: Done 168 tasks      | elapsed:    0.7s\n",
      "[Parallel(n_jobs=-1)]: Done 418 tasks      | elapsed:    1.7s\n",
      "[Parallel(n_jobs=-1)]: Done 500 out of 500 | elapsed:    2.0s finished\n",
      "[Parallel(n_jobs=16)]: Using backend ThreadingBackend with 16 concurrent workers.\n",
      "[Parallel(n_jobs=16)]: Done  18 tasks      | elapsed:    0.0s\n",
      "[Parallel(n_jobs=16)]: Done 168 tasks      | elapsed:    0.1s\n",
      "[Parallel(n_jobs=16)]: Done 418 tasks      | elapsed:    0.1s\n",
      "[Parallel(n_jobs=16)]: Done 500 out of 500 | elapsed:    0.1s finished\n"
     ]
    },
    {
     "name": "stdout",
     "output_type": "stream",
     "text": [
      "\n",
      "*** ITERACIÓN #001\n",
      "        - Modelo guardado en ../model/threshhold_0.3/randomforest_iterations_001/model_001.joblib\n",
      "        - Probabilidades guardadas en ../model/threshhold_0.3/randomforest_iterations_001/probas_001.npy\n",
      "        - Pixeles de entrenamiento: 1834\n",
      "        - Pixeles con proba>=0.3: 166\n",
      "        - Pixeles con proba<0.3: 0\n",
      "+++++ PREDICCIONES PARA THRESHOLD 0.4\n"
     ]
    },
    {
     "name": "stderr",
     "output_type": "stream",
     "text": [
      "[Parallel(n_jobs=-1)]: Using backend ThreadingBackend with 16 concurrent workers.\n",
      "[Parallel(n_jobs=-1)]: Done  18 tasks      | elapsed:    0.1s\n",
      "[Parallel(n_jobs=-1)]: Done 168 tasks      | elapsed:    0.3s\n",
      "[Parallel(n_jobs=-1)]: Done 418 tasks      | elapsed:    0.8s\n",
      "[Parallel(n_jobs=-1)]: Done 500 out of 500 | elapsed:    1.0s finished\n",
      "[Parallel(n_jobs=16)]: Using backend ThreadingBackend with 16 concurrent workers.\n",
      "[Parallel(n_jobs=16)]: Done  18 tasks      | elapsed:    0.0s\n",
      "[Parallel(n_jobs=16)]: Done 168 tasks      | elapsed:    0.1s\n",
      "[Parallel(n_jobs=16)]: Done 418 tasks      | elapsed:    0.1s\n",
      "[Parallel(n_jobs=16)]: Done 500 out of 500 | elapsed:    0.2s finished\n"
     ]
    },
    {
     "name": "stdout",
     "output_type": "stream",
     "text": [
      "\n",
      "*** ITERACIÓN #000\n",
      "        - Modelo guardado en ../model/threshhold_0.4/randomforest_iterations_000/model_000.joblib\n",
      "        - Probabilidades guardadas en ../model/threshhold_0.4/randomforest_iterations_000/probas_000.npy\n",
      "        - Pixeles de entrenamiento: 466\n",
      "        - Pixeles con proba>=0.4: 487\n",
      "        - Pixeles con proba<0.4: 1047\n"
     ]
    },
    {
     "name": "stderr",
     "output_type": "stream",
     "text": [
      "[Parallel(n_jobs=-1)]: Using backend ThreadingBackend with 16 concurrent workers.\n",
      "[Parallel(n_jobs=-1)]: Done  18 tasks      | elapsed:    0.1s\n",
      "[Parallel(n_jobs=-1)]: Done 168 tasks      | elapsed:    0.5s\n",
      "[Parallel(n_jobs=-1)]: Done 418 tasks      | elapsed:    1.2s\n",
      "[Parallel(n_jobs=-1)]: Done 500 out of 500 | elapsed:    1.3s finished\n",
      "[Parallel(n_jobs=16)]: Using backend ThreadingBackend with 16 concurrent workers.\n",
      "[Parallel(n_jobs=16)]: Done  18 tasks      | elapsed:    0.0s\n",
      "[Parallel(n_jobs=16)]: Done 168 tasks      | elapsed:    0.1s\n",
      "[Parallel(n_jobs=16)]: Done 418 tasks      | elapsed:    0.1s\n",
      "[Parallel(n_jobs=16)]: Done 500 out of 500 | elapsed:    0.1s finished\n"
     ]
    },
    {
     "name": "stdout",
     "output_type": "stream",
     "text": [
      "\n",
      "*** ITERACIÓN #001\n",
      "        - Modelo guardado en ../model/threshhold_0.4/randomforest_iterations_001/model_001.joblib\n",
      "        - Probabilidades guardadas en ../model/threshhold_0.4/randomforest_iterations_001/probas_001.npy\n",
      "        - Pixeles de entrenamiento: 953\n",
      "        - Pixeles con proba>=0.4: 835\n",
      "        - Pixeles con proba<0.4: 212\n"
     ]
    },
    {
     "name": "stderr",
     "output_type": "stream",
     "text": [
      "[Parallel(n_jobs=-1)]: Using backend ThreadingBackend with 16 concurrent workers.\n",
      "[Parallel(n_jobs=-1)]: Done  18 tasks      | elapsed:    0.1s\n",
      "[Parallel(n_jobs=-1)]: Done 168 tasks      | elapsed:    0.7s\n",
      "[Parallel(n_jobs=-1)]: Done 418 tasks      | elapsed:    1.6s\n",
      "[Parallel(n_jobs=-1)]: Done 500 out of 500 | elapsed:    1.9s finished\n",
      "[Parallel(n_jobs=16)]: Using backend ThreadingBackend with 16 concurrent workers.\n",
      "[Parallel(n_jobs=16)]: Done  18 tasks      | elapsed:    0.0s\n",
      "[Parallel(n_jobs=16)]: Done 168 tasks      | elapsed:    0.0s\n",
      "[Parallel(n_jobs=16)]: Done 418 tasks      | elapsed:    0.1s\n",
      "[Parallel(n_jobs=16)]: Done 500 out of 500 | elapsed:    0.1s finished\n"
     ]
    },
    {
     "name": "stdout",
     "output_type": "stream",
     "text": [
      "\n",
      "*** ITERACIÓN #002\n",
      "        - Modelo guardado en ../model/threshhold_0.4/randomforest_iterations_002/model_002.joblib\n",
      "        - Probabilidades guardadas en ../model/threshhold_0.4/randomforest_iterations_002/probas_002.npy\n",
      "        - Pixeles de entrenamiento: 1788\n",
      "        - Pixeles con proba>=0.4: 176\n",
      "        - Pixeles con proba<0.4: 36\n"
     ]
    },
    {
     "name": "stderr",
     "output_type": "stream",
     "text": [
      "[Parallel(n_jobs=-1)]: Using backend ThreadingBackend with 16 concurrent workers.\n",
      "[Parallel(n_jobs=-1)]: Done  18 tasks      | elapsed:    0.1s\n",
      "[Parallel(n_jobs=-1)]: Done 168 tasks      | elapsed:    0.7s\n",
      "[Parallel(n_jobs=-1)]: Done 418 tasks      | elapsed:    1.7s\n",
      "[Parallel(n_jobs=-1)]: Done 500 out of 500 | elapsed:    2.0s finished\n",
      "[Parallel(n_jobs=16)]: Using backend ThreadingBackend with 16 concurrent workers.\n",
      "[Parallel(n_jobs=16)]: Done  18 tasks      | elapsed:    0.0s\n",
      "[Parallel(n_jobs=16)]: Done 168 tasks      | elapsed:    0.0s\n",
      "[Parallel(n_jobs=16)]: Done 418 tasks      | elapsed:    0.1s\n",
      "[Parallel(n_jobs=16)]: Done 500 out of 500 | elapsed:    0.1s finished\n"
     ]
    },
    {
     "name": "stdout",
     "output_type": "stream",
     "text": [
      "\n",
      "*** ITERACIÓN #003\n",
      "        - Modelo guardado en ../model/threshhold_0.4/randomforest_iterations_003/model_003.joblib\n",
      "        - Probabilidades guardadas en ../model/threshhold_0.4/randomforest_iterations_003/probas_003.npy\n",
      "        - Pixeles de entrenamiento: 1964\n",
      "        - Pixeles con proba>=0.4: 26\n",
      "        - Pixeles con proba<0.4: 10\n"
     ]
    },
    {
     "name": "stderr",
     "output_type": "stream",
     "text": [
      "[Parallel(n_jobs=-1)]: Using backend ThreadingBackend with 16 concurrent workers.\n",
      "[Parallel(n_jobs=-1)]: Done  18 tasks      | elapsed:    0.1s\n",
      "[Parallel(n_jobs=-1)]: Done 168 tasks      | elapsed:    0.7s\n",
      "[Parallel(n_jobs=-1)]: Done 418 tasks      | elapsed:    1.7s\n",
      "[Parallel(n_jobs=-1)]: Done 500 out of 500 | elapsed:    2.0s finished\n",
      "[Parallel(n_jobs=16)]: Using backend ThreadingBackend with 16 concurrent workers.\n",
      "[Parallel(n_jobs=16)]: Done  18 tasks      | elapsed:    0.0s\n",
      "[Parallel(n_jobs=16)]: Done 168 tasks      | elapsed:    0.0s\n",
      "[Parallel(n_jobs=16)]: Done 418 tasks      | elapsed:    0.1s\n",
      "[Parallel(n_jobs=16)]: Done 500 out of 500 | elapsed:    0.1s finished\n"
     ]
    },
    {
     "name": "stdout",
     "output_type": "stream",
     "text": [
      "\n",
      "*** ITERACIÓN #004\n",
      "        - Modelo guardado en ../model/threshhold_0.4/randomforest_iterations_004/model_004.joblib\n",
      "        - Probabilidades guardadas en ../model/threshhold_0.4/randomforest_iterations_004/probas_004.npy\n",
      "        - Pixeles de entrenamiento: 1990\n",
      "        - Pixeles con proba>=0.4: 3\n",
      "        - Pixeles con proba<0.4: 7\n"
     ]
    },
    {
     "name": "stderr",
     "output_type": "stream",
     "text": [
      "[Parallel(n_jobs=-1)]: Using backend ThreadingBackend with 16 concurrent workers.\n",
      "[Parallel(n_jobs=-1)]: Done  18 tasks      | elapsed:    0.1s\n",
      "[Parallel(n_jobs=-1)]: Done 168 tasks      | elapsed:    0.7s\n",
      "[Parallel(n_jobs=-1)]: Done 418 tasks      | elapsed:    1.8s\n",
      "[Parallel(n_jobs=-1)]: Done 500 out of 500 | elapsed:    2.1s finished\n",
      "[Parallel(n_jobs=16)]: Using backend ThreadingBackend with 16 concurrent workers.\n",
      "[Parallel(n_jobs=16)]: Done  18 tasks      | elapsed:    0.0s\n",
      "[Parallel(n_jobs=16)]: Done 168 tasks      | elapsed:    0.0s\n",
      "[Parallel(n_jobs=16)]: Done 418 tasks      | elapsed:    0.1s\n",
      "[Parallel(n_jobs=16)]: Done 500 out of 500 | elapsed:    0.1s finished\n"
     ]
    },
    {
     "name": "stdout",
     "output_type": "stream",
     "text": [
      "\n",
      "*** ITERACIÓN #005\n",
      "        - Modelo guardado en ../model/threshhold_0.4/randomforest_iterations_005/model_005.joblib\n",
      "        - Probabilidades guardadas en ../model/threshhold_0.4/randomforest_iterations_005/probas_005.npy\n",
      "        - Pixeles de entrenamiento: 1993\n",
      "        - Pixeles con proba>=0.4: 1\n",
      "        - Pixeles con proba<0.4: 6\n"
     ]
    },
    {
     "name": "stderr",
     "output_type": "stream",
     "text": [
      "[Parallel(n_jobs=-1)]: Using backend ThreadingBackend with 16 concurrent workers.\n",
      "[Parallel(n_jobs=-1)]: Done  18 tasks      | elapsed:    0.1s\n",
      "[Parallel(n_jobs=-1)]: Done 168 tasks      | elapsed:    0.7s\n",
      "[Parallel(n_jobs=-1)]: Done 418 tasks      | elapsed:    1.7s\n",
      "[Parallel(n_jobs=-1)]: Done 500 out of 500 | elapsed:    2.0s finished\n",
      "[Parallel(n_jobs=16)]: Using backend ThreadingBackend with 16 concurrent workers.\n",
      "[Parallel(n_jobs=16)]: Done  18 tasks      | elapsed:    0.0s\n",
      "[Parallel(n_jobs=16)]: Done 168 tasks      | elapsed:    0.0s\n",
      "[Parallel(n_jobs=16)]: Done 418 tasks      | elapsed:    0.1s\n",
      "[Parallel(n_jobs=16)]: Done 500 out of 500 | elapsed:    0.1s finished\n"
     ]
    },
    {
     "name": "stdout",
     "output_type": "stream",
     "text": [
      "\n",
      "*** ITERACIÓN #006\n",
      "        - Modelo guardado en ../model/threshhold_0.4/randomforest_iterations_006/model_006.joblib\n",
      "        - Probabilidades guardadas en ../model/threshhold_0.4/randomforest_iterations_006/probas_006.npy\n",
      "        - Pixeles de entrenamiento: 1994\n",
      "        - Pixeles con proba>=0.4: 1\n",
      "        - Pixeles con proba<0.4: 5\n"
     ]
    },
    {
     "name": "stderr",
     "output_type": "stream",
     "text": [
      "[Parallel(n_jobs=-1)]: Using backend ThreadingBackend with 16 concurrent workers.\n",
      "[Parallel(n_jobs=-1)]: Done  18 tasks      | elapsed:    0.1s\n",
      "[Parallel(n_jobs=-1)]: Done 168 tasks      | elapsed:    0.7s\n",
      "[Parallel(n_jobs=-1)]: Done 418 tasks      | elapsed:    1.7s\n",
      "[Parallel(n_jobs=-1)]: Done 500 out of 500 | elapsed:    2.0s finished\n",
      "[Parallel(n_jobs=16)]: Using backend ThreadingBackend with 16 concurrent workers.\n",
      "[Parallel(n_jobs=16)]: Done  18 tasks      | elapsed:    0.0s\n",
      "[Parallel(n_jobs=16)]: Done 168 tasks      | elapsed:    0.0s\n",
      "[Parallel(n_jobs=16)]: Done 418 tasks      | elapsed:    0.1s\n",
      "[Parallel(n_jobs=16)]: Done 500 out of 500 | elapsed:    0.1s finished\n"
     ]
    },
    {
     "name": "stdout",
     "output_type": "stream",
     "text": [
      "\n",
      "*** ITERACIÓN #007\n",
      "        - Modelo guardado en ../model/threshhold_0.4/randomforest_iterations_007/model_007.joblib\n",
      "        - Probabilidades guardadas en ../model/threshhold_0.4/randomforest_iterations_007/probas_007.npy\n",
      "        - Pixeles de entrenamiento: 1995\n",
      "        - Pixeles con proba>=0.4: 0\n",
      "        - Pixeles con proba<0.4: 5\n",
      "+++++ PREDICCIONES PARA THRESHOLD 0.56\n"
     ]
    },
    {
     "name": "stderr",
     "output_type": "stream",
     "text": [
      "[Parallel(n_jobs=-1)]: Using backend ThreadingBackend with 16 concurrent workers.\n",
      "[Parallel(n_jobs=-1)]: Done  18 tasks      | elapsed:    0.1s\n",
      "[Parallel(n_jobs=-1)]: Done 168 tasks      | elapsed:    0.3s\n",
      "[Parallel(n_jobs=-1)]: Done 418 tasks      | elapsed:    0.8s\n",
      "[Parallel(n_jobs=-1)]: Done 500 out of 500 | elapsed:    0.9s finished\n",
      "[Parallel(n_jobs=16)]: Using backend ThreadingBackend with 16 concurrent workers.\n",
      "[Parallel(n_jobs=16)]: Done  18 tasks      | elapsed:    0.0s\n",
      "[Parallel(n_jobs=16)]: Done 168 tasks      | elapsed:    0.1s\n",
      "[Parallel(n_jobs=16)]: Done 418 tasks      | elapsed:    0.1s\n",
      "[Parallel(n_jobs=16)]: Done 500 out of 500 | elapsed:    0.2s finished\n"
     ]
    },
    {
     "name": "stdout",
     "output_type": "stream",
     "text": [
      "\n",
      "*** ITERACIÓN #000\n",
      "        - Modelo guardado en ../model/threshhold_0.56/randomforest_iterations_000/model_000.joblib\n",
      "        - Probabilidades guardadas en ../model/threshhold_0.56/randomforest_iterations_000/probas_000.npy\n",
      "        - Pixeles de entrenamiento: 466\n",
      "        - Pixeles con proba>=0.56: 77\n",
      "        - Pixeles con proba<0.56: 1457\n"
     ]
    },
    {
     "name": "stderr",
     "output_type": "stream",
     "text": [
      "[Parallel(n_jobs=-1)]: Using backend ThreadingBackend with 16 concurrent workers.\n",
      "[Parallel(n_jobs=-1)]: Done  18 tasks      | elapsed:    0.1s\n",
      "[Parallel(n_jobs=-1)]: Done 168 tasks      | elapsed:    0.4s\n",
      "[Parallel(n_jobs=-1)]: Done 418 tasks      | elapsed:    0.9s\n",
      "[Parallel(n_jobs=-1)]: Done 500 out of 500 | elapsed:    1.1s finished\n",
      "[Parallel(n_jobs=16)]: Using backend ThreadingBackend with 16 concurrent workers.\n",
      "[Parallel(n_jobs=16)]: Done  18 tasks      | elapsed:    0.0s\n",
      "[Parallel(n_jobs=16)]: Done 168 tasks      | elapsed:    0.1s\n",
      "[Parallel(n_jobs=16)]: Done 418 tasks      | elapsed:    0.1s\n",
      "[Parallel(n_jobs=16)]: Done 500 out of 500 | elapsed:    0.2s finished\n"
     ]
    },
    {
     "name": "stdout",
     "output_type": "stream",
     "text": [
      "\n",
      "*** ITERACIÓN #001\n",
      "        - Modelo guardado en ../model/threshhold_0.56/randomforest_iterations_001/model_001.joblib\n",
      "        - Probabilidades guardadas en ../model/threshhold_0.56/randomforest_iterations_001/probas_001.npy\n",
      "        - Pixeles de entrenamiento: 543\n",
      "        - Pixeles con proba>=0.56: 97\n",
      "        - Pixeles con proba<0.56: 1360\n"
     ]
    },
    {
     "name": "stderr",
     "output_type": "stream",
     "text": [
      "[Parallel(n_jobs=-1)]: Using backend ThreadingBackend with 16 concurrent workers.\n",
      "[Parallel(n_jobs=-1)]: Done  18 tasks      | elapsed:    0.1s\n",
      "[Parallel(n_jobs=-1)]: Done 168 tasks      | elapsed:    0.4s\n",
      "[Parallel(n_jobs=-1)]: Done 418 tasks      | elapsed:    1.0s\n",
      "[Parallel(n_jobs=-1)]: Done 500 out of 500 | elapsed:    1.2s finished\n",
      "[Parallel(n_jobs=16)]: Using backend ThreadingBackend with 16 concurrent workers.\n",
      "[Parallel(n_jobs=16)]: Done  18 tasks      | elapsed:    0.0s\n",
      "[Parallel(n_jobs=16)]: Done 168 tasks      | elapsed:    0.1s\n",
      "[Parallel(n_jobs=16)]: Done 418 tasks      | elapsed:    0.1s\n",
      "[Parallel(n_jobs=16)]: Done 500 out of 500 | elapsed:    0.2s finished\n"
     ]
    },
    {
     "name": "stdout",
     "output_type": "stream",
     "text": [
      "\n",
      "*** ITERACIÓN #002\n",
      "        - Modelo guardado en ../model/threshhold_0.56/randomforest_iterations_002/model_002.joblib\n",
      "        - Probabilidades guardadas en ../model/threshhold_0.56/randomforest_iterations_002/probas_002.npy\n",
      "        - Pixeles de entrenamiento: 640\n",
      "        - Pixeles con proba>=0.56: 109\n",
      "        - Pixeles con proba<0.56: 1251\n"
     ]
    },
    {
     "name": "stderr",
     "output_type": "stream",
     "text": [
      "[Parallel(n_jobs=-1)]: Using backend ThreadingBackend with 16 concurrent workers.\n",
      "[Parallel(n_jobs=-1)]: Done  18 tasks      | elapsed:    0.1s\n",
      "[Parallel(n_jobs=-1)]: Done 168 tasks      | elapsed:    0.4s\n",
      "[Parallel(n_jobs=-1)]: Done 418 tasks      | elapsed:    1.0s\n",
      "[Parallel(n_jobs=-1)]: Done 500 out of 500 | elapsed:    1.2s finished\n",
      "[Parallel(n_jobs=16)]: Using backend ThreadingBackend with 16 concurrent workers.\n",
      "[Parallel(n_jobs=16)]: Done  18 tasks      | elapsed:    0.0s\n",
      "[Parallel(n_jobs=16)]: Done 168 tasks      | elapsed:    0.1s\n",
      "[Parallel(n_jobs=16)]: Done 418 tasks      | elapsed:    0.1s\n",
      "[Parallel(n_jobs=16)]: Done 500 out of 500 | elapsed:    0.2s finished\n"
     ]
    },
    {
     "name": "stdout",
     "output_type": "stream",
     "text": [
      "\n",
      "*** ITERACIÓN #003\n",
      "        - Modelo guardado en ../model/threshhold_0.56/randomforest_iterations_003/model_003.joblib\n",
      "        - Probabilidades guardadas en ../model/threshhold_0.56/randomforest_iterations_003/probas_003.npy\n",
      "        - Pixeles de entrenamiento: 749\n",
      "        - Pixeles con proba>=0.56: 117\n",
      "        - Pixeles con proba<0.56: 1134\n"
     ]
    },
    {
     "name": "stderr",
     "output_type": "stream",
     "text": [
      "[Parallel(n_jobs=-1)]: Using backend ThreadingBackend with 16 concurrent workers.\n",
      "[Parallel(n_jobs=-1)]: Done  18 tasks      | elapsed:    0.1s\n",
      "[Parallel(n_jobs=-1)]: Done 168 tasks      | elapsed:    0.4s\n",
      "[Parallel(n_jobs=-1)]: Done 418 tasks      | elapsed:    1.1s\n",
      "[Parallel(n_jobs=-1)]: Done 500 out of 500 | elapsed:    1.3s finished\n",
      "[Parallel(n_jobs=16)]: Using backend ThreadingBackend with 16 concurrent workers.\n",
      "[Parallel(n_jobs=16)]: Done  18 tasks      | elapsed:    0.0s\n",
      "[Parallel(n_jobs=16)]: Done 168 tasks      | elapsed:    0.1s\n",
      "[Parallel(n_jobs=16)]: Done 418 tasks      | elapsed:    0.1s\n",
      "[Parallel(n_jobs=16)]: Done 500 out of 500 | elapsed:    0.2s finished\n"
     ]
    },
    {
     "name": "stdout",
     "output_type": "stream",
     "text": [
      "\n",
      "*** ITERACIÓN #004\n",
      "        - Modelo guardado en ../model/threshhold_0.56/randomforest_iterations_004/model_004.joblib\n",
      "        - Probabilidades guardadas en ../model/threshhold_0.56/randomforest_iterations_004/probas_004.npy\n",
      "        - Pixeles de entrenamiento: 866\n",
      "        - Pixeles con proba>=0.56: 128\n",
      "        - Pixeles con proba<0.56: 1006\n"
     ]
    },
    {
     "name": "stderr",
     "output_type": "stream",
     "text": [
      "[Parallel(n_jobs=-1)]: Using backend ThreadingBackend with 16 concurrent workers.\n",
      "[Parallel(n_jobs=-1)]: Done  18 tasks      | elapsed:    0.1s\n",
      "[Parallel(n_jobs=-1)]: Done 168 tasks      | elapsed:    0.5s\n",
      "[Parallel(n_jobs=-1)]: Done 418 tasks      | elapsed:    1.1s\n",
      "[Parallel(n_jobs=-1)]: Done 500 out of 500 | elapsed:    1.3s finished\n",
      "[Parallel(n_jobs=16)]: Using backend ThreadingBackend with 16 concurrent workers.\n",
      "[Parallel(n_jobs=16)]: Done  18 tasks      | elapsed:    0.0s\n",
      "[Parallel(n_jobs=16)]: Done 168 tasks      | elapsed:    0.1s\n",
      "[Parallel(n_jobs=16)]: Done 418 tasks      | elapsed:    0.1s\n",
      "[Parallel(n_jobs=16)]: Done 500 out of 500 | elapsed:    0.2s finished\n"
     ]
    },
    {
     "name": "stdout",
     "output_type": "stream",
     "text": [
      "\n",
      "*** ITERACIÓN #005\n",
      "        - Modelo guardado en ../model/threshhold_0.56/randomforest_iterations_005/model_005.joblib\n",
      "        - Probabilidades guardadas en ../model/threshhold_0.56/randomforest_iterations_005/probas_005.npy\n",
      "        - Pixeles de entrenamiento: 994\n",
      "        - Pixeles con proba>=0.56: 142\n",
      "        - Pixeles con proba<0.56: 864\n"
     ]
    },
    {
     "name": "stderr",
     "output_type": "stream",
     "text": [
      "[Parallel(n_jobs=-1)]: Using backend ThreadingBackend with 16 concurrent workers.\n",
      "[Parallel(n_jobs=-1)]: Done  18 tasks      | elapsed:    0.1s\n",
      "[Parallel(n_jobs=-1)]: Done 168 tasks      | elapsed:    0.5s\n",
      "[Parallel(n_jobs=-1)]: Done 418 tasks      | elapsed:    1.2s\n",
      "[Parallel(n_jobs=-1)]: Done 500 out of 500 | elapsed:    1.4s finished\n",
      "[Parallel(n_jobs=16)]: Using backend ThreadingBackend with 16 concurrent workers.\n",
      "[Parallel(n_jobs=16)]: Done  18 tasks      | elapsed:    0.0s\n",
      "[Parallel(n_jobs=16)]: Done 168 tasks      | elapsed:    0.1s\n",
      "[Parallel(n_jobs=16)]: Done 418 tasks      | elapsed:    0.1s\n",
      "[Parallel(n_jobs=16)]: Done 500 out of 500 | elapsed:    0.1s finished\n"
     ]
    },
    {
     "name": "stdout",
     "output_type": "stream",
     "text": [
      "\n",
      "*** ITERACIÓN #006\n",
      "        - Modelo guardado en ../model/threshhold_0.56/randomforest_iterations_006/model_006.joblib\n",
      "        - Probabilidades guardadas en ../model/threshhold_0.56/randomforest_iterations_006/probas_006.npy\n",
      "        - Pixeles de entrenamiento: 1136\n",
      "        - Pixeles con proba>=0.56: 161\n",
      "        - Pixeles con proba<0.56: 703\n"
     ]
    },
    {
     "name": "stderr",
     "output_type": "stream",
     "text": [
      "[Parallel(n_jobs=-1)]: Using backend ThreadingBackend with 16 concurrent workers.\n",
      "[Parallel(n_jobs=-1)]: Done  18 tasks      | elapsed:    0.1s\n",
      "[Parallel(n_jobs=-1)]: Done 168 tasks      | elapsed:    0.6s\n",
      "[Parallel(n_jobs=-1)]: Done 418 tasks      | elapsed:    1.3s\n",
      "[Parallel(n_jobs=-1)]: Done 500 out of 500 | elapsed:    1.5s finished\n",
      "[Parallel(n_jobs=16)]: Using backend ThreadingBackend with 16 concurrent workers.\n",
      "[Parallel(n_jobs=16)]: Done  18 tasks      | elapsed:    0.0s\n",
      "[Parallel(n_jobs=16)]: Done 168 tasks      | elapsed:    0.1s\n",
      "[Parallel(n_jobs=16)]: Done 418 tasks      | elapsed:    0.1s\n",
      "[Parallel(n_jobs=16)]: Done 500 out of 500 | elapsed:    0.1s finished\n"
     ]
    },
    {
     "name": "stdout",
     "output_type": "stream",
     "text": [
      "\n",
      "*** ITERACIÓN #007\n",
      "        - Modelo guardado en ../model/threshhold_0.56/randomforest_iterations_007/model_007.joblib\n",
      "        - Probabilidades guardadas en ../model/threshhold_0.56/randomforest_iterations_007/probas_007.npy\n",
      "        - Pixeles de entrenamiento: 1297\n",
      "        - Pixeles con proba>=0.56: 108\n",
      "        - Pixeles con proba<0.56: 595\n"
     ]
    },
    {
     "name": "stderr",
     "output_type": "stream",
     "text": [
      "[Parallel(n_jobs=-1)]: Using backend ThreadingBackend with 16 concurrent workers.\n",
      "[Parallel(n_jobs=-1)]: Done  18 tasks      | elapsed:    0.1s\n",
      "[Parallel(n_jobs=-1)]: Done 168 tasks      | elapsed:    0.6s\n",
      "[Parallel(n_jobs=-1)]: Done 418 tasks      | elapsed:    1.4s\n",
      "[Parallel(n_jobs=-1)]: Done 500 out of 500 | elapsed:    1.6s finished\n",
      "[Parallel(n_jobs=16)]: Using backend ThreadingBackend with 16 concurrent workers.\n",
      "[Parallel(n_jobs=16)]: Done  18 tasks      | elapsed:    0.0s\n",
      "[Parallel(n_jobs=16)]: Done 168 tasks      | elapsed:    0.1s\n",
      "[Parallel(n_jobs=16)]: Done 418 tasks      | elapsed:    0.1s\n",
      "[Parallel(n_jobs=16)]: Done 500 out of 500 | elapsed:    0.1s finished\n"
     ]
    },
    {
     "name": "stdout",
     "output_type": "stream",
     "text": [
      "\n",
      "*** ITERACIÓN #008\n",
      "        - Modelo guardado en ../model/threshhold_0.56/randomforest_iterations_008/model_008.joblib\n",
      "        - Probabilidades guardadas en ../model/threshhold_0.56/randomforest_iterations_008/probas_008.npy\n",
      "        - Pixeles de entrenamiento: 1405\n",
      "        - Pixeles con proba>=0.56: 87\n",
      "        - Pixeles con proba<0.56: 508\n"
     ]
    },
    {
     "name": "stderr",
     "output_type": "stream",
     "text": [
      "[Parallel(n_jobs=-1)]: Using backend ThreadingBackend with 16 concurrent workers.\n",
      "[Parallel(n_jobs=-1)]: Done  18 tasks      | elapsed:    0.1s\n",
      "[Parallel(n_jobs=-1)]: Done 168 tasks      | elapsed:    0.6s\n",
      "[Parallel(n_jobs=-1)]: Done 418 tasks      | elapsed:    1.4s\n",
      "[Parallel(n_jobs=-1)]: Done 500 out of 500 | elapsed:    1.7s finished\n",
      "[Parallel(n_jobs=16)]: Using backend ThreadingBackend with 16 concurrent workers.\n",
      "[Parallel(n_jobs=16)]: Done  18 tasks      | elapsed:    0.0s\n",
      "[Parallel(n_jobs=16)]: Done 168 tasks      | elapsed:    0.1s\n",
      "[Parallel(n_jobs=16)]: Done 418 tasks      | elapsed:    0.1s\n",
      "[Parallel(n_jobs=16)]: Done 500 out of 500 | elapsed:    0.1s finished\n"
     ]
    },
    {
     "name": "stdout",
     "output_type": "stream",
     "text": [
      "\n",
      "*** ITERACIÓN #009\n",
      "        - Modelo guardado en ../model/threshhold_0.56/randomforest_iterations_009/model_009.joblib\n",
      "        - Probabilidades guardadas en ../model/threshhold_0.56/randomforest_iterations_009/probas_009.npy\n",
      "        - Pixeles de entrenamiento: 1492\n",
      "        - Pixeles con proba>=0.56: 51\n",
      "        - Pixeles con proba<0.56: 457\n"
     ]
    },
    {
     "name": "stderr",
     "output_type": "stream",
     "text": [
      "[Parallel(n_jobs=-1)]: Using backend ThreadingBackend with 16 concurrent workers.\n",
      "[Parallel(n_jobs=-1)]: Done  18 tasks      | elapsed:    0.1s\n",
      "[Parallel(n_jobs=-1)]: Done 168 tasks      | elapsed:    0.6s\n",
      "[Parallel(n_jobs=-1)]: Done 418 tasks      | elapsed:    1.5s\n",
      "[Parallel(n_jobs=-1)]: Done 500 out of 500 | elapsed:    1.7s finished\n",
      "[Parallel(n_jobs=16)]: Using backend ThreadingBackend with 16 concurrent workers.\n",
      "[Parallel(n_jobs=16)]: Done  18 tasks      | elapsed:    0.0s\n",
      "[Parallel(n_jobs=16)]: Done 168 tasks      | elapsed:    0.0s\n",
      "[Parallel(n_jobs=16)]: Done 418 tasks      | elapsed:    0.1s\n",
      "[Parallel(n_jobs=16)]: Done 500 out of 500 | elapsed:    0.1s finished\n"
     ]
    },
    {
     "name": "stdout",
     "output_type": "stream",
     "text": [
      "\n",
      "*** ITERACIÓN #010\n",
      "        - Modelo guardado en ../model/threshhold_0.56/randomforest_iterations_010/model_010.joblib\n",
      "        - Probabilidades guardadas en ../model/threshhold_0.56/randomforest_iterations_010/probas_010.npy\n",
      "        - Pixeles de entrenamiento: 1543\n",
      "        - Pixeles con proba>=0.56: 31\n",
      "        - Pixeles con proba<0.56: 426\n"
     ]
    },
    {
     "name": "stderr",
     "output_type": "stream",
     "text": [
      "[Parallel(n_jobs=-1)]: Using backend ThreadingBackend with 16 concurrent workers.\n",
      "[Parallel(n_jobs=-1)]: Done  18 tasks      | elapsed:    0.1s\n",
      "[Parallel(n_jobs=-1)]: Done 168 tasks      | elapsed:    0.6s\n",
      "[Parallel(n_jobs=-1)]: Done 418 tasks      | elapsed:    1.4s\n",
      "[Parallel(n_jobs=-1)]: Done 500 out of 500 | elapsed:    1.7s finished\n",
      "[Parallel(n_jobs=16)]: Using backend ThreadingBackend with 16 concurrent workers.\n",
      "[Parallel(n_jobs=16)]: Done  18 tasks      | elapsed:    0.0s\n",
      "[Parallel(n_jobs=16)]: Done 168 tasks      | elapsed:    0.0s\n",
      "[Parallel(n_jobs=16)]: Done 418 tasks      | elapsed:    0.1s\n",
      "[Parallel(n_jobs=16)]: Done 500 out of 500 | elapsed:    0.1s finished\n"
     ]
    },
    {
     "name": "stdout",
     "output_type": "stream",
     "text": [
      "\n",
      "*** ITERACIÓN #011\n",
      "        - Modelo guardado en ../model/threshhold_0.56/randomforest_iterations_011/model_011.joblib\n",
      "        - Probabilidades guardadas en ../model/threshhold_0.56/randomforest_iterations_011/probas_011.npy\n",
      "        - Pixeles de entrenamiento: 1574\n",
      "        - Pixeles con proba>=0.56: 26\n",
      "        - Pixeles con proba<0.56: 400\n"
     ]
    },
    {
     "name": "stderr",
     "output_type": "stream",
     "text": [
      "[Parallel(n_jobs=-1)]: Using backend ThreadingBackend with 16 concurrent workers.\n",
      "[Parallel(n_jobs=-1)]: Done  18 tasks      | elapsed:    0.1s\n",
      "[Parallel(n_jobs=-1)]: Done 168 tasks      | elapsed:    0.6s\n",
      "[Parallel(n_jobs=-1)]: Done 418 tasks      | elapsed:    1.5s\n",
      "[Parallel(n_jobs=-1)]: Done 500 out of 500 | elapsed:    1.7s finished\n",
      "[Parallel(n_jobs=16)]: Using backend ThreadingBackend with 16 concurrent workers.\n",
      "[Parallel(n_jobs=16)]: Done  18 tasks      | elapsed:    0.0s\n",
      "[Parallel(n_jobs=16)]: Done 168 tasks      | elapsed:    0.0s\n",
      "[Parallel(n_jobs=16)]: Done 418 tasks      | elapsed:    0.1s\n",
      "[Parallel(n_jobs=16)]: Done 500 out of 500 | elapsed:    0.1s finished\n"
     ]
    },
    {
     "name": "stdout",
     "output_type": "stream",
     "text": [
      "\n",
      "*** ITERACIÓN #012\n",
      "        - Modelo guardado en ../model/threshhold_0.56/randomforest_iterations_012/model_012.joblib\n",
      "        - Probabilidades guardadas en ../model/threshhold_0.56/randomforest_iterations_012/probas_012.npy\n",
      "        - Pixeles de entrenamiento: 1600\n",
      "        - Pixeles con proba>=0.56: 15\n",
      "        - Pixeles con proba<0.56: 385\n"
     ]
    },
    {
     "name": "stderr",
     "output_type": "stream",
     "text": [
      "[Parallel(n_jobs=-1)]: Using backend ThreadingBackend with 16 concurrent workers.\n",
      "[Parallel(n_jobs=-1)]: Done  18 tasks      | elapsed:    0.1s\n",
      "[Parallel(n_jobs=-1)]: Done 168 tasks      | elapsed:    0.6s\n",
      "[Parallel(n_jobs=-1)]: Done 418 tasks      | elapsed:    1.5s\n",
      "[Parallel(n_jobs=-1)]: Done 500 out of 500 | elapsed:    1.7s finished\n",
      "[Parallel(n_jobs=16)]: Using backend ThreadingBackend with 16 concurrent workers.\n",
      "[Parallel(n_jobs=16)]: Done  18 tasks      | elapsed:    0.0s\n",
      "[Parallel(n_jobs=16)]: Done 168 tasks      | elapsed:    0.1s\n",
      "[Parallel(n_jobs=16)]: Done 418 tasks      | elapsed:    0.1s\n",
      "[Parallel(n_jobs=16)]: Done 500 out of 500 | elapsed:    0.1s finished\n"
     ]
    },
    {
     "name": "stdout",
     "output_type": "stream",
     "text": [
      "\n",
      "*** ITERACIÓN #013\n",
      "        - Modelo guardado en ../model/threshhold_0.56/randomforest_iterations_013/model_013.joblib\n",
      "        - Probabilidades guardadas en ../model/threshhold_0.56/randomforest_iterations_013/probas_013.npy\n",
      "        - Pixeles de entrenamiento: 1615\n",
      "        - Pixeles con proba>=0.56: 7\n",
      "        - Pixeles con proba<0.56: 378\n"
     ]
    },
    {
     "name": "stderr",
     "output_type": "stream",
     "text": [
      "[Parallel(n_jobs=-1)]: Using backend ThreadingBackend with 16 concurrent workers.\n",
      "[Parallel(n_jobs=-1)]: Done  18 tasks      | elapsed:    0.1s\n",
      "[Parallel(n_jobs=-1)]: Done 168 tasks      | elapsed:    0.6s\n",
      "[Parallel(n_jobs=-1)]: Done 418 tasks      | elapsed:    1.5s\n",
      "[Parallel(n_jobs=-1)]: Done 500 out of 500 | elapsed:    1.7s finished\n",
      "[Parallel(n_jobs=16)]: Using backend ThreadingBackend with 16 concurrent workers.\n",
      "[Parallel(n_jobs=16)]: Done  18 tasks      | elapsed:    0.0s\n",
      "[Parallel(n_jobs=16)]: Done 168 tasks      | elapsed:    0.0s\n",
      "[Parallel(n_jobs=16)]: Done 418 tasks      | elapsed:    0.1s\n",
      "[Parallel(n_jobs=16)]: Done 500 out of 500 | elapsed:    0.1s finished\n"
     ]
    },
    {
     "name": "stdout",
     "output_type": "stream",
     "text": [
      "\n",
      "*** ITERACIÓN #014\n",
      "        - Modelo guardado en ../model/threshhold_0.56/randomforest_iterations_014/model_014.joblib\n",
      "        - Probabilidades guardadas en ../model/threshhold_0.56/randomforest_iterations_014/probas_014.npy\n",
      "        - Pixeles de entrenamiento: 1622\n",
      "        - Pixeles con proba>=0.56: 5\n",
      "        - Pixeles con proba<0.56: 373\n"
     ]
    },
    {
     "name": "stderr",
     "output_type": "stream",
     "text": [
      "[Parallel(n_jobs=-1)]: Using backend ThreadingBackend with 16 concurrent workers.\n",
      "[Parallel(n_jobs=-1)]: Done  18 tasks      | elapsed:    0.1s\n",
      "[Parallel(n_jobs=-1)]: Done 168 tasks      | elapsed:    0.6s\n",
      "[Parallel(n_jobs=-1)]: Done 418 tasks      | elapsed:    1.5s\n",
      "[Parallel(n_jobs=-1)]: Done 500 out of 500 | elapsed:    1.8s finished\n",
      "[Parallel(n_jobs=16)]: Using backend ThreadingBackend with 16 concurrent workers.\n",
      "[Parallel(n_jobs=16)]: Done  18 tasks      | elapsed:    0.0s\n",
      "[Parallel(n_jobs=16)]: Done 168 tasks      | elapsed:    0.0s\n",
      "[Parallel(n_jobs=16)]: Done 418 tasks      | elapsed:    0.1s\n",
      "[Parallel(n_jobs=16)]: Done 500 out of 500 | elapsed:    0.1s finished\n"
     ]
    },
    {
     "name": "stdout",
     "output_type": "stream",
     "text": [
      "\n",
      "*** ITERACIÓN #015\n",
      "        - Modelo guardado en ../model/threshhold_0.56/randomforest_iterations_015/model_015.joblib\n",
      "        - Probabilidades guardadas en ../model/threshhold_0.56/randomforest_iterations_015/probas_015.npy\n",
      "        - Pixeles de entrenamiento: 1627\n",
      "        - Pixeles con proba>=0.56: 11\n",
      "        - Pixeles con proba<0.56: 362\n"
     ]
    },
    {
     "name": "stderr",
     "output_type": "stream",
     "text": [
      "[Parallel(n_jobs=-1)]: Using backend ThreadingBackend with 16 concurrent workers.\n",
      "[Parallel(n_jobs=-1)]: Done  18 tasks      | elapsed:    0.1s\n",
      "[Parallel(n_jobs=-1)]: Done 168 tasks      | elapsed:    0.6s\n",
      "[Parallel(n_jobs=-1)]: Done 418 tasks      | elapsed:    1.5s\n",
      "[Parallel(n_jobs=-1)]: Done 500 out of 500 | elapsed:    1.8s finished\n",
      "[Parallel(n_jobs=16)]: Using backend ThreadingBackend with 16 concurrent workers.\n",
      "[Parallel(n_jobs=16)]: Done  18 tasks      | elapsed:    0.0s\n",
      "[Parallel(n_jobs=16)]: Done 168 tasks      | elapsed:    0.0s\n",
      "[Parallel(n_jobs=16)]: Done 418 tasks      | elapsed:    0.1s\n",
      "[Parallel(n_jobs=16)]: Done 500 out of 500 | elapsed:    0.1s finished\n"
     ]
    },
    {
     "name": "stdout",
     "output_type": "stream",
     "text": [
      "\n",
      "*** ITERACIÓN #016\n",
      "        - Modelo guardado en ../model/threshhold_0.56/randomforest_iterations_016/model_016.joblib\n",
      "        - Probabilidades guardadas en ../model/threshhold_0.56/randomforest_iterations_016/probas_016.npy\n",
      "        - Pixeles de entrenamiento: 1638\n",
      "        - Pixeles con proba>=0.56: 10\n",
      "        - Pixeles con proba<0.56: 352\n"
     ]
    },
    {
     "name": "stderr",
     "output_type": "stream",
     "text": [
      "[Parallel(n_jobs=-1)]: Using backend ThreadingBackend with 16 concurrent workers.\n",
      "[Parallel(n_jobs=-1)]: Done  18 tasks      | elapsed:    0.1s\n",
      "[Parallel(n_jobs=-1)]: Done 168 tasks      | elapsed:    0.6s\n",
      "[Parallel(n_jobs=-1)]: Done 418 tasks      | elapsed:    1.5s\n",
      "[Parallel(n_jobs=-1)]: Done 500 out of 500 | elapsed:    1.7s finished\n",
      "[Parallel(n_jobs=16)]: Using backend ThreadingBackend with 16 concurrent workers.\n",
      "[Parallel(n_jobs=16)]: Done  18 tasks      | elapsed:    0.0s\n",
      "[Parallel(n_jobs=16)]: Done 168 tasks      | elapsed:    0.0s\n",
      "[Parallel(n_jobs=16)]: Done 418 tasks      | elapsed:    0.1s\n",
      "[Parallel(n_jobs=16)]: Done 500 out of 500 | elapsed:    0.1s finished\n"
     ]
    },
    {
     "name": "stdout",
     "output_type": "stream",
     "text": [
      "\n",
      "*** ITERACIÓN #017\n",
      "        - Modelo guardado en ../model/threshhold_0.56/randomforest_iterations_017/model_017.joblib\n",
      "        - Probabilidades guardadas en ../model/threshhold_0.56/randomforest_iterations_017/probas_017.npy\n",
      "        - Pixeles de entrenamiento: 1648\n",
      "        - Pixeles con proba>=0.56: 9\n",
      "        - Pixeles con proba<0.56: 343\n"
     ]
    },
    {
     "name": "stderr",
     "output_type": "stream",
     "text": [
      "[Parallel(n_jobs=-1)]: Using backend ThreadingBackend with 16 concurrent workers.\n",
      "[Parallel(n_jobs=-1)]: Done  18 tasks      | elapsed:    0.1s\n",
      "[Parallel(n_jobs=-1)]: Done 168 tasks      | elapsed:    0.6s\n",
      "[Parallel(n_jobs=-1)]: Done 418 tasks      | elapsed:    1.5s\n",
      "[Parallel(n_jobs=-1)]: Done 500 out of 500 | elapsed:    1.8s finished\n",
      "[Parallel(n_jobs=16)]: Using backend ThreadingBackend with 16 concurrent workers.\n",
      "[Parallel(n_jobs=16)]: Done  18 tasks      | elapsed:    0.0s\n",
      "[Parallel(n_jobs=16)]: Done 168 tasks      | elapsed:    0.0s\n",
      "[Parallel(n_jobs=16)]: Done 418 tasks      | elapsed:    0.1s\n",
      "[Parallel(n_jobs=16)]: Done 500 out of 500 | elapsed:    0.1s finished\n"
     ]
    },
    {
     "name": "stdout",
     "output_type": "stream",
     "text": [
      "\n",
      "*** ITERACIÓN #018\n",
      "        - Modelo guardado en ../model/threshhold_0.56/randomforest_iterations_018/model_018.joblib\n",
      "        - Probabilidades guardadas en ../model/threshhold_0.56/randomforest_iterations_018/probas_018.npy\n",
      "        - Pixeles de entrenamiento: 1657\n",
      "        - Pixeles con proba>=0.56: 7\n",
      "        - Pixeles con proba<0.56: 336\n"
     ]
    },
    {
     "name": "stderr",
     "output_type": "stream",
     "text": [
      "[Parallel(n_jobs=-1)]: Using backend ThreadingBackend with 16 concurrent workers.\n",
      "[Parallel(n_jobs=-1)]: Done  18 tasks      | elapsed:    0.1s\n",
      "[Parallel(n_jobs=-1)]: Done 168 tasks      | elapsed:    0.6s\n",
      "[Parallel(n_jobs=-1)]: Done 418 tasks      | elapsed:    1.5s\n",
      "[Parallel(n_jobs=-1)]: Done 500 out of 500 | elapsed:    1.7s finished\n",
      "[Parallel(n_jobs=16)]: Using backend ThreadingBackend with 16 concurrent workers.\n",
      "[Parallel(n_jobs=16)]: Done  18 tasks      | elapsed:    0.0s\n",
      "[Parallel(n_jobs=16)]: Done 168 tasks      | elapsed:    0.1s\n",
      "[Parallel(n_jobs=16)]: Done 418 tasks      | elapsed:    0.1s\n",
      "[Parallel(n_jobs=16)]: Done 500 out of 500 | elapsed:    0.1s finished\n"
     ]
    },
    {
     "name": "stdout",
     "output_type": "stream",
     "text": [
      "\n",
      "*** ITERACIÓN #019\n",
      "        - Modelo guardado en ../model/threshhold_0.56/randomforest_iterations_019/model_019.joblib\n",
      "        - Probabilidades guardadas en ../model/threshhold_0.56/randomforest_iterations_019/probas_019.npy\n",
      "        - Pixeles de entrenamiento: 1664\n",
      "        - Pixeles con proba>=0.56: 13\n",
      "        - Pixeles con proba<0.56: 323\n"
     ]
    },
    {
     "name": "stderr",
     "output_type": "stream",
     "text": [
      "[Parallel(n_jobs=-1)]: Using backend ThreadingBackend with 16 concurrent workers.\n",
      "[Parallel(n_jobs=-1)]: Done  18 tasks      | elapsed:    0.1s\n",
      "[Parallel(n_jobs=-1)]: Done 168 tasks      | elapsed:    0.6s\n",
      "[Parallel(n_jobs=-1)]: Done 418 tasks      | elapsed:    1.5s\n",
      "[Parallel(n_jobs=-1)]: Done 500 out of 500 | elapsed:    1.8s finished\n",
      "[Parallel(n_jobs=16)]: Using backend ThreadingBackend with 16 concurrent workers.\n",
      "[Parallel(n_jobs=16)]: Done  18 tasks      | elapsed:    0.0s\n",
      "[Parallel(n_jobs=16)]: Done 168 tasks      | elapsed:    0.0s\n",
      "[Parallel(n_jobs=16)]: Done 418 tasks      | elapsed:    0.1s\n",
      "[Parallel(n_jobs=16)]: Done 500 out of 500 | elapsed:    0.1s finished\n"
     ]
    },
    {
     "name": "stdout",
     "output_type": "stream",
     "text": [
      "\n",
      "*** ITERACIÓN #020\n",
      "        - Modelo guardado en ../model/threshhold_0.56/randomforest_iterations_020/model_020.joblib\n",
      "        - Probabilidades guardadas en ../model/threshhold_0.56/randomforest_iterations_020/probas_020.npy\n",
      "        - Pixeles de entrenamiento: 1677\n",
      "        - Pixeles con proba>=0.56: 15\n",
      "        - Pixeles con proba<0.56: 308\n"
     ]
    },
    {
     "name": "stderr",
     "output_type": "stream",
     "text": [
      "[Parallel(n_jobs=-1)]: Using backend ThreadingBackend with 16 concurrent workers.\n",
      "[Parallel(n_jobs=-1)]: Done  18 tasks      | elapsed:    0.1s\n",
      "[Parallel(n_jobs=-1)]: Done 168 tasks      | elapsed:    0.6s\n",
      "[Parallel(n_jobs=-1)]: Done 418 tasks      | elapsed:    1.5s\n",
      "[Parallel(n_jobs=-1)]: Done 500 out of 500 | elapsed:    1.8s finished\n",
      "[Parallel(n_jobs=16)]: Using backend ThreadingBackend with 16 concurrent workers.\n",
      "[Parallel(n_jobs=16)]: Done  18 tasks      | elapsed:    0.0s\n",
      "[Parallel(n_jobs=16)]: Done 168 tasks      | elapsed:    0.0s\n",
      "[Parallel(n_jobs=16)]: Done 418 tasks      | elapsed:    0.1s\n",
      "[Parallel(n_jobs=16)]: Done 500 out of 500 | elapsed:    0.1s finished\n"
     ]
    },
    {
     "name": "stdout",
     "output_type": "stream",
     "text": [
      "\n",
      "*** ITERACIÓN #021\n",
      "        - Modelo guardado en ../model/threshhold_0.56/randomforest_iterations_021/model_021.joblib\n",
      "        - Probabilidades guardadas en ../model/threshhold_0.56/randomforest_iterations_021/probas_021.npy\n",
      "        - Pixeles de entrenamiento: 1692\n",
      "        - Pixeles con proba>=0.56: 10\n",
      "        - Pixeles con proba<0.56: 298\n"
     ]
    },
    {
     "name": "stderr",
     "output_type": "stream",
     "text": [
      "[Parallel(n_jobs=-1)]: Using backend ThreadingBackend with 16 concurrent workers.\n",
      "[Parallel(n_jobs=-1)]: Done  18 tasks      | elapsed:    0.1s\n",
      "[Parallel(n_jobs=-1)]: Done 168 tasks      | elapsed:    0.6s\n",
      "[Parallel(n_jobs=-1)]: Done 418 tasks      | elapsed:    1.5s\n",
      "[Parallel(n_jobs=-1)]: Done 500 out of 500 | elapsed:    1.8s finished\n",
      "[Parallel(n_jobs=16)]: Using backend ThreadingBackend with 16 concurrent workers.\n",
      "[Parallel(n_jobs=16)]: Done  18 tasks      | elapsed:    0.0s\n",
      "[Parallel(n_jobs=16)]: Done 168 tasks      | elapsed:    0.0s\n",
      "[Parallel(n_jobs=16)]: Done 418 tasks      | elapsed:    0.1s\n",
      "[Parallel(n_jobs=16)]: Done 500 out of 500 | elapsed:    0.1s finished\n"
     ]
    },
    {
     "name": "stdout",
     "output_type": "stream",
     "text": [
      "\n",
      "*** ITERACIÓN #022\n",
      "        - Modelo guardado en ../model/threshhold_0.56/randomforest_iterations_022/model_022.joblib\n",
      "        - Probabilidades guardadas en ../model/threshhold_0.56/randomforest_iterations_022/probas_022.npy\n",
      "        - Pixeles de entrenamiento: 1702\n",
      "        - Pixeles con proba>=0.56: 10\n",
      "        - Pixeles con proba<0.56: 288\n"
     ]
    },
    {
     "name": "stderr",
     "output_type": "stream",
     "text": [
      "[Parallel(n_jobs=-1)]: Using backend ThreadingBackend with 16 concurrent workers.\n",
      "[Parallel(n_jobs=-1)]: Done  18 tasks      | elapsed:    0.1s\n",
      "[Parallel(n_jobs=-1)]: Done 168 tasks      | elapsed:    0.7s\n",
      "[Parallel(n_jobs=-1)]: Done 418 tasks      | elapsed:    1.6s\n",
      "[Parallel(n_jobs=-1)]: Done 500 out of 500 | elapsed:    1.8s finished\n",
      "[Parallel(n_jobs=16)]: Using backend ThreadingBackend with 16 concurrent workers.\n",
      "[Parallel(n_jobs=16)]: Done  18 tasks      | elapsed:    0.0s\n",
      "[Parallel(n_jobs=16)]: Done 168 tasks      | elapsed:    0.0s\n",
      "[Parallel(n_jobs=16)]: Done 418 tasks      | elapsed:    0.1s\n",
      "[Parallel(n_jobs=16)]: Done 500 out of 500 | elapsed:    0.1s finished\n"
     ]
    },
    {
     "name": "stdout",
     "output_type": "stream",
     "text": [
      "\n",
      "*** ITERACIÓN #023\n",
      "        - Modelo guardado en ../model/threshhold_0.56/randomforest_iterations_023/model_023.joblib\n",
      "        - Probabilidades guardadas en ../model/threshhold_0.56/randomforest_iterations_023/probas_023.npy\n",
      "        - Pixeles de entrenamiento: 1712\n",
      "        - Pixeles con proba>=0.56: 3\n",
      "        - Pixeles con proba<0.56: 285\n"
     ]
    },
    {
     "name": "stderr",
     "output_type": "stream",
     "text": [
      "[Parallel(n_jobs=-1)]: Using backend ThreadingBackend with 16 concurrent workers.\n",
      "[Parallel(n_jobs=-1)]: Done  18 tasks      | elapsed:    0.1s\n",
      "[Parallel(n_jobs=-1)]: Done 168 tasks      | elapsed:    0.6s\n",
      "[Parallel(n_jobs=-1)]: Done 418 tasks      | elapsed:    1.5s\n",
      "[Parallel(n_jobs=-1)]: Done 500 out of 500 | elapsed:    1.8s finished\n",
      "[Parallel(n_jobs=16)]: Using backend ThreadingBackend with 16 concurrent workers.\n",
      "[Parallel(n_jobs=16)]: Done  18 tasks      | elapsed:    0.0s\n",
      "[Parallel(n_jobs=16)]: Done 168 tasks      | elapsed:    0.0s\n",
      "[Parallel(n_jobs=16)]: Done 418 tasks      | elapsed:    0.1s\n",
      "[Parallel(n_jobs=16)]: Done 500 out of 500 | elapsed:    0.1s finished\n"
     ]
    },
    {
     "name": "stdout",
     "output_type": "stream",
     "text": [
      "\n",
      "*** ITERACIÓN #024\n",
      "        - Modelo guardado en ../model/threshhold_0.56/randomforest_iterations_024/model_024.joblib\n",
      "        - Probabilidades guardadas en ../model/threshhold_0.56/randomforest_iterations_024/probas_024.npy\n",
      "        - Pixeles de entrenamiento: 1715\n",
      "        - Pixeles con proba>=0.56: 2\n",
      "        - Pixeles con proba<0.56: 283\n"
     ]
    },
    {
     "name": "stderr",
     "output_type": "stream",
     "text": [
      "[Parallel(n_jobs=-1)]: Using backend ThreadingBackend with 16 concurrent workers.\n",
      "[Parallel(n_jobs=-1)]: Done  18 tasks      | elapsed:    0.1s\n",
      "[Parallel(n_jobs=-1)]: Done 168 tasks      | elapsed:    0.6s\n",
      "[Parallel(n_jobs=-1)]: Done 418 tasks      | elapsed:    1.5s\n",
      "[Parallel(n_jobs=-1)]: Done 500 out of 500 | elapsed:    1.8s finished\n",
      "[Parallel(n_jobs=16)]: Using backend ThreadingBackend with 16 concurrent workers.\n",
      "[Parallel(n_jobs=16)]: Done  18 tasks      | elapsed:    0.0s\n",
      "[Parallel(n_jobs=16)]: Done 168 tasks      | elapsed:    0.0s\n",
      "[Parallel(n_jobs=16)]: Done 418 tasks      | elapsed:    0.1s\n",
      "[Parallel(n_jobs=16)]: Done 500 out of 500 | elapsed:    0.1s finished\n"
     ]
    },
    {
     "name": "stdout",
     "output_type": "stream",
     "text": [
      "\n",
      "*** ITERACIÓN #025\n",
      "        - Modelo guardado en ../model/threshhold_0.56/randomforest_iterations_025/model_025.joblib\n",
      "        - Probabilidades guardadas en ../model/threshhold_0.56/randomforest_iterations_025/probas_025.npy\n",
      "        - Pixeles de entrenamiento: 1717\n",
      "        - Pixeles con proba>=0.56: 0\n",
      "        - Pixeles con proba<0.56: 283\n",
      "+++++ PREDICCIONES PARA THRESHOLD 0.6\n"
     ]
    },
    {
     "name": "stderr",
     "output_type": "stream",
     "text": [
      "[Parallel(n_jobs=-1)]: Using backend ThreadingBackend with 16 concurrent workers.\n",
      "[Parallel(n_jobs=-1)]: Done  18 tasks      | elapsed:    0.1s\n",
      "[Parallel(n_jobs=-1)]: Done 168 tasks      | elapsed:    0.3s\n",
      "[Parallel(n_jobs=-1)]: Done 418 tasks      | elapsed:    0.8s\n",
      "[Parallel(n_jobs=-1)]: Done 500 out of 500 | elapsed:    0.9s finished\n",
      "[Parallel(n_jobs=16)]: Using backend ThreadingBackend with 16 concurrent workers.\n",
      "[Parallel(n_jobs=16)]: Done  18 tasks      | elapsed:    0.0s\n",
      "[Parallel(n_jobs=16)]: Done 168 tasks      | elapsed:    0.1s\n",
      "[Parallel(n_jobs=16)]: Done 418 tasks      | elapsed:    0.1s\n",
      "[Parallel(n_jobs=16)]: Done 500 out of 500 | elapsed:    0.2s finished\n"
     ]
    },
    {
     "name": "stdout",
     "output_type": "stream",
     "text": [
      "\n",
      "*** ITERACIÓN #000\n",
      "        - Modelo guardado en ../model/threshhold_0.6/randomforest_iterations_000/model_000.joblib\n",
      "        - Probabilidades guardadas en ../model/threshhold_0.6/randomforest_iterations_000/probas_000.npy\n",
      "        - Pixeles de entrenamiento: 466\n",
      "        - Pixeles con proba>=0.6: 53\n",
      "        - Pixeles con proba<0.6: 1481\n"
     ]
    },
    {
     "name": "stderr",
     "output_type": "stream",
     "text": [
      "[Parallel(n_jobs=-1)]: Using backend ThreadingBackend with 16 concurrent workers.\n",
      "[Parallel(n_jobs=-1)]: Done  18 tasks      | elapsed:    0.1s\n",
      "[Parallel(n_jobs=-1)]: Done 168 tasks      | elapsed:    0.4s\n",
      "[Parallel(n_jobs=-1)]: Done 418 tasks      | elapsed:    0.9s\n",
      "[Parallel(n_jobs=-1)]: Done 500 out of 500 | elapsed:    1.0s finished\n",
      "[Parallel(n_jobs=16)]: Using backend ThreadingBackend with 16 concurrent workers.\n",
      "[Parallel(n_jobs=16)]: Done  18 tasks      | elapsed:    0.0s\n",
      "[Parallel(n_jobs=16)]: Done 168 tasks      | elapsed:    0.1s\n",
      "[Parallel(n_jobs=16)]: Done 418 tasks      | elapsed:    0.1s\n",
      "[Parallel(n_jobs=16)]: Done 500 out of 500 | elapsed:    0.2s finished\n"
     ]
    },
    {
     "name": "stdout",
     "output_type": "stream",
     "text": [
      "\n",
      "*** ITERACIÓN #001\n",
      "        - Modelo guardado en ../model/threshhold_0.6/randomforest_iterations_001/model_001.joblib\n",
      "        - Probabilidades guardadas en ../model/threshhold_0.6/randomforest_iterations_001/probas_001.npy\n",
      "        - Pixeles de entrenamiento: 519\n",
      "        - Pixeles con proba>=0.6: 65\n",
      "        - Pixeles con proba<0.6: 1416\n"
     ]
    },
    {
     "name": "stderr",
     "output_type": "stream",
     "text": [
      "[Parallel(n_jobs=-1)]: Using backend ThreadingBackend with 16 concurrent workers.\n",
      "[Parallel(n_jobs=-1)]: Done  18 tasks      | elapsed:    0.1s\n",
      "[Parallel(n_jobs=-1)]: Done 168 tasks      | elapsed:    0.4s\n",
      "[Parallel(n_jobs=-1)]: Done 418 tasks      | elapsed:    0.9s\n",
      "[Parallel(n_jobs=-1)]: Done 500 out of 500 | elapsed:    1.1s finished\n",
      "[Parallel(n_jobs=16)]: Using backend ThreadingBackend with 16 concurrent workers.\n",
      "[Parallel(n_jobs=16)]: Done  18 tasks      | elapsed:    0.0s\n",
      "[Parallel(n_jobs=16)]: Done 168 tasks      | elapsed:    0.1s\n",
      "[Parallel(n_jobs=16)]: Done 418 tasks      | elapsed:    0.2s\n",
      "[Parallel(n_jobs=16)]: Done 500 out of 500 | elapsed:    0.2s finished\n"
     ]
    },
    {
     "name": "stdout",
     "output_type": "stream",
     "text": [
      "\n",
      "*** ITERACIÓN #002\n",
      "        - Modelo guardado en ../model/threshhold_0.6/randomforest_iterations_002/model_002.joblib\n",
      "        - Probabilidades guardadas en ../model/threshhold_0.6/randomforest_iterations_002/probas_002.npy\n",
      "        - Pixeles de entrenamiento: 584\n",
      "        - Pixeles con proba>=0.6: 70\n",
      "        - Pixeles con proba<0.6: 1346\n"
     ]
    },
    {
     "name": "stderr",
     "output_type": "stream",
     "text": [
      "[Parallel(n_jobs=-1)]: Using backend ThreadingBackend with 16 concurrent workers.\n",
      "[Parallel(n_jobs=-1)]: Done  18 tasks      | elapsed:    0.1s\n",
      "[Parallel(n_jobs=-1)]: Done 168 tasks      | elapsed:    0.4s\n",
      "[Parallel(n_jobs=-1)]: Done 418 tasks      | elapsed:    1.0s\n",
      "[Parallel(n_jobs=-1)]: Done 500 out of 500 | elapsed:    1.1s finished\n",
      "[Parallel(n_jobs=16)]: Using backend ThreadingBackend with 16 concurrent workers.\n",
      "[Parallel(n_jobs=16)]: Done  18 tasks      | elapsed:    0.0s\n",
      "[Parallel(n_jobs=16)]: Done 168 tasks      | elapsed:    0.1s\n",
      "[Parallel(n_jobs=16)]: Done 418 tasks      | elapsed:    0.1s\n",
      "[Parallel(n_jobs=16)]: Done 500 out of 500 | elapsed:    0.2s finished\n"
     ]
    },
    {
     "name": "stdout",
     "output_type": "stream",
     "text": [
      "\n",
      "*** ITERACIÓN #003\n",
      "        - Modelo guardado en ../model/threshhold_0.6/randomforest_iterations_003/model_003.joblib\n",
      "        - Probabilidades guardadas en ../model/threshhold_0.6/randomforest_iterations_003/probas_003.npy\n",
      "        - Pixeles de entrenamiento: 654\n",
      "        - Pixeles con proba>=0.6: 57\n",
      "        - Pixeles con proba<0.6: 1289\n"
     ]
    },
    {
     "name": "stderr",
     "output_type": "stream",
     "text": [
      "[Parallel(n_jobs=-1)]: Using backend ThreadingBackend with 16 concurrent workers.\n",
      "[Parallel(n_jobs=-1)]: Done  18 tasks      | elapsed:    0.1s\n",
      "[Parallel(n_jobs=-1)]: Done 168 tasks      | elapsed:    0.4s\n",
      "[Parallel(n_jobs=-1)]: Done 418 tasks      | elapsed:    1.0s\n",
      "[Parallel(n_jobs=-1)]: Done 500 out of 500 | elapsed:    1.1s finished\n",
      "[Parallel(n_jobs=16)]: Using backend ThreadingBackend with 16 concurrent workers.\n",
      "[Parallel(n_jobs=16)]: Done  18 tasks      | elapsed:    0.0s\n",
      "[Parallel(n_jobs=16)]: Done 168 tasks      | elapsed:    0.1s\n",
      "[Parallel(n_jobs=16)]: Done 418 tasks      | elapsed:    0.1s\n",
      "[Parallel(n_jobs=16)]: Done 500 out of 500 | elapsed:    0.2s finished\n"
     ]
    },
    {
     "name": "stdout",
     "output_type": "stream",
     "text": [
      "\n",
      "*** ITERACIÓN #004\n",
      "        - Modelo guardado en ../model/threshhold_0.6/randomforest_iterations_004/model_004.joblib\n",
      "        - Probabilidades guardadas en ../model/threshhold_0.6/randomforest_iterations_004/probas_004.npy\n",
      "        - Pixeles de entrenamiento: 711\n",
      "        - Pixeles con proba>=0.6: 48\n",
      "        - Pixeles con proba<0.6: 1241\n"
     ]
    },
    {
     "name": "stderr",
     "output_type": "stream",
     "text": [
      "[Parallel(n_jobs=-1)]: Using backend ThreadingBackend with 16 concurrent workers.\n",
      "[Parallel(n_jobs=-1)]: Done  18 tasks      | elapsed:    0.1s\n",
      "[Parallel(n_jobs=-1)]: Done 168 tasks      | elapsed:    0.4s\n",
      "[Parallel(n_jobs=-1)]: Done 418 tasks      | elapsed:    1.0s\n",
      "[Parallel(n_jobs=-1)]: Done 500 out of 500 | elapsed:    1.2s finished\n",
      "[Parallel(n_jobs=16)]: Using backend ThreadingBackend with 16 concurrent workers.\n",
      "[Parallel(n_jobs=16)]: Done  18 tasks      | elapsed:    0.0s\n",
      "[Parallel(n_jobs=16)]: Done 168 tasks      | elapsed:    0.1s\n",
      "[Parallel(n_jobs=16)]: Done 418 tasks      | elapsed:    0.1s\n",
      "[Parallel(n_jobs=16)]: Done 500 out of 500 | elapsed:    0.2s finished\n"
     ]
    },
    {
     "name": "stdout",
     "output_type": "stream",
     "text": [
      "\n",
      "*** ITERACIÓN #005\n",
      "        - Modelo guardado en ../model/threshhold_0.6/randomforest_iterations_005/model_005.joblib\n",
      "        - Probabilidades guardadas en ../model/threshhold_0.6/randomforest_iterations_005/probas_005.npy\n",
      "        - Pixeles de entrenamiento: 759\n",
      "        - Pixeles con proba>=0.6: 37\n",
      "        - Pixeles con proba<0.6: 1204\n"
     ]
    },
    {
     "name": "stderr",
     "output_type": "stream",
     "text": [
      "[Parallel(n_jobs=-1)]: Using backend ThreadingBackend with 16 concurrent workers.\n",
      "[Parallel(n_jobs=-1)]: Done  18 tasks      | elapsed:    0.1s\n",
      "[Parallel(n_jobs=-1)]: Done 168 tasks      | elapsed:    0.4s\n",
      "[Parallel(n_jobs=-1)]: Done 418 tasks      | elapsed:    1.0s\n",
      "[Parallel(n_jobs=-1)]: Done 500 out of 500 | elapsed:    1.2s finished\n",
      "[Parallel(n_jobs=16)]: Using backend ThreadingBackend with 16 concurrent workers.\n",
      "[Parallel(n_jobs=16)]: Done  18 tasks      | elapsed:    0.0s\n",
      "[Parallel(n_jobs=16)]: Done 168 tasks      | elapsed:    0.1s\n",
      "[Parallel(n_jobs=16)]: Done 418 tasks      | elapsed:    0.1s\n",
      "[Parallel(n_jobs=16)]: Done 500 out of 500 | elapsed:    0.2s finished\n"
     ]
    },
    {
     "name": "stdout",
     "output_type": "stream",
     "text": [
      "\n",
      "*** ITERACIÓN #006\n",
      "        - Modelo guardado en ../model/threshhold_0.6/randomforest_iterations_006/model_006.joblib\n",
      "        - Probabilidades guardadas en ../model/threshhold_0.6/randomforest_iterations_006/probas_006.npy\n",
      "        - Pixeles de entrenamiento: 796\n",
      "        - Pixeles con proba>=0.6: 22\n",
      "        - Pixeles con proba<0.6: 1182\n"
     ]
    },
    {
     "name": "stderr",
     "output_type": "stream",
     "text": [
      "[Parallel(n_jobs=-1)]: Using backend ThreadingBackend with 16 concurrent workers.\n",
      "[Parallel(n_jobs=-1)]: Done  18 tasks      | elapsed:    0.1s\n",
      "[Parallel(n_jobs=-1)]: Done 168 tasks      | elapsed:    0.5s\n",
      "[Parallel(n_jobs=-1)]: Done 418 tasks      | elapsed:    1.1s\n",
      "[Parallel(n_jobs=-1)]: Done 500 out of 500 | elapsed:    1.3s finished\n",
      "[Parallel(n_jobs=16)]: Using backend ThreadingBackend with 16 concurrent workers.\n",
      "[Parallel(n_jobs=16)]: Done  18 tasks      | elapsed:    0.0s\n",
      "[Parallel(n_jobs=16)]: Done 168 tasks      | elapsed:    0.1s\n",
      "[Parallel(n_jobs=16)]: Done 418 tasks      | elapsed:    0.1s\n",
      "[Parallel(n_jobs=16)]: Done 500 out of 500 | elapsed:    0.2s finished\n"
     ]
    },
    {
     "name": "stdout",
     "output_type": "stream",
     "text": [
      "\n",
      "*** ITERACIÓN #007\n",
      "        - Modelo guardado en ../model/threshhold_0.6/randomforest_iterations_007/model_007.joblib\n",
      "        - Probabilidades guardadas en ../model/threshhold_0.6/randomforest_iterations_007/probas_007.npy\n",
      "        - Pixeles de entrenamiento: 818\n",
      "        - Pixeles con proba>=0.6: 15\n",
      "        - Pixeles con proba<0.6: 1167\n"
     ]
    },
    {
     "name": "stderr",
     "output_type": "stream",
     "text": [
      "[Parallel(n_jobs=-1)]: Using backend ThreadingBackend with 16 concurrent workers.\n",
      "[Parallel(n_jobs=-1)]: Done  18 tasks      | elapsed:    0.1s\n",
      "[Parallel(n_jobs=-1)]: Done 168 tasks      | elapsed:    0.5s\n",
      "[Parallel(n_jobs=-1)]: Done 418 tasks      | elapsed:    1.1s\n",
      "[Parallel(n_jobs=-1)]: Done 500 out of 500 | elapsed:    1.3s finished\n",
      "[Parallel(n_jobs=16)]: Using backend ThreadingBackend with 16 concurrent workers.\n",
      "[Parallel(n_jobs=16)]: Done  18 tasks      | elapsed:    0.0s\n",
      "[Parallel(n_jobs=16)]: Done 168 tasks      | elapsed:    0.1s\n",
      "[Parallel(n_jobs=16)]: Done 418 tasks      | elapsed:    0.1s\n",
      "[Parallel(n_jobs=16)]: Done 500 out of 500 | elapsed:    0.2s finished\n"
     ]
    },
    {
     "name": "stdout",
     "output_type": "stream",
     "text": [
      "\n",
      "*** ITERACIÓN #008\n",
      "        - Modelo guardado en ../model/threshhold_0.6/randomforest_iterations_008/model_008.joblib\n",
      "        - Probabilidades guardadas en ../model/threshhold_0.6/randomforest_iterations_008/probas_008.npy\n",
      "        - Pixeles de entrenamiento: 833\n",
      "        - Pixeles con proba>=0.6: 14\n",
      "        - Pixeles con proba<0.6: 1153\n"
     ]
    },
    {
     "name": "stderr",
     "output_type": "stream",
     "text": [
      "[Parallel(n_jobs=-1)]: Using backend ThreadingBackend with 16 concurrent workers.\n",
      "[Parallel(n_jobs=-1)]: Done  18 tasks      | elapsed:    0.1s\n",
      "[Parallel(n_jobs=-1)]: Done 168 tasks      | elapsed:    0.4s\n",
      "[Parallel(n_jobs=-1)]: Done 418 tasks      | elapsed:    1.1s\n",
      "[Parallel(n_jobs=-1)]: Done 500 out of 500 | elapsed:    1.2s finished\n",
      "[Parallel(n_jobs=16)]: Using backend ThreadingBackend with 16 concurrent workers.\n",
      "[Parallel(n_jobs=16)]: Done  18 tasks      | elapsed:    0.0s\n",
      "[Parallel(n_jobs=16)]: Done 168 tasks      | elapsed:    0.1s\n",
      "[Parallel(n_jobs=16)]: Done 418 tasks      | elapsed:    0.1s\n",
      "[Parallel(n_jobs=16)]: Done 500 out of 500 | elapsed:    0.2s finished\n"
     ]
    },
    {
     "name": "stdout",
     "output_type": "stream",
     "text": [
      "\n",
      "*** ITERACIÓN #009\n",
      "        - Modelo guardado en ../model/threshhold_0.6/randomforest_iterations_009/model_009.joblib\n",
      "        - Probabilidades guardadas en ../model/threshhold_0.6/randomforest_iterations_009/probas_009.npy\n",
      "        - Pixeles de entrenamiento: 847\n",
      "        - Pixeles con proba>=0.6: 16\n",
      "        - Pixeles con proba<0.6: 1137\n"
     ]
    },
    {
     "name": "stderr",
     "output_type": "stream",
     "text": [
      "[Parallel(n_jobs=-1)]: Using backend ThreadingBackend with 16 concurrent workers.\n",
      "[Parallel(n_jobs=-1)]: Done  18 tasks      | elapsed:    0.1s\n",
      "[Parallel(n_jobs=-1)]: Done 168 tasks      | elapsed:    0.4s\n",
      "[Parallel(n_jobs=-1)]: Done 418 tasks      | elapsed:    1.1s\n",
      "[Parallel(n_jobs=-1)]: Done 500 out of 500 | elapsed:    1.2s finished\n",
      "[Parallel(n_jobs=16)]: Using backend ThreadingBackend with 16 concurrent workers.\n",
      "[Parallel(n_jobs=16)]: Done  18 tasks      | elapsed:    0.0s\n",
      "[Parallel(n_jobs=16)]: Done 168 tasks      | elapsed:    0.1s\n",
      "[Parallel(n_jobs=16)]: Done 418 tasks      | elapsed:    0.1s\n",
      "[Parallel(n_jobs=16)]: Done 500 out of 500 | elapsed:    0.2s finished\n"
     ]
    },
    {
     "name": "stdout",
     "output_type": "stream",
     "text": [
      "\n",
      "*** ITERACIÓN #010\n",
      "        - Modelo guardado en ../model/threshhold_0.6/randomforest_iterations_010/model_010.joblib\n",
      "        - Probabilidades guardadas en ../model/threshhold_0.6/randomforest_iterations_010/probas_010.npy\n",
      "        - Pixeles de entrenamiento: 863\n",
      "        - Pixeles con proba>=0.6: 15\n",
      "        - Pixeles con proba<0.6: 1122\n"
     ]
    },
    {
     "name": "stderr",
     "output_type": "stream",
     "text": [
      "[Parallel(n_jobs=-1)]: Using backend ThreadingBackend with 16 concurrent workers.\n",
      "[Parallel(n_jobs=-1)]: Done  18 tasks      | elapsed:    0.1s\n",
      "[Parallel(n_jobs=-1)]: Done 168 tasks      | elapsed:    0.5s\n",
      "[Parallel(n_jobs=-1)]: Done 418 tasks      | elapsed:    1.1s\n",
      "[Parallel(n_jobs=-1)]: Done 500 out of 500 | elapsed:    1.3s finished\n",
      "[Parallel(n_jobs=16)]: Using backend ThreadingBackend with 16 concurrent workers.\n",
      "[Parallel(n_jobs=16)]: Done  18 tasks      | elapsed:    0.0s\n",
      "[Parallel(n_jobs=16)]: Done 168 tasks      | elapsed:    0.1s\n",
      "[Parallel(n_jobs=16)]: Done 418 tasks      | elapsed:    0.1s\n",
      "[Parallel(n_jobs=16)]: Done 500 out of 500 | elapsed:    0.2s finished\n"
     ]
    },
    {
     "name": "stdout",
     "output_type": "stream",
     "text": [
      "\n",
      "*** ITERACIÓN #011\n",
      "        - Modelo guardado en ../model/threshhold_0.6/randomforest_iterations_011/model_011.joblib\n",
      "        - Probabilidades guardadas en ../model/threshhold_0.6/randomforest_iterations_011/probas_011.npy\n",
      "        - Pixeles de entrenamiento: 878\n",
      "        - Pixeles con proba>=0.6: 19\n",
      "        - Pixeles con proba<0.6: 1103\n"
     ]
    },
    {
     "name": "stderr",
     "output_type": "stream",
     "text": [
      "[Parallel(n_jobs=-1)]: Using backend ThreadingBackend with 16 concurrent workers.\n",
      "[Parallel(n_jobs=-1)]: Done  18 tasks      | elapsed:    0.1s\n",
      "[Parallel(n_jobs=-1)]: Done 168 tasks      | elapsed:    0.5s\n",
      "[Parallel(n_jobs=-1)]: Done 418 tasks      | elapsed:    1.1s\n",
      "[Parallel(n_jobs=-1)]: Done 500 out of 500 | elapsed:    1.3s finished\n",
      "[Parallel(n_jobs=16)]: Using backend ThreadingBackend with 16 concurrent workers.\n",
      "[Parallel(n_jobs=16)]: Done  18 tasks      | elapsed:    0.0s\n",
      "[Parallel(n_jobs=16)]: Done 168 tasks      | elapsed:    0.1s\n",
      "[Parallel(n_jobs=16)]: Done 418 tasks      | elapsed:    0.1s\n",
      "[Parallel(n_jobs=16)]: Done 500 out of 500 | elapsed:    0.2s finished\n"
     ]
    },
    {
     "name": "stdout",
     "output_type": "stream",
     "text": [
      "\n",
      "*** ITERACIÓN #012\n",
      "        - Modelo guardado en ../model/threshhold_0.6/randomforest_iterations_012/model_012.joblib\n",
      "        - Probabilidades guardadas en ../model/threshhold_0.6/randomforest_iterations_012/probas_012.npy\n",
      "        - Pixeles de entrenamiento: 897\n",
      "        - Pixeles con proba>=0.6: 30\n",
      "        - Pixeles con proba<0.6: 1073\n"
     ]
    },
    {
     "name": "stderr",
     "output_type": "stream",
     "text": [
      "[Parallel(n_jobs=-1)]: Using backend ThreadingBackend with 16 concurrent workers.\n",
      "[Parallel(n_jobs=-1)]: Done  18 tasks      | elapsed:    0.1s\n",
      "[Parallel(n_jobs=-1)]: Done 168 tasks      | elapsed:    0.5s\n",
      "[Parallel(n_jobs=-1)]: Done 418 tasks      | elapsed:    1.1s\n",
      "[Parallel(n_jobs=-1)]: Done 500 out of 500 | elapsed:    1.3s finished\n",
      "[Parallel(n_jobs=16)]: Using backend ThreadingBackend with 16 concurrent workers.\n",
      "[Parallel(n_jobs=16)]: Done  18 tasks      | elapsed:    0.0s\n",
      "[Parallel(n_jobs=16)]: Done 168 tasks      | elapsed:    0.1s\n",
      "[Parallel(n_jobs=16)]: Done 418 tasks      | elapsed:    0.1s\n",
      "[Parallel(n_jobs=16)]: Done 500 out of 500 | elapsed:    0.2s finished\n"
     ]
    },
    {
     "name": "stdout",
     "output_type": "stream",
     "text": [
      "\n",
      "*** ITERACIÓN #013\n",
      "        - Modelo guardado en ../model/threshhold_0.6/randomforest_iterations_013/model_013.joblib\n",
      "        - Probabilidades guardadas en ../model/threshhold_0.6/randomforest_iterations_013/probas_013.npy\n",
      "        - Pixeles de entrenamiento: 927\n",
      "        - Pixeles con proba>=0.6: 54\n",
      "        - Pixeles con proba<0.6: 1019\n"
     ]
    },
    {
     "name": "stderr",
     "output_type": "stream",
     "text": [
      "[Parallel(n_jobs=-1)]: Using backend ThreadingBackend with 16 concurrent workers.\n",
      "[Parallel(n_jobs=-1)]: Done  18 tasks      | elapsed:    0.1s\n",
      "[Parallel(n_jobs=-1)]: Done 168 tasks      | elapsed:    0.5s\n",
      "[Parallel(n_jobs=-1)]: Done 418 tasks      | elapsed:    1.1s\n",
      "[Parallel(n_jobs=-1)]: Done 500 out of 500 | elapsed:    1.3s finished\n",
      "[Parallel(n_jobs=16)]: Using backend ThreadingBackend with 16 concurrent workers.\n",
      "[Parallel(n_jobs=16)]: Done  18 tasks      | elapsed:    0.0s\n",
      "[Parallel(n_jobs=16)]: Done 168 tasks      | elapsed:    0.1s\n",
      "[Parallel(n_jobs=16)]: Done 418 tasks      | elapsed:    0.1s\n",
      "[Parallel(n_jobs=16)]: Done 500 out of 500 | elapsed:    0.2s finished\n"
     ]
    },
    {
     "name": "stdout",
     "output_type": "stream",
     "text": [
      "\n",
      "*** ITERACIÓN #014\n",
      "        - Modelo guardado en ../model/threshhold_0.6/randomforest_iterations_014/model_014.joblib\n",
      "        - Probabilidades guardadas en ../model/threshhold_0.6/randomforest_iterations_014/probas_014.npy\n",
      "        - Pixeles de entrenamiento: 981\n",
      "        - Pixeles con proba>=0.6: 77\n",
      "        - Pixeles con proba<0.6: 942\n"
     ]
    },
    {
     "name": "stderr",
     "output_type": "stream",
     "text": [
      "[Parallel(n_jobs=-1)]: Using backend ThreadingBackend with 16 concurrent workers.\n",
      "[Parallel(n_jobs=-1)]: Done  18 tasks      | elapsed:    0.1s\n",
      "[Parallel(n_jobs=-1)]: Done 168 tasks      | elapsed:    0.5s\n",
      "[Parallel(n_jobs=-1)]: Done 418 tasks      | elapsed:    1.2s\n",
      "[Parallel(n_jobs=-1)]: Done 500 out of 500 | elapsed:    1.4s finished\n",
      "[Parallel(n_jobs=16)]: Using backend ThreadingBackend with 16 concurrent workers.\n",
      "[Parallel(n_jobs=16)]: Done  18 tasks      | elapsed:    0.0s\n",
      "[Parallel(n_jobs=16)]: Done 168 tasks      | elapsed:    0.1s\n",
      "[Parallel(n_jobs=16)]: Done 418 tasks      | elapsed:    0.1s\n",
      "[Parallel(n_jobs=16)]: Done 500 out of 500 | elapsed:    0.2s finished\n"
     ]
    },
    {
     "name": "stdout",
     "output_type": "stream",
     "text": [
      "\n",
      "*** ITERACIÓN #015\n",
      "        - Modelo guardado en ../model/threshhold_0.6/randomforest_iterations_015/model_015.joblib\n",
      "        - Probabilidades guardadas en ../model/threshhold_0.6/randomforest_iterations_015/probas_015.npy\n",
      "        - Pixeles de entrenamiento: 1058\n",
      "        - Pixeles con proba>=0.6: 48\n",
      "        - Pixeles con proba<0.6: 894\n"
     ]
    },
    {
     "name": "stderr",
     "output_type": "stream",
     "text": [
      "[Parallel(n_jobs=-1)]: Using backend ThreadingBackend with 16 concurrent workers.\n",
      "[Parallel(n_jobs=-1)]: Done  18 tasks      | elapsed:    0.1s\n",
      "[Parallel(n_jobs=-1)]: Done 168 tasks      | elapsed:    0.5s\n",
      "[Parallel(n_jobs=-1)]: Done 418 tasks      | elapsed:    1.2s\n",
      "[Parallel(n_jobs=-1)]: Done 500 out of 500 | elapsed:    1.4s finished\n",
      "[Parallel(n_jobs=16)]: Using backend ThreadingBackend with 16 concurrent workers.\n",
      "[Parallel(n_jobs=16)]: Done  18 tasks      | elapsed:    0.0s\n",
      "[Parallel(n_jobs=16)]: Done 168 tasks      | elapsed:    0.1s\n",
      "[Parallel(n_jobs=16)]: Done 418 tasks      | elapsed:    0.1s\n",
      "[Parallel(n_jobs=16)]: Done 500 out of 500 | elapsed:    0.2s finished\n"
     ]
    },
    {
     "name": "stdout",
     "output_type": "stream",
     "text": [
      "\n",
      "*** ITERACIÓN #016\n",
      "        - Modelo guardado en ../model/threshhold_0.6/randomforest_iterations_016/model_016.joblib\n",
      "        - Probabilidades guardadas en ../model/threshhold_0.6/randomforest_iterations_016/probas_016.npy\n",
      "        - Pixeles de entrenamiento: 1106\n",
      "        - Pixeles con proba>=0.6: 38\n",
      "        - Pixeles con proba<0.6: 856\n"
     ]
    },
    {
     "name": "stderr",
     "output_type": "stream",
     "text": [
      "[Parallel(n_jobs=-1)]: Using backend ThreadingBackend with 16 concurrent workers.\n",
      "[Parallel(n_jobs=-1)]: Done  18 tasks      | elapsed:    0.1s\n",
      "[Parallel(n_jobs=-1)]: Done 168 tasks      | elapsed:    0.5s\n",
      "[Parallel(n_jobs=-1)]: Done 418 tasks      | elapsed:    1.3s\n",
      "[Parallel(n_jobs=-1)]: Done 500 out of 500 | elapsed:    1.5s finished\n",
      "[Parallel(n_jobs=16)]: Using backend ThreadingBackend with 16 concurrent workers.\n",
      "[Parallel(n_jobs=16)]: Done  18 tasks      | elapsed:    0.0s\n",
      "[Parallel(n_jobs=16)]: Done 168 tasks      | elapsed:    0.1s\n",
      "[Parallel(n_jobs=16)]: Done 418 tasks      | elapsed:    0.1s\n",
      "[Parallel(n_jobs=16)]: Done 500 out of 500 | elapsed:    0.2s finished\n"
     ]
    },
    {
     "name": "stdout",
     "output_type": "stream",
     "text": [
      "\n",
      "*** ITERACIÓN #017\n",
      "        - Modelo guardado en ../model/threshhold_0.6/randomforest_iterations_017/model_017.joblib\n",
      "        - Probabilidades guardadas en ../model/threshhold_0.6/randomforest_iterations_017/probas_017.npy\n",
      "        - Pixeles de entrenamiento: 1144\n",
      "        - Pixeles con proba>=0.6: 23\n",
      "        - Pixeles con proba<0.6: 833\n"
     ]
    },
    {
     "name": "stderr",
     "output_type": "stream",
     "text": [
      "[Parallel(n_jobs=-1)]: Using backend ThreadingBackend with 16 concurrent workers.\n",
      "[Parallel(n_jobs=-1)]: Done  18 tasks      | elapsed:    0.1s\n",
      "[Parallel(n_jobs=-1)]: Done 168 tasks      | elapsed:    0.5s\n",
      "[Parallel(n_jobs=-1)]: Done 418 tasks      | elapsed:    1.3s\n",
      "[Parallel(n_jobs=-1)]: Done 500 out of 500 | elapsed:    1.5s finished\n",
      "[Parallel(n_jobs=16)]: Using backend ThreadingBackend with 16 concurrent workers.\n",
      "[Parallel(n_jobs=16)]: Done  18 tasks      | elapsed:    0.0s\n",
      "[Parallel(n_jobs=16)]: Done 168 tasks      | elapsed:    0.1s\n",
      "[Parallel(n_jobs=16)]: Done 418 tasks      | elapsed:    0.1s\n",
      "[Parallel(n_jobs=16)]: Done 500 out of 500 | elapsed:    0.2s finished\n"
     ]
    },
    {
     "name": "stdout",
     "output_type": "stream",
     "text": [
      "\n",
      "*** ITERACIÓN #018\n",
      "        - Modelo guardado en ../model/threshhold_0.6/randomforest_iterations_018/model_018.joblib\n",
      "        - Probabilidades guardadas en ../model/threshhold_0.6/randomforest_iterations_018/probas_018.npy\n",
      "        - Pixeles de entrenamiento: 1167\n",
      "        - Pixeles con proba>=0.6: 65\n",
      "        - Pixeles con proba<0.6: 768\n"
     ]
    },
    {
     "name": "stderr",
     "output_type": "stream",
     "text": [
      "[Parallel(n_jobs=-1)]: Using backend ThreadingBackend with 16 concurrent workers.\n",
      "[Parallel(n_jobs=-1)]: Done  18 tasks      | elapsed:    0.1s\n",
      "[Parallel(n_jobs=-1)]: Done 168 tasks      | elapsed:    0.5s\n",
      "[Parallel(n_jobs=-1)]: Done 418 tasks      | elapsed:    1.3s\n",
      "[Parallel(n_jobs=-1)]: Done 500 out of 500 | elapsed:    1.5s finished\n",
      "[Parallel(n_jobs=16)]: Using backend ThreadingBackend with 16 concurrent workers.\n",
      "[Parallel(n_jobs=16)]: Done  18 tasks      | elapsed:    0.0s\n",
      "[Parallel(n_jobs=16)]: Done 168 tasks      | elapsed:    0.1s\n",
      "[Parallel(n_jobs=16)]: Done 418 tasks      | elapsed:    0.1s\n",
      "[Parallel(n_jobs=16)]: Done 500 out of 500 | elapsed:    0.1s finished\n"
     ]
    },
    {
     "name": "stdout",
     "output_type": "stream",
     "text": [
      "\n",
      "*** ITERACIÓN #019\n",
      "        - Modelo guardado en ../model/threshhold_0.6/randomforest_iterations_019/model_019.joblib\n",
      "        - Probabilidades guardadas en ../model/threshhold_0.6/randomforest_iterations_019/probas_019.npy\n",
      "        - Pixeles de entrenamiento: 1232\n",
      "        - Pixeles con proba>=0.6: 47\n",
      "        - Pixeles con proba<0.6: 721\n"
     ]
    },
    {
     "name": "stderr",
     "output_type": "stream",
     "text": [
      "[Parallel(n_jobs=-1)]: Using backend ThreadingBackend with 16 concurrent workers.\n",
      "[Parallel(n_jobs=-1)]: Done  18 tasks      | elapsed:    0.1s\n",
      "[Parallel(n_jobs=-1)]: Done 168 tasks      | elapsed:    0.5s\n",
      "[Parallel(n_jobs=-1)]: Done 418 tasks      | elapsed:    1.3s\n",
      "[Parallel(n_jobs=-1)]: Done 500 out of 500 | elapsed:    1.5s finished\n",
      "[Parallel(n_jobs=16)]: Using backend ThreadingBackend with 16 concurrent workers.\n",
      "[Parallel(n_jobs=16)]: Done  18 tasks      | elapsed:    0.0s\n",
      "[Parallel(n_jobs=16)]: Done 168 tasks      | elapsed:    0.1s\n",
      "[Parallel(n_jobs=16)]: Done 418 tasks      | elapsed:    0.1s\n",
      "[Parallel(n_jobs=16)]: Done 500 out of 500 | elapsed:    0.1s finished\n"
     ]
    },
    {
     "name": "stdout",
     "output_type": "stream",
     "text": [
      "\n",
      "*** ITERACIÓN #020\n",
      "        - Modelo guardado en ../model/threshhold_0.6/randomforest_iterations_020/model_020.joblib\n",
      "        - Probabilidades guardadas en ../model/threshhold_0.6/randomforest_iterations_020/probas_020.npy\n",
      "        - Pixeles de entrenamiento: 1279\n",
      "        - Pixeles con proba>=0.6: 44\n",
      "        - Pixeles con proba<0.6: 677\n"
     ]
    },
    {
     "name": "stderr",
     "output_type": "stream",
     "text": [
      "[Parallel(n_jobs=-1)]: Using backend ThreadingBackend with 16 concurrent workers.\n",
      "[Parallel(n_jobs=-1)]: Done  18 tasks      | elapsed:    0.1s\n",
      "[Parallel(n_jobs=-1)]: Done 168 tasks      | elapsed:    0.5s\n",
      "[Parallel(n_jobs=-1)]: Done 418 tasks      | elapsed:    1.3s\n",
      "[Parallel(n_jobs=-1)]: Done 500 out of 500 | elapsed:    1.5s finished\n",
      "[Parallel(n_jobs=16)]: Using backend ThreadingBackend with 16 concurrent workers.\n",
      "[Parallel(n_jobs=16)]: Done  18 tasks      | elapsed:    0.0s\n",
      "[Parallel(n_jobs=16)]: Done 168 tasks      | elapsed:    0.1s\n",
      "[Parallel(n_jobs=16)]: Done 418 tasks      | elapsed:    0.1s\n",
      "[Parallel(n_jobs=16)]: Done 500 out of 500 | elapsed:    0.1s finished\n"
     ]
    },
    {
     "name": "stdout",
     "output_type": "stream",
     "text": [
      "\n",
      "*** ITERACIÓN #021\n",
      "        - Modelo guardado en ../model/threshhold_0.6/randomforest_iterations_021/model_021.joblib\n",
      "        - Probabilidades guardadas en ../model/threshhold_0.6/randomforest_iterations_021/probas_021.npy\n",
      "        - Pixeles de entrenamiento: 1323\n",
      "        - Pixeles con proba>=0.6: 52\n",
      "        - Pixeles con proba<0.6: 625\n"
     ]
    },
    {
     "name": "stderr",
     "output_type": "stream",
     "text": [
      "[Parallel(n_jobs=-1)]: Using backend ThreadingBackend with 16 concurrent workers.\n",
      "[Parallel(n_jobs=-1)]: Done  18 tasks      | elapsed:    0.1s\n",
      "[Parallel(n_jobs=-1)]: Done 168 tasks      | elapsed:    0.6s\n",
      "[Parallel(n_jobs=-1)]: Done 418 tasks      | elapsed:    1.4s\n",
      "[Parallel(n_jobs=-1)]: Done 500 out of 500 | elapsed:    1.6s finished\n",
      "[Parallel(n_jobs=16)]: Using backend ThreadingBackend with 16 concurrent workers.\n",
      "[Parallel(n_jobs=16)]: Done  18 tasks      | elapsed:    0.0s\n",
      "[Parallel(n_jobs=16)]: Done 168 tasks      | elapsed:    0.1s\n",
      "[Parallel(n_jobs=16)]: Done 418 tasks      | elapsed:    0.1s\n",
      "[Parallel(n_jobs=16)]: Done 500 out of 500 | elapsed:    0.2s finished\n"
     ]
    },
    {
     "name": "stdout",
     "output_type": "stream",
     "text": [
      "\n",
      "*** ITERACIÓN #022\n",
      "        - Modelo guardado en ../model/threshhold_0.6/randomforest_iterations_022/model_022.joblib\n",
      "        - Probabilidades guardadas en ../model/threshhold_0.6/randomforest_iterations_022/probas_022.npy\n",
      "        - Pixeles de entrenamiento: 1375\n",
      "        - Pixeles con proba>=0.6: 42\n",
      "        - Pixeles con proba<0.6: 583\n"
     ]
    },
    {
     "name": "stderr",
     "output_type": "stream",
     "text": [
      "[Parallel(n_jobs=-1)]: Using backend ThreadingBackend with 16 concurrent workers.\n",
      "[Parallel(n_jobs=-1)]: Done  18 tasks      | elapsed:    0.1s\n",
      "[Parallel(n_jobs=-1)]: Done 168 tasks      | elapsed:    0.6s\n",
      "[Parallel(n_jobs=-1)]: Done 418 tasks      | elapsed:    1.4s\n",
      "[Parallel(n_jobs=-1)]: Done 500 out of 500 | elapsed:    1.6s finished\n",
      "[Parallel(n_jobs=16)]: Using backend ThreadingBackend with 16 concurrent workers.\n",
      "[Parallel(n_jobs=16)]: Done  18 tasks      | elapsed:    0.0s\n",
      "[Parallel(n_jobs=16)]: Done 168 tasks      | elapsed:    0.1s\n",
      "[Parallel(n_jobs=16)]: Done 418 tasks      | elapsed:    0.1s\n",
      "[Parallel(n_jobs=16)]: Done 500 out of 500 | elapsed:    0.1s finished\n"
     ]
    },
    {
     "name": "stdout",
     "output_type": "stream",
     "text": [
      "\n",
      "*** ITERACIÓN #023\n",
      "        - Modelo guardado en ../model/threshhold_0.6/randomforest_iterations_023/model_023.joblib\n",
      "        - Probabilidades guardadas en ../model/threshhold_0.6/randomforest_iterations_023/probas_023.npy\n",
      "        - Pixeles de entrenamiento: 1417\n",
      "        - Pixeles con proba>=0.6: 30\n",
      "        - Pixeles con proba<0.6: 553\n"
     ]
    },
    {
     "name": "stderr",
     "output_type": "stream",
     "text": [
      "[Parallel(n_jobs=-1)]: Using backend ThreadingBackend with 16 concurrent workers.\n",
      "[Parallel(n_jobs=-1)]: Done  18 tasks      | elapsed:    0.1s\n",
      "[Parallel(n_jobs=-1)]: Done 168 tasks      | elapsed:    0.6s\n",
      "[Parallel(n_jobs=-1)]: Done 418 tasks      | elapsed:    1.4s\n",
      "[Parallel(n_jobs=-1)]: Done 500 out of 500 | elapsed:    1.6s finished\n",
      "[Parallel(n_jobs=16)]: Using backend ThreadingBackend with 16 concurrent workers.\n",
      "[Parallel(n_jobs=16)]: Done  18 tasks      | elapsed:    0.0s\n",
      "[Parallel(n_jobs=16)]: Done 168 tasks      | elapsed:    0.1s\n",
      "[Parallel(n_jobs=16)]: Done 418 tasks      | elapsed:    0.1s\n",
      "[Parallel(n_jobs=16)]: Done 500 out of 500 | elapsed:    0.1s finished\n"
     ]
    },
    {
     "name": "stdout",
     "output_type": "stream",
     "text": [
      "\n",
      "*** ITERACIÓN #024\n",
      "        - Modelo guardado en ../model/threshhold_0.6/randomforest_iterations_024/model_024.joblib\n",
      "        - Probabilidades guardadas en ../model/threshhold_0.6/randomforest_iterations_024/probas_024.npy\n",
      "        - Pixeles de entrenamiento: 1447\n",
      "        - Pixeles con proba>=0.6: 17\n",
      "        - Pixeles con proba<0.6: 536\n"
     ]
    },
    {
     "name": "stderr",
     "output_type": "stream",
     "text": [
      "[Parallel(n_jobs=-1)]: Using backend ThreadingBackend with 16 concurrent workers.\n",
      "[Parallel(n_jobs=-1)]: Done  18 tasks      | elapsed:    0.1s\n",
      "[Parallel(n_jobs=-1)]: Done 168 tasks      | elapsed:    0.6s\n",
      "[Parallel(n_jobs=-1)]: Done 418 tasks      | elapsed:    1.4s\n",
      "[Parallel(n_jobs=-1)]: Done 500 out of 500 | elapsed:    1.7s finished\n",
      "[Parallel(n_jobs=16)]: Using backend ThreadingBackend with 16 concurrent workers.\n",
      "[Parallel(n_jobs=16)]: Done  18 tasks      | elapsed:    0.0s\n",
      "[Parallel(n_jobs=16)]: Done 168 tasks      | elapsed:    0.1s\n",
      "[Parallel(n_jobs=16)]: Done 418 tasks      | elapsed:    0.1s\n",
      "[Parallel(n_jobs=16)]: Done 500 out of 500 | elapsed:    0.1s finished\n"
     ]
    },
    {
     "name": "stdout",
     "output_type": "stream",
     "text": [
      "\n",
      "*** ITERACIÓN #025\n",
      "        - Modelo guardado en ../model/threshhold_0.6/randomforest_iterations_025/model_025.joblib\n",
      "        - Probabilidades guardadas en ../model/threshhold_0.6/randomforest_iterations_025/probas_025.npy\n",
      "        - Pixeles de entrenamiento: 1464\n",
      "        - Pixeles con proba>=0.6: 6\n",
      "        - Pixeles con proba<0.6: 530\n"
     ]
    },
    {
     "name": "stderr",
     "output_type": "stream",
     "text": [
      "[Parallel(n_jobs=-1)]: Using backend ThreadingBackend with 16 concurrent workers.\n",
      "[Parallel(n_jobs=-1)]: Done  18 tasks      | elapsed:    0.1s\n",
      "[Parallel(n_jobs=-1)]: Done 168 tasks      | elapsed:    0.6s\n",
      "[Parallel(n_jobs=-1)]: Done 418 tasks      | elapsed:    1.4s\n",
      "[Parallel(n_jobs=-1)]: Done 500 out of 500 | elapsed:    1.6s finished\n",
      "[Parallel(n_jobs=16)]: Using backend ThreadingBackend with 16 concurrent workers.\n",
      "[Parallel(n_jobs=16)]: Done  18 tasks      | elapsed:    0.0s\n",
      "[Parallel(n_jobs=16)]: Done 168 tasks      | elapsed:    0.1s\n",
      "[Parallel(n_jobs=16)]: Done 418 tasks      | elapsed:    0.1s\n",
      "[Parallel(n_jobs=16)]: Done 500 out of 500 | elapsed:    0.1s finished\n"
     ]
    },
    {
     "name": "stdout",
     "output_type": "stream",
     "text": [
      "\n",
      "*** ITERACIÓN #026\n",
      "        - Modelo guardado en ../model/threshhold_0.6/randomforest_iterations_026/model_026.joblib\n",
      "        - Probabilidades guardadas en ../model/threshhold_0.6/randomforest_iterations_026/probas_026.npy\n",
      "        - Pixeles de entrenamiento: 1470\n",
      "        - Pixeles con proba>=0.6: 8\n",
      "        - Pixeles con proba<0.6: 522\n"
     ]
    },
    {
     "name": "stderr",
     "output_type": "stream",
     "text": [
      "[Parallel(n_jobs=-1)]: Using backend ThreadingBackend with 16 concurrent workers.\n",
      "[Parallel(n_jobs=-1)]: Done  18 tasks      | elapsed:    0.1s\n",
      "[Parallel(n_jobs=-1)]: Done 168 tasks      | elapsed:    0.6s\n",
      "[Parallel(n_jobs=-1)]: Done 418 tasks      | elapsed:    1.4s\n",
      "[Parallel(n_jobs=-1)]: Done 500 out of 500 | elapsed:    1.6s finished\n",
      "[Parallel(n_jobs=16)]: Using backend ThreadingBackend with 16 concurrent workers.\n",
      "[Parallel(n_jobs=16)]: Done  18 tasks      | elapsed:    0.0s\n",
      "[Parallel(n_jobs=16)]: Done 168 tasks      | elapsed:    0.0s\n",
      "[Parallel(n_jobs=16)]: Done 418 tasks      | elapsed:    0.1s\n",
      "[Parallel(n_jobs=16)]: Done 500 out of 500 | elapsed:    0.1s finished\n"
     ]
    },
    {
     "name": "stdout",
     "output_type": "stream",
     "text": [
      "\n",
      "*** ITERACIÓN #027\n",
      "        - Modelo guardado en ../model/threshhold_0.6/randomforest_iterations_027/model_027.joblib\n",
      "        - Probabilidades guardadas en ../model/threshhold_0.6/randomforest_iterations_027/probas_027.npy\n",
      "        - Pixeles de entrenamiento: 1478\n",
      "        - Pixeles con proba>=0.6: 8\n",
      "        - Pixeles con proba<0.6: 514\n"
     ]
    },
    {
     "name": "stderr",
     "output_type": "stream",
     "text": [
      "[Parallel(n_jobs=-1)]: Using backend ThreadingBackend with 16 concurrent workers.\n",
      "[Parallel(n_jobs=-1)]: Done  18 tasks      | elapsed:    0.1s\n",
      "[Parallel(n_jobs=-1)]: Done 168 tasks      | elapsed:    0.6s\n",
      "[Parallel(n_jobs=-1)]: Done 418 tasks      | elapsed:    1.4s\n",
      "[Parallel(n_jobs=-1)]: Done 500 out of 500 | elapsed:    1.6s finished\n",
      "[Parallel(n_jobs=16)]: Using backend ThreadingBackend with 16 concurrent workers.\n",
      "[Parallel(n_jobs=16)]: Done  18 tasks      | elapsed:    0.0s\n",
      "[Parallel(n_jobs=16)]: Done 168 tasks      | elapsed:    0.1s\n",
      "[Parallel(n_jobs=16)]: Done 418 tasks      | elapsed:    0.1s\n",
      "[Parallel(n_jobs=16)]: Done 500 out of 500 | elapsed:    0.2s finished\n"
     ]
    },
    {
     "name": "stdout",
     "output_type": "stream",
     "text": [
      "\n",
      "*** ITERACIÓN #028\n",
      "        - Modelo guardado en ../model/threshhold_0.6/randomforest_iterations_028/model_028.joblib\n",
      "        - Probabilidades guardadas en ../model/threshhold_0.6/randomforest_iterations_028/probas_028.npy\n",
      "        - Pixeles de entrenamiento: 1486\n",
      "        - Pixeles con proba>=0.6: 5\n",
      "        - Pixeles con proba<0.6: 509\n"
     ]
    },
    {
     "name": "stderr",
     "output_type": "stream",
     "text": [
      "[Parallel(n_jobs=-1)]: Using backend ThreadingBackend with 16 concurrent workers.\n",
      "[Parallel(n_jobs=-1)]: Done  18 tasks      | elapsed:    0.1s\n",
      "[Parallel(n_jobs=-1)]: Done 168 tasks      | elapsed:    0.6s\n",
      "[Parallel(n_jobs=-1)]: Done 418 tasks      | elapsed:    1.4s\n",
      "[Parallel(n_jobs=-1)]: Done 500 out of 500 | elapsed:    1.6s finished\n",
      "[Parallel(n_jobs=16)]: Using backend ThreadingBackend with 16 concurrent workers.\n",
      "[Parallel(n_jobs=16)]: Done  18 tasks      | elapsed:    0.0s\n",
      "[Parallel(n_jobs=16)]: Done 168 tasks      | elapsed:    0.1s\n",
      "[Parallel(n_jobs=16)]: Done 418 tasks      | elapsed:    0.1s\n",
      "[Parallel(n_jobs=16)]: Done 500 out of 500 | elapsed:    0.1s finished\n"
     ]
    },
    {
     "name": "stdout",
     "output_type": "stream",
     "text": [
      "\n",
      "*** ITERACIÓN #029\n",
      "        - Modelo guardado en ../model/threshhold_0.6/randomforest_iterations_029/model_029.joblib\n",
      "        - Probabilidades guardadas en ../model/threshhold_0.6/randomforest_iterations_029/probas_029.npy\n",
      "        - Pixeles de entrenamiento: 1491\n",
      "        - Pixeles con proba>=0.6: 5\n",
      "        - Pixeles con proba<0.6: 504\n"
     ]
    },
    {
     "name": "stderr",
     "output_type": "stream",
     "text": [
      "[Parallel(n_jobs=-1)]: Using backend ThreadingBackend with 16 concurrent workers.\n",
      "[Parallel(n_jobs=-1)]: Done  18 tasks      | elapsed:    0.1s\n",
      "[Parallel(n_jobs=-1)]: Done 168 tasks      | elapsed:    0.6s\n",
      "[Parallel(n_jobs=-1)]: Done 418 tasks      | elapsed:    1.4s\n",
      "[Parallel(n_jobs=-1)]: Done 500 out of 500 | elapsed:    1.6s finished\n",
      "[Parallel(n_jobs=16)]: Using backend ThreadingBackend with 16 concurrent workers.\n",
      "[Parallel(n_jobs=16)]: Done  18 tasks      | elapsed:    0.0s\n",
      "[Parallel(n_jobs=16)]: Done 168 tasks      | elapsed:    0.1s\n",
      "[Parallel(n_jobs=16)]: Done 418 tasks      | elapsed:    0.1s\n",
      "[Parallel(n_jobs=16)]: Done 500 out of 500 | elapsed:    0.1s finished\n"
     ]
    },
    {
     "name": "stdout",
     "output_type": "stream",
     "text": [
      "\n",
      "*** ITERACIÓN #030\n",
      "        - Modelo guardado en ../model/threshhold_0.6/randomforest_iterations_030/model_030.joblib\n",
      "        - Probabilidades guardadas en ../model/threshhold_0.6/randomforest_iterations_030/probas_030.npy\n",
      "        - Pixeles de entrenamiento: 1496\n",
      "        - Pixeles con proba>=0.6: 3\n",
      "        - Pixeles con proba<0.6: 501\n"
     ]
    },
    {
     "name": "stderr",
     "output_type": "stream",
     "text": [
      "[Parallel(n_jobs=-1)]: Using backend ThreadingBackend with 16 concurrent workers.\n",
      "[Parallel(n_jobs=-1)]: Done  18 tasks      | elapsed:    0.1s\n",
      "[Parallel(n_jobs=-1)]: Done 168 tasks      | elapsed:    0.6s\n",
      "[Parallel(n_jobs=-1)]: Done 418 tasks      | elapsed:    1.4s\n",
      "[Parallel(n_jobs=-1)]: Done 500 out of 500 | elapsed:    1.7s finished\n",
      "[Parallel(n_jobs=16)]: Using backend ThreadingBackend with 16 concurrent workers.\n",
      "[Parallel(n_jobs=16)]: Done  18 tasks      | elapsed:    0.0s\n",
      "[Parallel(n_jobs=16)]: Done 168 tasks      | elapsed:    0.1s\n",
      "[Parallel(n_jobs=16)]: Done 418 tasks      | elapsed:    0.1s\n",
      "[Parallel(n_jobs=16)]: Done 500 out of 500 | elapsed:    0.1s finished\n"
     ]
    },
    {
     "name": "stdout",
     "output_type": "stream",
     "text": [
      "\n",
      "*** ITERACIÓN #031\n",
      "        - Modelo guardado en ../model/threshhold_0.6/randomforest_iterations_031/model_031.joblib\n",
      "        - Probabilidades guardadas en ../model/threshhold_0.6/randomforest_iterations_031/probas_031.npy\n",
      "        - Pixeles de entrenamiento: 1499\n",
      "        - Pixeles con proba>=0.6: 2\n",
      "        - Pixeles con proba<0.6: 499\n"
     ]
    },
    {
     "name": "stderr",
     "output_type": "stream",
     "text": [
      "[Parallel(n_jobs=-1)]: Using backend ThreadingBackend with 16 concurrent workers.\n",
      "[Parallel(n_jobs=-1)]: Done  18 tasks      | elapsed:    0.1s\n",
      "[Parallel(n_jobs=-1)]: Done 168 tasks      | elapsed:    0.6s\n",
      "[Parallel(n_jobs=-1)]: Done 418 tasks      | elapsed:    1.4s\n",
      "[Parallel(n_jobs=-1)]: Done 500 out of 500 | elapsed:    1.7s finished\n",
      "[Parallel(n_jobs=16)]: Using backend ThreadingBackend with 16 concurrent workers.\n",
      "[Parallel(n_jobs=16)]: Done  18 tasks      | elapsed:    0.0s\n",
      "[Parallel(n_jobs=16)]: Done 168 tasks      | elapsed:    0.0s\n",
      "[Parallel(n_jobs=16)]: Done 418 tasks      | elapsed:    0.1s\n",
      "[Parallel(n_jobs=16)]: Done 500 out of 500 | elapsed:    0.1s finished\n"
     ]
    },
    {
     "name": "stdout",
     "output_type": "stream",
     "text": [
      "\n",
      "*** ITERACIÓN #032\n",
      "        - Modelo guardado en ../model/threshhold_0.6/randomforest_iterations_032/model_032.joblib\n",
      "        - Probabilidades guardadas en ../model/threshhold_0.6/randomforest_iterations_032/probas_032.npy\n",
      "        - Pixeles de entrenamiento: 1501\n",
      "        - Pixeles con proba>=0.6: 1\n",
      "        - Pixeles con proba<0.6: 498\n"
     ]
    },
    {
     "name": "stderr",
     "output_type": "stream",
     "text": [
      "[Parallel(n_jobs=-1)]: Using backend ThreadingBackend with 16 concurrent workers.\n",
      "[Parallel(n_jobs=-1)]: Done  18 tasks      | elapsed:    0.1s\n",
      "[Parallel(n_jobs=-1)]: Done 168 tasks      | elapsed:    0.6s\n",
      "[Parallel(n_jobs=-1)]: Done 418 tasks      | elapsed:    1.4s\n",
      "[Parallel(n_jobs=-1)]: Done 500 out of 500 | elapsed:    1.6s finished\n",
      "[Parallel(n_jobs=16)]: Using backend ThreadingBackend with 16 concurrent workers.\n",
      "[Parallel(n_jobs=16)]: Done  18 tasks      | elapsed:    0.0s\n",
      "[Parallel(n_jobs=16)]: Done 168 tasks      | elapsed:    0.0s\n",
      "[Parallel(n_jobs=16)]: Done 418 tasks      | elapsed:    0.1s\n",
      "[Parallel(n_jobs=16)]: Done 500 out of 500 | elapsed:    0.1s finished\n"
     ]
    },
    {
     "name": "stdout",
     "output_type": "stream",
     "text": [
      "\n",
      "*** ITERACIÓN #033\n",
      "        - Modelo guardado en ../model/threshhold_0.6/randomforest_iterations_033/model_033.joblib\n",
      "        - Probabilidades guardadas en ../model/threshhold_0.6/randomforest_iterations_033/probas_033.npy\n",
      "        - Pixeles de entrenamiento: 1502\n",
      "        - Pixeles con proba>=0.6: 5\n",
      "        - Pixeles con proba<0.6: 493\n"
     ]
    },
    {
     "name": "stderr",
     "output_type": "stream",
     "text": [
      "[Parallel(n_jobs=-1)]: Using backend ThreadingBackend with 16 concurrent workers.\n",
      "[Parallel(n_jobs=-1)]: Done  18 tasks      | elapsed:    0.1s\n",
      "[Parallel(n_jobs=-1)]: Done 168 tasks      | elapsed:    0.6s\n",
      "[Parallel(n_jobs=-1)]: Done 418 tasks      | elapsed:    1.4s\n",
      "[Parallel(n_jobs=-1)]: Done 500 out of 500 | elapsed:    1.6s finished\n",
      "[Parallel(n_jobs=16)]: Using backend ThreadingBackend with 16 concurrent workers.\n",
      "[Parallel(n_jobs=16)]: Done  18 tasks      | elapsed:    0.0s\n",
      "[Parallel(n_jobs=16)]: Done 168 tasks      | elapsed:    0.1s\n",
      "[Parallel(n_jobs=16)]: Done 418 tasks      | elapsed:    0.1s\n",
      "[Parallel(n_jobs=16)]: Done 500 out of 500 | elapsed:    0.1s finished\n"
     ]
    },
    {
     "name": "stdout",
     "output_type": "stream",
     "text": [
      "\n",
      "*** ITERACIÓN #034\n",
      "        - Modelo guardado en ../model/threshhold_0.6/randomforest_iterations_034/model_034.joblib\n",
      "        - Probabilidades guardadas en ../model/threshhold_0.6/randomforest_iterations_034/probas_034.npy\n",
      "        - Pixeles de entrenamiento: 1507\n",
      "        - Pixeles con proba>=0.6: 30\n",
      "        - Pixeles con proba<0.6: 463\n"
     ]
    },
    {
     "name": "stderr",
     "output_type": "stream",
     "text": [
      "[Parallel(n_jobs=-1)]: Using backend ThreadingBackend with 16 concurrent workers.\n",
      "[Parallel(n_jobs=-1)]: Done  18 tasks      | elapsed:    0.1s\n",
      "[Parallel(n_jobs=-1)]: Done 168 tasks      | elapsed:    0.6s\n",
      "[Parallel(n_jobs=-1)]: Done 418 tasks      | elapsed:    1.4s\n",
      "[Parallel(n_jobs=-1)]: Done 500 out of 500 | elapsed:    1.7s finished\n",
      "[Parallel(n_jobs=16)]: Using backend ThreadingBackend with 16 concurrent workers.\n",
      "[Parallel(n_jobs=16)]: Done  18 tasks      | elapsed:    0.0s\n",
      "[Parallel(n_jobs=16)]: Done 168 tasks      | elapsed:    0.0s\n",
      "[Parallel(n_jobs=16)]: Done 418 tasks      | elapsed:    0.1s\n",
      "[Parallel(n_jobs=16)]: Done 500 out of 500 | elapsed:    0.1s finished\n"
     ]
    },
    {
     "name": "stdout",
     "output_type": "stream",
     "text": [
      "\n",
      "*** ITERACIÓN #035\n",
      "        - Modelo guardado en ../model/threshhold_0.6/randomforest_iterations_035/model_035.joblib\n",
      "        - Probabilidades guardadas en ../model/threshhold_0.6/randomforest_iterations_035/probas_035.npy\n",
      "        - Pixeles de entrenamiento: 1537\n",
      "        - Pixeles con proba>=0.6: 14\n",
      "        - Pixeles con proba<0.6: 449\n"
     ]
    },
    {
     "name": "stderr",
     "output_type": "stream",
     "text": [
      "[Parallel(n_jobs=-1)]: Using backend ThreadingBackend with 16 concurrent workers.\n",
      "[Parallel(n_jobs=-1)]: Done  18 tasks      | elapsed:    0.1s\n",
      "[Parallel(n_jobs=-1)]: Done 168 tasks      | elapsed:    0.6s\n",
      "[Parallel(n_jobs=-1)]: Done 418 tasks      | elapsed:    1.4s\n",
      "[Parallel(n_jobs=-1)]: Done 500 out of 500 | elapsed:    1.7s finished\n",
      "[Parallel(n_jobs=16)]: Using backend ThreadingBackend with 16 concurrent workers.\n",
      "[Parallel(n_jobs=16)]: Done  18 tasks      | elapsed:    0.0s\n",
      "[Parallel(n_jobs=16)]: Done 168 tasks      | elapsed:    0.1s\n",
      "[Parallel(n_jobs=16)]: Done 418 tasks      | elapsed:    0.1s\n",
      "[Parallel(n_jobs=16)]: Done 500 out of 500 | elapsed:    0.1s finished\n"
     ]
    },
    {
     "name": "stdout",
     "output_type": "stream",
     "text": [
      "\n",
      "*** ITERACIÓN #036\n",
      "        - Modelo guardado en ../model/threshhold_0.6/randomforest_iterations_036/model_036.joblib\n",
      "        - Probabilidades guardadas en ../model/threshhold_0.6/randomforest_iterations_036/probas_036.npy\n",
      "        - Pixeles de entrenamiento: 1551\n",
      "        - Pixeles con proba>=0.6: 6\n",
      "        - Pixeles con proba<0.6: 443\n"
     ]
    },
    {
     "name": "stderr",
     "output_type": "stream",
     "text": [
      "[Parallel(n_jobs=-1)]: Using backend ThreadingBackend with 16 concurrent workers.\n",
      "[Parallel(n_jobs=-1)]: Done  18 tasks      | elapsed:    0.1s\n",
      "[Parallel(n_jobs=-1)]: Done 168 tasks      | elapsed:    0.6s\n",
      "[Parallel(n_jobs=-1)]: Done 418 tasks      | elapsed:    1.5s\n",
      "[Parallel(n_jobs=-1)]: Done 500 out of 500 | elapsed:    1.7s finished\n",
      "[Parallel(n_jobs=16)]: Using backend ThreadingBackend with 16 concurrent workers.\n",
      "[Parallel(n_jobs=16)]: Done  18 tasks      | elapsed:    0.0s\n",
      "[Parallel(n_jobs=16)]: Done 168 tasks      | elapsed:    0.0s\n",
      "[Parallel(n_jobs=16)]: Done 418 tasks      | elapsed:    0.1s\n",
      "[Parallel(n_jobs=16)]: Done 500 out of 500 | elapsed:    0.1s finished\n"
     ]
    },
    {
     "name": "stdout",
     "output_type": "stream",
     "text": [
      "\n",
      "*** ITERACIÓN #037\n",
      "        - Modelo guardado en ../model/threshhold_0.6/randomforest_iterations_037/model_037.joblib\n",
      "        - Probabilidades guardadas en ../model/threshhold_0.6/randomforest_iterations_037/probas_037.npy\n",
      "        - Pixeles de entrenamiento: 1557\n",
      "        - Pixeles con proba>=0.6: 4\n",
      "        - Pixeles con proba<0.6: 439\n"
     ]
    },
    {
     "name": "stderr",
     "output_type": "stream",
     "text": [
      "[Parallel(n_jobs=-1)]: Using backend ThreadingBackend with 16 concurrent workers.\n",
      "[Parallel(n_jobs=-1)]: Done  18 tasks      | elapsed:    0.1s\n",
      "[Parallel(n_jobs=-1)]: Done 168 tasks      | elapsed:    0.6s\n",
      "[Parallel(n_jobs=-1)]: Done 418 tasks      | elapsed:    1.5s\n",
      "[Parallel(n_jobs=-1)]: Done 500 out of 500 | elapsed:    1.7s finished\n",
      "[Parallel(n_jobs=16)]: Using backend ThreadingBackend with 16 concurrent workers.\n",
      "[Parallel(n_jobs=16)]: Done  18 tasks      | elapsed:    0.0s\n",
      "[Parallel(n_jobs=16)]: Done 168 tasks      | elapsed:    0.0s\n",
      "[Parallel(n_jobs=16)]: Done 418 tasks      | elapsed:    0.1s\n",
      "[Parallel(n_jobs=16)]: Done 500 out of 500 | elapsed:    0.1s finished\n"
     ]
    },
    {
     "name": "stdout",
     "output_type": "stream",
     "text": [
      "\n",
      "*** ITERACIÓN #038\n",
      "        - Modelo guardado en ../model/threshhold_0.6/randomforest_iterations_038/model_038.joblib\n",
      "        - Probabilidades guardadas en ../model/threshhold_0.6/randomforest_iterations_038/probas_038.npy\n",
      "        - Pixeles de entrenamiento: 1561\n",
      "        - Pixeles con proba>=0.6: 0\n",
      "        - Pixeles con proba<0.6: 439\n",
      "+++++ PREDICCIONES PARA THRESHOLD 0.65\n"
     ]
    },
    {
     "name": "stderr",
     "output_type": "stream",
     "text": [
      "[Parallel(n_jobs=-1)]: Using backend ThreadingBackend with 16 concurrent workers.\n",
      "[Parallel(n_jobs=-1)]: Done  18 tasks      | elapsed:    0.1s\n",
      "[Parallel(n_jobs=-1)]: Done 168 tasks      | elapsed:    0.3s\n",
      "[Parallel(n_jobs=-1)]: Done 418 tasks      | elapsed:    0.8s\n",
      "[Parallel(n_jobs=-1)]: Done 500 out of 500 | elapsed:    1.0s finished\n",
      "[Parallel(n_jobs=16)]: Using backend ThreadingBackend with 16 concurrent workers.\n",
      "[Parallel(n_jobs=16)]: Done  18 tasks      | elapsed:    0.0s\n",
      "[Parallel(n_jobs=16)]: Done 168 tasks      | elapsed:    0.1s\n",
      "[Parallel(n_jobs=16)]: Done 418 tasks      | elapsed:    0.1s\n",
      "[Parallel(n_jobs=16)]: Done 500 out of 500 | elapsed:    0.2s finished\n"
     ]
    },
    {
     "name": "stdout",
     "output_type": "stream",
     "text": [
      "\n",
      "*** ITERACIÓN #000\n",
      "        - Modelo guardado en ../model/threshhold_0.65/randomforest_iterations_000/model_000.joblib\n",
      "        - Probabilidades guardadas en ../model/threshhold_0.65/randomforest_iterations_000/probas_000.npy\n",
      "        - Pixeles de entrenamiento: 466\n",
      "        - Pixeles con proba>=0.65: 30\n",
      "        - Pixeles con proba<0.65: 1504\n"
     ]
    },
    {
     "name": "stderr",
     "output_type": "stream",
     "text": [
      "[Parallel(n_jobs=-1)]: Using backend ThreadingBackend with 16 concurrent workers.\n",
      "[Parallel(n_jobs=-1)]: Done  18 tasks      | elapsed:    0.1s\n",
      "[Parallel(n_jobs=-1)]: Done 168 tasks      | elapsed:    0.4s\n",
      "[Parallel(n_jobs=-1)]: Done 418 tasks      | elapsed:    0.8s\n",
      "[Parallel(n_jobs=-1)]: Done 500 out of 500 | elapsed:    1.0s finished\n",
      "[Parallel(n_jobs=16)]: Using backend ThreadingBackend with 16 concurrent workers.\n",
      "[Parallel(n_jobs=16)]: Done  18 tasks      | elapsed:    0.0s\n",
      "[Parallel(n_jobs=16)]: Done 168 tasks      | elapsed:    0.1s\n",
      "[Parallel(n_jobs=16)]: Done 418 tasks      | elapsed:    0.1s\n",
      "[Parallel(n_jobs=16)]: Done 500 out of 500 | elapsed:    0.2s finished\n"
     ]
    },
    {
     "name": "stdout",
     "output_type": "stream",
     "text": [
      "\n",
      "*** ITERACIÓN #001\n",
      "        - Modelo guardado en ../model/threshhold_0.65/randomforest_iterations_001/model_001.joblib\n",
      "        - Probabilidades guardadas en ../model/threshhold_0.65/randomforest_iterations_001/probas_001.npy\n",
      "        - Pixeles de entrenamiento: 496\n",
      "        - Pixeles con proba>=0.65: 51\n",
      "        - Pixeles con proba<0.65: 1453\n"
     ]
    },
    {
     "name": "stderr",
     "output_type": "stream",
     "text": [
      "[Parallel(n_jobs=-1)]: Using backend ThreadingBackend with 16 concurrent workers.\n",
      "[Parallel(n_jobs=-1)]: Done  18 tasks      | elapsed:    0.1s\n",
      "[Parallel(n_jobs=-1)]: Done 168 tasks      | elapsed:    0.4s\n",
      "[Parallel(n_jobs=-1)]: Done 418 tasks      | elapsed:    0.9s\n",
      "[Parallel(n_jobs=-1)]: Done 500 out of 500 | elapsed:    1.1s finished\n",
      "[Parallel(n_jobs=16)]: Using backend ThreadingBackend with 16 concurrent workers.\n",
      "[Parallel(n_jobs=16)]: Done  18 tasks      | elapsed:    0.0s\n",
      "[Parallel(n_jobs=16)]: Done 168 tasks      | elapsed:    0.1s\n",
      "[Parallel(n_jobs=16)]: Done 418 tasks      | elapsed:    0.1s\n",
      "[Parallel(n_jobs=16)]: Done 500 out of 500 | elapsed:    0.1s finished\n"
     ]
    },
    {
     "name": "stdout",
     "output_type": "stream",
     "text": [
      "\n",
      "*** ITERACIÓN #002\n",
      "        - Modelo guardado en ../model/threshhold_0.65/randomforest_iterations_002/model_002.joblib\n",
      "        - Probabilidades guardadas en ../model/threshhold_0.65/randomforest_iterations_002/probas_002.npy\n",
      "        - Pixeles de entrenamiento: 547\n",
      "        - Pixeles con proba>=0.65: 48\n",
      "        - Pixeles con proba<0.65: 1405\n"
     ]
    },
    {
     "name": "stderr",
     "output_type": "stream",
     "text": [
      "[Parallel(n_jobs=-1)]: Using backend ThreadingBackend with 16 concurrent workers.\n",
      "[Parallel(n_jobs=-1)]: Done  18 tasks      | elapsed:    0.1s\n",
      "[Parallel(n_jobs=-1)]: Done 168 tasks      | elapsed:    0.4s\n",
      "[Parallel(n_jobs=-1)]: Done 418 tasks      | elapsed:    0.9s\n",
      "[Parallel(n_jobs=-1)]: Done 500 out of 500 | elapsed:    1.1s finished\n",
      "[Parallel(n_jobs=16)]: Using backend ThreadingBackend with 16 concurrent workers.\n",
      "[Parallel(n_jobs=16)]: Done  18 tasks      | elapsed:    0.0s\n",
      "[Parallel(n_jobs=16)]: Done 168 tasks      | elapsed:    0.1s\n",
      "[Parallel(n_jobs=16)]: Done 418 tasks      | elapsed:    0.1s\n",
      "[Parallel(n_jobs=16)]: Done 500 out of 500 | elapsed:    0.2s finished\n"
     ]
    },
    {
     "name": "stdout",
     "output_type": "stream",
     "text": [
      "\n",
      "*** ITERACIÓN #003\n",
      "        - Modelo guardado en ../model/threshhold_0.65/randomforest_iterations_003/model_003.joblib\n",
      "        - Probabilidades guardadas en ../model/threshhold_0.65/randomforest_iterations_003/probas_003.npy\n",
      "        - Pixeles de entrenamiento: 595\n",
      "        - Pixeles con proba>=0.65: 54\n",
      "        - Pixeles con proba<0.65: 1351\n"
     ]
    },
    {
     "name": "stderr",
     "output_type": "stream",
     "text": [
      "[Parallel(n_jobs=-1)]: Using backend ThreadingBackend with 16 concurrent workers.\n",
      "[Parallel(n_jobs=-1)]: Done  18 tasks      | elapsed:    0.1s\n",
      "[Parallel(n_jobs=-1)]: Done 168 tasks      | elapsed:    0.4s\n",
      "[Parallel(n_jobs=-1)]: Done 418 tasks      | elapsed:    1.0s\n",
      "[Parallel(n_jobs=-1)]: Done 500 out of 500 | elapsed:    1.1s finished\n",
      "[Parallel(n_jobs=16)]: Using backend ThreadingBackend with 16 concurrent workers.\n",
      "[Parallel(n_jobs=16)]: Done  18 tasks      | elapsed:    0.0s\n",
      "[Parallel(n_jobs=16)]: Done 168 tasks      | elapsed:    0.1s\n",
      "[Parallel(n_jobs=16)]: Done 418 tasks      | elapsed:    0.1s\n",
      "[Parallel(n_jobs=16)]: Done 500 out of 500 | elapsed:    0.1s finished\n"
     ]
    },
    {
     "name": "stdout",
     "output_type": "stream",
     "text": [
      "\n",
      "*** ITERACIÓN #004\n",
      "        - Modelo guardado en ../model/threshhold_0.65/randomforest_iterations_004/model_004.joblib\n",
      "        - Probabilidades guardadas en ../model/threshhold_0.65/randomforest_iterations_004/probas_004.npy\n",
      "        - Pixeles de entrenamiento: 649\n",
      "        - Pixeles con proba>=0.65: 37\n",
      "        - Pixeles con proba<0.65: 1314\n"
     ]
    },
    {
     "name": "stderr",
     "output_type": "stream",
     "text": [
      "[Parallel(n_jobs=-1)]: Using backend ThreadingBackend with 16 concurrent workers.\n",
      "[Parallel(n_jobs=-1)]: Done  18 tasks      | elapsed:    0.1s\n",
      "[Parallel(n_jobs=-1)]: Done 168 tasks      | elapsed:    0.4s\n",
      "[Parallel(n_jobs=-1)]: Done 418 tasks      | elapsed:    1.0s\n",
      "[Parallel(n_jobs=-1)]: Done 500 out of 500 | elapsed:    1.1s finished\n",
      "[Parallel(n_jobs=16)]: Using backend ThreadingBackend with 16 concurrent workers.\n",
      "[Parallel(n_jobs=16)]: Done  18 tasks      | elapsed:    0.0s\n",
      "[Parallel(n_jobs=16)]: Done 168 tasks      | elapsed:    0.1s\n",
      "[Parallel(n_jobs=16)]: Done 418 tasks      | elapsed:    0.1s\n",
      "[Parallel(n_jobs=16)]: Done 500 out of 500 | elapsed:    0.2s finished\n"
     ]
    },
    {
     "name": "stdout",
     "output_type": "stream",
     "text": [
      "\n",
      "*** ITERACIÓN #005\n",
      "        - Modelo guardado en ../model/threshhold_0.65/randomforest_iterations_005/model_005.joblib\n",
      "        - Probabilidades guardadas en ../model/threshhold_0.65/randomforest_iterations_005/probas_005.npy\n",
      "        - Pixeles de entrenamiento: 686\n",
      "        - Pixeles con proba>=0.65: 35\n",
      "        - Pixeles con proba<0.65: 1279\n"
     ]
    },
    {
     "name": "stderr",
     "output_type": "stream",
     "text": [
      "[Parallel(n_jobs=-1)]: Using backend ThreadingBackend with 16 concurrent workers.\n",
      "[Parallel(n_jobs=-1)]: Done  18 tasks      | elapsed:    0.1s\n",
      "[Parallel(n_jobs=-1)]: Done 168 tasks      | elapsed:    0.4s\n",
      "[Parallel(n_jobs=-1)]: Done 418 tasks      | elapsed:    1.0s\n",
      "[Parallel(n_jobs=-1)]: Done 500 out of 500 | elapsed:    1.2s finished\n",
      "[Parallel(n_jobs=16)]: Using backend ThreadingBackend with 16 concurrent workers.\n",
      "[Parallel(n_jobs=16)]: Done  18 tasks      | elapsed:    0.0s\n",
      "[Parallel(n_jobs=16)]: Done 168 tasks      | elapsed:    0.1s\n",
      "[Parallel(n_jobs=16)]: Done 418 tasks      | elapsed:    0.1s\n",
      "[Parallel(n_jobs=16)]: Done 500 out of 500 | elapsed:    0.2s finished\n"
     ]
    },
    {
     "name": "stdout",
     "output_type": "stream",
     "text": [
      "\n",
      "*** ITERACIÓN #006\n",
      "        - Modelo guardado en ../model/threshhold_0.65/randomforest_iterations_006/model_006.joblib\n",
      "        - Probabilidades guardadas en ../model/threshhold_0.65/randomforest_iterations_006/probas_006.npy\n",
      "        - Pixeles de entrenamiento: 721\n",
      "        - Pixeles con proba>=0.65: 16\n",
      "        - Pixeles con proba<0.65: 1263\n"
     ]
    },
    {
     "name": "stderr",
     "output_type": "stream",
     "text": [
      "[Parallel(n_jobs=-1)]: Using backend ThreadingBackend with 16 concurrent workers.\n",
      "[Parallel(n_jobs=-1)]: Done  18 tasks      | elapsed:    0.1s\n",
      "[Parallel(n_jobs=-1)]: Done 168 tasks      | elapsed:    0.4s\n",
      "[Parallel(n_jobs=-1)]: Done 418 tasks      | elapsed:    1.0s\n",
      "[Parallel(n_jobs=-1)]: Done 500 out of 500 | elapsed:    1.2s finished\n",
      "[Parallel(n_jobs=16)]: Using backend ThreadingBackend with 16 concurrent workers.\n",
      "[Parallel(n_jobs=16)]: Done  18 tasks      | elapsed:    0.0s\n",
      "[Parallel(n_jobs=16)]: Done 168 tasks      | elapsed:    0.1s\n",
      "[Parallel(n_jobs=16)]: Done 418 tasks      | elapsed:    0.1s\n",
      "[Parallel(n_jobs=16)]: Done 500 out of 500 | elapsed:    0.2s finished\n"
     ]
    },
    {
     "name": "stdout",
     "output_type": "stream",
     "text": [
      "\n",
      "*** ITERACIÓN #007\n",
      "        - Modelo guardado en ../model/threshhold_0.65/randomforest_iterations_007/model_007.joblib\n",
      "        - Probabilidades guardadas en ../model/threshhold_0.65/randomforest_iterations_007/probas_007.npy\n",
      "        - Pixeles de entrenamiento: 737\n",
      "        - Pixeles con proba>=0.65: 22\n",
      "        - Pixeles con proba<0.65: 1241\n"
     ]
    },
    {
     "name": "stderr",
     "output_type": "stream",
     "text": [
      "[Parallel(n_jobs=-1)]: Using backend ThreadingBackend with 16 concurrent workers.\n",
      "[Parallel(n_jobs=-1)]: Done  18 tasks      | elapsed:    0.1s\n",
      "[Parallel(n_jobs=-1)]: Done 168 tasks      | elapsed:    0.4s\n",
      "[Parallel(n_jobs=-1)]: Done 418 tasks      | elapsed:    1.0s\n",
      "[Parallel(n_jobs=-1)]: Done 500 out of 500 | elapsed:    1.2s finished\n",
      "[Parallel(n_jobs=16)]: Using backend ThreadingBackend with 16 concurrent workers.\n",
      "[Parallel(n_jobs=16)]: Done  18 tasks      | elapsed:    0.0s\n",
      "[Parallel(n_jobs=16)]: Done 168 tasks      | elapsed:    0.1s\n",
      "[Parallel(n_jobs=16)]: Done 418 tasks      | elapsed:    0.1s\n",
      "[Parallel(n_jobs=16)]: Done 500 out of 500 | elapsed:    0.1s finished\n"
     ]
    },
    {
     "name": "stdout",
     "output_type": "stream",
     "text": [
      "\n",
      "*** ITERACIÓN #008\n",
      "        - Modelo guardado en ../model/threshhold_0.65/randomforest_iterations_008/model_008.joblib\n",
      "        - Probabilidades guardadas en ../model/threshhold_0.65/randomforest_iterations_008/probas_008.npy\n",
      "        - Pixeles de entrenamiento: 759\n",
      "        - Pixeles con proba>=0.65: 18\n",
      "        - Pixeles con proba<0.65: 1223\n"
     ]
    },
    {
     "name": "stderr",
     "output_type": "stream",
     "text": [
      "[Parallel(n_jobs=-1)]: Using backend ThreadingBackend with 16 concurrent workers.\n",
      "[Parallel(n_jobs=-1)]: Done  18 tasks      | elapsed:    0.1s\n",
      "[Parallel(n_jobs=-1)]: Done 168 tasks      | elapsed:    0.4s\n",
      "[Parallel(n_jobs=-1)]: Done 418 tasks      | elapsed:    1.0s\n",
      "[Parallel(n_jobs=-1)]: Done 500 out of 500 | elapsed:    1.2s finished\n",
      "[Parallel(n_jobs=16)]: Using backend ThreadingBackend with 16 concurrent workers.\n",
      "[Parallel(n_jobs=16)]: Done  18 tasks      | elapsed:    0.0s\n",
      "[Parallel(n_jobs=16)]: Done 168 tasks      | elapsed:    0.1s\n",
      "[Parallel(n_jobs=16)]: Done 418 tasks      | elapsed:    0.1s\n",
      "[Parallel(n_jobs=16)]: Done 500 out of 500 | elapsed:    0.2s finished\n"
     ]
    },
    {
     "name": "stdout",
     "output_type": "stream",
     "text": [
      "\n",
      "*** ITERACIÓN #009\n",
      "        - Modelo guardado en ../model/threshhold_0.65/randomforest_iterations_009/model_009.joblib\n",
      "        - Probabilidades guardadas en ../model/threshhold_0.65/randomforest_iterations_009/probas_009.npy\n",
      "        - Pixeles de entrenamiento: 777\n",
      "        - Pixeles con proba>=0.65: 13\n",
      "        - Pixeles con proba<0.65: 1210\n"
     ]
    },
    {
     "name": "stderr",
     "output_type": "stream",
     "text": [
      "[Parallel(n_jobs=-1)]: Using backend ThreadingBackend with 16 concurrent workers.\n",
      "[Parallel(n_jobs=-1)]: Done  18 tasks      | elapsed:    0.1s\n",
      "[Parallel(n_jobs=-1)]: Done 168 tasks      | elapsed:    0.4s\n",
      "[Parallel(n_jobs=-1)]: Done 418 tasks      | elapsed:    1.0s\n",
      "[Parallel(n_jobs=-1)]: Done 500 out of 500 | elapsed:    1.2s finished\n",
      "[Parallel(n_jobs=16)]: Using backend ThreadingBackend with 16 concurrent workers.\n",
      "[Parallel(n_jobs=16)]: Done  18 tasks      | elapsed:    0.0s\n",
      "[Parallel(n_jobs=16)]: Done 168 tasks      | elapsed:    0.1s\n",
      "[Parallel(n_jobs=16)]: Done 418 tasks      | elapsed:    0.1s\n",
      "[Parallel(n_jobs=16)]: Done 500 out of 500 | elapsed:    0.1s finished\n"
     ]
    },
    {
     "name": "stdout",
     "output_type": "stream",
     "text": [
      "\n",
      "*** ITERACIÓN #010\n",
      "        - Modelo guardado en ../model/threshhold_0.65/randomforest_iterations_010/model_010.joblib\n",
      "        - Probabilidades guardadas en ../model/threshhold_0.65/randomforest_iterations_010/probas_010.npy\n",
      "        - Pixeles de entrenamiento: 790\n",
      "        - Pixeles con proba>=0.65: 9\n",
      "        - Pixeles con proba<0.65: 1201\n"
     ]
    },
    {
     "name": "stderr",
     "output_type": "stream",
     "text": [
      "[Parallel(n_jobs=-1)]: Using backend ThreadingBackend with 16 concurrent workers.\n",
      "[Parallel(n_jobs=-1)]: Done  18 tasks      | elapsed:    0.1s\n",
      "[Parallel(n_jobs=-1)]: Done 168 tasks      | elapsed:    0.4s\n",
      "[Parallel(n_jobs=-1)]: Done 418 tasks      | elapsed:    1.0s\n",
      "[Parallel(n_jobs=-1)]: Done 500 out of 500 | elapsed:    1.2s finished\n",
      "[Parallel(n_jobs=16)]: Using backend ThreadingBackend with 16 concurrent workers.\n",
      "[Parallel(n_jobs=16)]: Done  18 tasks      | elapsed:    0.0s\n",
      "[Parallel(n_jobs=16)]: Done 168 tasks      | elapsed:    0.1s\n",
      "[Parallel(n_jobs=16)]: Done 418 tasks      | elapsed:    0.1s\n",
      "[Parallel(n_jobs=16)]: Done 500 out of 500 | elapsed:    0.2s finished\n"
     ]
    },
    {
     "name": "stdout",
     "output_type": "stream",
     "text": [
      "\n",
      "*** ITERACIÓN #011\n",
      "        - Modelo guardado en ../model/threshhold_0.65/randomforest_iterations_011/model_011.joblib\n",
      "        - Probabilidades guardadas en ../model/threshhold_0.65/randomforest_iterations_011/probas_011.npy\n",
      "        - Pixeles de entrenamiento: 799\n",
      "        - Pixeles con proba>=0.65: 6\n",
      "        - Pixeles con proba<0.65: 1195\n"
     ]
    },
    {
     "name": "stderr",
     "output_type": "stream",
     "text": [
      "[Parallel(n_jobs=-1)]: Using backend ThreadingBackend with 16 concurrent workers.\n",
      "[Parallel(n_jobs=-1)]: Done  18 tasks      | elapsed:    0.1s\n",
      "[Parallel(n_jobs=-1)]: Done 168 tasks      | elapsed:    0.4s\n",
      "[Parallel(n_jobs=-1)]: Done 418 tasks      | elapsed:    1.0s\n",
      "[Parallel(n_jobs=-1)]: Done 500 out of 500 | elapsed:    1.2s finished\n",
      "[Parallel(n_jobs=16)]: Using backend ThreadingBackend with 16 concurrent workers.\n",
      "[Parallel(n_jobs=16)]: Done  18 tasks      | elapsed:    0.1s\n",
      "[Parallel(n_jobs=16)]: Done 168 tasks      | elapsed:    0.1s\n",
      "[Parallel(n_jobs=16)]: Done 418 tasks      | elapsed:    0.2s\n",
      "[Parallel(n_jobs=16)]: Done 500 out of 500 | elapsed:    0.2s finished\n"
     ]
    },
    {
     "name": "stdout",
     "output_type": "stream",
     "text": [
      "\n",
      "*** ITERACIÓN #012\n",
      "        - Modelo guardado en ../model/threshhold_0.65/randomforest_iterations_012/model_012.joblib\n",
      "        - Probabilidades guardadas en ../model/threshhold_0.65/randomforest_iterations_012/probas_012.npy\n",
      "        - Pixeles de entrenamiento: 805\n",
      "        - Pixeles con proba>=0.65: 0\n",
      "        - Pixeles con proba<0.65: 1195\n",
      "+++++ PREDICCIONES PARA THRESHOLD 0.7\n"
     ]
    },
    {
     "name": "stderr",
     "output_type": "stream",
     "text": [
      "[Parallel(n_jobs=-1)]: Using backend ThreadingBackend with 16 concurrent workers.\n",
      "[Parallel(n_jobs=-1)]: Done  18 tasks      | elapsed:    0.1s\n",
      "[Parallel(n_jobs=-1)]: Done 168 tasks      | elapsed:    0.3s\n",
      "[Parallel(n_jobs=-1)]: Done 418 tasks      | elapsed:    0.8s\n",
      "[Parallel(n_jobs=-1)]: Done 500 out of 500 | elapsed:    0.9s finished\n",
      "[Parallel(n_jobs=16)]: Using backend ThreadingBackend with 16 concurrent workers.\n",
      "[Parallel(n_jobs=16)]: Done  18 tasks      | elapsed:    0.0s\n",
      "[Parallel(n_jobs=16)]: Done 168 tasks      | elapsed:    0.1s\n",
      "[Parallel(n_jobs=16)]: Done 418 tasks      | elapsed:    0.1s\n",
      "[Parallel(n_jobs=16)]: Done 500 out of 500 | elapsed:    0.2s finished\n"
     ]
    },
    {
     "name": "stdout",
     "output_type": "stream",
     "text": [
      "\n",
      "*** ITERACIÓN #000\n",
      "        - Modelo guardado en ../model/threshhold_0.7/randomforest_iterations_000/model_000.joblib\n",
      "        - Probabilidades guardadas en ../model/threshhold_0.7/randomforest_iterations_000/probas_000.npy\n",
      "        - Pixeles de entrenamiento: 466\n",
      "        - Pixeles con proba>=0.7: 10\n",
      "        - Pixeles con proba<0.7: 1524\n"
     ]
    },
    {
     "name": "stderr",
     "output_type": "stream",
     "text": [
      "[Parallel(n_jobs=-1)]: Using backend ThreadingBackend with 16 concurrent workers.\n",
      "[Parallel(n_jobs=-1)]: Done  18 tasks      | elapsed:    0.1s\n",
      "[Parallel(n_jobs=-1)]: Done 168 tasks      | elapsed:    0.3s\n",
      "[Parallel(n_jobs=-1)]: Done 418 tasks      | elapsed:    0.8s\n",
      "[Parallel(n_jobs=-1)]: Done 500 out of 500 | elapsed:    0.9s finished\n",
      "[Parallel(n_jobs=16)]: Using backend ThreadingBackend with 16 concurrent workers.\n",
      "[Parallel(n_jobs=16)]: Done  18 tasks      | elapsed:    0.0s\n",
      "[Parallel(n_jobs=16)]: Done 168 tasks      | elapsed:    0.1s\n",
      "[Parallel(n_jobs=16)]: Done 418 tasks      | elapsed:    0.1s\n",
      "[Parallel(n_jobs=16)]: Done 500 out of 500 | elapsed:    0.2s finished\n"
     ]
    },
    {
     "name": "stdout",
     "output_type": "stream",
     "text": [
      "\n",
      "*** ITERACIÓN #001\n",
      "        - Modelo guardado en ../model/threshhold_0.7/randomforest_iterations_001/model_001.joblib\n",
      "        - Probabilidades guardadas en ../model/threshhold_0.7/randomforest_iterations_001/probas_001.npy\n",
      "        - Pixeles de entrenamiento: 476\n",
      "        - Pixeles con proba>=0.7: 14\n",
      "        - Pixeles con proba<0.7: 1510\n"
     ]
    },
    {
     "name": "stderr",
     "output_type": "stream",
     "text": [
      "[Parallel(n_jobs=-1)]: Using backend ThreadingBackend with 16 concurrent workers.\n",
      "[Parallel(n_jobs=-1)]: Done  18 tasks      | elapsed:    0.1s\n",
      "[Parallel(n_jobs=-1)]: Done 168 tasks      | elapsed:    0.3s\n",
      "[Parallel(n_jobs=-1)]: Done 418 tasks      | elapsed:    0.8s\n",
      "[Parallel(n_jobs=-1)]: Done 500 out of 500 | elapsed:    0.9s finished\n",
      "[Parallel(n_jobs=16)]: Using backend ThreadingBackend with 16 concurrent workers.\n",
      "[Parallel(n_jobs=16)]: Done  18 tasks      | elapsed:    0.0s\n",
      "[Parallel(n_jobs=16)]: Done 168 tasks      | elapsed:    0.1s\n",
      "[Parallel(n_jobs=16)]: Done 418 tasks      | elapsed:    0.1s\n",
      "[Parallel(n_jobs=16)]: Done 500 out of 500 | elapsed:    0.2s finished\n"
     ]
    },
    {
     "name": "stdout",
     "output_type": "stream",
     "text": [
      "\n",
      "*** ITERACIÓN #002\n",
      "        - Modelo guardado en ../model/threshhold_0.7/randomforest_iterations_002/model_002.joblib\n",
      "        - Probabilidades guardadas en ../model/threshhold_0.7/randomforest_iterations_002/probas_002.npy\n",
      "        - Pixeles de entrenamiento: 490\n",
      "        - Pixeles con proba>=0.7: 4\n",
      "        - Pixeles con proba<0.7: 1506\n"
     ]
    },
    {
     "name": "stderr",
     "output_type": "stream",
     "text": [
      "[Parallel(n_jobs=-1)]: Using backend ThreadingBackend with 16 concurrent workers.\n",
      "[Parallel(n_jobs=-1)]: Done  18 tasks      | elapsed:    0.1s\n",
      "[Parallel(n_jobs=-1)]: Done 168 tasks      | elapsed:    0.3s\n",
      "[Parallel(n_jobs=-1)]: Done 418 tasks      | elapsed:    0.8s\n",
      "[Parallel(n_jobs=-1)]: Done 500 out of 500 | elapsed:    0.9s finished\n",
      "[Parallel(n_jobs=16)]: Using backend ThreadingBackend with 16 concurrent workers.\n",
      "[Parallel(n_jobs=16)]: Done  18 tasks      | elapsed:    0.0s\n",
      "[Parallel(n_jobs=16)]: Done 168 tasks      | elapsed:    0.1s\n",
      "[Parallel(n_jobs=16)]: Done 418 tasks      | elapsed:    0.1s\n",
      "[Parallel(n_jobs=16)]: Done 500 out of 500 | elapsed:    0.2s finished\n"
     ]
    },
    {
     "name": "stdout",
     "output_type": "stream",
     "text": [
      "\n",
      "*** ITERACIÓN #003\n",
      "        - Modelo guardado en ../model/threshhold_0.7/randomforest_iterations_003/model_003.joblib\n",
      "        - Probabilidades guardadas en ../model/threshhold_0.7/randomforest_iterations_003/probas_003.npy\n",
      "        - Pixeles de entrenamiento: 494\n",
      "        - Pixeles con proba>=0.7: 11\n",
      "        - Pixeles con proba<0.7: 1495\n"
     ]
    },
    {
     "name": "stderr",
     "output_type": "stream",
     "text": [
      "[Parallel(n_jobs=-1)]: Using backend ThreadingBackend with 16 concurrent workers.\n",
      "[Parallel(n_jobs=-1)]: Done  18 tasks      | elapsed:    0.1s\n",
      "[Parallel(n_jobs=-1)]: Done 168 tasks      | elapsed:    0.4s\n",
      "[Parallel(n_jobs=-1)]: Done 418 tasks      | elapsed:    0.9s\n",
      "[Parallel(n_jobs=-1)]: Done 500 out of 500 | elapsed:    1.1s finished\n",
      "[Parallel(n_jobs=16)]: Using backend ThreadingBackend with 16 concurrent workers.\n",
      "[Parallel(n_jobs=16)]: Done  18 tasks      | elapsed:    0.0s\n",
      "[Parallel(n_jobs=16)]: Done 168 tasks      | elapsed:    0.1s\n",
      "[Parallel(n_jobs=16)]: Done 418 tasks      | elapsed:    0.1s\n",
      "[Parallel(n_jobs=16)]: Done 500 out of 500 | elapsed:    0.2s finished\n"
     ]
    },
    {
     "name": "stdout",
     "output_type": "stream",
     "text": [
      "\n",
      "*** ITERACIÓN #004\n",
      "        - Modelo guardado en ../model/threshhold_0.7/randomforest_iterations_004/model_004.joblib\n",
      "        - Probabilidades guardadas en ../model/threshhold_0.7/randomforest_iterations_004/probas_004.npy\n",
      "        - Pixeles de entrenamiento: 505\n",
      "        - Pixeles con proba>=0.7: 25\n",
      "        - Pixeles con proba<0.7: 1470\n"
     ]
    },
    {
     "name": "stderr",
     "output_type": "stream",
     "text": [
      "[Parallel(n_jobs=-1)]: Using backend ThreadingBackend with 16 concurrent workers.\n",
      "[Parallel(n_jobs=-1)]: Done  18 tasks      | elapsed:    0.1s\n",
      "[Parallel(n_jobs=-1)]: Done 168 tasks      | elapsed:    0.4s\n",
      "[Parallel(n_jobs=-1)]: Done 418 tasks      | elapsed:    0.9s\n",
      "[Parallel(n_jobs=-1)]: Done 500 out of 500 | elapsed:    1.1s finished\n",
      "[Parallel(n_jobs=16)]: Using backend ThreadingBackend with 16 concurrent workers.\n",
      "[Parallel(n_jobs=16)]: Done  18 tasks      | elapsed:    0.0s\n",
      "[Parallel(n_jobs=16)]: Done 168 tasks      | elapsed:    0.1s\n",
      "[Parallel(n_jobs=16)]: Done 418 tasks      | elapsed:    0.1s\n",
      "[Parallel(n_jobs=16)]: Done 500 out of 500 | elapsed:    0.2s finished\n"
     ]
    },
    {
     "name": "stdout",
     "output_type": "stream",
     "text": [
      "\n",
      "*** ITERACIÓN #005\n",
      "        - Modelo guardado en ../model/threshhold_0.7/randomforest_iterations_005/model_005.joblib\n",
      "        - Probabilidades guardadas en ../model/threshhold_0.7/randomforest_iterations_005/probas_005.npy\n",
      "        - Pixeles de entrenamiento: 530\n",
      "        - Pixeles con proba>=0.7: 26\n",
      "        - Pixeles con proba<0.7: 1444\n"
     ]
    },
    {
     "name": "stderr",
     "output_type": "stream",
     "text": [
      "[Parallel(n_jobs=-1)]: Using backend ThreadingBackend with 16 concurrent workers.\n",
      "[Parallel(n_jobs=-1)]: Done  18 tasks      | elapsed:    0.1s\n",
      "[Parallel(n_jobs=-1)]: Done 168 tasks      | elapsed:    0.4s\n",
      "[Parallel(n_jobs=-1)]: Done 418 tasks      | elapsed:    0.9s\n",
      "[Parallel(n_jobs=-1)]: Done 500 out of 500 | elapsed:    1.1s finished\n",
      "[Parallel(n_jobs=16)]: Using backend ThreadingBackend with 16 concurrent workers.\n",
      "[Parallel(n_jobs=16)]: Done  18 tasks      | elapsed:    0.0s\n",
      "[Parallel(n_jobs=16)]: Done 168 tasks      | elapsed:    0.1s\n",
      "[Parallel(n_jobs=16)]: Done 418 tasks      | elapsed:    0.1s\n",
      "[Parallel(n_jobs=16)]: Done 500 out of 500 | elapsed:    0.2s finished\n"
     ]
    },
    {
     "name": "stdout",
     "output_type": "stream",
     "text": [
      "\n",
      "*** ITERACIÓN #006\n",
      "        - Modelo guardado en ../model/threshhold_0.7/randomforest_iterations_006/model_006.joblib\n",
      "        - Probabilidades guardadas en ../model/threshhold_0.7/randomforest_iterations_006/probas_006.npy\n",
      "        - Pixeles de entrenamiento: 556\n",
      "        - Pixeles con proba>=0.7: 22\n",
      "        - Pixeles con proba<0.7: 1422\n"
     ]
    },
    {
     "name": "stderr",
     "output_type": "stream",
     "text": [
      "[Parallel(n_jobs=-1)]: Using backend ThreadingBackend with 16 concurrent workers.\n",
      "[Parallel(n_jobs=-1)]: Done  18 tasks      | elapsed:    0.1s\n",
      "[Parallel(n_jobs=-1)]: Done 168 tasks      | elapsed:    0.4s\n",
      "[Parallel(n_jobs=-1)]: Done 418 tasks      | elapsed:    0.9s\n",
      "[Parallel(n_jobs=-1)]: Done 500 out of 500 | elapsed:    1.1s finished\n",
      "[Parallel(n_jobs=16)]: Using backend ThreadingBackend with 16 concurrent workers.\n",
      "[Parallel(n_jobs=16)]: Done  18 tasks      | elapsed:    0.0s\n",
      "[Parallel(n_jobs=16)]: Done 168 tasks      | elapsed:    0.1s\n",
      "[Parallel(n_jobs=16)]: Done 418 tasks      | elapsed:    0.1s\n",
      "[Parallel(n_jobs=16)]: Done 500 out of 500 | elapsed:    0.2s finished\n"
     ]
    },
    {
     "name": "stdout",
     "output_type": "stream",
     "text": [
      "\n",
      "*** ITERACIÓN #007\n",
      "        - Modelo guardado en ../model/threshhold_0.7/randomforest_iterations_007/model_007.joblib\n",
      "        - Probabilidades guardadas en ../model/threshhold_0.7/randomforest_iterations_007/probas_007.npy\n",
      "        - Pixeles de entrenamiento: 578\n",
      "        - Pixeles con proba>=0.7: 15\n",
      "        - Pixeles con proba<0.7: 1407\n"
     ]
    },
    {
     "name": "stderr",
     "output_type": "stream",
     "text": [
      "[Parallel(n_jobs=-1)]: Using backend ThreadingBackend with 16 concurrent workers.\n",
      "[Parallel(n_jobs=-1)]: Done  18 tasks      | elapsed:    0.1s\n",
      "[Parallel(n_jobs=-1)]: Done 168 tasks      | elapsed:    0.4s\n",
      "[Parallel(n_jobs=-1)]: Done 418 tasks      | elapsed:    0.9s\n",
      "[Parallel(n_jobs=-1)]: Done 500 out of 500 | elapsed:    1.1s finished\n",
      "[Parallel(n_jobs=16)]: Using backend ThreadingBackend with 16 concurrent workers.\n",
      "[Parallel(n_jobs=16)]: Done  18 tasks      | elapsed:    0.0s\n",
      "[Parallel(n_jobs=16)]: Done 168 tasks      | elapsed:    0.1s\n",
      "[Parallel(n_jobs=16)]: Done 418 tasks      | elapsed:    0.1s\n",
      "[Parallel(n_jobs=16)]: Done 500 out of 500 | elapsed:    0.2s finished\n"
     ]
    },
    {
     "name": "stdout",
     "output_type": "stream",
     "text": [
      "\n",
      "*** ITERACIÓN #008\n",
      "        - Modelo guardado en ../model/threshhold_0.7/randomforest_iterations_008/model_008.joblib\n",
      "        - Probabilidades guardadas en ../model/threshhold_0.7/randomforest_iterations_008/probas_008.npy\n",
      "        - Pixeles de entrenamiento: 593\n",
      "        - Pixeles con proba>=0.7: 8\n",
      "        - Pixeles con proba<0.7: 1399\n"
     ]
    },
    {
     "name": "stderr",
     "output_type": "stream",
     "text": [
      "[Parallel(n_jobs=-1)]: Using backend ThreadingBackend with 16 concurrent workers.\n",
      "[Parallel(n_jobs=-1)]: Done  18 tasks      | elapsed:    0.1s\n",
      "[Parallel(n_jobs=-1)]: Done 168 tasks      | elapsed:    0.4s\n",
      "[Parallel(n_jobs=-1)]: Done 418 tasks      | elapsed:    0.9s\n",
      "[Parallel(n_jobs=-1)]: Done 500 out of 500 | elapsed:    1.1s finished\n",
      "[Parallel(n_jobs=16)]: Using backend ThreadingBackend with 16 concurrent workers.\n",
      "[Parallel(n_jobs=16)]: Done  18 tasks      | elapsed:    0.0s\n",
      "[Parallel(n_jobs=16)]: Done 168 tasks      | elapsed:    0.1s\n",
      "[Parallel(n_jobs=16)]: Done 418 tasks      | elapsed:    0.2s\n",
      "[Parallel(n_jobs=16)]: Done 500 out of 500 | elapsed:    0.2s finished\n"
     ]
    },
    {
     "name": "stdout",
     "output_type": "stream",
     "text": [
      "\n",
      "*** ITERACIÓN #009\n",
      "        - Modelo guardado en ../model/threshhold_0.7/randomforest_iterations_009/model_009.joblib\n",
      "        - Probabilidades guardadas en ../model/threshhold_0.7/randomforest_iterations_009/probas_009.npy\n",
      "        - Pixeles de entrenamiento: 601\n",
      "        - Pixeles con proba>=0.7: 4\n",
      "        - Pixeles con proba<0.7: 1395\n"
     ]
    },
    {
     "name": "stderr",
     "output_type": "stream",
     "text": [
      "[Parallel(n_jobs=-1)]: Using backend ThreadingBackend with 16 concurrent workers.\n",
      "[Parallel(n_jobs=-1)]: Done  18 tasks      | elapsed:    0.1s\n",
      "[Parallel(n_jobs=-1)]: Done 168 tasks      | elapsed:    0.4s\n",
      "[Parallel(n_jobs=-1)]: Done 418 tasks      | elapsed:    1.0s\n",
      "[Parallel(n_jobs=-1)]: Done 500 out of 500 | elapsed:    1.1s finished\n",
      "[Parallel(n_jobs=16)]: Using backend ThreadingBackend with 16 concurrent workers.\n",
      "[Parallel(n_jobs=16)]: Done  18 tasks      | elapsed:    0.0s\n",
      "[Parallel(n_jobs=16)]: Done 168 tasks      | elapsed:    0.1s\n",
      "[Parallel(n_jobs=16)]: Done 418 tasks      | elapsed:    0.1s\n",
      "[Parallel(n_jobs=16)]: Done 500 out of 500 | elapsed:    0.2s finished\n"
     ]
    },
    {
     "name": "stdout",
     "output_type": "stream",
     "text": [
      "\n",
      "*** ITERACIÓN #010\n",
      "        - Modelo guardado en ../model/threshhold_0.7/randomforest_iterations_010/model_010.joblib\n",
      "        - Probabilidades guardadas en ../model/threshhold_0.7/randomforest_iterations_010/probas_010.npy\n",
      "        - Pixeles de entrenamiento: 605\n",
      "        - Pixeles con proba>=0.7: 1\n",
      "        - Pixeles con proba<0.7: 1394\n"
     ]
    },
    {
     "name": "stderr",
     "output_type": "stream",
     "text": [
      "[Parallel(n_jobs=-1)]: Using backend ThreadingBackend with 16 concurrent workers.\n",
      "[Parallel(n_jobs=-1)]: Done  18 tasks      | elapsed:    0.1s\n",
      "[Parallel(n_jobs=-1)]: Done 168 tasks      | elapsed:    0.4s\n",
      "[Parallel(n_jobs=-1)]: Done 418 tasks      | elapsed:    1.0s\n",
      "[Parallel(n_jobs=-1)]: Done 500 out of 500 | elapsed:    1.1s finished\n",
      "[Parallel(n_jobs=16)]: Using backend ThreadingBackend with 16 concurrent workers.\n",
      "[Parallel(n_jobs=16)]: Done  18 tasks      | elapsed:    0.0s\n",
      "[Parallel(n_jobs=16)]: Done 168 tasks      | elapsed:    0.1s\n",
      "[Parallel(n_jobs=16)]: Done 418 tasks      | elapsed:    0.1s\n",
      "[Parallel(n_jobs=16)]: Done 500 out of 500 | elapsed:    0.2s finished\n"
     ]
    },
    {
     "name": "stdout",
     "output_type": "stream",
     "text": [
      "\n",
      "*** ITERACIÓN #011\n",
      "        - Modelo guardado en ../model/threshhold_0.7/randomforest_iterations_011/model_011.joblib\n",
      "        - Probabilidades guardadas en ../model/threshhold_0.7/randomforest_iterations_011/probas_011.npy\n",
      "        - Pixeles de entrenamiento: 606\n",
      "        - Pixeles con proba>=0.7: 0\n",
      "        - Pixeles con proba<0.7: 1394\n",
      "+++++ PREDICCIONES PARA THRESHOLD 0.8\n"
     ]
    },
    {
     "name": "stderr",
     "output_type": "stream",
     "text": [
      "[Parallel(n_jobs=-1)]: Using backend ThreadingBackend with 16 concurrent workers.\n",
      "[Parallel(n_jobs=-1)]: Done  18 tasks      | elapsed:    0.1s\n",
      "[Parallel(n_jobs=-1)]: Done 168 tasks      | elapsed:    0.3s\n",
      "[Parallel(n_jobs=-1)]: Done 418 tasks      | elapsed:    0.8s\n",
      "[Parallel(n_jobs=-1)]: Done 500 out of 500 | elapsed:    0.9s finished\n",
      "[Parallel(n_jobs=16)]: Using backend ThreadingBackend with 16 concurrent workers.\n",
      "[Parallel(n_jobs=16)]: Done  18 tasks      | elapsed:    0.0s\n",
      "[Parallel(n_jobs=16)]: Done 168 tasks      | elapsed:    0.1s\n",
      "[Parallel(n_jobs=16)]: Done 418 tasks      | elapsed:    0.1s\n",
      "[Parallel(n_jobs=16)]: Done 500 out of 500 | elapsed:    0.2s finished\n"
     ]
    },
    {
     "name": "stdout",
     "output_type": "stream",
     "text": [
      "\n",
      "*** ITERACIÓN #000\n",
      "        - Modelo guardado en ../model/threshhold_0.8/randomforest_iterations_000/model_000.joblib\n",
      "        - Probabilidades guardadas en ../model/threshhold_0.8/randomforest_iterations_000/probas_000.npy\n",
      "        - Pixeles de entrenamiento: 466\n",
      "        - Pixeles con proba>=0.8: 0\n",
      "        - Pixeles con proba<0.8: 1534\n"
     ]
    }
   ],
   "source": [
    "for threshold in thresholds:\n",
    "    \n",
    "    iter_train_data = deepcopy(train_data)\n",
    "    iter_pred_data = deepcopy(pred_data)\n",
    "    \n",
    "    print(f'+++++ PREDICCIONES PARA THRESHOLD {threshold}')\n",
    "    \n",
    "    threshold_folder = os.path.join('..','model',f'threshhold_{threshold}')\n",
    "    os.makedirs(threshold_folder, exist_ok=True)\n",
    "    \n",
    "    i = 0\n",
    "    while True:\n",
    "        \n",
    "        # arma carpeta para el output (i aumenta con las iteraciones)\n",
    "        n_iter = '{0:03d}'.format(i)\n",
    "        output_folder = os.path.join(threshold_folder,f'randomforest_iterations_{n_iter}')\n",
    "        os.makedirs(output_folder, exist_ok=True)\n",
    "        \n",
    "        # toma los datasets\n",
    "        columns = iter_train_data.filter(regex='band_').columns.to_list()\n",
    "        X_train = iter_train_data.filter(regex='band_').fillna(-99999).to_numpy()\n",
    "        y_train = iter_train_data.id_le.to_numpy()\n",
    "        X_pred = iter_pred_data.filter(regex='band_').fillna(-99999).to_numpy()\n",
    "        \n",
    "        # instancia y entrena el modelo\n",
    "        model = RandomForestClassifier(**parameters)\n",
    "        model.fit(X_train, y_train)\n",
    "        output_model_file = os.path.join(output_folder, f'model_{n_iter}.joblib')\n",
    "        _ = joblib.dump(model, output_model_file)\n",
    "        \n",
    "        # predice\n",
    "        probas = model.predict_proba(X_pred)\n",
    "        output_proba_file = os.path.join(output_folder, f'probas_{n_iter}.npy')\n",
    "        np.save(output_proba_file, probas)\n",
    "        predictions = iter_pred_data.assign(pred_class=probas.argmax(axis=1), pred_score=probas.max(axis=1))\n",
    "        \n",
    "        # separa entre nuevo train y nuevo pred\n",
    "        add_to_train = predictions.query(f'pred_score >= {threshold}').copy()\n",
    "        continue_pred = predictions.query(f'pred_score < {threshold}').copy()\n",
    "        train_data_len, add_to_train_len , continue_pred_len = iter_train_data.shape[0], add_to_train.shape[0] , continue_pred.shape[0]\n",
    "        output_pixels_file = os.path.join(output_folder, f'pixels_{n_iter}.csv')\n",
    "        (\n",
    "            pd.DataFrame(\n",
    "                [\n",
    "                    [f'De entrenamiento', train_data_len],\n",
    "                    [f'Con proba>={threshold}', add_to_train_len],\n",
    "                    [f'Con proba<{threshold}', continue_pred_len]\n",
    "                ],\n",
    "                columns=['Pyxels_type','Pixels']\n",
    "            )\n",
    "            .to_csv(output_pixels_file, index=False)\n",
    "        )\n",
    "        \n",
    "        output_deptos_file = os.path.join(output_folder, f'pred_deptos_{n_iter}.csv')\n",
    "        (\n",
    "            pd.DataFrame(\n",
    "                [\n",
    "                    [f'De entrenamiento', train_data_len],\n",
    "                    [f'Con proba>={threshold}', add_to_train_len],\n",
    "                    [f'Con proba<{threshold}', continue_pred_len]\n",
    "                ],\n",
    "                columns=['Pyxels_type','Pixels']\n",
    "            )\n",
    "            .to_csv(output_pixels_file, index=False)\n",
    "        )\n",
    "        \n",
    "        # pasa predicción a las columna id (target)\n",
    "        # y lo agrega al train original\n",
    "        add_to_train['id_le'] = add_to_train['pred_class']\n",
    "        add_to_train['id'] = add_to_train.id_le.apply(lambda x: map_le2id.get(x))\n",
    "        add_to_train['cultivo'] = add_to_train.id.apply(lambda x: map_id2cultivo.get(x))\n",
    "\n",
    "        iter_deptos_prediction = os.path.join(output_folder,f'randomforest__deptos_prediction_{n_iter}.csv')\n",
    "        (\n",
    "            add_to_train\n",
    "            .groupby(['cultivo','nombre'], as_index=False)\n",
    "            .size()\n",
    "            .rename(columns={'size':'pixels'})\n",
    "            .assign(ha=lambda x: x.pixels*0.04)\n",
    "            .to_csv(iter_deptos_prediction, index=False)\n",
    "        )\n",
    "        iter_train_data =iter_train_data.append(add_to_train, ignore_index=True)\n",
    "        iter_pred_data = continue_pred\n",
    "        \n",
    "        # imprime información\n",
    "        print('''\\n*** ITERACIÓN #{0:03d}\n",
    "        - Modelo guardado en {1}\n",
    "        - Probabilidades guardadas en {2}\n",
    "        - Pixeles de entrenamiento: {3}\n",
    "        - Pixeles con proba>={4}: {5}\n",
    "        - Pixeles con proba<{4}: {6}'''.format(i, output_model_file, output_proba_file, train_data_len, threshold, add_to_train_len , continue_pred_len))\n",
    "        i += 1\n",
    "        if (add_to_train_len == 0) or (continue_pred_len == 0):\n",
    "            break\n",
    "\n",
    "    # reemplaza na en columna pred_class con 'vc_original'\n",
    "    # (los pixeles que no tiene pred_class son los pieles de verdad de campo originales)\n",
    "    # y guarda la predicción final\n",
    "    final_prediction = os.path.join(threshold_folder,f'randomforest_iterations_final_prediction.csv')\n",
    "    iter_train_data.to_csv(final_prediction)\n",
    "    final_deptos_prediction = os.path.join(threshold_folder,f'randomforest_iterations_deptos_prediction.csv')\n",
    "    (\n",
    "        iter_train_data\n",
    "        .groupby(['cultivo','nombre'], as_index=False)\n",
    "        .size()\n",
    "        .rename(columns={'size':'pixels'})\n",
    "        .assign(ha=lambda x: x.pixels*0.04)\n",
    "        .to_csv(final_deptos_prediction, index=False)\n",
    "    )"
   ],
   "metadata": {
    "collapsed": false,
    "pycharm": {
     "name": "#%%\n"
    }
   }
  },
  {
   "cell_type": "markdown",
   "source": [],
   "metadata": {
    "collapsed": false,
    "pycharm": {
     "name": "#%% md\n"
    }
   }
  }
 ],
 "metadata": {
  "environment": {
   "kernel": "python3",
   "name": "common-cpu.m94",
   "type": "gcloud",
   "uri": "gcr.io/deeplearning-platform-release/base-cpu:m94"
  },
  "kernelspec": {
   "name": "gis",
   "language": "python",
   "display_name": "gis"
  },
  "language_info": {
   "codemirror_mode": {
    "name": "ipython",
    "version": 3
   },
   "file_extension": ".py",
   "mimetype": "text/x-python",
   "name": "python",
   "nbconvert_exporter": "python",
   "pygments_lexer": "ipython3",
   "version": "3.7.12"
  }
 },
 "nbformat": 4,
 "nbformat_minor": 5
}