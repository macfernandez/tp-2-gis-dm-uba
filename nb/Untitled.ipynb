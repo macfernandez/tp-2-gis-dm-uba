{
 "cells": [
  {
   "cell_type": "code",
   "execution_count": 1,
   "id": "5028511c",
   "metadata": {},
   "outputs": [],
   "source": [
    "import numpy as np\n",
    "data3 = np.load('../model/randomforest_iterations_003/probas_003.npy')"
   ]
  },
  {
   "cell_type": "code",
   "execution_count": null,
   "id": "f402a007",
   "metadata": {},
   "outputs": [],
   "source": [
    "data3 = np.load('../model/randomforest_iterations_003/probas_003.npy')"
   ]
  },
  {
   "cell_type": "code",
   "execution_count": 9,
   "id": "940ac164",
   "metadata": {},
   "outputs": [
    {
     "data": {
      "text/plain": [
       "6"
      ]
     },
     "execution_count": 9,
     "metadata": {},
     "output_type": "execute_result"
    }
   ],
   "source": [
    "np.where(data>0.4,1,0).sum()"
   ]
  },
  {
   "cell_type": "code",
   "execution_count": null,
   "id": "c260560c",
   "metadata": {},
   "outputs": [],
   "source": []
  },
  {
   "cell_type": "code",
   "execution_count": 6,
   "id": "f513e4f6",
   "metadata": {},
   "outputs": [
    {
     "name": "stdout",
     "output_type": "stream",
     "text": [
      "RF_parameters.json\r\n",
      "feat_importances.csv\r\n",
      "randomforest_feature_impotances.txt\r\n",
      "randomforest_iter_01.joblib\r\n",
      "randomforest_iterations_000\r\n",
      "randomforest_iterations_001\r\n",
      "randomforest_iterations_002\r\n",
      "randomforest_iterations_003\r\n",
      "randomforest_iterations_004\r\n",
      "randomforest_iterations_final_prediction.csv\r\n",
      "randomforest_parameters.json\r\n",
      "rl_iter_01.joblib\r\n"
     ]
    }
   ],
   "source": [
    "!ls ../model/"
   ]
  },
  {
   "cell_type": "code",
   "execution_count": null,
   "id": "d873f7c4",
   "metadata": {},
   "outputs": [],
   "source": []
  },
  {
   "cell_type": "code",
   "execution_count": 2,
   "id": "361c30fa",
   "metadata": {},
   "outputs": [
    {
     "data": {
      "text/plain": [
       "array([[1.83573953e-01, 4.23669636e-01, 6.60708597e-02, 3.00236106e-01,\n",
       "        2.61095144e-02, 2.22222222e-04, 0.00000000e+00, 1.17708412e-04,\n",
       "        0.00000000e+00],\n",
       "       [0.00000000e+00, 5.25634152e-04, 4.02112814e-01, 2.28284583e-01,\n",
       "        1.63454396e-01, 8.19287953e-02, 7.96519598e-02, 0.00000000e+00,\n",
       "        4.40418174e-02],\n",
       "       [2.17159412e-01, 4.08617025e-01, 9.23733410e-02, 6.25702458e-02,\n",
       "        7.82215867e-04, 5.00000000e-05, 1.71734439e-01, 1.07675201e-03,\n",
       "        4.56365691e-02],\n",
       "       [4.14023803e-01, 2.64915531e-01, 4.97045514e-02, 2.40235672e-01,\n",
       "        3.05679616e-02, 1.44922983e-04, 0.00000000e+00, 3.96446655e-04,\n",
       "        1.11111111e-05],\n",
       "       [2.39024314e-01, 1.05144042e-01, 1.92673789e-01, 4.65319733e-02,\n",
       "        2.19523810e-03, 8.00000000e-05, 4.07738187e-01, 0.00000000e+00,\n",
       "        6.61245622e-03],\n",
       "       [3.60965463e-03, 3.59101221e-01, 2.81051353e-01, 5.21748936e-02,\n",
       "        2.24973434e-01, 2.60850261e-02, 2.38203826e-02, 3.42818337e-05,\n",
       "        2.91497530e-02],\n",
       "       [2.10526316e-05, 2.37417447e-01, 1.97922990e-01, 2.71812363e-02,\n",
       "        4.86611268e-01, 1.60566895e-02, 7.47699483e-03, 3.39332080e-05,\n",
       "        2.72783879e-02]])"
      ]
     },
     "execution_count": 2,
     "metadata": {},
     "output_type": "execute_result"
    }
   ],
   "source": []
  },
  {
   "cell_type": "code",
   "execution_count": null,
   "id": "146f7392",
   "metadata": {},
   "outputs": [],
   "source": []
  }
 ],
 "metadata": {
  "kernelspec": {
   "display_name": "Python 3",
   "language": "python",
   "name": "python3"
  },
  "language_info": {
   "codemirror_mode": {
    "name": "ipython",
    "version": 3
   },
   "file_extension": ".py",
   "mimetype": "text/x-python",
   "name": "python",
   "nbconvert_exporter": "python",
   "pygments_lexer": "ipython3",
   "version": "3.6.9"
  }
 },
 "nbformat": 4,
 "nbformat_minor": 5
}
