{
 "cells": [
  {
   "cell_type": "code",
   "execution_count": null,
   "id": "2abd4ad2-50cd-40c5-a337-1e8edd0f93c0",
   "metadata": {},
   "outputs": [],
   "source": [
    "width, height, transform = metadata_from_tile(tile)\n",
    "bands = ['band_0','band_1','band_2','band_3','band_4','band_5']\n",
    "#agrandar si tienen mas memoria, corre un poco mas rapido pero ojo que se pueden distorsionar los bordes\n",
    "windows = sliding_windows(100, 100, width, height)\n",
    "os.makedirs('./predictions/', exist_ok=True)\n",
    "out_raster = f'./predictions/{tile}'\n",
    "with rasterio.open(out_raster, 'w', driver='GTiff', count=1, width=width, height=height, dtype=np.float64, transform=transform, crs=CRS.from_epsg(4326), compress='lzw'\n",
    ") as dst:\n",
    "    for window, _ in tqdm(windows):           \n",
    "        img_df = create_windowed_dataset(tile, window, bands)\n",
    "        n_bands = img_df.shape[1]\n",
    "        r,m,n = (n_bands, window.width, window.height)\n",
    "        #clf es el clasificador que entrenamos antes\n",
    "        res = clf.predict(img_df).astype(np.float64)\n",
    "        res = np.expand_dims(res.reshape(m,n), axis=0)\n",
    "        dst.write(res, window=window)"
   ]
  }
 ],
 "metadata": {
  "environment": {
   "kernel": "python3",
   "name": "common-cpu.m94",
   "type": "gcloud",
   "uri": "gcr.io/deeplearning-platform-release/base-cpu:m94"
  },
  "kernelspec": {
   "display_name": "Python 3",
   "language": "python",
   "name": "python3"
  },
  "language_info": {
   "codemirror_mode": {
    "name": "ipython",
    "version": 3
   },
   "file_extension": ".py",
   "mimetype": "text/x-python",
   "name": "python",
   "nbconvert_exporter": "python",
   "pygments_lexer": "ipython3",
   "version": "3.7.12"
  }
 },
 "nbformat": 4,
 "nbformat_minor": 5
}
