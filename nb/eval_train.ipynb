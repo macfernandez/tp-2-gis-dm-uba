{
 "cells": [
  {
   "cell_type": "markdown",
   "id": "c34f8a5f-37d8-4235-862a-60a92d764861",
   "metadata": {},
   "source": [
    "# Evaluación sobre verdad de campo original"
   ]
  },
  {
   "cell_type": "code",
   "execution_count": null,
   "id": "f51d32d6-50df-41af-8d1a-d921de8cbc22",
   "metadata": {},
   "outputs": [],
   "source": [
    "import os\n",
    "import json\n",
    "import joblib\n",
    "import numpy as np\n",
    "import pandas as pd\n",
    "from glob import glob\n",
    "from sqlite3 import connect\n",
    "from tqdm.notebook import tqdm\n",
    "from sklearn.ensemble import RandomForestClassifier\n",
    "\n",
    "from utilities import *"
   ]
  },
  {
   "cell_type": "code",
   "execution_count": null,
   "id": "0575a918-54a1-4d36-8dc9-531be9afb50e",
   "metadata": {},
   "outputs": [],
   "source": [
    "sqlite_files = glob('../data/selection/*.sqlite')\n",
    "\n",
    "data = pd.DataFrame()\n",
    "\n",
    "for sf in sqlite_files:\n",
    "    cnx = connect(sf)\n",
    "    df = pd.read_sql_query(\"SELECT * FROM output\", cnx)\n",
    "    data = pd.concat([data, df], ignore_index=True)"
   ]
  },
  {
   "cell_type": "code",
   "execution_count": null,
   "id": "a8112bad-0d76-45c4-8137-894ad08e40dd",
   "metadata": {},
   "outputs": [],
   "source": [
    "data.head()"
   ]
  },
  {
   "cell_type": "code",
   "execution_count": null,
   "id": "090ac9e5-71b5-4240-8a44-0d128933fa0a",
   "metadata": {},
   "outputs": [],
   "source": [
    "model = joblib.load('../model/randomforest_iter_01.joblib')"
   ]
  },
  {
   "cell_type": "code",
   "execution_count": null,
   "id": "a59d1e1d-eb05-4e92-8054-80710c0ddc89",
   "metadata": {},
   "outputs": [],
   "source": [
    "X = data.filter(regex='band_').to_numpy()\n",
    "y = data['id'].to_numpy()"
   ]
  },
  {
   "cell_type": "code",
   "execution_count": null,
   "id": "af1b52fb-ae07-4516-b714-96efdb0a9862",
   "metadata": {},
   "outputs": [],
   "source": [
    "y_hat = model.predict_proba(X)"
   ]
  }
 ],
 "metadata": {
  "kernelspec": {
   "display_name": "Python 3",
   "language": "python",
   "name": "python3"
  },
  "language_info": {
   "codemirror_mode": {
    "name": "ipython",
    "version": 3
   },
   "file_extension": ".py",
   "mimetype": "text/x-python",
   "name": "python",
   "nbconvert_exporter": "python",
   "pygments_lexer": "ipython3"
  }
 },
 "nbformat": 4,
 "nbformat_minor": 5
}
