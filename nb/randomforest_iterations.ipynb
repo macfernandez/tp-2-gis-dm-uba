{
 "cells": [
  {
   "cell_type": "markdown",
   "id": "2401d954-3687-439b-a668-c219a35a5d18",
   "metadata": {},
   "source": [
    "# Entrenamiento iterativo"
   ]
  },
  {
   "cell_type": "code",
   "execution_count": 1,
   "id": "754fe51f-9bbc-4739-8e74-800473891684",
   "metadata": {},
   "outputs": [],
   "source": [
    "import os\n",
    "import re\n",
    "import json\n",
    "import joblib\n",
    "import rasterio\n",
    "import numpy as np\n",
    "import pandas as pd\n",
    "from glob import glob\n",
    "from pyproj import CRS\n",
    "from copy import deepcopy\n",
    "from sqlite3 import connect\n",
    "from sklearn.preprocessing import LabelEncoder\n",
    "from sklearn.ensemble import RandomForestClassifier\n",
    "\n",
    "from utilities import *"
   ]
  },
  {
   "cell_type": "markdown",
   "id": "dfc50e70-5593-4c74-88ea-d72ddb3d3411",
   "metadata": {},
   "source": [
    "## Conjunto de entrenamiento"
   ]
  },
  {
   "cell_type": "code",
   "execution_count": 2,
   "id": "b65e2de2-f7c6-48cc-a57a-e3d53142d7ce",
   "metadata": {},
   "outputs": [],
   "source": [
    "# cambiar según corresponda\n",
    "# train_sqlite_files debe contener los .sqlite generados a partir de la verdad de campo\n",
    "train_sqlite_files = glob('../data/selection_verdad_campo/*.sqlite')\n",
    "\n",
    "train_data = pd.DataFrame()\n",
    "\n",
    "for sf in train_sqlite_files:\n",
    "    file_name = os.path.basename(sf)\n",
    "    tile = re.search(r'\\d+',file_name).group()\n",
    "    cnx = connect(sf)\n",
    "    df = pd.read_sql_query(\"SELECT * FROM output\", cnx)\n",
    "    df['tile_file'] = tile\n",
    "    train_data = pd.concat([train_data, df], ignore_index=True)"
   ]
  },
  {
   "cell_type": "code",
   "execution_count": 3,
   "id": "a832c5d5-7d01-49d2-bf7f-dadc2d34128b",
   "metadata": {},
   "outputs": [
    {
     "data": {
      "text/plain": [
       "(466, 35)"
      ]
     },
     "execution_count": 3,
     "metadata": {},
     "output_type": "execute_result"
    }
   ],
   "source": [
    "train_data.shape"
   ]
  },
  {
   "cell_type": "code",
   "execution_count": 4,
   "id": "13016a21-cf58-4035-9ce7-fdb7ca399547",
   "metadata": {},
   "outputs": [
    {
     "data": {
      "text/html": [
       "<div>\n",
       "<style scoped>\n",
       "    .dataframe tbody tr th:only-of-type {\n",
       "        vertical-align: middle;\n",
       "    }\n",
       "\n",
       "    .dataframe tbody tr th {\n",
       "        vertical-align: top;\n",
       "    }\n",
       "\n",
       "    .dataframe thead th {\n",
       "        text-align: right;\n",
       "    }\n",
       "</style>\n",
       "<table border=\"1\" class=\"dataframe\">\n",
       "  <thead>\n",
       "    <tr style=\"text-align: right;\">\n",
       "      <th></th>\n",
       "      <th>ogc_fid</th>\n",
       "      <th>GEOMETRY</th>\n",
       "      <th>in1</th>\n",
       "      <th>id</th>\n",
       "      <th>cultivo</th>\n",
       "      <th>originfid</th>\n",
       "      <th>band_0</th>\n",
       "      <th>band_1</th>\n",
       "      <th>band_2</th>\n",
       "      <th>band_3</th>\n",
       "      <th>...</th>\n",
       "      <th>band_19</th>\n",
       "      <th>band_20</th>\n",
       "      <th>band_21</th>\n",
       "      <th>band_22</th>\n",
       "      <th>band_23</th>\n",
       "      <th>band_24</th>\n",
       "      <th>band_25</th>\n",
       "      <th>band_26</th>\n",
       "      <th>band_27</th>\n",
       "      <th>tile_file</th>\n",
       "    </tr>\n",
       "  </thead>\n",
       "  <tbody>\n",
       "    <tr>\n",
       "      <th>0</th>\n",
       "      <td>1</td>\n",
       "      <td>b'\\x01\\x01\\x00\\x00\\x00(I\\x80\\xe0\\xf6fO\\xc0\\xbe...</td>\n",
       "      <td>014084</td>\n",
       "      <td>1</td>\n",
       "      <td>SOJA</td>\n",
       "      <td>7</td>\n",
       "      <td>0.42816</td>\n",
       "      <td>0.692352</td>\n",
       "      <td>0.36905</td>\n",
       "      <td>0.730617</td>\n",
       "      <td>...</td>\n",
       "      <td>4.816959</td>\n",
       "      <td>0.82200</td>\n",
       "      <td>0.410423</td>\n",
       "      <td>0.831812</td>\n",
       "      <td>0.543103</td>\n",
       "      <td>0.868833</td>\n",
       "      <td>2.95450</td>\n",
       "      <td>0.109526</td>\n",
       "      <td>0.861515</td>\n",
       "      <td>12544</td>\n",
       "    </tr>\n",
       "    <tr>\n",
       "      <th>1</th>\n",
       "      <td>2</td>\n",
       "      <td>b'\\x01\\x01\\x00\\x00\\x00\\x1f|\\x14\"lkO\\xc0^\\x14\\x...</td>\n",
       "      <td>014084</td>\n",
       "      <td>1</td>\n",
       "      <td>SOJA</td>\n",
       "      <td>8</td>\n",
       "      <td>0.41152</td>\n",
       "      <td>0.671952</td>\n",
       "      <td>0.42940</td>\n",
       "      <td>0.711504</td>\n",
       "      <td>...</td>\n",
       "      <td>4.774915</td>\n",
       "      <td>1.36300</td>\n",
       "      <td>0.441640</td>\n",
       "      <td>0.817090</td>\n",
       "      <td>0.587002</td>\n",
       "      <td>0.862946</td>\n",
       "      <td>3.15975</td>\n",
       "      <td>0.148569</td>\n",
       "      <td>0.859830</td>\n",
       "      <td>12544</td>\n",
       "    </tr>\n",
       "    <tr>\n",
       "      <th>2</th>\n",
       "      <td>3</td>\n",
       "      <td>b'\\x01\\x01\\x00\\x00\\x00L).\\x93\\x08eO\\xc0fz\\xd9|...</td>\n",
       "      <td>014084</td>\n",
       "      <td>1</td>\n",
       "      <td>SOJA</td>\n",
       "      <td>11</td>\n",
       "      <td>0.49848</td>\n",
       "      <td>0.794412</td>\n",
       "      <td>0.42270</td>\n",
       "      <td>0.805747</td>\n",
       "      <td>...</td>\n",
       "      <td>5.247081</td>\n",
       "      <td>1.27025</td>\n",
       "      <td>0.423015</td>\n",
       "      <td>0.849940</td>\n",
       "      <td>0.563715</td>\n",
       "      <td>0.884401</td>\n",
       "      <td>3.21300</td>\n",
       "      <td>0.130448</td>\n",
       "      <td>0.879770</td>\n",
       "      <td>12544</td>\n",
       "    </tr>\n",
       "    <tr>\n",
       "      <th>3</th>\n",
       "      <td>4</td>\n",
       "      <td>b'\\x01\\x01\\x00\\x00\\x00\\x03X\\x12\\xb7\\xb0iO\\xc0[...</td>\n",
       "      <td>014084</td>\n",
       "      <td>1</td>\n",
       "      <td>SOJA</td>\n",
       "      <td>12</td>\n",
       "      <td>0.52872</td>\n",
       "      <td>0.834804</td>\n",
       "      <td>0.79800</td>\n",
       "      <td>0.835724</td>\n",
       "      <td>...</td>\n",
       "      <td>5.583365</td>\n",
       "      <td>2.86100</td>\n",
       "      <td>0.432937</td>\n",
       "      <td>0.861866</td>\n",
       "      <td>0.588915</td>\n",
       "      <td>0.892530</td>\n",
       "      <td>2.75850</td>\n",
       "      <td>0.430294</td>\n",
       "      <td>0.891874</td>\n",
       "      <td>12544</td>\n",
       "    </tr>\n",
       "    <tr>\n",
       "      <th>4</th>\n",
       "      <td>5</td>\n",
       "      <td>b'\\x01\\x01\\x00\\x00\\x00\\xa5\\x87\\x83F\\xd6\\\\O\\xc0...</td>\n",
       "      <td>014084</td>\n",
       "      <td>1</td>\n",
       "      <td>SOJA</td>\n",
       "      <td>28</td>\n",
       "      <td>0.50560</td>\n",
       "      <td>0.799404</td>\n",
       "      <td>0.32025</td>\n",
       "      <td>0.812116</td>\n",
       "      <td>...</td>\n",
       "      <td>5.668369</td>\n",
       "      <td>0.07450</td>\n",
       "      <td>0.453263</td>\n",
       "      <td>0.858904</td>\n",
       "      <td>0.589450</td>\n",
       "      <td>0.899895</td>\n",
       "      <td>2.88900</td>\n",
       "      <td>0.079681</td>\n",
       "      <td>0.894360</td>\n",
       "      <td>12544</td>\n",
       "    </tr>\n",
       "  </tbody>\n",
       "</table>\n",
       "<p>5 rows × 35 columns</p>\n",
       "</div>"
      ],
      "text/plain": [
       "   ogc_fid                                           GEOMETRY     in1  id  \\\n",
       "0        1  b'\\x01\\x01\\x00\\x00\\x00(I\\x80\\xe0\\xf6fO\\xc0\\xbe...  014084   1   \n",
       "1        2  b'\\x01\\x01\\x00\\x00\\x00\\x1f|\\x14\"lkO\\xc0^\\x14\\x...  014084   1   \n",
       "2        3  b'\\x01\\x01\\x00\\x00\\x00L).\\x93\\x08eO\\xc0fz\\xd9|...  014084   1   \n",
       "3        4  b'\\x01\\x01\\x00\\x00\\x00\\x03X\\x12\\xb7\\xb0iO\\xc0[...  014084   1   \n",
       "4        5  b'\\x01\\x01\\x00\\x00\\x00\\xa5\\x87\\x83F\\xd6\\\\O\\xc0...  014084   1   \n",
       "\n",
       "  cultivo  originfid   band_0    band_1   band_2    band_3  ...   band_19  \\\n",
       "0    SOJA          7  0.42816  0.692352  0.36905  0.730617  ...  4.816959   \n",
       "1    SOJA          8  0.41152  0.671952  0.42940  0.711504  ...  4.774915   \n",
       "2    SOJA         11  0.49848  0.794412  0.42270  0.805747  ...  5.247081   \n",
       "3    SOJA         12  0.52872  0.834804  0.79800  0.835724  ...  5.583365   \n",
       "4    SOJA         28  0.50560  0.799404  0.32025  0.812116  ...  5.668369   \n",
       "\n",
       "   band_20   band_21   band_22   band_23   band_24  band_25   band_26  \\\n",
       "0  0.82200  0.410423  0.831812  0.543103  0.868833  2.95450  0.109526   \n",
       "1  1.36300  0.441640  0.817090  0.587002  0.862946  3.15975  0.148569   \n",
       "2  1.27025  0.423015  0.849940  0.563715  0.884401  3.21300  0.130448   \n",
       "3  2.86100  0.432937  0.861866  0.588915  0.892530  2.75850  0.430294   \n",
       "4  0.07450  0.453263  0.858904  0.589450  0.899895  2.88900  0.079681   \n",
       "\n",
       "    band_27  tile_file  \n",
       "0  0.861515      12544  \n",
       "1  0.859830      12544  \n",
       "2  0.879770      12544  \n",
       "3  0.891874      12544  \n",
       "4  0.894360      12544  \n",
       "\n",
       "[5 rows x 35 columns]"
      ]
     },
     "execution_count": 4,
     "metadata": {},
     "output_type": "execute_result"
    }
   ],
   "source": [
    "train_data.head()"
   ]
  },
  {
   "cell_type": "markdown",
   "id": "ce95c0c8-b127-40a2-bc35-199bb3f7183c",
   "metadata": {},
   "source": [
    "## Conjunto de predicción"
   ]
  },
  {
   "cell_type": "code",
   "execution_count": 5,
   "id": "5468b355-411e-4fad-bfbc-feaee30b74aa",
   "metadata": {},
   "outputs": [],
   "source": [
    "# cambiar según corresponda\n",
    "# pred_sqlite_files debe contener los .sqlite generados a partir de la máscara mask_agri_aoi\n",
    "pred_sqlite_files = glob('../data/selection_mask_agri_aoi/*.sqlite')\n",
    "\n",
    "pred_data = pd.DataFrame()\n",
    "\n",
    "for sf in pred_sqlite_files:\n",
    "    file_name = os.path.basename(sf)\n",
    "    tile = re.search(r'\\d+',file_name).group()\n",
    "    cnx = connect(sf)\n",
    "    df = pd.read_sql_query(\"SELECT * FROM output\", cnx)\n",
    "    df['tile_file'] = tile\n",
    "    pred_data = pd.concat([pred_data, df], ignore_index=True)"
   ]
  },
  {
   "cell_type": "code",
   "execution_count": 6,
   "id": "6c8f460d-2a3d-4fc7-9a11-a362062b80ec",
   "metadata": {},
   "outputs": [
    {
     "data": {
      "text/plain": [
       "(2000, 34)"
      ]
     },
     "execution_count": 6,
     "metadata": {},
     "output_type": "execute_result"
    }
   ],
   "source": [
    "pred_data.shape"
   ]
  },
  {
   "cell_type": "code",
   "execution_count": 7,
   "id": "5cd7f6ab-39b9-4c74-9205-107131a96fc6",
   "metadata": {},
   "outputs": [
    {
     "data": {
      "text/html": [
       "<div>\n",
       "<style scoped>\n",
       "    .dataframe tbody tr th:only-of-type {\n",
       "        vertical-align: middle;\n",
       "    }\n",
       "\n",
       "    .dataframe tbody tr th {\n",
       "        vertical-align: top;\n",
       "    }\n",
       "\n",
       "    .dataframe thead th {\n",
       "        text-align: right;\n",
       "    }\n",
       "</style>\n",
       "<table border=\"1\" class=\"dataframe\">\n",
       "  <thead>\n",
       "    <tr style=\"text-align: right;\">\n",
       "      <th></th>\n",
       "      <th>ogc_fid</th>\n",
       "      <th>GEOMETRY</th>\n",
       "      <th>dn</th>\n",
       "      <th>originfid</th>\n",
       "      <th>band_0</th>\n",
       "      <th>band_1</th>\n",
       "      <th>band_2</th>\n",
       "      <th>band_3</th>\n",
       "      <th>band_4</th>\n",
       "      <th>band_5</th>\n",
       "      <th>...</th>\n",
       "      <th>band_20</th>\n",
       "      <th>band_21</th>\n",
       "      <th>band_22</th>\n",
       "      <th>band_23</th>\n",
       "      <th>band_24</th>\n",
       "      <th>band_25</th>\n",
       "      <th>band_26</th>\n",
       "      <th>band_27</th>\n",
       "      <th>tile_file</th>\n",
       "      <th>fid</th>\n",
       "    </tr>\n",
       "  </thead>\n",
       "  <tbody>\n",
       "    <tr>\n",
       "      <th>0</th>\n",
       "      <td>1</td>\n",
       "      <td>b'\\x01\\x01\\x00\\x00\\x00\\xd9d\\xed\\xadtnO\\xc0c\\xc...</td>\n",
       "      <td>0</td>\n",
       "      <td>1700</td>\n",
       "      <td>0.24940</td>\n",
       "      <td>0.460140</td>\n",
       "      <td>0.52520</td>\n",
       "      <td>0.528496</td>\n",
       "      <td>0.402478</td>\n",
       "      <td>17.191881</td>\n",
       "      <td>...</td>\n",
       "      <td>1.63725</td>\n",
       "      <td>0.147789</td>\n",
       "      <td>0.732260</td>\n",
       "      <td>0.206949</td>\n",
       "      <td>0.678206</td>\n",
       "      <td>2.0880</td>\n",
       "      <td>0.248439</td>\n",
       "      <td>0.648655</td>\n",
       "      <td>12544</td>\n",
       "      <td>NaN</td>\n",
       "    </tr>\n",
       "    <tr>\n",
       "      <th>1</th>\n",
       "      <td>2</td>\n",
       "      <td>b'\\x01\\x01\\x00\\x00\\x00\\xac\\xa8\\xb6x&lt;kO\\xc0)\\x0...</td>\n",
       "      <td>0</td>\n",
       "      <td>2725</td>\n",
       "      <td>0.26908</td>\n",
       "      <td>0.505404</td>\n",
       "      <td>0.35965</td>\n",
       "      <td>0.553477</td>\n",
       "      <td>0.444814</td>\n",
       "      <td>24.925385</td>\n",
       "      <td>...</td>\n",
       "      <td>2.10075</td>\n",
       "      <td>0.254138</td>\n",
       "      <td>0.697226</td>\n",
       "      <td>0.345695</td>\n",
       "      <td>0.692849</td>\n",
       "      <td>3.2220</td>\n",
       "      <td>0.285051</td>\n",
       "      <td>0.670396</td>\n",
       "      <td>12544</td>\n",
       "      <td>NaN</td>\n",
       "    </tr>\n",
       "    <tr>\n",
       "      <th>2</th>\n",
       "      <td>3</td>\n",
       "      <td>b'\\x01\\x01\\x00\\x00\\x00\\xec\\x08\\x8e\\x96\\x8d]O\\x...</td>\n",
       "      <td>0</td>\n",
       "      <td>3064</td>\n",
       "      <td>0.00596</td>\n",
       "      <td>0.110892</td>\n",
       "      <td>0.16620</td>\n",
       "      <td>0.188773</td>\n",
       "      <td>0.087656</td>\n",
       "      <td>10.408563</td>\n",
       "      <td>...</td>\n",
       "      <td>0.12125</td>\n",
       "      <td>-0.160827</td>\n",
       "      <td>0.550313</td>\n",
       "      <td>-0.212589</td>\n",
       "      <td>0.274238</td>\n",
       "      <td>1.6695</td>\n",
       "      <td>0.019799</td>\n",
       "      <td>0.185629</td>\n",
       "      <td>12544</td>\n",
       "      <td>NaN</td>\n",
       "    </tr>\n",
       "    <tr>\n",
       "      <th>3</th>\n",
       "      <td>4</td>\n",
       "      <td>b'\\x01\\x01\\x00\\x00\\x00\\xb6\\xb2\\xb1`d]O\\xc0\\x81...</td>\n",
       "      <td>0</td>\n",
       "      <td>3064</td>\n",
       "      <td>0.45856</td>\n",
       "      <td>0.744036</td>\n",
       "      <td>0.57230</td>\n",
       "      <td>0.765991</td>\n",
       "      <td>0.704343</td>\n",
       "      <td>21.827360</td>\n",
       "      <td>...</td>\n",
       "      <td>3.22075</td>\n",
       "      <td>0.362193</td>\n",
       "      <td>0.831067</td>\n",
       "      <td>0.481766</td>\n",
       "      <td>0.857324</td>\n",
       "      <td>1.8010</td>\n",
       "      <td>0.405955</td>\n",
       "      <td>0.845724</td>\n",
       "      <td>12544</td>\n",
       "      <td>NaN</td>\n",
       "    </tr>\n",
       "    <tr>\n",
       "      <th>4</th>\n",
       "      <td>5</td>\n",
       "      <td>b'\\x01\\x01\\x00\\x00\\x00P\\x00\\x00bkiO\\xc05\\xdd\"=...</td>\n",
       "      <td>0</td>\n",
       "      <td>3160</td>\n",
       "      <td>0.14972</td>\n",
       "      <td>0.286284</td>\n",
       "      <td>0.27095</td>\n",
       "      <td>0.360262</td>\n",
       "      <td>0.255082</td>\n",
       "      <td>45.364269</td>\n",
       "      <td>...</td>\n",
       "      <td>1.49950</td>\n",
       "      <td>0.190551</td>\n",
       "      <td>0.696629</td>\n",
       "      <td>0.275626</td>\n",
       "      <td>0.647059</td>\n",
       "      <td>1.6775</td>\n",
       "      <td>0.167357</td>\n",
       "      <td>0.635977</td>\n",
       "      <td>12544</td>\n",
       "      <td>NaN</td>\n",
       "    </tr>\n",
       "  </tbody>\n",
       "</table>\n",
       "<p>5 rows × 34 columns</p>\n",
       "</div>"
      ],
      "text/plain": [
       "   ogc_fid                                           GEOMETRY  dn  originfid  \\\n",
       "0        1  b'\\x01\\x01\\x00\\x00\\x00\\xd9d\\xed\\xadtnO\\xc0c\\xc...   0       1700   \n",
       "1        2  b'\\x01\\x01\\x00\\x00\\x00\\xac\\xa8\\xb6x<kO\\xc0)\\x0...   0       2725   \n",
       "2        3  b'\\x01\\x01\\x00\\x00\\x00\\xec\\x08\\x8e\\x96\\x8d]O\\x...   0       3064   \n",
       "3        4  b'\\x01\\x01\\x00\\x00\\x00\\xb6\\xb2\\xb1`d]O\\xc0\\x81...   0       3064   \n",
       "4        5  b'\\x01\\x01\\x00\\x00\\x00P\\x00\\x00bkiO\\xc05\\xdd\"=...   0       3160   \n",
       "\n",
       "    band_0    band_1   band_2    band_3    band_4     band_5  ...  band_20  \\\n",
       "0  0.24940  0.460140  0.52520  0.528496  0.402478  17.191881  ...  1.63725   \n",
       "1  0.26908  0.505404  0.35965  0.553477  0.444814  24.925385  ...  2.10075   \n",
       "2  0.00596  0.110892  0.16620  0.188773  0.087656  10.408563  ...  0.12125   \n",
       "3  0.45856  0.744036  0.57230  0.765991  0.704343  21.827360  ...  3.22075   \n",
       "4  0.14972  0.286284  0.27095  0.360262  0.255082  45.364269  ...  1.49950   \n",
       "\n",
       "    band_21   band_22   band_23   band_24  band_25   band_26   band_27  \\\n",
       "0  0.147789  0.732260  0.206949  0.678206   2.0880  0.248439  0.648655   \n",
       "1  0.254138  0.697226  0.345695  0.692849   3.2220  0.285051  0.670396   \n",
       "2 -0.160827  0.550313 -0.212589  0.274238   1.6695  0.019799  0.185629   \n",
       "3  0.362193  0.831067  0.481766  0.857324   1.8010  0.405955  0.845724   \n",
       "4  0.190551  0.696629  0.275626  0.647059   1.6775  0.167357  0.635977   \n",
       "\n",
       "   tile_file  fid  \n",
       "0      12544  NaN  \n",
       "1      12544  NaN  \n",
       "2      12544  NaN  \n",
       "3      12544  NaN  \n",
       "4      12544  NaN  \n",
       "\n",
       "[5 rows x 34 columns]"
      ]
     },
     "execution_count": 7,
     "metadata": {},
     "output_type": "execute_result"
    }
   ],
   "source": [
    "pred_data.head()"
   ]
  },
  {
   "cell_type": "markdown",
   "id": "bee6478d-8c03-457b-b12f-f98c3c5712a0",
   "metadata": {},
   "source": [
    "## Agregado de departamentos"
   ]
  },
  {
   "cell_type": "code",
   "execution_count": 8,
   "id": "a5c9954e-54e0-4fe5-b38c-d8854742a093",
   "metadata": {},
   "outputs": [],
   "source": [
    "# cambiar según corresponda\n",
    "# deptos_sqlite_files debe contener los .sqlite generados a partir de los departamentos\n",
    "deptos_sqlite_files = glob('../data/selection_departamentos_features/*.sqlite')\n",
    "\n",
    "deptos_data = pd.DataFrame()\n",
    "\n",
    "for sf in deptos_sqlite_files:\n",
    "    file_name = os.path.basename(sf)\n",
    "    tile = re.search(r'\\d+',file_name).group()\n",
    "    cnx = connect(sf)\n",
    "    df = pd.read_sql_query(\"SELECT * FROM output\", cnx)\n",
    "    df['tile_file'] = tile\n",
    "    deptos_data = pd.concat([deptos_data, df], ignore_index=True)"
   ]
  },
  {
   "cell_type": "code",
   "execution_count": 9,
   "id": "8eafacb8-82ee-4394-916c-86c8a8da90ef",
   "metadata": {},
   "outputs": [],
   "source": [
    "train_data = train_data.merge(deptos_data[['ogc_fid','nombre','tile_file']], how='left', on=['ogc_fid','tile_file'])\n",
    "pred_data = pred_data.merge(deptos_data[['ogc_fid','nombre','tile_file']], how='left', on=['ogc_fid','tile_file'])"
   ]
  },
  {
   "cell_type": "code",
   "execution_count": 10,
   "id": "dcf61bd2-bbdd-4722-886f-74e756bcf773",
   "metadata": {},
   "outputs": [],
   "source": [
    "# train_data está dentro de pred_data\n",
    "# saco esas filas de pred_data\n",
    "# así no predecimos con lo mismo con lo que entrenamos\n",
    "\n",
    "merged_data = pred_data.merge(train_data[['ogc_fid','nombre','tile_file','id','cultivo']], how='left', on=['ogc_fid','tile_file','nombre'], indicator=True)\n",
    "train_data = merged_data[merged_data._merge=='both'].drop(columns=['_merge'])\n",
    "pred_data = merged_data[merged_data._merge=='left_only'].drop(columns=['_merge'])"
   ]
  },
  {
   "cell_type": "code",
   "execution_count": 11,
   "id": "bcfdbe9f-69c6-4ce3-99d7-ec659edecd8f",
   "metadata": {},
   "outputs": [
    {
     "data": {
      "text/plain": [
       "(466, 37)"
      ]
     },
     "execution_count": 11,
     "metadata": {},
     "output_type": "execute_result"
    }
   ],
   "source": [
    "train_data.shape"
   ]
  },
  {
   "cell_type": "code",
   "execution_count": 12,
   "id": "35bc5d4e-63e6-429e-9d8b-103f761bca9c",
   "metadata": {},
   "outputs": [
    {
     "data": {
      "text/plain": [
       "(1534, 37)"
      ]
     },
     "execution_count": 12,
     "metadata": {},
     "output_type": "execute_result"
    }
   ],
   "source": [
    "pred_data.shape"
   ]
  },
  {
   "cell_type": "markdown",
   "id": "98d309a3-f979-49bf-82a7-2e8b05d195fe",
   "metadata": {},
   "source": [
    "## Entrenamiento del modelo"
   ]
  },
  {
   "cell_type": "code",
   "execution_count": 13,
   "id": "eea57b00-be8e-4751-b4b1-79890ca2c05a",
   "metadata": {},
   "outputs": [
    {
     "data": {
      "text/plain": [
       "{1: 'SOJA',\n",
       " 2: 'MAIZ',\n",
       " 3: 'MAIZ',\n",
       " 5: 'GIRASOL',\n",
       " 20: 'CAMPONATUR',\n",
       " 10: 'ALFALFA',\n",
       " 4: 'SOJA'}"
      ]
     },
     "execution_count": 13,
     "metadata": {},
     "output_type": "execute_result"
    }
   ],
   "source": [
    "map_id2cultivo = dict((\n",
    "    train_data[['id','cultivo']]\n",
    "    .drop_duplicates()\n",
    "    .assign(id=lambda x: x.id.astype('int'))\n",
    "    .itertuples(index=False, name=None))\n",
    ")\n",
    "map_id2cultivo"
   ]
  },
  {
   "cell_type": "code",
   "execution_count": 14,
   "id": "58db2c36-a013-4133-8282-3a6392787db8",
   "metadata": {},
   "outputs": [
    {
     "data": {
      "text/plain": [
       "LabelEncoder()"
      ]
     },
     "execution_count": 14,
     "metadata": {},
     "output_type": "execute_result"
    }
   ],
   "source": [
    "le = LabelEncoder()\n",
    "le.fit(train_data.id)"
   ]
  },
  {
   "cell_type": "code",
   "execution_count": 15,
   "id": "ee94fb21-48a6-4f1d-8157-ea254135a894",
   "metadata": {},
   "outputs": [
    {
     "data": {
      "text/plain": [
       "{0: 1, 1: 2, 2: 3, 3: 4, 4: 5, 5: 10, 6: 20}"
      ]
     },
     "execution_count": 15,
     "metadata": {},
     "output_type": "execute_result"
    }
   ],
   "source": [
    "map_le2id = dict(zip(le.transform(le.classes_), list(map(int,le.classes_))))\n",
    "\n",
    "map_le2id"
   ]
  },
  {
   "cell_type": "code",
   "execution_count": 16,
   "id": "08505a9b-5ec0-4763-a2a2-0e6198b8457a",
   "metadata": {},
   "outputs": [
    {
     "data": {
      "text/html": [
       "<div>\n",
       "<style scoped>\n",
       "    .dataframe tbody tr th:only-of-type {\n",
       "        vertical-align: middle;\n",
       "    }\n",
       "\n",
       "    .dataframe tbody tr th {\n",
       "        vertical-align: top;\n",
       "    }\n",
       "\n",
       "    .dataframe thead th {\n",
       "        text-align: right;\n",
       "    }\n",
       "</style>\n",
       "<table border=\"1\" class=\"dataframe\">\n",
       "  <thead>\n",
       "    <tr style=\"text-align: right;\">\n",
       "      <th></th>\n",
       "      <th>ogc_fid</th>\n",
       "      <th>GEOMETRY</th>\n",
       "      <th>dn</th>\n",
       "      <th>originfid</th>\n",
       "      <th>band_0</th>\n",
       "      <th>band_1</th>\n",
       "      <th>band_2</th>\n",
       "      <th>band_3</th>\n",
       "      <th>band_4</th>\n",
       "      <th>band_5</th>\n",
       "      <th>...</th>\n",
       "      <th>band_24</th>\n",
       "      <th>band_25</th>\n",
       "      <th>band_26</th>\n",
       "      <th>band_27</th>\n",
       "      <th>tile_file</th>\n",
       "      <th>fid</th>\n",
       "      <th>nombre</th>\n",
       "      <th>id</th>\n",
       "      <th>cultivo</th>\n",
       "      <th>id_le</th>\n",
       "    </tr>\n",
       "  </thead>\n",
       "  <tbody>\n",
       "    <tr>\n",
       "      <th>0</th>\n",
       "      <td>1</td>\n",
       "      <td>b'\\x01\\x01\\x00\\x00\\x00\\xd9d\\xed\\xadtnO\\xc0c\\xc...</td>\n",
       "      <td>0</td>\n",
       "      <td>1700</td>\n",
       "      <td>0.24940</td>\n",
       "      <td>0.460140</td>\n",
       "      <td>0.52520</td>\n",
       "      <td>0.528496</td>\n",
       "      <td>0.402478</td>\n",
       "      <td>17.191881</td>\n",
       "      <td>...</td>\n",
       "      <td>0.678206</td>\n",
       "      <td>2.0880</td>\n",
       "      <td>0.248439</td>\n",
       "      <td>0.648655</td>\n",
       "      <td>12544</td>\n",
       "      <td>NaN</td>\n",
       "      <td>GENERAL VILLEGAS</td>\n",
       "      <td>1.0</td>\n",
       "      <td>SOJA</td>\n",
       "      <td>0</td>\n",
       "    </tr>\n",
       "    <tr>\n",
       "      <th>1</th>\n",
       "      <td>2</td>\n",
       "      <td>b'\\x01\\x01\\x00\\x00\\x00\\xac\\xa8\\xb6x&lt;kO\\xc0)\\x0...</td>\n",
       "      <td>0</td>\n",
       "      <td>2725</td>\n",
       "      <td>0.26908</td>\n",
       "      <td>0.505404</td>\n",
       "      <td>0.35965</td>\n",
       "      <td>0.553477</td>\n",
       "      <td>0.444814</td>\n",
       "      <td>24.925385</td>\n",
       "      <td>...</td>\n",
       "      <td>0.692849</td>\n",
       "      <td>3.2220</td>\n",
       "      <td>0.285051</td>\n",
       "      <td>0.670396</td>\n",
       "      <td>12544</td>\n",
       "      <td>NaN</td>\n",
       "      <td>GENERAL VILLEGAS</td>\n",
       "      <td>1.0</td>\n",
       "      <td>SOJA</td>\n",
       "      <td>0</td>\n",
       "    </tr>\n",
       "    <tr>\n",
       "      <th>2</th>\n",
       "      <td>3</td>\n",
       "      <td>b'\\x01\\x01\\x00\\x00\\x00\\xec\\x08\\x8e\\x96\\x8d]O\\x...</td>\n",
       "      <td>0</td>\n",
       "      <td>3064</td>\n",
       "      <td>0.00596</td>\n",
       "      <td>0.110892</td>\n",
       "      <td>0.16620</td>\n",
       "      <td>0.188773</td>\n",
       "      <td>0.087656</td>\n",
       "      <td>10.408563</td>\n",
       "      <td>...</td>\n",
       "      <td>0.274238</td>\n",
       "      <td>1.6695</td>\n",
       "      <td>0.019799</td>\n",
       "      <td>0.185629</td>\n",
       "      <td>12544</td>\n",
       "      <td>NaN</td>\n",
       "      <td>GENERAL VILLEGAS</td>\n",
       "      <td>1.0</td>\n",
       "      <td>SOJA</td>\n",
       "      <td>0</td>\n",
       "    </tr>\n",
       "    <tr>\n",
       "      <th>3</th>\n",
       "      <td>4</td>\n",
       "      <td>b'\\x01\\x01\\x00\\x00\\x00\\xb6\\xb2\\xb1`d]O\\xc0\\x81...</td>\n",
       "      <td>0</td>\n",
       "      <td>3064</td>\n",
       "      <td>0.45856</td>\n",
       "      <td>0.744036</td>\n",
       "      <td>0.57230</td>\n",
       "      <td>0.765991</td>\n",
       "      <td>0.704343</td>\n",
       "      <td>21.827360</td>\n",
       "      <td>...</td>\n",
       "      <td>0.857324</td>\n",
       "      <td>1.8010</td>\n",
       "      <td>0.405955</td>\n",
       "      <td>0.845724</td>\n",
       "      <td>12544</td>\n",
       "      <td>NaN</td>\n",
       "      <td>GENERAL VILLEGAS</td>\n",
       "      <td>1.0</td>\n",
       "      <td>SOJA</td>\n",
       "      <td>0</td>\n",
       "    </tr>\n",
       "    <tr>\n",
       "      <th>4</th>\n",
       "      <td>5</td>\n",
       "      <td>b'\\x01\\x01\\x00\\x00\\x00P\\x00\\x00bkiO\\xc05\\xdd\"=...</td>\n",
       "      <td>0</td>\n",
       "      <td>3160</td>\n",
       "      <td>0.14972</td>\n",
       "      <td>0.286284</td>\n",
       "      <td>0.27095</td>\n",
       "      <td>0.360262</td>\n",
       "      <td>0.255082</td>\n",
       "      <td>45.364269</td>\n",
       "      <td>...</td>\n",
       "      <td>0.647059</td>\n",
       "      <td>1.6775</td>\n",
       "      <td>0.167357</td>\n",
       "      <td>0.635977</td>\n",
       "      <td>12544</td>\n",
       "      <td>NaN</td>\n",
       "      <td>GENERAL VILLEGAS</td>\n",
       "      <td>1.0</td>\n",
       "      <td>SOJA</td>\n",
       "      <td>0</td>\n",
       "    </tr>\n",
       "  </tbody>\n",
       "</table>\n",
       "<p>5 rows × 38 columns</p>\n",
       "</div>"
      ],
      "text/plain": [
       "   ogc_fid                                           GEOMETRY  dn  originfid  \\\n",
       "0        1  b'\\x01\\x01\\x00\\x00\\x00\\xd9d\\xed\\xadtnO\\xc0c\\xc...   0       1700   \n",
       "1        2  b'\\x01\\x01\\x00\\x00\\x00\\xac\\xa8\\xb6x<kO\\xc0)\\x0...   0       2725   \n",
       "2        3  b'\\x01\\x01\\x00\\x00\\x00\\xec\\x08\\x8e\\x96\\x8d]O\\x...   0       3064   \n",
       "3        4  b'\\x01\\x01\\x00\\x00\\x00\\xb6\\xb2\\xb1`d]O\\xc0\\x81...   0       3064   \n",
       "4        5  b'\\x01\\x01\\x00\\x00\\x00P\\x00\\x00bkiO\\xc05\\xdd\"=...   0       3160   \n",
       "\n",
       "    band_0    band_1   band_2    band_3    band_4     band_5  ...   band_24  \\\n",
       "0  0.24940  0.460140  0.52520  0.528496  0.402478  17.191881  ...  0.678206   \n",
       "1  0.26908  0.505404  0.35965  0.553477  0.444814  24.925385  ...  0.692849   \n",
       "2  0.00596  0.110892  0.16620  0.188773  0.087656  10.408563  ...  0.274238   \n",
       "3  0.45856  0.744036  0.57230  0.765991  0.704343  21.827360  ...  0.857324   \n",
       "4  0.14972  0.286284  0.27095  0.360262  0.255082  45.364269  ...  0.647059   \n",
       "\n",
       "   band_25   band_26   band_27  tile_file  fid            nombre   id  \\\n",
       "0   2.0880  0.248439  0.648655      12544  NaN  GENERAL VILLEGAS  1.0   \n",
       "1   3.2220  0.285051  0.670396      12544  NaN  GENERAL VILLEGAS  1.0   \n",
       "2   1.6695  0.019799  0.185629      12544  NaN  GENERAL VILLEGAS  1.0   \n",
       "3   1.8010  0.405955  0.845724      12544  NaN  GENERAL VILLEGAS  1.0   \n",
       "4   1.6775  0.167357  0.635977      12544  NaN  GENERAL VILLEGAS  1.0   \n",
       "\n",
       "   cultivo  id_le  \n",
       "0     SOJA      0  \n",
       "1     SOJA      0  \n",
       "2     SOJA      0  \n",
       "3     SOJA      0  \n",
       "4     SOJA      0  \n",
       "\n",
       "[5 rows x 38 columns]"
      ]
     },
     "execution_count": 16,
     "metadata": {},
     "output_type": "execute_result"
    }
   ],
   "source": [
    "train_data['id_le'] = le.transform(train_data.id)\n",
    "\n",
    "train_data.head()"
   ]
  },
  {
   "cell_type": "code",
   "execution_count": 17,
   "id": "c5240870-6685-4670-a2aa-f304a7e154e7",
   "metadata": {},
   "outputs": [],
   "source": [
    "with open('../model/randomforest_parameters.json','r') as f:\n",
    "    parameters = json.load(f)"
   ]
  },
  {
   "cell_type": "code",
   "execution_count": 18,
   "id": "4dd792c8-087a-4732-a589-85dd1d20e883",
   "metadata": {},
   "outputs": [],
   "source": [
    "thresholds = [0.3, 0.4, 0.56]"
   ]
  },
  {
   "cell_type": "code",
   "execution_count": null,
   "id": "3734d4a0-59b0-43a5-9411-1d7a7d27df3d",
   "metadata": {},
   "outputs": [
    {
     "name": "stdout",
     "output_type": "stream",
     "text": [
      "+++++ PREDICCIONES PARA THRESHOLD 0.3\n"
     ]
    },
    {
     "name": "stderr",
     "output_type": "stream",
     "text": [
      "[Parallel(n_jobs=-1)]: Using backend ThreadingBackend with 8 concurrent workers.\n",
      "[Parallel(n_jobs=-1)]: Done  34 tasks      | elapsed:    0.1s\n",
      "[Parallel(n_jobs=-1)]: Done 184 tasks      | elapsed:    0.4s\n",
      "[Parallel(n_jobs=-1)]: Done 434 tasks      | elapsed:    0.9s\n",
      "[Parallel(n_jobs=-1)]: Done 500 out of 500 | elapsed:    1.0s finished\n",
      "[Parallel(n_jobs=8)]: Using backend ThreadingBackend with 8 concurrent workers.\n",
      "[Parallel(n_jobs=8)]: Done  34 tasks      | elapsed:    0.0s\n",
      "[Parallel(n_jobs=8)]: Done 184 tasks      | elapsed:    0.1s\n",
      "[Parallel(n_jobs=8)]: Done 434 tasks      | elapsed:    0.2s\n",
      "[Parallel(n_jobs=8)]: Done 500 out of 500 | elapsed:    0.2s finished\n"
     ]
    },
    {
     "name": "stdout",
     "output_type": "stream",
     "text": [
      "\n",
      "*** ITERACIÓN #000\n",
      "        - Modelo guardado en ../model/threshhold_0.3/randomforest_iterations_000/model_000.joblib\n",
      "        - Probabilidades guardadas en ../model/threshhold_0.3/randomforest_iterations_000/probas_000.npy\n",
      "        - Pixeles de entrenamiento: 466\n",
      "        - Pixeles con proba>=0.3: 1234\n",
      "        - Pixeles con proba<0.3: 300\n"
     ]
    },
    {
     "name": "stderr",
     "output_type": "stream",
     "text": [
      "[Parallel(n_jobs=-1)]: Using backend ThreadingBackend with 8 concurrent workers.\n",
      "[Parallel(n_jobs=-1)]: Done  34 tasks      | elapsed:    0.1s\n",
      "[Parallel(n_jobs=-1)]: Done 184 tasks      | elapsed:    0.7s\n",
      "[Parallel(n_jobs=-1)]: Done 434 tasks      | elapsed:    1.5s\n",
      "[Parallel(n_jobs=-1)]: Done 500 out of 500 | elapsed:    1.7s finished\n",
      "[Parallel(n_jobs=8)]: Using backend ThreadingBackend with 8 concurrent workers.\n",
      "[Parallel(n_jobs=8)]: Done  34 tasks      | elapsed:    0.0s\n",
      "[Parallel(n_jobs=8)]: Done 184 tasks      | elapsed:    0.0s\n",
      "[Parallel(n_jobs=8)]: Done 434 tasks      | elapsed:    0.1s\n",
      "[Parallel(n_jobs=8)]: Done 500 out of 500 | elapsed:    0.1s finished\n"
     ]
    },
    {
     "name": "stdout",
     "output_type": "stream",
     "text": [
      "\n",
      "*** ITERACIÓN #001\n",
      "        - Modelo guardado en ../model/threshhold_0.3/randomforest_iterations_001/model_001.joblib\n",
      "        - Probabilidades guardadas en ../model/threshhold_0.3/randomforest_iterations_001/probas_001.npy\n",
      "        - Pixeles de entrenamiento: 466\n",
      "        - Pixeles con proba>=0.3: 299\n",
      "        - Pixeles con proba<0.3: 1\n"
     ]
    },
    {
     "name": "stderr",
     "output_type": "stream",
     "text": [
      "[Parallel(n_jobs=-1)]: Using backend ThreadingBackend with 8 concurrent workers.\n",
      "[Parallel(n_jobs=-1)]: Done  34 tasks      | elapsed:    0.1s\n",
      "[Parallel(n_jobs=-1)]: Done 184 tasks      | elapsed:    0.7s\n",
      "[Parallel(n_jobs=-1)]: Done 434 tasks      | elapsed:    1.7s\n",
      "[Parallel(n_jobs=-1)]: Done 500 out of 500 | elapsed:    1.9s finished\n",
      "[Parallel(n_jobs=8)]: Using backend ThreadingBackend with 8 concurrent workers.\n",
      "[Parallel(n_jobs=8)]: Done  34 tasks      | elapsed:    0.0s\n",
      "[Parallel(n_jobs=8)]: Done 184 tasks      | elapsed:    0.0s\n",
      "[Parallel(n_jobs=8)]: Done 434 tasks      | elapsed:    0.1s\n",
      "[Parallel(n_jobs=8)]: Done 500 out of 500 | elapsed:    0.1s finished\n"
     ]
    },
    {
     "name": "stdout",
     "output_type": "stream",
     "text": [
      "\n",
      "*** ITERACIÓN #002\n",
      "        - Modelo guardado en ../model/threshhold_0.3/randomforest_iterations_002/model_002.joblib\n",
      "        - Probabilidades guardadas en ../model/threshhold_0.3/randomforest_iterations_002/probas_002.npy\n",
      "        - Pixeles de entrenamiento: 466\n",
      "        - Pixeles con proba>=0.3: 1\n",
      "        - Pixeles con proba<0.3: 0\n",
      "+++++ PREDICCIONES PARA THRESHOLD 0.4\n"
     ]
    },
    {
     "name": "stderr",
     "output_type": "stream",
     "text": [
      "[Parallel(n_jobs=-1)]: Using backend ThreadingBackend with 8 concurrent workers.\n",
      "[Parallel(n_jobs=-1)]: Done  34 tasks      | elapsed:    0.1s\n",
      "[Parallel(n_jobs=-1)]: Done 184 tasks      | elapsed:    0.4s\n",
      "[Parallel(n_jobs=-1)]: Done 434 tasks      | elapsed:    0.9s\n",
      "[Parallel(n_jobs=-1)]: Done 500 out of 500 | elapsed:    1.0s finished\n",
      "[Parallel(n_jobs=8)]: Using backend ThreadingBackend with 8 concurrent workers.\n",
      "[Parallel(n_jobs=8)]: Done  34 tasks      | elapsed:    0.0s\n",
      "[Parallel(n_jobs=8)]: Done 184 tasks      | elapsed:    0.1s\n",
      "[Parallel(n_jobs=8)]: Done 434 tasks      | elapsed:    0.2s\n",
      "[Parallel(n_jobs=8)]: Done 500 out of 500 | elapsed:    0.2s finished\n"
     ]
    },
    {
     "name": "stdout",
     "output_type": "stream",
     "text": [
      "\n",
      "*** ITERACIÓN #000\n",
      "        - Modelo guardado en ../model/threshhold_0.4/randomforest_iterations_000/model_000.joblib\n",
      "        - Probabilidades guardadas en ../model/threshhold_0.4/randomforest_iterations_000/probas_000.npy\n",
      "        - Pixeles de entrenamiento: 466\n",
      "        - Pixeles con proba>=0.4: 490\n",
      "        - Pixeles con proba<0.4: 1044\n"
     ]
    },
    {
     "name": "stderr",
     "output_type": "stream",
     "text": [
      "[Parallel(n_jobs=-1)]: Using backend ThreadingBackend with 8 concurrent workers.\n",
      "[Parallel(n_jobs=-1)]: Done  34 tasks      | elapsed:    0.1s\n",
      "[Parallel(n_jobs=-1)]: Done 184 tasks      | elapsed:    0.5s\n",
      "[Parallel(n_jobs=-1)]: Done 434 tasks      | elapsed:    1.2s\n",
      "[Parallel(n_jobs=-1)]: Done 500 out of 500 | elapsed:    1.3s finished\n",
      "[Parallel(n_jobs=8)]: Using backend ThreadingBackend with 8 concurrent workers.\n",
      "[Parallel(n_jobs=8)]: Done  34 tasks      | elapsed:    0.0s\n",
      "[Parallel(n_jobs=8)]: Done 184 tasks      | elapsed:    0.1s\n",
      "[Parallel(n_jobs=8)]: Done 434 tasks      | elapsed:    0.1s\n",
      "[Parallel(n_jobs=8)]: Done 500 out of 500 | elapsed:    0.2s finished\n"
     ]
    },
    {
     "name": "stdout",
     "output_type": "stream",
     "text": [
      "\n",
      "*** ITERACIÓN #001\n",
      "        - Modelo guardado en ../model/threshhold_0.4/randomforest_iterations_001/model_001.joblib\n",
      "        - Probabilidades guardadas en ../model/threshhold_0.4/randomforest_iterations_001/probas_001.npy\n",
      "        - Pixeles de entrenamiento: 466\n",
      "        - Pixeles con proba>=0.4: 783\n",
      "        - Pixeles con proba<0.4: 261\n"
     ]
    },
    {
     "name": "stderr",
     "output_type": "stream",
     "text": [
      "[Parallel(n_jobs=-1)]: Using backend ThreadingBackend with 8 concurrent workers.\n",
      "[Parallel(n_jobs=-1)]: Done  34 tasks      | elapsed:    0.1s\n",
      "[Parallel(n_jobs=-1)]: Done 184 tasks      | elapsed:    0.7s\n",
      "[Parallel(n_jobs=-1)]: Done 434 tasks      | elapsed:    1.6s\n",
      "[Parallel(n_jobs=-1)]: Done 500 out of 500 | elapsed:    1.8s finished\n",
      "[Parallel(n_jobs=8)]: Using backend ThreadingBackend with 8 concurrent workers.\n",
      "[Parallel(n_jobs=8)]: Done  34 tasks      | elapsed:    0.0s\n",
      "[Parallel(n_jobs=8)]: Done 184 tasks      | elapsed:    0.0s\n",
      "[Parallel(n_jobs=8)]: Done 434 tasks      | elapsed:    0.1s\n",
      "[Parallel(n_jobs=8)]: Done 500 out of 500 | elapsed:    0.1s finished\n"
     ]
    },
    {
     "name": "stdout",
     "output_type": "stream",
     "text": [
      "\n",
      "*** ITERACIÓN #002\n",
      "        - Modelo guardado en ../model/threshhold_0.4/randomforest_iterations_002/model_002.joblib\n",
      "        - Probabilidades guardadas en ../model/threshhold_0.4/randomforest_iterations_002/probas_002.npy\n",
      "        - Pixeles de entrenamiento: 466\n",
      "        - Pixeles con proba>=0.4: 219\n",
      "        - Pixeles con proba<0.4: 42\n"
     ]
    },
    {
     "name": "stderr",
     "output_type": "stream",
     "text": [
      "[Parallel(n_jobs=-1)]: Using backend ThreadingBackend with 8 concurrent workers.\n",
      "[Parallel(n_jobs=-1)]: Done  34 tasks      | elapsed:    0.1s\n",
      "[Parallel(n_jobs=-1)]: Done 184 tasks      | elapsed:    0.7s\n",
      "[Parallel(n_jobs=-1)]: Done 434 tasks      | elapsed:    1.7s\n",
      "[Parallel(n_jobs=-1)]: Done 500 out of 500 | elapsed:    1.9s finished\n",
      "[Parallel(n_jobs=8)]: Using backend ThreadingBackend with 8 concurrent workers.\n",
      "[Parallel(n_jobs=8)]: Done  34 tasks      | elapsed:    0.0s\n",
      "[Parallel(n_jobs=8)]: Done 184 tasks      | elapsed:    0.0s\n",
      "[Parallel(n_jobs=8)]: Done 434 tasks      | elapsed:    0.1s\n",
      "[Parallel(n_jobs=8)]: Done 500 out of 500 | elapsed:    0.1s finished\n"
     ]
    },
    {
     "name": "stdout",
     "output_type": "stream",
     "text": [
      "\n",
      "*** ITERACIÓN #003\n",
      "        - Modelo guardado en ../model/threshhold_0.4/randomforest_iterations_003/model_003.joblib\n",
      "        - Probabilidades guardadas en ../model/threshhold_0.4/randomforest_iterations_003/probas_003.npy\n",
      "        - Pixeles de entrenamiento: 466\n",
      "        - Pixeles con proba>=0.4: 28\n",
      "        - Pixeles con proba<0.4: 14\n"
     ]
    },
    {
     "name": "stderr",
     "output_type": "stream",
     "text": [
      "[Parallel(n_jobs=-1)]: Using backend ThreadingBackend with 8 concurrent workers.\n",
      "[Parallel(n_jobs=-1)]: Done  34 tasks      | elapsed:    0.1s\n",
      "[Parallel(n_jobs=-1)]: Done 184 tasks      | elapsed:    0.7s\n",
      "[Parallel(n_jobs=-1)]: Done 434 tasks      | elapsed:    1.6s\n",
      "[Parallel(n_jobs=-1)]: Done 500 out of 500 | elapsed:    1.9s finished\n",
      "[Parallel(n_jobs=8)]: Using backend ThreadingBackend with 8 concurrent workers.\n",
      "[Parallel(n_jobs=8)]: Done  34 tasks      | elapsed:    0.0s\n",
      "[Parallel(n_jobs=8)]: Done 184 tasks      | elapsed:    0.0s\n",
      "[Parallel(n_jobs=8)]: Done 434 tasks      | elapsed:    0.1s\n",
      "[Parallel(n_jobs=8)]: Done 500 out of 500 | elapsed:    0.1s finished\n"
     ]
    },
    {
     "name": "stdout",
     "output_type": "stream",
     "text": [
      "\n",
      "*** ITERACIÓN #004\n",
      "        - Modelo guardado en ../model/threshhold_0.4/randomforest_iterations_004/model_004.joblib\n",
      "        - Probabilidades guardadas en ../model/threshhold_0.4/randomforest_iterations_004/probas_004.npy\n",
      "        - Pixeles de entrenamiento: 466\n",
      "        - Pixeles con proba>=0.4: 5\n",
      "        - Pixeles con proba<0.4: 9\n"
     ]
    },
    {
     "name": "stderr",
     "output_type": "stream",
     "text": [
      "[Parallel(n_jobs=-1)]: Using backend ThreadingBackend with 8 concurrent workers.\n",
      "[Parallel(n_jobs=-1)]: Done  34 tasks      | elapsed:    0.2s\n",
      "[Parallel(n_jobs=-1)]: Done 184 tasks      | elapsed:    0.7s\n",
      "[Parallel(n_jobs=-1)]: Done 434 tasks      | elapsed:    1.7s\n",
      "[Parallel(n_jobs=-1)]: Done 500 out of 500 | elapsed:    1.9s finished\n",
      "[Parallel(n_jobs=8)]: Using backend ThreadingBackend with 8 concurrent workers.\n",
      "[Parallel(n_jobs=8)]: Done  34 tasks      | elapsed:    0.0s\n",
      "[Parallel(n_jobs=8)]: Done 184 tasks      | elapsed:    0.0s\n",
      "[Parallel(n_jobs=8)]: Done 434 tasks      | elapsed:    0.1s\n",
      "[Parallel(n_jobs=8)]: Done 500 out of 500 | elapsed:    0.1s finished\n"
     ]
    },
    {
     "name": "stdout",
     "output_type": "stream",
     "text": [
      "\n",
      "*** ITERACIÓN #005\n",
      "        - Modelo guardado en ../model/threshhold_0.4/randomforest_iterations_005/model_005.joblib\n",
      "        - Probabilidades guardadas en ../model/threshhold_0.4/randomforest_iterations_005/probas_005.npy\n",
      "        - Pixeles de entrenamiento: 466\n",
      "        - Pixeles con proba>=0.4: 1\n",
      "        - Pixeles con proba<0.4: 8\n"
     ]
    },
    {
     "name": "stderr",
     "output_type": "stream",
     "text": [
      "[Parallel(n_jobs=-1)]: Using backend ThreadingBackend with 8 concurrent workers.\n",
      "[Parallel(n_jobs=-1)]: Done  34 tasks      | elapsed:    0.1s\n",
      "[Parallel(n_jobs=-1)]: Done 184 tasks      | elapsed:    0.7s\n",
      "[Parallel(n_jobs=-1)]: Done 434 tasks      | elapsed:    1.7s\n",
      "[Parallel(n_jobs=-1)]: Done 500 out of 500 | elapsed:    1.9s finished\n",
      "[Parallel(n_jobs=8)]: Using backend ThreadingBackend with 8 concurrent workers.\n",
      "[Parallel(n_jobs=8)]: Done  34 tasks      | elapsed:    0.0s\n",
      "[Parallel(n_jobs=8)]: Done 184 tasks      | elapsed:    0.0s\n",
      "[Parallel(n_jobs=8)]: Done 434 tasks      | elapsed:    0.1s\n",
      "[Parallel(n_jobs=8)]: Done 500 out of 500 | elapsed:    0.1s finished\n"
     ]
    },
    {
     "name": "stdout",
     "output_type": "stream",
     "text": [
      "\n",
      "*** ITERACIÓN #006\n",
      "        - Modelo guardado en ../model/threshhold_0.4/randomforest_iterations_006/model_006.joblib\n",
      "        - Probabilidades guardadas en ../model/threshhold_0.4/randomforest_iterations_006/probas_006.npy\n",
      "        - Pixeles de entrenamiento: 466\n",
      "        - Pixeles con proba>=0.4: 1\n",
      "        - Pixeles con proba<0.4: 7\n"
     ]
    },
    {
     "name": "stderr",
     "output_type": "stream",
     "text": [
      "[Parallel(n_jobs=-1)]: Using backend ThreadingBackend with 8 concurrent workers.\n",
      "[Parallel(n_jobs=-1)]: Done  34 tasks      | elapsed:    0.1s\n",
      "[Parallel(n_jobs=-1)]: Done 184 tasks      | elapsed:    0.7s\n",
      "[Parallel(n_jobs=-1)]: Done 434 tasks      | elapsed:    1.6s\n",
      "[Parallel(n_jobs=-1)]: Done 500 out of 500 | elapsed:    1.8s finished\n",
      "[Parallel(n_jobs=8)]: Using backend ThreadingBackend with 8 concurrent workers.\n",
      "[Parallel(n_jobs=8)]: Done  34 tasks      | elapsed:    0.0s\n",
      "[Parallel(n_jobs=8)]: Done 184 tasks      | elapsed:    0.0s\n",
      "[Parallel(n_jobs=8)]: Done 434 tasks      | elapsed:    0.1s\n",
      "[Parallel(n_jobs=8)]: Done 500 out of 500 | elapsed:    0.1s finished\n"
     ]
    },
    {
     "name": "stdout",
     "output_type": "stream",
     "text": [
      "\n",
      "*** ITERACIÓN #007\n",
      "        - Modelo guardado en ../model/threshhold_0.4/randomforest_iterations_007/model_007.joblib\n",
      "        - Probabilidades guardadas en ../model/threshhold_0.4/randomforest_iterations_007/probas_007.npy\n",
      "        - Pixeles de entrenamiento: 466\n",
      "        - Pixeles con proba>=0.4: 0\n",
      "        - Pixeles con proba<0.4: 7\n",
      "+++++ PREDICCIONES PARA THRESHOLD 0.56\n"
     ]
    },
    {
     "name": "stderr",
     "output_type": "stream",
     "text": [
      "[Parallel(n_jobs=-1)]: Using backend ThreadingBackend with 8 concurrent workers.\n",
      "[Parallel(n_jobs=-1)]: Done  34 tasks      | elapsed:    0.1s\n",
      "[Parallel(n_jobs=-1)]: Done 184 tasks      | elapsed:    0.4s\n",
      "[Parallel(n_jobs=-1)]: Done 434 tasks      | elapsed:    0.9s\n",
      "[Parallel(n_jobs=-1)]: Done 500 out of 500 | elapsed:    1.0s finished\n",
      "[Parallel(n_jobs=8)]: Using backend ThreadingBackend with 8 concurrent workers.\n",
      "[Parallel(n_jobs=8)]: Done  34 tasks      | elapsed:    0.0s\n",
      "[Parallel(n_jobs=8)]: Done 184 tasks      | elapsed:    0.1s\n",
      "[Parallel(n_jobs=8)]: Done 434 tasks      | elapsed:    0.1s\n",
      "[Parallel(n_jobs=8)]: Done 500 out of 500 | elapsed:    0.2s finished\n"
     ]
    },
    {
     "name": "stdout",
     "output_type": "stream",
     "text": [
      "\n",
      "*** ITERACIÓN #000\n",
      "        - Modelo guardado en ../model/threshhold_0.56/randomforest_iterations_000/model_000.joblib\n",
      "        - Probabilidades guardadas en ../model/threshhold_0.56/randomforest_iterations_000/probas_000.npy\n",
      "        - Pixeles de entrenamiento: 466\n",
      "        - Pixeles con proba>=0.56: 95\n",
      "        - Pixeles con proba<0.56: 1439\n"
     ]
    },
    {
     "name": "stderr",
     "output_type": "stream",
     "text": [
      "[Parallel(n_jobs=-1)]: Using backend ThreadingBackend with 8 concurrent workers.\n",
      "[Parallel(n_jobs=-1)]: Done  34 tasks      | elapsed:    0.1s\n",
      "[Parallel(n_jobs=-1)]: Done 184 tasks      | elapsed:    0.4s\n",
      "[Parallel(n_jobs=-1)]: Done 434 tasks      | elapsed:    1.0s\n",
      "[Parallel(n_jobs=-1)]: Done 500 out of 500 | elapsed:    1.1s finished\n",
      "[Parallel(n_jobs=8)]: Using backend ThreadingBackend with 8 concurrent workers.\n",
      "[Parallel(n_jobs=8)]: Done  34 tasks      | elapsed:    0.0s\n",
      "[Parallel(n_jobs=8)]: Done 184 tasks      | elapsed:    0.1s\n",
      "[Parallel(n_jobs=8)]: Done 434 tasks      | elapsed:    0.1s\n",
      "[Parallel(n_jobs=8)]: Done 500 out of 500 | elapsed:    0.2s finished\n"
     ]
    },
    {
     "name": "stdout",
     "output_type": "stream",
     "text": [
      "\n",
      "*** ITERACIÓN #001\n",
      "        - Modelo guardado en ../model/threshhold_0.56/randomforest_iterations_001/model_001.joblib\n",
      "        - Probabilidades guardadas en ../model/threshhold_0.56/randomforest_iterations_001/probas_001.npy\n",
      "        - Pixeles de entrenamiento: 466\n",
      "        - Pixeles con proba>=0.56: 98\n",
      "        - Pixeles con proba<0.56: 1341\n"
     ]
    },
    {
     "name": "stderr",
     "output_type": "stream",
     "text": [
      "[Parallel(n_jobs=-1)]: Using backend ThreadingBackend with 8 concurrent workers.\n",
      "[Parallel(n_jobs=-1)]: Done  34 tasks      | elapsed:    0.1s\n",
      "[Parallel(n_jobs=-1)]: Done 184 tasks      | elapsed:    0.4s\n",
      "[Parallel(n_jobs=-1)]: Done 434 tasks      | elapsed:    1.0s\n",
      "[Parallel(n_jobs=-1)]: Done 500 out of 500 | elapsed:    1.2s finished\n",
      "[Parallel(n_jobs=8)]: Using backend ThreadingBackend with 8 concurrent workers.\n",
      "[Parallel(n_jobs=8)]: Done  34 tasks      | elapsed:    0.0s\n",
      "[Parallel(n_jobs=8)]: Done 184 tasks      | elapsed:    0.1s\n",
      "[Parallel(n_jobs=8)]: Done 434 tasks      | elapsed:    0.1s\n",
      "[Parallel(n_jobs=8)]: Done 500 out of 500 | elapsed:    0.2s finished\n"
     ]
    },
    {
     "name": "stdout",
     "output_type": "stream",
     "text": [
      "\n",
      "*** ITERACIÓN #002\n",
      "        - Modelo guardado en ../model/threshhold_0.56/randomforest_iterations_002/model_002.joblib\n",
      "        - Probabilidades guardadas en ../model/threshhold_0.56/randomforest_iterations_002/probas_002.npy\n",
      "        - Pixeles de entrenamiento: 466\n",
      "        - Pixeles con proba>=0.56: 147\n",
      "        - Pixeles con proba<0.56: 1194\n"
     ]
    },
    {
     "name": "stderr",
     "output_type": "stream",
     "text": [
      "[Parallel(n_jobs=-1)]: Using backend ThreadingBackend with 8 concurrent workers.\n",
      "[Parallel(n_jobs=-1)]: Done  34 tasks      | elapsed:    0.1s\n",
      "[Parallel(n_jobs=-1)]: Done 184 tasks      | elapsed:    0.5s\n",
      "[Parallel(n_jobs=-1)]: Done 434 tasks      | elapsed:    1.1s\n",
      "[Parallel(n_jobs=-1)]: Done 500 out of 500 | elapsed:    1.3s finished\n",
      "[Parallel(n_jobs=8)]: Using backend ThreadingBackend with 8 concurrent workers.\n",
      "[Parallel(n_jobs=8)]: Done  34 tasks      | elapsed:    0.0s\n",
      "[Parallel(n_jobs=8)]: Done 184 tasks      | elapsed:    0.1s\n",
      "[Parallel(n_jobs=8)]: Done 434 tasks      | elapsed:    0.1s\n",
      "[Parallel(n_jobs=8)]: Done 500 out of 500 | elapsed:    0.2s finished\n"
     ]
    },
    {
     "name": "stdout",
     "output_type": "stream",
     "text": [
      "\n",
      "*** ITERACIÓN #003\n",
      "        - Modelo guardado en ../model/threshhold_0.56/randomforest_iterations_003/model_003.joblib\n",
      "        - Probabilidades guardadas en ../model/threshhold_0.56/randomforest_iterations_003/probas_003.npy\n",
      "        - Pixeles de entrenamiento: 466\n",
      "        - Pixeles con proba>=0.56: 195\n",
      "        - Pixeles con proba<0.56: 999\n"
     ]
    },
    {
     "name": "stderr",
     "output_type": "stream",
     "text": [
      "[Parallel(n_jobs=-1)]: Using backend ThreadingBackend with 8 concurrent workers.\n",
      "[Parallel(n_jobs=-1)]: Done  34 tasks      | elapsed:    0.1s\n",
      "[Parallel(n_jobs=-1)]: Done 184 tasks      | elapsed:    0.5s\n",
      "[Parallel(n_jobs=-1)]: Done 434 tasks      | elapsed:    1.2s\n",
      "[Parallel(n_jobs=-1)]: Done 500 out of 500 | elapsed:    1.4s finished\n",
      "[Parallel(n_jobs=8)]: Using backend ThreadingBackend with 8 concurrent workers.\n",
      "[Parallel(n_jobs=8)]: Done  34 tasks      | elapsed:    0.0s\n",
      "[Parallel(n_jobs=8)]: Done 184 tasks      | elapsed:    0.1s\n",
      "[Parallel(n_jobs=8)]: Done 434 tasks      | elapsed:    0.1s\n",
      "[Parallel(n_jobs=8)]: Done 500 out of 500 | elapsed:    0.2s finished\n"
     ]
    },
    {
     "name": "stdout",
     "output_type": "stream",
     "text": [
      "\n",
      "*** ITERACIÓN #004\n",
      "        - Modelo guardado en ../model/threshhold_0.56/randomforest_iterations_004/model_004.joblib\n",
      "        - Probabilidades guardadas en ../model/threshhold_0.56/randomforest_iterations_004/probas_004.npy\n",
      "        - Pixeles de entrenamiento: 466\n",
      "        - Pixeles con proba>=0.56: 146\n",
      "        - Pixeles con proba<0.56: 853\n"
     ]
    },
    {
     "name": "stderr",
     "output_type": "stream",
     "text": [
      "[Parallel(n_jobs=-1)]: Using backend ThreadingBackend with 8 concurrent workers.\n",
      "[Parallel(n_jobs=-1)]: Done  34 tasks      | elapsed:    0.1s\n",
      "[Parallel(n_jobs=-1)]: Done 184 tasks      | elapsed:    0.5s\n",
      "[Parallel(n_jobs=-1)]: Done 434 tasks      | elapsed:    1.3s\n",
      "[Parallel(n_jobs=-1)]: Done 500 out of 500 | elapsed:    1.5s finished\n",
      "[Parallel(n_jobs=8)]: Using backend ThreadingBackend with 8 concurrent workers.\n",
      "[Parallel(n_jobs=8)]: Done  34 tasks      | elapsed:    0.0s\n",
      "[Parallel(n_jobs=8)]: Done 184 tasks      | elapsed:    0.1s\n",
      "[Parallel(n_jobs=8)]: Done 434 tasks      | elapsed:    0.1s\n",
      "[Parallel(n_jobs=8)]: Done 500 out of 500 | elapsed:    0.2s finished\n"
     ]
    },
    {
     "name": "stdout",
     "output_type": "stream",
     "text": [
      "\n",
      "*** ITERACIÓN #005\n",
      "        - Modelo guardado en ../model/threshhold_0.56/randomforest_iterations_005/model_005.joblib\n",
      "        - Probabilidades guardadas en ../model/threshhold_0.56/randomforest_iterations_005/probas_005.npy\n",
      "        - Pixeles de entrenamiento: 466\n",
      "        - Pixeles con proba>=0.56: 105\n",
      "        - Pixeles con proba<0.56: 748\n"
     ]
    },
    {
     "name": "stderr",
     "output_type": "stream",
     "text": [
      "[Parallel(n_jobs=-1)]: Using backend ThreadingBackend with 8 concurrent workers.\n",
      "[Parallel(n_jobs=-1)]: Done  34 tasks      | elapsed:    0.1s\n",
      "[Parallel(n_jobs=-1)]: Done 184 tasks      | elapsed:    0.6s\n",
      "[Parallel(n_jobs=-1)]: Done 434 tasks      | elapsed:    1.4s\n",
      "[Parallel(n_jobs=-1)]: Done 500 out of 500 | elapsed:    1.5s finished\n",
      "[Parallel(n_jobs=8)]: Using backend ThreadingBackend with 8 concurrent workers.\n",
      "[Parallel(n_jobs=8)]: Done  34 tasks      | elapsed:    0.0s\n",
      "[Parallel(n_jobs=8)]: Done 184 tasks      | elapsed:    0.1s\n",
      "[Parallel(n_jobs=8)]: Done 434 tasks      | elapsed:    0.1s\n",
      "[Parallel(n_jobs=8)]: Done 500 out of 500 | elapsed:    0.1s finished\n"
     ]
    },
    {
     "name": "stdout",
     "output_type": "stream",
     "text": [
      "\n",
      "*** ITERACIÓN #006\n",
      "        - Modelo guardado en ../model/threshhold_0.56/randomforest_iterations_006/model_006.joblib\n",
      "        - Probabilidades guardadas en ../model/threshhold_0.56/randomforest_iterations_006/probas_006.npy\n",
      "        - Pixeles de entrenamiento: 466\n",
      "        - Pixeles con proba>=0.56: 52\n",
      "        - Pixeles con proba<0.56: 696\n"
     ]
    },
    {
     "name": "stderr",
     "output_type": "stream",
     "text": [
      "[Parallel(n_jobs=-1)]: Using backend ThreadingBackend with 8 concurrent workers.\n",
      "[Parallel(n_jobs=-1)]: Done  34 tasks      | elapsed:    0.1s\n",
      "[Parallel(n_jobs=-1)]: Done 184 tasks      | elapsed:    0.6s\n",
      "[Parallel(n_jobs=-1)]: Done 434 tasks      | elapsed:    1.4s\n",
      "[Parallel(n_jobs=-1)]: Done 500 out of 500 | elapsed:    1.6s finished\n",
      "[Parallel(n_jobs=8)]: Using backend ThreadingBackend with 8 concurrent workers.\n",
      "[Parallel(n_jobs=8)]: Done  34 tasks      | elapsed:    0.0s\n",
      "[Parallel(n_jobs=8)]: Done 184 tasks      | elapsed:    0.1s\n",
      "[Parallel(n_jobs=8)]: Done 434 tasks      | elapsed:    0.1s\n",
      "[Parallel(n_jobs=8)]: Done 500 out of 500 | elapsed:    0.2s finished\n"
     ]
    },
    {
     "name": "stdout",
     "output_type": "stream",
     "text": [
      "\n",
      "*** ITERACIÓN #007\n",
      "        - Modelo guardado en ../model/threshhold_0.56/randomforest_iterations_007/model_007.joblib\n",
      "        - Probabilidades guardadas en ../model/threshhold_0.56/randomforest_iterations_007/probas_007.npy\n",
      "        - Pixeles de entrenamiento: 466\n",
      "        - Pixeles con proba>=0.56: 24\n",
      "        - Pixeles con proba<0.56: 672\n"
     ]
    },
    {
     "name": "stderr",
     "output_type": "stream",
     "text": [
      "[Parallel(n_jobs=-1)]: Using backend ThreadingBackend with 8 concurrent workers.\n",
      "[Parallel(n_jobs=-1)]: Done  34 tasks      | elapsed:    0.1s\n",
      "[Parallel(n_jobs=-1)]: Done 184 tasks      | elapsed:    0.6s\n",
      "[Parallel(n_jobs=-1)]: Done 434 tasks      | elapsed:    1.4s\n",
      "[Parallel(n_jobs=-1)]: Done 500 out of 500 | elapsed:    1.6s finished\n",
      "[Parallel(n_jobs=8)]: Using backend ThreadingBackend with 8 concurrent workers.\n",
      "[Parallel(n_jobs=8)]: Done  34 tasks      | elapsed:    0.0s\n",
      "[Parallel(n_jobs=8)]: Done 184 tasks      | elapsed:    0.1s\n",
      "[Parallel(n_jobs=8)]: Done 434 tasks      | elapsed:    0.1s\n",
      "[Parallel(n_jobs=8)]: Done 500 out of 500 | elapsed:    0.2s finished\n"
     ]
    },
    {
     "name": "stdout",
     "output_type": "stream",
     "text": [
      "\n",
      "*** ITERACIÓN #008\n",
      "        - Modelo guardado en ../model/threshhold_0.56/randomforest_iterations_008/model_008.joblib\n",
      "        - Probabilidades guardadas en ../model/threshhold_0.56/randomforest_iterations_008/probas_008.npy\n",
      "        - Pixeles de entrenamiento: 466\n",
      "        - Pixeles con proba>=0.56: 23\n",
      "        - Pixeles con proba<0.56: 649\n"
     ]
    },
    {
     "name": "stderr",
     "output_type": "stream",
     "text": [
      "[Parallel(n_jobs=-1)]: Using backend ThreadingBackend with 8 concurrent workers.\n",
      "[Parallel(n_jobs=-1)]: Done  34 tasks      | elapsed:    0.1s\n",
      "[Parallel(n_jobs=-1)]: Done 184 tasks      | elapsed:    0.6s\n",
      "[Parallel(n_jobs=-1)]: Done 434 tasks      | elapsed:    1.4s\n",
      "[Parallel(n_jobs=-1)]: Done 500 out of 500 | elapsed:    1.6s finished\n",
      "[Parallel(n_jobs=8)]: Using backend ThreadingBackend with 8 concurrent workers.\n",
      "[Parallel(n_jobs=8)]: Done  34 tasks      | elapsed:    0.0s\n",
      "[Parallel(n_jobs=8)]: Done 184 tasks      | elapsed:    0.1s\n",
      "[Parallel(n_jobs=8)]: Done 434 tasks      | elapsed:    0.1s\n",
      "[Parallel(n_jobs=8)]: Done 500 out of 500 | elapsed:    0.2s finished\n"
     ]
    },
    {
     "name": "stdout",
     "output_type": "stream",
     "text": [
      "\n",
      "*** ITERACIÓN #009\n",
      "        - Modelo guardado en ../model/threshhold_0.56/randomforest_iterations_009/model_009.joblib\n",
      "        - Probabilidades guardadas en ../model/threshhold_0.56/randomforest_iterations_009/probas_009.npy\n",
      "        - Pixeles de entrenamiento: 466\n",
      "        - Pixeles con proba>=0.56: 19\n",
      "        - Pixeles con proba<0.56: 630\n"
     ]
    },
    {
     "name": "stderr",
     "output_type": "stream",
     "text": [
      "[Parallel(n_jobs=-1)]: Using backend ThreadingBackend with 8 concurrent workers.\n",
      "[Parallel(n_jobs=-1)]: Done  34 tasks      | elapsed:    0.1s\n",
      "[Parallel(n_jobs=-1)]: Done 184 tasks      | elapsed:    0.6s\n",
      "[Parallel(n_jobs=-1)]: Done 434 tasks      | elapsed:    1.4s\n",
      "[Parallel(n_jobs=-1)]: Done 500 out of 500 | elapsed:    1.6s finished\n",
      "[Parallel(n_jobs=8)]: Using backend ThreadingBackend with 8 concurrent workers.\n",
      "[Parallel(n_jobs=8)]: Done  34 tasks      | elapsed:    0.0s\n",
      "[Parallel(n_jobs=8)]: Done 184 tasks      | elapsed:    0.1s\n",
      "[Parallel(n_jobs=8)]: Done 434 tasks      | elapsed:    0.1s\n",
      "[Parallel(n_jobs=8)]: Done 500 out of 500 | elapsed:    0.2s finished\n"
     ]
    },
    {
     "name": "stdout",
     "output_type": "stream",
     "text": [
      "\n",
      "*** ITERACIÓN #010\n",
      "        - Modelo guardado en ../model/threshhold_0.56/randomforest_iterations_010/model_010.joblib\n",
      "        - Probabilidades guardadas en ../model/threshhold_0.56/randomforest_iterations_010/probas_010.npy\n",
      "        - Pixeles de entrenamiento: 466\n",
      "        - Pixeles con proba>=0.56: 38\n",
      "        - Pixeles con proba<0.56: 592\n"
     ]
    },
    {
     "name": "stderr",
     "output_type": "stream",
     "text": [
      "[Parallel(n_jobs=-1)]: Using backend ThreadingBackend with 8 concurrent workers.\n",
      "[Parallel(n_jobs=-1)]: Done  34 tasks      | elapsed:    0.1s\n",
      "[Parallel(n_jobs=-1)]: Done 184 tasks      | elapsed:    0.6s\n",
      "[Parallel(n_jobs=-1)]: Done 434 tasks      | elapsed:    1.4s\n",
      "[Parallel(n_jobs=-1)]: Done 500 out of 500 | elapsed:    1.6s finished\n",
      "[Parallel(n_jobs=8)]: Using backend ThreadingBackend with 8 concurrent workers.\n",
      "[Parallel(n_jobs=8)]: Done  34 tasks      | elapsed:    0.0s\n",
      "[Parallel(n_jobs=8)]: Done 184 tasks      | elapsed:    0.1s\n",
      "[Parallel(n_jobs=8)]: Done 434 tasks      | elapsed:    0.1s\n",
      "[Parallel(n_jobs=8)]: Done 500 out of 500 | elapsed:    0.2s finished\n"
     ]
    },
    {
     "name": "stdout",
     "output_type": "stream",
     "text": [
      "\n",
      "*** ITERACIÓN #011\n",
      "        - Modelo guardado en ../model/threshhold_0.56/randomforest_iterations_011/model_011.joblib\n",
      "        - Probabilidades guardadas en ../model/threshhold_0.56/randomforest_iterations_011/probas_011.npy\n",
      "        - Pixeles de entrenamiento: 466\n",
      "        - Pixeles con proba>=0.56: 109\n",
      "        - Pixeles con proba<0.56: 483\n"
     ]
    },
    {
     "name": "stderr",
     "output_type": "stream",
     "text": [
      "[Parallel(n_jobs=-1)]: Using backend ThreadingBackend with 8 concurrent workers.\n",
      "[Parallel(n_jobs=-1)]: Done  34 tasks      | elapsed:    0.1s\n",
      "[Parallel(n_jobs=-1)]: Done 184 tasks      | elapsed:    0.6s\n",
      "[Parallel(n_jobs=-1)]: Done 434 tasks      | elapsed:    1.5s\n",
      "[Parallel(n_jobs=-1)]: Done 500 out of 500 | elapsed:    1.7s finished\n",
      "[Parallel(n_jobs=8)]: Using backend ThreadingBackend with 8 concurrent workers.\n",
      "[Parallel(n_jobs=8)]: Done  34 tasks      | elapsed:    0.0s\n",
      "[Parallel(n_jobs=8)]: Done 184 tasks      | elapsed:    0.1s\n",
      "[Parallel(n_jobs=8)]: Done 434 tasks      | elapsed:    0.1s\n",
      "[Parallel(n_jobs=8)]: Done 500 out of 500 | elapsed:    0.1s finished\n"
     ]
    },
    {
     "name": "stdout",
     "output_type": "stream",
     "text": [
      "\n",
      "*** ITERACIÓN #012\n",
      "        - Modelo guardado en ../model/threshhold_0.56/randomforest_iterations_012/model_012.joblib\n",
      "        - Probabilidades guardadas en ../model/threshhold_0.56/randomforest_iterations_012/probas_012.npy\n",
      "        - Pixeles de entrenamiento: 466\n",
      "        - Pixeles con proba>=0.56: 50\n",
      "        - Pixeles con proba<0.56: 433\n"
     ]
    },
    {
     "name": "stderr",
     "output_type": "stream",
     "text": [
      "[Parallel(n_jobs=-1)]: Using backend ThreadingBackend with 8 concurrent workers.\n",
      "[Parallel(n_jobs=-1)]: Done  34 tasks      | elapsed:    0.1s\n",
      "[Parallel(n_jobs=-1)]: Done 184 tasks      | elapsed:    0.6s\n",
      "[Parallel(n_jobs=-1)]: Done 434 tasks      | elapsed:    1.5s\n",
      "[Parallel(n_jobs=-1)]: Done 500 out of 500 | elapsed:    1.7s finished\n",
      "[Parallel(n_jobs=8)]: Using backend ThreadingBackend with 8 concurrent workers.\n",
      "[Parallel(n_jobs=8)]: Done  34 tasks      | elapsed:    0.0s\n",
      "[Parallel(n_jobs=8)]: Done 184 tasks      | elapsed:    0.1s\n",
      "[Parallel(n_jobs=8)]: Done 434 tasks      | elapsed:    0.1s\n",
      "[Parallel(n_jobs=8)]: Done 500 out of 500 | elapsed:    0.1s finished\n"
     ]
    },
    {
     "name": "stdout",
     "output_type": "stream",
     "text": [
      "\n",
      "*** ITERACIÓN #013\n",
      "        - Modelo guardado en ../model/threshhold_0.56/randomforest_iterations_013/model_013.joblib\n",
      "        - Probabilidades guardadas en ../model/threshhold_0.56/randomforest_iterations_013/probas_013.npy\n",
      "        - Pixeles de entrenamiento: 466\n",
      "        - Pixeles con proba>=0.56: 29\n",
      "        - Pixeles con proba<0.56: 404\n"
     ]
    },
    {
     "name": "stderr",
     "output_type": "stream",
     "text": [
      "[Parallel(n_jobs=-1)]: Using backend ThreadingBackend with 8 concurrent workers.\n",
      "[Parallel(n_jobs=-1)]: Done  34 tasks      | elapsed:    0.1s\n",
      "[Parallel(n_jobs=-1)]: Done 184 tasks      | elapsed:    0.6s\n",
      "[Parallel(n_jobs=-1)]: Done 434 tasks      | elapsed:    1.5s\n",
      "[Parallel(n_jobs=-1)]: Done 500 out of 500 | elapsed:    1.7s finished\n",
      "[Parallel(n_jobs=8)]: Using backend ThreadingBackend with 8 concurrent workers.\n",
      "[Parallel(n_jobs=8)]: Done  34 tasks      | elapsed:    0.0s\n",
      "[Parallel(n_jobs=8)]: Done 184 tasks      | elapsed:    0.1s\n",
      "[Parallel(n_jobs=8)]: Done 434 tasks      | elapsed:    0.1s\n",
      "[Parallel(n_jobs=8)]: Done 500 out of 500 | elapsed:    0.1s finished\n"
     ]
    },
    {
     "name": "stdout",
     "output_type": "stream",
     "text": [
      "\n",
      "*** ITERACIÓN #014\n",
      "        - Modelo guardado en ../model/threshhold_0.56/randomforest_iterations_014/model_014.joblib\n",
      "        - Probabilidades guardadas en ../model/threshhold_0.56/randomforest_iterations_014/probas_014.npy\n",
      "        - Pixeles de entrenamiento: 466\n",
      "        - Pixeles con proba>=0.56: 34\n",
      "        - Pixeles con proba<0.56: 370\n"
     ]
    },
    {
     "name": "stderr",
     "output_type": "stream",
     "text": [
      "[Parallel(n_jobs=-1)]: Using backend ThreadingBackend with 8 concurrent workers.\n",
      "[Parallel(n_jobs=-1)]: Done  34 tasks      | elapsed:    0.1s\n",
      "[Parallel(n_jobs=-1)]: Done 184 tasks      | elapsed:    0.7s\n",
      "[Parallel(n_jobs=-1)]: Done 434 tasks      | elapsed:    1.5s\n",
      "[Parallel(n_jobs=-1)]: Done 500 out of 500 | elapsed:    1.7s finished\n",
      "[Parallel(n_jobs=8)]: Using backend ThreadingBackend with 8 concurrent workers.\n",
      "[Parallel(n_jobs=8)]: Done  34 tasks      | elapsed:    0.0s\n",
      "[Parallel(n_jobs=8)]: Done 184 tasks      | elapsed:    0.1s\n",
      "[Parallel(n_jobs=8)]: Done 434 tasks      | elapsed:    0.1s\n",
      "[Parallel(n_jobs=8)]: Done 500 out of 500 | elapsed:    0.1s finished\n"
     ]
    },
    {
     "name": "stdout",
     "output_type": "stream",
     "text": [
      "\n",
      "*** ITERACIÓN #015\n",
      "        - Modelo guardado en ../model/threshhold_0.56/randomforest_iterations_015/model_015.joblib\n",
      "        - Probabilidades guardadas en ../model/threshhold_0.56/randomforest_iterations_015/probas_015.npy\n",
      "        - Pixeles de entrenamiento: 466\n",
      "        - Pixeles con proba>=0.56: 30\n",
      "        - Pixeles con proba<0.56: 340\n"
     ]
    },
    {
     "name": "stderr",
     "output_type": "stream",
     "text": [
      "[Parallel(n_jobs=-1)]: Using backend ThreadingBackend with 8 concurrent workers.\n",
      "[Parallel(n_jobs=-1)]: Done  34 tasks      | elapsed:    0.1s\n",
      "[Parallel(n_jobs=-1)]: Done 184 tasks      | elapsed:    0.7s\n",
      "[Parallel(n_jobs=-1)]: Done 434 tasks      | elapsed:    1.5s\n",
      "[Parallel(n_jobs=-1)]: Done 500 out of 500 | elapsed:    1.7s finished\n",
      "[Parallel(n_jobs=8)]: Using backend ThreadingBackend with 8 concurrent workers.\n",
      "[Parallel(n_jobs=8)]: Done  34 tasks      | elapsed:    0.0s\n",
      "[Parallel(n_jobs=8)]: Done 184 tasks      | elapsed:    0.1s\n",
      "[Parallel(n_jobs=8)]: Done 434 tasks      | elapsed:    0.1s\n",
      "[Parallel(n_jobs=8)]: Done 500 out of 500 | elapsed:    0.1s finished\n"
     ]
    },
    {
     "name": "stdout",
     "output_type": "stream",
     "text": [
      "\n",
      "*** ITERACIÓN #016\n",
      "        - Modelo guardado en ../model/threshhold_0.56/randomforest_iterations_016/model_016.joblib\n",
      "        - Probabilidades guardadas en ../model/threshhold_0.56/randomforest_iterations_016/probas_016.npy\n",
      "        - Pixeles de entrenamiento: 466\n",
      "        - Pixeles con proba>=0.56: 23\n",
      "        - Pixeles con proba<0.56: 317\n"
     ]
    },
    {
     "name": "stderr",
     "output_type": "stream",
     "text": [
      "[Parallel(n_jobs=-1)]: Using backend ThreadingBackend with 8 concurrent workers.\n",
      "[Parallel(n_jobs=-1)]: Done  34 tasks      | elapsed:    0.1s\n",
      "[Parallel(n_jobs=-1)]: Done 184 tasks      | elapsed:    0.6s\n",
      "[Parallel(n_jobs=-1)]: Done 434 tasks      | elapsed:    1.5s\n",
      "[Parallel(n_jobs=-1)]: Done 500 out of 500 | elapsed:    1.7s finished\n"
     ]
    }
   ],
   "source": [
    "for threshold in thresholds:\n",
    "    \n",
    "    iter_train_data = deepcopy(train_data)\n",
    "    iter_pred_data = deepcopy(pred_data)\n",
    "    \n",
    "    print(f'+++++ PREDICCIONES PARA THRESHOLD {threshold}')\n",
    "    \n",
    "    threshold_folder = os.path.join('..','model',f'threshhold_{threshold}')\n",
    "    os.makedirs(threshold_folder, exist_ok=True)\n",
    "    \n",
    "    i = 0\n",
    "    while True:\n",
    "        \n",
    "        # arma carpeta para el output (i aumenta con las iteraciones)\n",
    "        n_iter = '{0:03d}'.format(i)\n",
    "        output_folder = os.path.join(threshold_folder,f'randomforest_iterations_{n_iter}')\n",
    "        os.makedirs(output_folder, exist_ok=True)\n",
    "        \n",
    "        # toma los datasets\n",
    "        columns = iter_train_data.filter(regex='band_').columns.to_list()\n",
    "        X_train = iter_train_data.filter(regex='band_').fillna(-99999).to_numpy()\n",
    "        y_train = iter_train_data.id_le.to_numpy()\n",
    "        X_pred = iter_pred_data.filter(regex='band_').fillna(-99999).to_numpy()\n",
    "        \n",
    "        # instancia y entrena el modelo\n",
    "        model = RandomForestClassifier(**parameters)\n",
    "        model.fit(X_train, y_train)\n",
    "        output_model_file = os.path.join(output_folder, f'model_{n_iter}.joblib')\n",
    "        _ = joblib.dump(model, output_model_file)\n",
    "        \n",
    "        # predice\n",
    "        probas = model.predict_proba(X_pred)\n",
    "        output_proba_file = os.path.join(output_folder, f'probas_{n_iter}.npy')\n",
    "        np.save(output_proba_file, probas)\n",
    "        predictions = iter_pred_data.assign(pred_class=probas.argmax(axis=1), pred_score=probas.max(axis=1))\n",
    "        \n",
    "        # separa entre nuevo train y nuevo pred\n",
    "        add_to_train = predictions.query(f'pred_score >= {threshold}').copy()\n",
    "        continue_pred = predictions.query(f'pred_score < {threshold}').copy()\n",
    "        train_data_len, add_to_train_len , continue_pred_len = train_data.shape[0], add_to_train.shape[0] , continue_pred.shape[0]\n",
    "        output_pixels_file = os.path.join(output_folder, f'pixels_{n_iter}.csv')\n",
    "        (\n",
    "            pd.DataFrame(\n",
    "                [\n",
    "                    [f'De entrenamiento', train_data_len],\n",
    "                    [f'Con proba>={threshold}', add_to_train_len],\n",
    "                    [f'Con proba<{threshold}', continue_pred_len]\n",
    "                ],\n",
    "                columns=['Pyxels_type','Pixels']\n",
    "            )\n",
    "            .to_csv(output_pixels_file, index=False)\n",
    "        )\n",
    "        \n",
    "        output_deptos_file = os.path.join(output_folder, f'pred_deptos_{n_iter}.csv')\n",
    "        (\n",
    "            pd.DataFrame(\n",
    "                [\n",
    "                    [f'De entrenamiento', train_data_len],\n",
    "                    [f'Con proba>={threshold}', add_to_train_len],\n",
    "                    [f'Con proba<{threshold}', continue_pred_len]\n",
    "                ],\n",
    "                columns=['Pyxels_type','Pixels']\n",
    "            )\n",
    "            .to_csv(output_pixels_file, index=False)\n",
    "        )\n",
    "        \n",
    "        # pasa predicción a las columna id (target)\n",
    "        # y lo agrega al train original\n",
    "        add_to_train['id_le'] = add_to_train['pred_class']\n",
    "        add_to_train['id'] = add_to_train.id_le.apply(lambda x: map_le2id.get(x))\n",
    "        add_to_train['cultivo'] = add_to_train.id.apply(lambda x: map_id2cultivo.get(x))\n",
    "\n",
    "        iter_deptos_prediction = os.path.join(output_folder,f'randomforest__deptos_prediction_{n_iter}.csv')\n",
    "        (\n",
    "            add_to_train\n",
    "            .groupby(['cultivo','nombre'], as_index=False)\n",
    "            .size()\n",
    "            .rename(columns={'size':'pixels'})\n",
    "            .assign(ha=lambda x: x.pixels*0.04)\n",
    "            .to_csv(iter_deptos_prediction, index=False)\n",
    "        )\n",
    "        iter_train_data =iter_train_data.append(add_to_train, ignore_index=True)\n",
    "        iter_pred_data = continue_pred\n",
    "        \n",
    "        # imprime información\n",
    "        print('''\\n*** ITERACIÓN #{0:03d}\n",
    "        - Modelo guardado en {1}\n",
    "        - Probabilidades guardadas en {2}\n",
    "        - Pixeles de entrenamiento: {3}\n",
    "        - Pixeles con proba>={4}: {5}\n",
    "        - Pixeles con proba<{4}: {6}'''.format(i, output_model_file, output_proba_file, train_data_len, threshold, add_to_train_len , continue_pred_len))\n",
    "        i += 1\n",
    "        if (add_to_train_len == 0) or (continue_pred_len == 0):\n",
    "            break\n",
    "\n",
    "    # reemplaza na en columna pred_class con 'vc_original'\n",
    "    # (los pixeles que no tiene pred_class son los pieles de verdad de campo originales)\n",
    "    # y guarda la predicción final\n",
    "    final_prediction = os.path.join(threshold_folder,f'randomforest_iterations_final_prediction.csv')\n",
    "    iter_train_data.to_csv(final_prediction)\n",
    "    final_deptos_prediction = os.path.join(threshold_folder,f'randomforest_iterations_deptos_prediction.csv')\n",
    "    (\n",
    "        iter_train_data\n",
    "        .groupby(['cultivo','nombre'], as_index=False)\n",
    "        .size()\n",
    "        .rename(columns={'size':'pixels'})\n",
    "        .assign(ha=lambda x: x.pixels*0.04)\n",
    "        .to_csv(final_deptos_prediction, index=False)\n",
    "    )"
   ]
  },
  {
   "cell_type": "code",
   "execution_count": null,
   "id": "b342146b-005c-48e1-a3a3-10f0e04e6def",
   "metadata": {},
   "outputs": [],
   "source": []
  }
 ],
 "metadata": {
  "environment": {
   "kernel": "python3",
   "name": "common-cpu.m94",
   "type": "gcloud",
   "uri": "gcr.io/deeplearning-platform-release/base-cpu:m94"
  },
  "kernelspec": {
   "display_name": "Python 3",
   "language": "python",
   "name": "python3"
  },
  "language_info": {
   "codemirror_mode": {
    "name": "ipython",
    "version": 3
   },
   "file_extension": ".py",
   "mimetype": "text/x-python",
   "name": "python",
   "nbconvert_exporter": "python",
   "pygments_lexer": "ipython3",
   "version": "3.7.12"
  }
 },
 "nbformat": 4,
 "nbformat_minor": 5
}
