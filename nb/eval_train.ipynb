{
 "cells": [
  {
   "cell_type": "markdown",
   "id": "c34f8a5f-37d8-4235-862a-60a92d764861",
   "metadata": {
    "pycharm": {
     "name": "#%% md\n"
    }
   },
   "source": [
    "# Evaluación sobre verdad de campo original"
   ]
  },
  {
   "cell_type": "code",
   "execution_count": 1,
   "id": "f51d32d6-50df-41af-8d1a-d921de8cbc22",
   "metadata": {
    "pycharm": {
     "name": "#%%\n"
    }
   },
   "outputs": [],
   "source": [
    "import os\n",
    "import json\n",
    "import joblib\n",
    "import numpy as np\n",
    "import pandas as pd\n",
    "import seaborn as sns\n",
    "from glob import glob\n",
    "from sqlite3 import connect\n",
    "from tqdm.notebook import tqdm\n",
    "import matplotlib.pyplot as plt\n",
    "from sklearn.ensemble import RandomForestClassifier\n",
    "\n",
    "from utilities import *"
   ]
  },
  {
   "cell_type": "code",
   "execution_count": 2,
   "id": "0575a918-54a1-4d36-8dc9-531be9afb50e",
   "metadata": {
    "pycharm": {
     "name": "#%%\n"
    }
   },
   "outputs": [],
   "source": [
    "\n",
    "data1 = pd.read_csv('../data/train/12544_samples.csv')\n",
    "data2= pd.read_csv('../data/train/00000_samples.csv')\n",
    "data = data2.append(data1)"
   ]
  },
  {
   "cell_type": "code",
   "execution_count": 3,
   "id": "a8112bad-0d76-45c4-8137-894ad08e40dd",
   "metadata": {
    "pycharm": {
     "name": "#%%\n"
    }
   },
   "outputs": [
    {
     "data": {
      "text/plain": "     in1  id  cultivo  originfid    band_0    band_1    band_2    band_3  \\\n0  14084   5  GIRASOL        254 -0.025667 -0.032823 -0.012369  0.438167   \n1  14084   1     SOJA         14  0.031207 -0.007179  0.029374  0.450892   \n2  14084   2     MAIZ         13 -0.000126 -0.022707 -0.034181  0.333374   \n3  14084   2     MAIZ         15 -0.037434 -0.039979 -0.039999  0.444946   \n4  14084   2     MAIZ         16 -0.042109 -0.049618 -0.051460  0.468945   \n\n     band_4    band_5  ...  band_212  band_213  band_214  band_215  band_216  \\\n0  0.640188  0.603974  ... -0.193028  0.178172  0.635229  0.562005 -0.739955   \n1  0.606595  0.134590  ... -0.218211  0.377205  0.593264 -0.122388 -0.721911   \n2  0.610177  0.537418  ... -0.217263  0.034658  0.481159  0.282209 -0.758681   \n3  0.583272  0.476345  ... -0.237244  0.273779  0.470738  0.139566 -0.755049   \n4  0.557798  0.421010  ... -0.211147  0.432482  0.487864  0.060102 -0.748104   \n\n   band_217  band_218  band_219  band_220  band_221  \n0 -0.745478 -0.739978 -0.294296  0.245570  0.161900  \n1 -0.742229 -0.722744  0.089114  0.487397 -0.625130  \n2 -0.757710 -0.753018 -0.385281  0.331265  0.065245  \n3 -0.755201 -0.755880 -0.059853  0.278529 -0.186228  \n4 -0.758429 -0.755831  0.066667  0.243937 -0.282177  \n\n[5 rows x 226 columns]",
      "text/html": "<div>\n<style scoped>\n    .dataframe tbody tr th:only-of-type {\n        vertical-align: middle;\n    }\n\n    .dataframe tbody tr th {\n        vertical-align: top;\n    }\n\n    .dataframe thead th {\n        text-align: right;\n    }\n</style>\n<table border=\"1\" class=\"dataframe\">\n  <thead>\n    <tr style=\"text-align: right;\">\n      <th></th>\n      <th>in1</th>\n      <th>id</th>\n      <th>cultivo</th>\n      <th>originfid</th>\n      <th>band_0</th>\n      <th>band_1</th>\n      <th>band_2</th>\n      <th>band_3</th>\n      <th>band_4</th>\n      <th>band_5</th>\n      <th>...</th>\n      <th>band_212</th>\n      <th>band_213</th>\n      <th>band_214</th>\n      <th>band_215</th>\n      <th>band_216</th>\n      <th>band_217</th>\n      <th>band_218</th>\n      <th>band_219</th>\n      <th>band_220</th>\n      <th>band_221</th>\n    </tr>\n  </thead>\n  <tbody>\n    <tr>\n      <th>0</th>\n      <td>14084</td>\n      <td>5</td>\n      <td>GIRASOL</td>\n      <td>254</td>\n      <td>-0.025667</td>\n      <td>-0.032823</td>\n      <td>-0.012369</td>\n      <td>0.438167</td>\n      <td>0.640188</td>\n      <td>0.603974</td>\n      <td>...</td>\n      <td>-0.193028</td>\n      <td>0.178172</td>\n      <td>0.635229</td>\n      <td>0.562005</td>\n      <td>-0.739955</td>\n      <td>-0.745478</td>\n      <td>-0.739978</td>\n      <td>-0.294296</td>\n      <td>0.245570</td>\n      <td>0.161900</td>\n    </tr>\n    <tr>\n      <th>1</th>\n      <td>14084</td>\n      <td>1</td>\n      <td>SOJA</td>\n      <td>14</td>\n      <td>0.031207</td>\n      <td>-0.007179</td>\n      <td>0.029374</td>\n      <td>0.450892</td>\n      <td>0.606595</td>\n      <td>0.134590</td>\n      <td>...</td>\n      <td>-0.218211</td>\n      <td>0.377205</td>\n      <td>0.593264</td>\n      <td>-0.122388</td>\n      <td>-0.721911</td>\n      <td>-0.742229</td>\n      <td>-0.722744</td>\n      <td>0.089114</td>\n      <td>0.487397</td>\n      <td>-0.625130</td>\n    </tr>\n    <tr>\n      <th>2</th>\n      <td>14084</td>\n      <td>2</td>\n      <td>MAIZ</td>\n      <td>13</td>\n      <td>-0.000126</td>\n      <td>-0.022707</td>\n      <td>-0.034181</td>\n      <td>0.333374</td>\n      <td>0.610177</td>\n      <td>0.537418</td>\n      <td>...</td>\n      <td>-0.217263</td>\n      <td>0.034658</td>\n      <td>0.481159</td>\n      <td>0.282209</td>\n      <td>-0.758681</td>\n      <td>-0.757710</td>\n      <td>-0.753018</td>\n      <td>-0.385281</td>\n      <td>0.331265</td>\n      <td>0.065245</td>\n    </tr>\n    <tr>\n      <th>3</th>\n      <td>14084</td>\n      <td>2</td>\n      <td>MAIZ</td>\n      <td>15</td>\n      <td>-0.037434</td>\n      <td>-0.039979</td>\n      <td>-0.039999</td>\n      <td>0.444946</td>\n      <td>0.583272</td>\n      <td>0.476345</td>\n      <td>...</td>\n      <td>-0.237244</td>\n      <td>0.273779</td>\n      <td>0.470738</td>\n      <td>0.139566</td>\n      <td>-0.755049</td>\n      <td>-0.755201</td>\n      <td>-0.755880</td>\n      <td>-0.059853</td>\n      <td>0.278529</td>\n      <td>-0.186228</td>\n    </tr>\n    <tr>\n      <th>4</th>\n      <td>14084</td>\n      <td>2</td>\n      <td>MAIZ</td>\n      <td>16</td>\n      <td>-0.042109</td>\n      <td>-0.049618</td>\n      <td>-0.051460</td>\n      <td>0.468945</td>\n      <td>0.557798</td>\n      <td>0.421010</td>\n      <td>...</td>\n      <td>-0.211147</td>\n      <td>0.432482</td>\n      <td>0.487864</td>\n      <td>0.060102</td>\n      <td>-0.748104</td>\n      <td>-0.758429</td>\n      <td>-0.755831</td>\n      <td>0.066667</td>\n      <td>0.243937</td>\n      <td>-0.282177</td>\n    </tr>\n  </tbody>\n</table>\n<p>5 rows × 226 columns</p>\n</div>"
     },
     "execution_count": 3,
     "metadata": {},
     "output_type": "execute_result"
    }
   ],
   "source": [
    "data.head()"
   ]
  },
  {
   "cell_type": "code",
   "execution_count": 4,
   "id": "090ac9e5-71b5-4240-8a44-0d128933fa0a",
   "metadata": {
    "pycharm": {
     "name": "#%%\n"
    }
   },
   "outputs": [],
   "source": [
    "model = joblib.load('../model/randomforest_iter_01.joblib')"
   ]
  },
  {
   "cell_type": "code",
   "execution_count": 5,
   "id": "a59d1e1d-eb05-4e92-8054-80710c0ddc89",
   "metadata": {
    "pycharm": {
     "name": "#%%\n"
    }
   },
   "outputs": [],
   "source": [
    "X = data.filter(regex='band_').to_numpy()\n",
    "y = data['id'].to_numpy()"
   ]
  },
  {
   "cell_type": "code",
   "execution_count": 6,
   "id": "af1b52fb-ae07-4516-b714-96efdb0a9862",
   "metadata": {
    "pycharm": {
     "name": "#%%\n"
    }
   },
   "outputs": [
    {
     "name": "stderr",
     "output_type": "stream",
     "text": [
      "[Parallel(n_jobs=16)]: Using backend ThreadingBackend with 16 concurrent workers.\n",
      "[Parallel(n_jobs=16)]: Done  18 tasks      | elapsed:    0.0s\n",
      "[Parallel(n_jobs=16)]: Done 168 tasks      | elapsed:    0.0s\n",
      "[Parallel(n_jobs=16)]: Done 418 tasks      | elapsed:    0.1s\n",
      "[Parallel(n_jobs=16)]: Done 500 out of 500 | elapsed:    0.1s finished\n"
     ]
    }
   ],
   "source": [
    "y_hat = model.predict_proba(X)"
   ]
  },
  {
   "cell_type": "code",
   "execution_count": 7,
   "id": "48eb836c-d4de-497c-bd3a-c19eab51bce4",
   "metadata": {
    "pycharm": {
     "name": "#%%\n"
    }
   },
   "outputs": [],
   "source": [
    "with open(f'../predictions/randomforest_probas_train.npy', 'wb') as f:\n",
    "    np.save(f, y_hat)"
   ]
  },
  {
   "cell_type": "code",
   "execution_count": 8,
   "id": "1891dc5c-37c4-4c9b-81f7-b6095bba608c",
   "metadata": {
    "pycharm": {
     "name": "#%%\n"
    }
   },
   "outputs": [],
   "source": [
    "max_probas = y_hat.max(axis=1)\n",
    "classes = [model.classes_[a] for a in y_hat.argmax(axis=1)]"
   ]
  },
  {
   "cell_type": "code",
   "execution_count": 9,
   "id": "d78bd9ae-4255-4589-b625-54a028bc72fa",
   "metadata": {
    "pycharm": {
     "name": "#%%\n"
    }
   },
   "outputs": [],
   "source": [
    "data = data.assign(pred_class=classes, pred_score=max_probas)"
   ]
  },
  {
   "cell_type": "code",
   "execution_count": 10,
   "id": "5dec96d6-0136-4772-9831-c38318405155",
   "metadata": {
    "pycharm": {
     "name": "#%%\n"
    }
   },
   "outputs": [],
   "source": [
    "true_preds = data[data.id==data.pred_class]\n",
    "min_score = true_preds.pred_score.min()"
   ]
  },
  {
   "cell_type": "code",
   "execution_count": 11,
   "id": "b5d548e3-a0af-4200-be1d-f94b53c7778b",
   "metadata": {
    "pycharm": {
     "name": "#%%\n"
    }
   },
   "outputs": [],
   "source": [
    "with open(f'../predictions/randomforest_minscore_train.npy', 'wb') as f:\n",
    "    np.save(f, min_score)"
   ]
  },
  {
   "cell_type": "code",
   "execution_count": 12,
   "id": "14e5c556-7e31-4450-9688-9ae0a63b6347",
   "metadata": {
    "pycharm": {
     "name": "#%%\n"
    }
   },
   "outputs": [
    {
     "name": "stdout",
     "output_type": "stream",
     "text": [
      "466/466 pixeles fueron correctamente predichos.\n",
      "El mínimo score de predicción fue: 0.5638284325656424\n"
     ]
    }
   ],
   "source": [
    "print(f'{len(true_preds)}/{len(data)} pixeles fueron correctamente predichos.')\n",
    "print(f'El mínimo score de predicción fue: {min_score}')"
   ]
  },
  {
   "cell_type": "code",
   "execution_count": 13,
   "outputs": [
    {
     "data": {
      "text/plain": "<Figure size 432x288 with 1 Axes>",
      "image/png": "[encoded data removed]"
     },
     "metadata": {},
     "output_type": "display_data"
    }
   ],
   "source": [
    "cutt_off = []\n",
    "samples = []\n",
    "for i in np.linspace(0,1,20):\n",
    "    data['mask'] = data.pred_score.apply(lambda x: True if x>1-i else False)\n",
    "    cantidades = data[(data.id==data.pred_class) & (data['mask']==True)].shape[0]\n",
    "    cutt_off.append(i)\n",
    "    samples.append(cantidades)\n",
    "\n",
    "\n",
    "sns.set_style('whitegrid')\n",
    "fig, ax = plt.subplots(figsize=(6,4))\n",
    "sns.lineplot(x=cutt_off, y=samples)\n",
    "plt.xlabel('Cut-off')\n",
    "plt.ylabel('Samples')\n",
    "plt.title('Cut-off vs. Samples', fontsize=18)\n",
    "plt.savefig('../predictions/randomforest_train_cutoff.png')"
   ],
   "metadata": {
    "collapsed": false,
    "pycharm": {
     "name": "#%%\n"
    }
   }
  },
  {
   "cell_type": "code",
   "execution_count": null,
   "outputs": [],
   "source": [],
   "metadata": {
    "collapsed": false,
    "pycharm": {
     "name": "#%%\n"
    }
   }
  }
 ],
 "metadata": {
  "kernelspec": {
   "display_name": "Python 3",
   "language": "python",
   "name": "python3"
  },
  "language_info": {
   "codemirror_mode": {
    "name": "ipython",
    "version": 3
   },
   "file_extension": ".py",
   "mimetype": "text/x-python",
   "name": "python",
   "nbconvert_exporter": "python",
   "pygments_lexer": "ipython3"
  }
 },
 "nbformat": 4,
 "nbformat_minor": 5
}