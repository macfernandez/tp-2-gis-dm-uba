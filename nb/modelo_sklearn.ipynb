{
 "cells": [
  {
   "cell_type": "markdown",
   "id": "c2666c6c-75c9-447d-aaaf-c343f7af9c1a",
   "metadata": {},
   "source": [
    "# Modelo con sklearn"
   ]
  },
  {
   "cell_type": "code",
   "execution_count": null,
   "id": "1e97a254-9b39-4c6f-bd39-fee557805be1",
   "metadata": {},
   "outputs": [],
   "source": [
    "import os\n",
    "import json\n",
    "import joblib\n",
    "import numpy as np\n",
    "import pandas as pd\n",
    "from glob import glob\n",
    "from sqlite3 import connect\n",
    "from tqdm.notebook import tqdm\n",
    "from sklearn.ensemble import RandomForestClassifier\n",
    "\n",
    "from utilities import *"
   ]
  },
  {
   "cell_type": "markdown",
   "id": "2e37209c-1b92-478a-b702-dfcf3ac166e6",
   "metadata": {},
   "source": [
    "## Iteración #01"
   ]
  },
  {
   "cell_type": "markdown",
   "id": "9b2b773e-ec39-415b-b85f-35219cf364d9",
   "metadata": {},
   "source": [
    "### Armado de dataset de entrenamiento"
   ]
  },
  {
   "cell_type": "markdown",
   "id": "323529b7-01a8-4f58-a809-cd1c8a3c5fa9",
   "metadata": {},
   "source": [
    "Levantamos archivos `.sqlite` de ambos _tiles_ y los convertimos en un dataframe."
   ]
  },
  {
   "cell_type": "code",
   "execution_count": null,
   "id": "35fb8535-5a14-4b18-9801-6c7004f2a261",
   "metadata": {},
   "outputs": [],
   "source": [
    "sqlite_files = glob('../data/selection/*.sqlite')\n",
    "\n",
    "data = pd.DataFrame()\n",
    "\n",
    "for sf in sqlite_files:\n",
    "    cnx = connect(sf)\n",
    "    df = pd.read_sql_query(\"SELECT * FROM output\", cnx)\n",
    "    data = pd.concat([data, df], ignore_index=True)"
   ]
  },
  {
   "cell_type": "code",
   "execution_count": null,
   "id": "ca7dbc8b-8a06-4bcb-aee6-41a8bd44d1df",
   "metadata": {},
   "outputs": [],
   "source": [
    "data.head()"
   ]
  },
  {
   "cell_type": "code",
   "execution_count": null,
   "id": "bb47c3c8-2f02-4306-8c53-620b33ca455c",
   "metadata": {},
   "outputs": [],
   "source": [
    "# cantidad de pixeles por cultivo\n",
    "# para el primer entrenamiento\n",
    "(\n",
    "    data\n",
    "    .cultivo\n",
    "    .value_counts()\n",
    "    .to_frame()\n",
    "    .rename(columns={'cultivo':'pixeles'})\n",
    "    .T\n",
    ")"
   ]
  },
  {
   "cell_type": "markdown",
   "id": "1a37435b-b0d0-404e-b25f-5af446b9ed5a",
   "metadata": {},
   "source": [
    "### Entrenamiento del modelo"
   ]
  },
  {
   "cell_type": "code",
   "execution_count": null,
   "id": "01a1ffa5-586f-452c-87cd-1343a5929889",
   "metadata": {},
   "outputs": [],
   "source": [
    "X = data.filter(regex='band_').to_numpy()\n",
    "y = data['id'].to_numpy()\n",
    "\n",
    "model = RandomForestClassifier(\n",
    "    random_state=20220707,\n",
    "    n_estimators=500,\n",
    "    max_depth=10,\n",
    "    n_jobs=-1,\n",
    "    verbose=1\n",
    ")\n",
    "\n",
    "os.makedirs('../model', exist_ok=True)\n",
    "with open('../model/randomforest_parameters.json','w') as f:\n",
    "    json.dump(model.get_params(), f, ensure_ascii=False, indent=4)\n",
    "\n",
    "model.fit(X, y)\n",
    "\n",
    "with open('../model/randomforest_feature_impotances.txt','w') as f:\n",
    "        _=f.writelines([f'{i}\\n' for i in model.feature_importances_.tolist()])\n",
    "\n",
    "output_file = '../model/randomforest_iter_01.joblib'\n",
    "joblib.dump(model,'../model/randomforest_iter_01.joblib')"
   ]
  },
  {
   "cell_type": "markdown",
   "id": "5088a666-a01b-4ba4-b229-38ef9b7bd1bf",
   "metadata": {},
   "source": [
    "### Predicciones"
   ]
  },
  {
   "cell_type": "code",
   "execution_count": null,
   "id": "072ab25d-bc9f-4813-9813-8e6983004624",
   "metadata": {},
   "outputs": [],
   "source": [
    "os.makedirs('../predictions/', exist_ok=True)\n",
    "tif_files = glob('../data/concat/*')\n",
    "\n",
    "for tile in tif_files:\n",
    "    width, height, transform = metadata_from_tile(tile)\n",
    "    windows = sliding_windows(100, 100, width, height)\n",
    "    preds = np.empty((10000,7))\n",
    "    windows =list(windows)\n",
    "    for window,_ in tqdm(windows, total=len(windows)):\n",
    "        img_df = create_windowed_dataset(tile, window)\n",
    "        res = model.predict_proba(img_df).astype(np.float64)\n",
    "        preds = np.append(preds, res, axis = 0)\n",
    "    with open(f'../predictions/randomforest_{tile}.npy', 'wb') as f:\n",
    "        np.save(f, preds)"
   ]
  }
 ],
 "metadata": {
  "kernelspec": {
   "display_name": "Python 3",
   "language": "python",
   "name": "python3"
  },
  "language_info": {
   "codemirror_mode": {
    "name": "ipython",
    "version": 3
   },
   "file_extension": ".py",
   "mimetype": "text/x-python",
   "name": "python",
   "nbconvert_exporter": "python",
   "pygments_lexer": "ipython3"
  }
 },
 "nbformat": 4,
 "nbformat_minor": 5
}
