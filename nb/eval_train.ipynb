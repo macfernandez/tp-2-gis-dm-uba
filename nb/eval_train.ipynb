{
 "cells": [
  {
   "cell_type": "markdown",
   "id": "c34f8a5f-37d8-4235-862a-60a92d764861",
   "metadata": {},
   "source": [
    "# Evaluación sobre verdad de campo original"
   ]
  },
  {
   "cell_type": "code",
   "execution_count": null,
   "id": "f51d32d6-50df-41af-8d1a-d921de8cbc22",
   "metadata": {},
   "outputs": [],
   "source": [
    "import os\n",
    "import json\n",
    "import joblib\n",
    "import numpy as np\n",
    "import pandas as pd\n",
    "import seaborn as sns\n",
    "from glob import glob\n",
    "from sqlite3 import connect\n",
    "from tqdm.notebook import tqdm\n",
    "import matplotlib.pyplot as plt\n",
    "from sklearn.ensemble import RandomForestClassifier\n",
    "\n",
    "from utilities import *"
   ]
  },
  {
   "cell_type": "code",
   "execution_count": null,
   "id": "0575a918-54a1-4d36-8dc9-531be9afb50e",
   "metadata": {},
   "outputs": [],
   "source": [
    "sqlite_files = glob('../data/selection/*.sqlite')\n",
    "\n",
    "data = pd.DataFrame()\n",
    "\n",
    "for sf in sqlite_files:\n",
    "    cnx = connect(sf)\n",
    "    df = pd.read_sql_query(\"SELECT * FROM output\", cnx)\n",
    "    data = pd.concat([data, df], ignore_index=True)"
   ]
  },
  {
   "cell_type": "code",
   "execution_count": null,
   "id": "a8112bad-0d76-45c4-8137-894ad08e40dd",
   "metadata": {},
   "outputs": [],
   "source": [
    "data.head()"
   ]
  },
  {
   "cell_type": "code",
   "execution_count": null,
   "id": "090ac9e5-71b5-4240-8a44-0d128933fa0a",
   "metadata": {},
   "outputs": [],
   "source": [
    "model = joblib.load('../model/randomforest_iter_01.joblib')"
   ]
  },
  {
   "cell_type": "code",
   "execution_count": null,
   "id": "a59d1e1d-eb05-4e92-8054-80710c0ddc89",
   "metadata": {},
   "outputs": [],
   "source": [
    "X = data.filter(regex='band_').to_numpy()\n",
    "y = data['id'].to_numpy()"
   ]
  },
  {
   "cell_type": "code",
   "execution_count": null,
   "id": "af1b52fb-ae07-4516-b714-96efdb0a9862",
   "metadata": {},
   "outputs": [],
   "source": [
    "y_hat = model.predict_proba(X)"
   ]
  },
  {
   "cell_type": "code",
   "execution_count": null,
   "id": "48eb836c-d4de-497c-bd3a-c19eab51bce4",
   "metadata": {},
   "outputs": [],
   "source": [
    "with open(f'../predictions/randomforest_probas_train.npy', 'wb') as f:\n",
    "    np.save(f, y_hat)"
   ]
  },
  {
   "cell_type": "code",
   "execution_count": null,
   "id": "1891dc5c-37c4-4c9b-81f7-b6095bba608c",
   "metadata": {},
   "outputs": [],
   "source": [
    "max_probas = y_hat.max(axis=1)\n",
    "classes = [model.classes_[a] for a in y_hat.argmax(axis=1)]"
   ]
  },
  {
   "cell_type": "code",
   "execution_count": null,
   "id": "d78bd9ae-4255-4589-b625-54a028bc72fa",
   "metadata": {},
   "outputs": [],
   "source": [
    "data = data.assign(pred_class=classes, pred_score=max_probas)"
   ]
  },
  {
   "cell_type": "code",
   "execution_count": null,
   "id": "5dec96d6-0136-4772-9831-c38318405155",
   "metadata": {},
   "outputs": [],
   "source": [
    "true_preds = data[data.id==data.pred_class]\n",
    "min_score = true_preds.pred_score.min()"
   ]
  },
  {
   "cell_type": "code",
   "execution_count": null,
   "id": "b5d548e3-a0af-4200-be1d-f94b53c7778b",
   "metadata": {},
   "outputs": [],
   "source": [
    "with open(f'../predictions/randomforest_minscore_train.npy', 'wb') as f:\n",
    "    np.save(f, min_score)"
   ]
  },
  {
   "cell_type": "code",
   "execution_count": null,
   "id": "14e5c556-7e31-4450-9688-9ae0a63b6347",
   "metadata": {},
   "outputs": [],
   "source": [
    "print(f'{len(true_preds)}/{len(data)} pixeles fueron correctamente predichos.')\n",
    "print(f'El mínimo score de predicción fue: {min_score}')"
   ]
  },
  {
   "cell_type": "code",
   "execution_count": null,
   "id": "2ad5fed2-e192-49d3-a13f-341ba888e7fe",
   "metadata": {},
   "outputs": [],
   "source": [
    "cutt_off = []\n",
    "samples = []\n",
    "for i in np.linspace(0,1,20):\n",
    "    data['mask'] = data.pred_score.apply(lambda x: True if x>1-i else False)\n",
    "    cantidades = data[(data.id==data.pred_class) & (data['mask']==True)].shape[0]\n",
    "    cutt_off.append(i)\n",
    "    samples.append(cantidades)\n",
    "\n",
    "\n",
    "sns.set_style('whitegrid')\n",
    "fig, ax = plt.subplots(figsize=(6,4))\n",
    "sns.lineplot(x=cutt_off, y=samples)\n",
    "plt.xlabel('Cut-off')\n",
    "plt.ylabel('Samples')\n",
    "plt.title('Cut-off vs. Samples', fontsize=18)\n",
    "plt.savefig('../predictions/randomforest_train_cutoff.png')"
   ]
  }
 ],
 "metadata": {
  "kernelspec": {
   "display_name": "Python 3",
   "language": "python",
   "name": "python3"
  },
  "language_info": {
   "codemirror_mode": {
    "name": "ipython",
    "version": 3
   },
   "file_extension": ".py",
   "mimetype": "text/x-python",
   "name": "python",
   "nbconvert_exporter": "python",
   "pygments_lexer": "ipython3"
  }
 },
 "nbformat": 4,
 "nbformat_minor": 5
}
