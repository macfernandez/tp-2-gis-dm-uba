{
 "cells": [
  {
   "cell_type": "code",
   "execution_count": null,
   "id": "d40d156c",
   "metadata": {},
   "outputs": [],
   "source": [
    "import pandas as pd\n",
    "import numpy as np\n",
    "from sklearn.ensemble import RandomForestClassifier\n",
    "\n",
    "import os\n",
    "from tqdm import tqdm\n",
    "\n",
    "import rasterio\n",
    "from rasterio.windows import Window\n",
    "from pyproj import CRS"
   ]
  },
  {
   "cell_type": "markdown",
   "id": "f1264e84",
   "metadata": {},
   "source": [
    "### Entrenamos un modelo de juguete con el dataset de la clase 11\n",
    "\n",
    "El dataset es el que sale de SampleExtraction, que luego se usa en TrainVectorClassifier.\n",
    "\n",
    "Link: https://storage.googleapis.com/gis2022-teledeteccion/clase11/extra/samples.sqlite\n",
    "\n",
    "Con `ogr2ogr -f \"CSV\" samples.csv samples.sqlite` lo pasan a CSV"
   ]
  },
  {
   "cell_type": "code",
   "execution_count": null,
   "id": "4d01e3ca",
   "metadata": {},
   "outputs": [],
   "source": [
    "df = pd.read_csv('samples.csv')\n",
    "df['ratio_1'] = df['band_0']/df['band_5']\n",
    "df['ratio_2'] = df['band_0']/df['band_4']\n",
    "df.head()"
   ]
  },
  {
   "cell_type": "code",
   "execution_count": null,
   "id": "0ea01b24",
   "metadata": {},
   "outputs": [],
   "source": [
    "X = df[['band_0','band_1','band_2','band_3','band_4','band_5', 'ratio_1', 'ratio_2']]\n",
    "y = df['id']\n",
    "\n",
    "clf = RandomForestClassifier(max_depth=5, random_state=0)\n",
    "clf.fit(X, y)"
   ]
  },
  {
   "cell_type": "markdown",
   "id": "9ca79b7b",
   "metadata": {},
   "source": [
    "### Se lo aplicamos a la imagen\n",
    "\n",
    "La imagen se encuentra en https://storage.googleapis.com/gis2022-teledeteccion/clase11/extra/input_merge.tif\n",
    "\n",
    "`wget https://storage.googleapis.com/gis2022-teledeteccion/clase11/extra/input_merge.tif`"
   ]
  },
  {
   "cell_type": "code",
   "execution_count": null,
   "id": "14a214dc",
   "metadata": {},
   "outputs": [],
   "source": [
    "tile = 'input_merge.tif'"
   ]
  },
  {
   "cell_type": "markdown",
   "id": "8fdec305",
   "metadata": {},
   "source": [
    "#### Funciones auxiliares"
   ]
  },
  {
   "cell_type": "code",
   "execution_count": null,
   "id": "769f0577",
   "metadata": {},
   "outputs": [],
   "source": [
    "def metadata_from_tile(in_raster):\n",
    "    with rasterio.open(in_raster) as src:\n",
    "        return(src.width, src.height, src.transform)\n",
    "\n",
    "def sliding_windows(size, step_size, width, height, whole=False):\n",
    "    \"\"\"Slide a window of +size+ by moving it +step_size+ pixels\"\"\"\n",
    "    w, h = size, size\n",
    "    sw, sh = step_size, step_size\n",
    "    end_i = height - h if whole else height\n",
    "    end_j = width - w if whole else width\n",
    "    for pos_i, i in enumerate(range(0, end_i, sh)):\n",
    "        for pos_j, j in enumerate(range(0, end_j, sw)):\n",
    "            real_w = w if whole else min(w, abs(width - j))\n",
    "            real_h = h if whole else min(h, abs(height - i))\n",
    "            yield Window(j, i, real_w, real_h), (pos_i, pos_j)"
   ]
  },
  {
   "cell_type": "code",
   "execution_count": null,
   "id": "5c647608",
   "metadata": {},
   "outputs": [],
   "source": [
    "width, height, transform = metadata_from_tile(tile)\n",
    "windows = sliding_windows(100, 100, width, height)"
   ]
  },
  {
   "cell_type": "code",
   "execution_count": null,
   "id": "167e00d1",
   "metadata": {},
   "outputs": [],
   "source": [
    "width, height, transform"
   ]
  },
  {
   "cell_type": "markdown",
   "id": "9d5c1e3a",
   "metadata": {},
   "source": [
    "#### Ejemplo para una window cualquiera"
   ]
  },
  {
   "cell_type": "code",
   "execution_count": null,
   "id": "a5212cc5",
   "metadata": {},
   "outputs": [],
   "source": [
    "window = list(windows)[1400]"
   ]
  },
  {
   "cell_type": "code",
   "execution_count": null,
   "id": "f788ad07",
   "metadata": {},
   "outputs": [],
   "source": [
    "#leemos esa parte de la imagen y creamos las bandas según se crearon para el modelo original\n",
    "src = rasterio.open(tile)\n",
    "img = src.read(window=window[0]) \n",
    "r,m,n = img.shape\n",
    "img_df = pd.DataFrame(img.reshape(r,m*n)).T.fillna(-99)\n",
    "bands = ['band_0','band_1','band_2','band_3','band_4','band_5']\n",
    "img_df.columns = bands\n",
    "img_df['ratio_1'] = img_df['band_0']/img_df['band_5']\n",
    "img_df['ratio_2'] = img_df['band_0']/img_df['band_4']\n",
    "img_df"
   ]
  },
  {
   "cell_type": "code",
   "execution_count": null,
   "id": "691fa6c5",
   "metadata": {},
   "outputs": [],
   "source": [
    "res = clf.predict(img_df).astype(np.float64)\n",
    "res = np.expand_dims(res.reshape(n,m), axis=0)\n",
    "res.shape"
   ]
  },
  {
   "cell_type": "markdown",
   "id": "ef0f69d4",
   "metadata": {},
   "source": [
    "Pasemos este procedimiento a una función para que sea más cómodo. Recordar agregar todas las combinaciones de bandas y procedimientos que apliquemos sobre el dataset de entrada al modelo."
   ]
  },
  {
   "cell_type": "code",
   "execution_count": null,
   "id": "d45b65c5",
   "metadata": {},
   "outputs": [],
   "source": [
    "def create_windowed_dataset(in_raster, window, bands_list):\n",
    "    img_df = pd.DataFrame()\n",
    "    src = rasterio.open(in_raster)\n",
    "    img = src.read(window=window)\n",
    "    r,m,n = img.shape\n",
    "    img_df = pd.DataFrame(img.reshape(r,m*n)).T\n",
    "    img_df.columns = bands_list\n",
    "    img_df['ratio_1'] = img_df['band_0']/img_df['band_5']\n",
    "    img_df['ratio_2'] = img_df['band_0']/img_df['band_4']\n",
    "    img_df = img_df.replace([np.inf, -np.inf], np.nan).fillna(-99)\n",
    "    return(img_df)"
   ]
  },
  {
   "cell_type": "markdown",
   "id": "fad68e02",
   "metadata": {},
   "source": [
    "## Aplicamos para toda el área del tile de entrada"
   ]
  },
  {
   "cell_type": "code",
   "execution_count": null,
   "id": "24e1b365",
   "metadata": {},
   "outputs": [],
   "source": [
    "width, height, transform = metadata_from_tile(tile)\n",
    "bands = ['band_0','band_1','band_2','band_3','band_4','band_5']\n",
    "#agrandar si tienen mas memoria, corre un poco mas rapido pero ojo que se pueden distorsionar los bordes\n",
    "windows = sliding_windows(100, 100, width, height)\n",
    "os.makedirs('./predictions/', exist_ok=True)\n",
    "out_raster = f'./predictions/{tile}'\n",
    "with rasterio.open(out_raster, 'w', driver='GTiff', count=1, width=width, height=height, dtype=np.float64, transform=transform, crs=CRS.from_epsg(4326), compress='lzw'\n",
    ") as dst:\n",
    "    for window, _ in tqdm(windows):           \n",
    "        img_df = create_windowed_dataset(tile, window, bands)\n",
    "        n_bands = img_df.shape[1]\n",
    "        r,m,n = (n_bands, window.width, window.height)\n",
    "        #clf es el clasificador que entrenamos antes\n",
    "        res = clf.predict(img_df).astype(np.float64)\n",
    "        res = np.expand_dims(res.reshape(m,n), axis=0)\n",
    "        dst.write(res, window=window)"
   ]
  },
  {
   "cell_type": "code",
   "execution_count": null,
   "id": "88b3007f",
   "metadata": {},
   "outputs": [],
   "source": [
    "from matplotlib import pyplot\n",
    "src = rasterio.open(out_raster)\n",
    "pyplot.imshow(src.read(1))\n",
    "pyplot.show()"
   ]
  }
 ],
 "metadata": {
  "kernelspec": {
   "display_name": "Python 3 (ipykernel)",
   "language": "python",
   "name": "python3"
  },
  "language_info": {
   "codemirror_mode": {
    "name": "ipython",
    "version": 3
   },
   "file_extension": ".py",
   "mimetype": "text/x-python",
   "name": "python",
   "nbconvert_exporter": "python",
   "pygments_lexer": "ipython3"
  }
 },
 "nbformat": 4,
 "nbformat_minor": 5
}
